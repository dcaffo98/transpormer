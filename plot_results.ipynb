{
 "cells": [
  {
   "attachments": {},
   "cell_type": "markdown",
   "metadata": {},
   "source": [
    "# Get model"
   ]
  },
  {
   "cell_type": "code",
   "execution_count": 1,
   "metadata": {},
   "outputs": [
    {
     "name": "stderr",
     "output_type": "stream",
     "text": [
      "/Users/david/anaconda3/envs/tsp/lib/python3.9/site-packages/tqdm/auto.py:21: TqdmWarning: IProgress not found. Please update jupyter and ipywidgets. See https://ipywidgets.readthedocs.io/en/stable/user_install.html\n",
      "  from .autonotebook import tqdm as notebook_tqdm\n"
     ]
    },
    {
     "data": {
      "text/plain": [
       "TSPCustomTransformer(\n",
       "  (pe): SinPositionalEncoding()\n",
       "  (input_ff): Linear(in_features=2, out_features=128, bias=True)\n",
       "  (input_norm): CustomBatchNorm(\n",
       "    (bn): BatchNorm1d(128, eps=1e-05, momentum=0.1, affine=True, track_running_stats=True)\n",
       "  )\n",
       "  (encoder): TSPCustomEncoder(\n",
       "    (layers): ModuleList(\n",
       "      (0): TSPCustomEncoderLayer(\n",
       "        (sa_block): TSPCustomEncoderBlock(\n",
       "          (attn): CustomMHA(\n",
       "            (qkv_proj): Linear(in_features=128, out_features=384, bias=True)\n",
       "          )\n",
       "          (norm): CustomBatchNorm(\n",
       "            (bn): BatchNorm1d(128, eps=1e-05, momentum=0.1, affine=True, track_running_stats=True)\n",
       "          )\n",
       "        )\n",
       "        (ca_block): TSPCustomEncoderBlock(\n",
       "          (attn): CustomMHA(\n",
       "            (kv_proj): Linear(in_features=128, out_features=256, bias=True)\n",
       "          )\n",
       "          (norm): CustomBatchNorm(\n",
       "            (bn): BatchNorm1d(128, eps=1e-05, momentum=0.1, affine=True, track_running_stats=True)\n",
       "          )\n",
       "          (ff_block): TransformerFeedforwardBlock(\n",
       "            (linear1): Linear(in_features=128, out_features=512, bias=True)\n",
       "            (linear2): Linear(in_features=512, out_features=128, bias=True)\n",
       "            (norm): CustomBatchNorm(\n",
       "              (bn): BatchNorm1d(128, eps=1e-05, momentum=0.1, affine=True, track_running_stats=True)\n",
       "            )\n",
       "            (dropout): Dropout(p=0.0, inplace=False)\n",
       "          )\n",
       "        )\n",
       "      )\n",
       "      (1): TSPCustomEncoderLayer(\n",
       "        (sa_block): TSPCustomEncoderBlock(\n",
       "          (attn): CustomMHA(\n",
       "            (qkv_proj): Linear(in_features=128, out_features=384, bias=True)\n",
       "          )\n",
       "          (norm): CustomBatchNorm(\n",
       "            (bn): BatchNorm1d(128, eps=1e-05, momentum=0.1, affine=True, track_running_stats=True)\n",
       "          )\n",
       "        )\n",
       "        (ca_block): TSPCustomEncoderBlock(\n",
       "          (attn): CustomMHA(\n",
       "            (kv_proj): Linear(in_features=128, out_features=256, bias=True)\n",
       "          )\n",
       "          (norm): CustomBatchNorm(\n",
       "            (bn): BatchNorm1d(128, eps=1e-05, momentum=0.1, affine=True, track_running_stats=True)\n",
       "          )\n",
       "          (ff_block): TransformerFeedforwardBlock(\n",
       "            (linear1): Linear(in_features=128, out_features=512, bias=True)\n",
       "            (linear2): Linear(in_features=512, out_features=128, bias=True)\n",
       "            (norm): CustomBatchNorm(\n",
       "              (bn): BatchNorm1d(128, eps=1e-05, momentum=0.1, affine=True, track_running_stats=True)\n",
       "            )\n",
       "            (dropout): Dropout(p=0.0, inplace=False)\n",
       "          )\n",
       "        )\n",
       "      )\n",
       "      (2): TSPCustomEncoderLayer(\n",
       "        (sa_block): TSPCustomEncoderBlock(\n",
       "          (attn): CustomMHA(\n",
       "            (qkv_proj): Linear(in_features=128, out_features=384, bias=True)\n",
       "          )\n",
       "          (norm): CustomBatchNorm(\n",
       "            (bn): BatchNorm1d(128, eps=1e-05, momentum=0.1, affine=True, track_running_stats=True)\n",
       "          )\n",
       "        )\n",
       "        (ca_block): TSPCustomEncoderBlock(\n",
       "          (attn): CustomMHA(\n",
       "            (kv_proj): Linear(in_features=128, out_features=256, bias=True)\n",
       "          )\n",
       "          (norm): CustomBatchNorm(\n",
       "            (bn): BatchNorm1d(128, eps=1e-05, momentum=0.1, affine=True, track_running_stats=True)\n",
       "          )\n",
       "          (ff_block): TransformerFeedforwardBlock(\n",
       "            (linear1): Linear(in_features=128, out_features=512, bias=True)\n",
       "            (linear2): Linear(in_features=512, out_features=128, bias=True)\n",
       "            (norm): CustomBatchNorm(\n",
       "              (bn): BatchNorm1d(128, eps=1e-05, momentum=0.1, affine=True, track_running_stats=True)\n",
       "            )\n",
       "            (dropout): Dropout(p=0.0, inplace=False)\n",
       "          )\n",
       "        )\n",
       "      )\n",
       "      (3): TSPCustomEncoderLayer(\n",
       "        (sa_block): TSPCustomEncoderBlock(\n",
       "          (attn): CustomMHA(\n",
       "            (qkv_proj): Linear(in_features=128, out_features=384, bias=True)\n",
       "          )\n",
       "          (norm): CustomBatchNorm(\n",
       "            (bn): BatchNorm1d(128, eps=1e-05, momentum=0.1, affine=True, track_running_stats=True)\n",
       "          )\n",
       "        )\n",
       "        (ca_block): TSPCustomEncoderBlock(\n",
       "          (attn): CustomMHA(\n",
       "            (kv_proj): Linear(in_features=128, out_features=256, bias=True)\n",
       "          )\n",
       "          (norm): CustomBatchNorm(\n",
       "            (bn): BatchNorm1d(128, eps=1e-05, momentum=0.1, affine=True, track_running_stats=True)\n",
       "          )\n",
       "          (ff_block): TransformerFeedforwardBlock(\n",
       "            (linear1): Linear(in_features=128, out_features=512, bias=True)\n",
       "            (linear2): Linear(in_features=512, out_features=128, bias=True)\n",
       "            (norm): CustomBatchNorm(\n",
       "              (bn): BatchNorm1d(128, eps=1e-05, momentum=0.1, affine=True, track_running_stats=True)\n",
       "            )\n",
       "            (dropout): Dropout(p=0.0, inplace=False)\n",
       "          )\n",
       "        )\n",
       "      )\n",
       "      (4): TSPCustomEncoderLayer(\n",
       "        (sa_block): TSPCustomEncoderBlock(\n",
       "          (attn): CustomMHA(\n",
       "            (qkv_proj): Linear(in_features=128, out_features=384, bias=True)\n",
       "          )\n",
       "          (norm): CustomBatchNorm(\n",
       "            (bn): BatchNorm1d(128, eps=1e-05, momentum=0.1, affine=True, track_running_stats=True)\n",
       "          )\n",
       "        )\n",
       "        (ca_block): TSPCustomEncoderBlock(\n",
       "          (attn): CustomMHA(\n",
       "            (kv_proj): Linear(in_features=128, out_features=256, bias=True)\n",
       "          )\n",
       "          (norm): CustomBatchNorm(\n",
       "            (bn): BatchNorm1d(128, eps=1e-05, momentum=0.1, affine=True, track_running_stats=True)\n",
       "          )\n",
       "          (ff_block): TransformerFeedforwardBlock(\n",
       "            (linear1): Linear(in_features=128, out_features=512, bias=True)\n",
       "            (linear2): Linear(in_features=512, out_features=128, bias=True)\n",
       "            (norm): CustomBatchNorm(\n",
       "              (bn): BatchNorm1d(128, eps=1e-05, momentum=0.1, affine=True, track_running_stats=True)\n",
       "            )\n",
       "            (dropout): Dropout(p=0.0, inplace=False)\n",
       "          )\n",
       "        )\n",
       "      )\n",
       "    )\n",
       "  )\n",
       "  (head): TSPCustomEncoderLayer(\n",
       "    (sa_block): TSPCustomEncoderBlock(\n",
       "      (attn): CustomMHA(\n",
       "        (qkv_proj): Linear(in_features=128, out_features=384, bias=True)\n",
       "      )\n",
       "      (norm): CustomBatchNorm(\n",
       "        (bn): BatchNorm1d(128, eps=1e-05, momentum=0.1, affine=True, track_running_stats=True)\n",
       "      )\n",
       "    )\n",
       "    (ca_block): TSPCustomEncoderBlock(\n",
       "      (attn): CustomMHA(\n",
       "        (kv_proj): Linear(in_features=128, out_features=256, bias=True)\n",
       "      )\n",
       "      (norm): CustomBatchNorm(\n",
       "        (bn): BatchNorm1d(128, eps=1e-05, momentum=0.1, affine=True, track_running_stats=True)\n",
       "      )\n",
       "    )\n",
       "  )\n",
       ")"
      ]
     },
     "execution_count": 1,
     "metadata": {},
     "output_type": "execute_result"
    }
   ],
   "source": [
    "from types import SimpleNamespace\n",
    "from training.utils import get_model\n",
    "import torch\n",
    "\n",
    "model_args = SimpleNamespace(**{\n",
    "    'model': 'custom',\n",
    "    'add_cross_attn': True,\n",
    "    'use_q_proj_ca': False,\n",
    "    'use_feedforward_block_sa': False,\n",
    "    'clip_logit_c': None,\n",
    "    'device': 'cpu',\n",
    "    'in_features': 2,\n",
    "    'nhead': 8,\n",
    "    'norm_eps': 1e-5,\n",
    "    'dropout_p': 0.,\n",
    "    'sinkhorn_i': 20,\n",
    "    'positional_encoding': 'sin',\n",
    "    'num_hidden_encoder_layers': 5,\n",
    "    'd_model': 128,\n",
    "    'dim_feedforward': 512,\n",
    "    'activation': 'relu',\n",
    "    'norm': 'custom_batch',\n",
    "    'sinkhorn_tau': 0.02,\n",
    "    'use_feedforward_block_ca': True,\n",
    "})\n",
    "\n",
    "# path to a checkpoint\n",
    "checkpoint_path = ''\n",
    "\n",
    "model = get_model(model_args)\n",
    "model.load_state_dict(torch.load(checkpoint_path, map_location=torch.device('cpu'))['model'])\n",
    "model.eval()"
   ]
  },
  {
   "attachments": {},
   "cell_type": "markdown",
   "metadata": {},
   "source": [
    "# Load data"
   ]
  },
  {
   "cell_type": "code",
   "execution_count": 13,
   "metadata": {},
   "outputs": [
    {
     "name": "stdout",
     "output_type": "stream",
     "text": [
      "torch.Size([10, 50, 2]) torch.Size([10, 51]) torch.Size([10, 51])\n"
     ]
    }
   ],
   "source": [
    "# paths to some graph files\n",
    "graph_files = [\n",
    "    'tsp_data/test/b580f87b-8c74-4c75-b3ae-1e0b1ef6758a.pt',\n",
    "    'tsp_data/test/6f46cd69-faad-44b7-a98c-c544ee289159.pt',\n",
    "    'tsp_data/test/625d000b-4415-44d2-a976-b155f8d439cf.pt',\n",
    "    'tsp_data/test/90a29060-e4f0-4e41-9534-3e879ebdc4c4.pt',\n",
    "    'tsp_data/test/82d83c5b-a82e-4aa8-b0b3-b28eb8a6ed90.pt',\n",
    "    'tsp_data/test/c81cf13b-2636-4eb2-a8b5-3aa15b7cf8db.pt',\n",
    "    'tsp_data/test/3d2b6ae5-5ea8-41c0-a761-8394892217b9.pt',\n",
    "    'tsp_data/test/d6f7ccc2-aa9b-4d1a-9a7d-4848d8a5c7c2.pt',\n",
    "    'tsp_data/test/8fe7d43f-11e8-4539-8057-4b16486bc6ea.pt',\n",
    "    'tsp_data/test/fd909412-18ad-4f51-9033-871218495339.pt',\n",
    "]\n",
    "\n",
    "graph_objects = [torch.load(x) for x in graph_files]\n",
    "\n",
    "graph_coords = torch.stack([x['coords'] for x in graph_objects])\n",
    "ref_tours = torch.stack([x['ref_tour'] for x in graph_objects])\n",
    "with torch.no_grad():\n",
    "    tours = model(graph_coords).tour\n",
    "\n",
    "print(graph_coords.shape, tours.shape, ref_tours.shape)"
   ]
  },
  {
   "attachments": {},
   "cell_type": "markdown",
   "metadata": {},
   "source": [
    "# Plot - comparison ours vs nx"
   ]
  },
  {
   "cell_type": "code",
   "execution_count": 14,
   "metadata": {},
   "outputs": [
    {
     "data": {
      "application/vnd.plotly.v1+json": {
       "config": {
        "plotlyServerURL": "https://plot.ly"
       },
       "data": [
        {
         "marker": {
          "color": "red"
         },
         "mode": "markers",
         "type": "scatter",
         "x": [
          0.527687668800354,
          0.5513949394226074,
          0.5410871505737305,
          0.6731158494949341,
          0.5651737451553345,
          0.5411733388900757,
          0.09711243957281113,
          0.8064720034599304,
          0.4597606956958771,
          0.9254623651504517,
          0.8980318903923035,
          0.7186596393585205,
          0.3712027370929718,
          0.960699737071991,
          0.26450440287590027,
          0.00822916068136692,
          0.8149540424346924,
          0.86658775806427,
          0.9518475532531738,
          0.9702370762825012,
          1,
          0.379597008228302,
          0.4752808213233948,
          0.7243161201477051,
          0.5252220034599304,
          0.08758259564638138,
          0.8865610361099243,
          0.6467998623847961,
          0.3471144735813141,
          0.9625750184059143,
          0.17620529234409332,
          0.6739954948425293,
          0.6151758432388306,
          0.16409514844417572,
          0.977165162563324,
          0.04281238839030266,
          0.5618996620178223,
          0.5298184156417847,
          0.039548151195049286,
          0.15748029947280884,
          0.4296669661998749,
          0.5558197498321533,
          0.951595664024353,
          0.7249175310134888,
          0.3791302442550659,
          0.969656229019165,
          0.47881796956062317,
          0.4883726239204407,
          0.3719242811203003,
          0.7871307134628296
         ],
         "xaxis": "x",
         "y": [
          1,
          0.5829607248306274,
          0.9796866178512573,
          0.21415235102176666,
          0.997072696685791,
          0.481730580329895,
          0.6818297505378723,
          0.8736791610717773,
          0.897630512714386,
          0.34883493185043335,
          0.0038777906447649,
          0.9857074618339539,
          0.7137608528137207,
          0.14233148097991943,
          0.00350161618553102,
          0.3549906015396118,
          0.9701273441314697,
          0.12157674878835678,
          0.8460738658905029,
          0.25444647669792175,
          0.36593687534332275,
          0.2685128450393677,
          0.5399959683418274,
          0.5992100834846497,
          0.3432603180408478,
          0.029931984841823578,
          0.17881296575069427,
          0.1737348437309265,
          0.5786922574043274,
          0.8846898078918457,
          0.19356709718704224,
          0.3910810053348541,
          0.2500847578048706,
          0.866940438747406,
          0.514599084854126,
          0.07915404438972473,
          0.895494282245636,
          0.7922477722167969,
          0.5041060447692871,
          0.3298170566558838,
          0.3022981286048889,
          0.12925998866558075,
          0.5988034605979919,
          0.24397777020931244,
          0.4936835765838623,
          0.4235752522945404,
          0.9360227584838867,
          0.8082867860794067,
          0.3596688210964203,
          0.32631927728652954
         ],
         "yaxis": "y"
        },
        {
         "marker": {
          "color": "red"
         },
         "mode": "markers",
         "type": "scatter",
         "x": [
          0.527687668800354,
          0.5513949394226074,
          0.5410871505737305,
          0.6731158494949341,
          0.5651737451553345,
          0.5411733388900757,
          0.09711243957281113,
          0.8064720034599304,
          0.4597606956958771,
          0.9254623651504517,
          0.8980318903923035,
          0.7186596393585205,
          0.3712027370929718,
          0.960699737071991,
          0.26450440287590027,
          0.00822916068136692,
          0.8149540424346924,
          0.86658775806427,
          0.9518475532531738,
          0.9702370762825012,
          1,
          0.379597008228302,
          0.4752808213233948,
          0.7243161201477051,
          0.5252220034599304,
          0.08758259564638138,
          0.8865610361099243,
          0.6467998623847961,
          0.3471144735813141,
          0.9625750184059143,
          0.17620529234409332,
          0.6739954948425293,
          0.6151758432388306,
          0.16409514844417572,
          0.977165162563324,
          0.04281238839030266,
          0.5618996620178223,
          0.5298184156417847,
          0.039548151195049286,
          0.15748029947280884,
          0.4296669661998749,
          0.5558197498321533,
          0.951595664024353,
          0.7249175310134888,
          0.3791302442550659,
          0.969656229019165,
          0.47881796956062317,
          0.4883726239204407,
          0.3719242811203003,
          0.7871307134628296
         ],
         "xaxis": "x2",
         "y": [
          1,
          0.5829607248306274,
          0.9796866178512573,
          0.21415235102176666,
          0.997072696685791,
          0.481730580329895,
          0.6818297505378723,
          0.8736791610717773,
          0.897630512714386,
          0.34883493185043335,
          0.0038777906447649,
          0.9857074618339539,
          0.7137608528137207,
          0.14233148097991943,
          0.00350161618553102,
          0.3549906015396118,
          0.9701273441314697,
          0.12157674878835678,
          0.8460738658905029,
          0.25444647669792175,
          0.36593687534332275,
          0.2685128450393677,
          0.5399959683418274,
          0.5992100834846497,
          0.3432603180408478,
          0.029931984841823578,
          0.17881296575069427,
          0.1737348437309265,
          0.5786922574043274,
          0.8846898078918457,
          0.19356709718704224,
          0.3910810053348541,
          0.2500847578048706,
          0.866940438747406,
          0.514599084854126,
          0.07915404438972473,
          0.895494282245636,
          0.7922477722167969,
          0.5041060447692871,
          0.3298170566558838,
          0.3022981286048889,
          0.12925998866558075,
          0.5988034605979919,
          0.24397777020931244,
          0.4936835765838623,
          0.4235752522945404,
          0.9360227584838867,
          0.8082867860794067,
          0.3596688210964203,
          0.32631927728652954
         ],
         "yaxis": "y2"
        }
       ],
       "layout": {
        "annotations": [
         {
          "font": {
           "size": 16
          },
          "showarrow": false,
          "text": "Christofides",
          "x": 0.225,
          "xanchor": "center",
          "xref": "paper",
          "y": 1,
          "yanchor": "bottom",
          "yref": "paper"
         },
         {
          "font": {
           "size": 16
          },
          "showarrow": false,
          "text": "Ours",
          "x": 0.775,
          "xanchor": "center",
          "xref": "paper",
          "y": 1,
          "yanchor": "bottom",
          "yref": "paper"
         },
         {
          "arrowcolor": "blue",
          "arrowhead": 3,
          "arrowwidth": 1.5,
          "ax": 0.527687668800354,
          "axref": "x",
          "ay": 1,
          "ayref": "y",
          "showarrow": true,
          "text": "",
          "x": 0.5618996620178223,
          "xref": "x",
          "y": 0.895494282245636,
          "yref": "y"
         },
         {
          "arrowcolor": "blue",
          "arrowhead": 3,
          "arrowwidth": 1.5,
          "ax": 0.5618996620178223,
          "axref": "x",
          "ay": 0.895494282245636,
          "ayref": "y",
          "showarrow": true,
          "text": "",
          "x": 0.5410871505737305,
          "xref": "x",
          "y": 0.9796866178512573,
          "yref": "y"
         },
         {
          "arrowcolor": "blue",
          "arrowhead": 3,
          "arrowwidth": 1.5,
          "ax": 0.5410871505737305,
          "axref": "x",
          "ay": 0.9796866178512573,
          "ayref": "y",
          "showarrow": true,
          "text": "",
          "x": 0.47881796956062317,
          "xref": "x",
          "y": 0.9360227584838867,
          "yref": "y"
         },
         {
          "arrowcolor": "blue",
          "arrowhead": 3,
          "arrowwidth": 1.5,
          "ax": 0.47881796956062317,
          "axref": "x",
          "ay": 0.9360227584838867,
          "ayref": "y",
          "showarrow": true,
          "text": "",
          "x": 0.4597606956958771,
          "xref": "x",
          "y": 0.897630512714386,
          "yref": "y"
         },
         {
          "arrowcolor": "blue",
          "arrowhead": 3,
          "arrowwidth": 1.5,
          "ax": 0.4597606956958771,
          "axref": "x",
          "ay": 0.897630512714386,
          "ayref": "y",
          "showarrow": true,
          "text": "",
          "x": 0.4883726239204407,
          "xref": "x",
          "y": 0.8082867860794067,
          "yref": "y"
         },
         {
          "arrowcolor": "blue",
          "arrowhead": 3,
          "arrowwidth": 1.5,
          "ax": 0.4883726239204407,
          "axref": "x",
          "ay": 0.8082867860794067,
          "ayref": "y",
          "showarrow": true,
          "text": "",
          "x": 0.5298184156417847,
          "xref": "x",
          "y": 0.7922477722167969,
          "yref": "y"
         },
         {
          "arrowcolor": "blue",
          "arrowhead": 3,
          "arrowwidth": 1.5,
          "ax": 0.5298184156417847,
          "axref": "x",
          "ay": 0.7922477722167969,
          "ayref": "y",
          "showarrow": true,
          "text": "",
          "x": 0.3712027370929718,
          "xref": "x",
          "y": 0.7137608528137207,
          "yref": "y"
         },
         {
          "arrowcolor": "blue",
          "arrowhead": 3,
          "arrowwidth": 1.5,
          "ax": 0.3712027370929718,
          "axref": "x",
          "ay": 0.7137608528137207,
          "ayref": "y",
          "showarrow": true,
          "text": "",
          "x": 0.3471144735813141,
          "xref": "x",
          "y": 0.5786922574043274,
          "yref": "y"
         },
         {
          "arrowcolor": "blue",
          "arrowhead": 3,
          "arrowwidth": 1.5,
          "ax": 0.3471144735813141,
          "axref": "x",
          "ay": 0.5786922574043274,
          "ayref": "y",
          "showarrow": true,
          "text": "",
          "x": 0.3791302442550659,
          "xref": "x",
          "y": 0.4936835765838623,
          "yref": "y"
         },
         {
          "arrowcolor": "blue",
          "arrowhead": 3,
          "arrowwidth": 1.5,
          "ax": 0.3791302442550659,
          "axref": "x",
          "ay": 0.4936835765838623,
          "ayref": "y",
          "showarrow": true,
          "text": "",
          "x": 0.3719242811203003,
          "xref": "x",
          "y": 0.3596688210964203,
          "yref": "y"
         },
         {
          "arrowcolor": "blue",
          "arrowhead": 3,
          "arrowwidth": 1.5,
          "ax": 0.3719242811203003,
          "axref": "x",
          "ay": 0.3596688210964203,
          "ayref": "y",
          "showarrow": true,
          "text": "",
          "x": 0.15748029947280884,
          "xref": "x",
          "y": 0.3298170566558838,
          "yref": "y"
         },
         {
          "arrowcolor": "blue",
          "arrowhead": 3,
          "arrowwidth": 1.5,
          "ax": 0.15748029947280884,
          "axref": "x",
          "ay": 0.3298170566558838,
          "ayref": "y",
          "showarrow": true,
          "text": "",
          "x": 0.4296669661998749,
          "xref": "x",
          "y": 0.3022981286048889,
          "yref": "y"
         },
         {
          "arrowcolor": "blue",
          "arrowhead": 3,
          "arrowwidth": 1.5,
          "ax": 0.4296669661998749,
          "axref": "x",
          "ay": 0.3022981286048889,
          "ayref": "y",
          "showarrow": true,
          "text": "",
          "x": 0.379597008228302,
          "xref": "x",
          "y": 0.2685128450393677,
          "yref": "y"
         },
         {
          "arrowcolor": "blue",
          "arrowhead": 3,
          "arrowwidth": 1.5,
          "ax": 0.379597008228302,
          "axref": "x",
          "ay": 0.2685128450393677,
          "ayref": "y",
          "showarrow": true,
          "text": "",
          "x": 0.5252220034599304,
          "xref": "x",
          "y": 0.3432603180408478,
          "yref": "y"
         },
         {
          "arrowcolor": "blue",
          "arrowhead": 3,
          "arrowwidth": 1.5,
          "ax": 0.5252220034599304,
          "axref": "x",
          "ay": 0.3432603180408478,
          "ayref": "y",
          "showarrow": true,
          "text": "",
          "x": 0.6151758432388306,
          "xref": "x",
          "y": 0.2500847578048706,
          "yref": "y"
         },
         {
          "arrowcolor": "blue",
          "arrowhead": 3,
          "arrowwidth": 1.5,
          "ax": 0.6151758432388306,
          "axref": "x",
          "ay": 0.2500847578048706,
          "ayref": "y",
          "showarrow": true,
          "text": "",
          "x": 0.6731158494949341,
          "xref": "x",
          "y": 0.21415235102176666,
          "yref": "y"
         },
         {
          "arrowcolor": "blue",
          "arrowhead": 3,
          "arrowwidth": 1.5,
          "ax": 0.6731158494949341,
          "axref": "x",
          "ay": 0.21415235102176666,
          "ayref": "y",
          "showarrow": true,
          "text": "",
          "x": 0.7249175310134888,
          "xref": "x",
          "y": 0.24397777020931244,
          "yref": "y"
         },
         {
          "arrowcolor": "blue",
          "arrowhead": 3,
          "arrowwidth": 1.5,
          "ax": 0.7249175310134888,
          "axref": "x",
          "ay": 0.24397777020931244,
          "ayref": "y",
          "showarrow": true,
          "text": "",
          "x": 0.7871307134628296,
          "xref": "x",
          "y": 0.32631927728652954,
          "yref": "y"
         },
         {
          "arrowcolor": "blue",
          "arrowhead": 3,
          "arrowwidth": 1.5,
          "ax": 0.7871307134628296,
          "axref": "x",
          "ay": 0.32631927728652954,
          "ayref": "y",
          "showarrow": true,
          "text": "",
          "x": 0.9254623651504517,
          "xref": "x",
          "y": 0.34883493185043335,
          "yref": "y"
         },
         {
          "arrowcolor": "blue",
          "arrowhead": 3,
          "arrowwidth": 1.5,
          "ax": 0.9254623651504517,
          "axref": "x",
          "ay": 0.34883493185043335,
          "ayref": "y",
          "showarrow": true,
          "text": "",
          "x": 0.6739954948425293,
          "xref": "x",
          "y": 0.3910810053348541,
          "yref": "y"
         },
         {
          "arrowcolor": "blue",
          "arrowhead": 3,
          "arrowwidth": 1.5,
          "ax": 0.6739954948425293,
          "axref": "x",
          "ay": 0.3910810053348541,
          "ayref": "y",
          "showarrow": true,
          "text": "",
          "x": 0.7243161201477051,
          "xref": "x",
          "y": 0.5992100834846497,
          "yref": "y"
         },
         {
          "arrowcolor": "blue",
          "arrowhead": 3,
          "arrowwidth": 1.5,
          "ax": 0.7243161201477051,
          "axref": "x",
          "ay": 0.5992100834846497,
          "ayref": "y",
          "showarrow": true,
          "text": "",
          "x": 0.5513949394226074,
          "xref": "x",
          "y": 0.5829607248306274,
          "yref": "y"
         },
         {
          "arrowcolor": "blue",
          "arrowhead": 3,
          "arrowwidth": 1.5,
          "ax": 0.5513949394226074,
          "axref": "x",
          "ay": 0.5829607248306274,
          "ayref": "y",
          "showarrow": true,
          "text": "",
          "x": 0.4752808213233948,
          "xref": "x",
          "y": 0.5399959683418274,
          "yref": "y"
         },
         {
          "arrowcolor": "blue",
          "arrowhead": 3,
          "arrowwidth": 1.5,
          "ax": 0.4752808213233948,
          "axref": "x",
          "ay": 0.5399959683418274,
          "ayref": "y",
          "showarrow": true,
          "text": "",
          "x": 0.5411733388900757,
          "xref": "x",
          "y": 0.481730580329895,
          "yref": "y"
         },
         {
          "arrowcolor": "blue",
          "arrowhead": 3,
          "arrowwidth": 1.5,
          "ax": 0.5411733388900757,
          "axref": "x",
          "ay": 0.481730580329895,
          "ayref": "y",
          "showarrow": true,
          "text": "",
          "x": 0.16409514844417572,
          "xref": "x",
          "y": 0.866940438747406,
          "yref": "y"
         },
         {
          "arrowcolor": "blue",
          "arrowhead": 3,
          "arrowwidth": 1.5,
          "ax": 0.16409514844417572,
          "axref": "x",
          "ay": 0.866940438747406,
          "ayref": "y",
          "showarrow": true,
          "text": "",
          "x": 0.09711243957281113,
          "xref": "x",
          "y": 0.6818297505378723,
          "yref": "y"
         },
         {
          "arrowcolor": "blue",
          "arrowhead": 3,
          "arrowwidth": 1.5,
          "ax": 0.09711243957281113,
          "axref": "x",
          "ay": 0.6818297505378723,
          "ayref": "y",
          "showarrow": true,
          "text": "",
          "x": 0.039548151195049286,
          "xref": "x",
          "y": 0.5041060447692871,
          "yref": "y"
         },
         {
          "arrowcolor": "blue",
          "arrowhead": 3,
          "arrowwidth": 1.5,
          "ax": 0.039548151195049286,
          "axref": "x",
          "ay": 0.5041060447692871,
          "ayref": "y",
          "showarrow": true,
          "text": "",
          "x": 0.00822916068136692,
          "xref": "x",
          "y": 0.3549906015396118,
          "yref": "y"
         },
         {
          "arrowcolor": "blue",
          "arrowhead": 3,
          "arrowwidth": 1.5,
          "ax": 0.00822916068136692,
          "axref": "x",
          "ay": 0.3549906015396118,
          "ayref": "y",
          "showarrow": true,
          "text": "",
          "x": 0.17620529234409332,
          "xref": "x",
          "y": 0.19356709718704224,
          "yref": "y"
         },
         {
          "arrowcolor": "blue",
          "arrowhead": 3,
          "arrowwidth": 1.5,
          "ax": 0.17620529234409332,
          "axref": "x",
          "ay": 0.19356709718704224,
          "ayref": "y",
          "showarrow": true,
          "text": "",
          "x": 0.04281238839030266,
          "xref": "x",
          "y": 0.07915404438972473,
          "yref": "y"
         },
         {
          "arrowcolor": "blue",
          "arrowhead": 3,
          "arrowwidth": 1.5,
          "ax": 0.04281238839030266,
          "axref": "x",
          "ay": 0.07915404438972473,
          "ayref": "y",
          "showarrow": true,
          "text": "",
          "x": 0.08758259564638138,
          "xref": "x",
          "y": 0.029931984841823578,
          "yref": "y"
         },
         {
          "arrowcolor": "blue",
          "arrowhead": 3,
          "arrowwidth": 1.5,
          "ax": 0.08758259564638138,
          "axref": "x",
          "ay": 0.029931984841823578,
          "ayref": "y",
          "showarrow": true,
          "text": "",
          "x": 0.26450440287590027,
          "xref": "x",
          "y": 0.00350161618553102,
          "yref": "y"
         },
         {
          "arrowcolor": "blue",
          "arrowhead": 3,
          "arrowwidth": 1.5,
          "ax": 0.26450440287590027,
          "axref": "x",
          "ay": 0.00350161618553102,
          "ayref": "y",
          "showarrow": true,
          "text": "",
          "x": 0.5558197498321533,
          "xref": "x",
          "y": 0.12925998866558075,
          "yref": "y"
         },
         {
          "arrowcolor": "blue",
          "arrowhead": 3,
          "arrowwidth": 1.5,
          "ax": 0.5558197498321533,
          "axref": "x",
          "ay": 0.12925998866558075,
          "ayref": "y",
          "showarrow": true,
          "text": "",
          "x": 0.6467998623847961,
          "xref": "x",
          "y": 0.1737348437309265,
          "yref": "y"
         },
         {
          "arrowcolor": "blue",
          "arrowhead": 3,
          "arrowwidth": 1.5,
          "ax": 0.6467998623847961,
          "axref": "x",
          "ay": 0.1737348437309265,
          "ayref": "y",
          "showarrow": true,
          "text": "",
          "x": 0.8980318903923035,
          "xref": "x",
          "y": 0.0038777906447649,
          "yref": "y"
         },
         {
          "arrowcolor": "blue",
          "arrowhead": 3,
          "arrowwidth": 1.5,
          "ax": 0.8980318903923035,
          "axref": "x",
          "ay": 0.0038777906447649,
          "ayref": "y",
          "showarrow": true,
          "text": "",
          "x": 0.86658775806427,
          "xref": "x",
          "y": 0.12157674878835678,
          "yref": "y"
         },
         {
          "arrowcolor": "blue",
          "arrowhead": 3,
          "arrowwidth": 1.5,
          "ax": 0.86658775806427,
          "axref": "x",
          "ay": 0.12157674878835678,
          "ayref": "y",
          "showarrow": true,
          "text": "",
          "x": 0.8865610361099243,
          "xref": "x",
          "y": 0.17881296575069427,
          "yref": "y"
         },
         {
          "arrowcolor": "blue",
          "arrowhead": 3,
          "arrowwidth": 1.5,
          "ax": 0.8865610361099243,
          "axref": "x",
          "ay": 0.17881296575069427,
          "ayref": "y",
          "showarrow": true,
          "text": "",
          "x": 0.960699737071991,
          "xref": "x",
          "y": 0.14233148097991943,
          "yref": "y"
         },
         {
          "arrowcolor": "blue",
          "arrowhead": 3,
          "arrowwidth": 1.5,
          "ax": 0.960699737071991,
          "axref": "x",
          "ay": 0.14233148097991943,
          "ayref": "y",
          "showarrow": true,
          "text": "",
          "x": 0.9702370762825012,
          "xref": "x",
          "y": 0.25444647669792175,
          "yref": "y"
         },
         {
          "arrowcolor": "blue",
          "arrowhead": 3,
          "arrowwidth": 1.5,
          "ax": 0.9702370762825012,
          "axref": "x",
          "ay": 0.25444647669792175,
          "ayref": "y",
          "showarrow": true,
          "text": "",
          "x": 1,
          "xref": "x",
          "y": 0.36593687534332275,
          "yref": "y"
         },
         {
          "arrowcolor": "blue",
          "arrowhead": 3,
          "arrowwidth": 1.5,
          "ax": 1,
          "axref": "x",
          "ay": 0.36593687534332275,
          "ayref": "y",
          "showarrow": true,
          "text": "",
          "x": 0.969656229019165,
          "xref": "x",
          "y": 0.4235752522945404,
          "yref": "y"
         },
         {
          "arrowcolor": "blue",
          "arrowhead": 3,
          "arrowwidth": 1.5,
          "ax": 0.969656229019165,
          "axref": "x",
          "ay": 0.4235752522945404,
          "ayref": "y",
          "showarrow": true,
          "text": "",
          "x": 0.977165162563324,
          "xref": "x",
          "y": 0.514599084854126,
          "yref": "y"
         },
         {
          "arrowcolor": "blue",
          "arrowhead": 3,
          "arrowwidth": 1.5,
          "ax": 0.977165162563324,
          "axref": "x",
          "ay": 0.514599084854126,
          "ayref": "y",
          "showarrow": true,
          "text": "",
          "x": 0.951595664024353,
          "xref": "x",
          "y": 0.5988034605979919,
          "yref": "y"
         },
         {
          "arrowcolor": "blue",
          "arrowhead": 3,
          "arrowwidth": 1.5,
          "ax": 0.951595664024353,
          "axref": "x",
          "ay": 0.5988034605979919,
          "ayref": "y",
          "showarrow": true,
          "text": "",
          "x": 0.9625750184059143,
          "xref": "x",
          "y": 0.8846898078918457,
          "yref": "y"
         },
         {
          "arrowcolor": "blue",
          "arrowhead": 3,
          "arrowwidth": 1.5,
          "ax": 0.9625750184059143,
          "axref": "x",
          "ay": 0.8846898078918457,
          "ayref": "y",
          "showarrow": true,
          "text": "",
          "x": 0.9518475532531738,
          "xref": "x",
          "y": 0.8460738658905029,
          "yref": "y"
         },
         {
          "arrowcolor": "blue",
          "arrowhead": 3,
          "arrowwidth": 1.5,
          "ax": 0.9518475532531738,
          "axref": "x",
          "ay": 0.8460738658905029,
          "ayref": "y",
          "showarrow": true,
          "text": "",
          "x": 0.8064720034599304,
          "xref": "x",
          "y": 0.8736791610717773,
          "yref": "y"
         },
         {
          "arrowcolor": "blue",
          "arrowhead": 3,
          "arrowwidth": 1.5,
          "ax": 0.8064720034599304,
          "axref": "x",
          "ay": 0.8736791610717773,
          "ayref": "y",
          "showarrow": true,
          "text": "",
          "x": 0.8149540424346924,
          "xref": "x",
          "y": 0.9701273441314697,
          "yref": "y"
         },
         {
          "arrowcolor": "blue",
          "arrowhead": 3,
          "arrowwidth": 1.5,
          "ax": 0.8149540424346924,
          "axref": "x",
          "ay": 0.9701273441314697,
          "ayref": "y",
          "showarrow": true,
          "text": "",
          "x": 0.7186596393585205,
          "xref": "x",
          "y": 0.9857074618339539,
          "yref": "y"
         },
         {
          "arrowcolor": "blue",
          "arrowhead": 3,
          "arrowwidth": 1.5,
          "ax": 0.7186596393585205,
          "axref": "x",
          "ay": 0.9857074618339539,
          "ayref": "y",
          "showarrow": true,
          "text": "",
          "x": 0.5651737451553345,
          "xref": "x",
          "y": 0.997072696685791,
          "yref": "y"
         },
         {
          "arrowcolor": "blue",
          "arrowhead": 3,
          "arrowwidth": 1.5,
          "ax": 0.5651737451553345,
          "axref": "x",
          "ay": 0.997072696685791,
          "ayref": "y",
          "showarrow": true,
          "text": "",
          "x": 0.527687668800354,
          "xref": "x",
          "y": 1,
          "yref": "y"
         },
         {
          "arrowcolor": "green",
          "arrowhead": 3,
          "arrowwidth": 1.5,
          "ax": 0.6739954948425293,
          "axref": "x2",
          "ay": 0.3910810053348541,
          "ayref": "y2",
          "showarrow": true,
          "text": "",
          "x": 0.7249175310134888,
          "xref": "x2",
          "y": 0.24397777020931244,
          "yref": "y2"
         },
         {
          "arrowcolor": "green",
          "arrowhead": 3,
          "arrowwidth": 1.5,
          "ax": 0.7249175310134888,
          "axref": "x2",
          "ay": 0.24397777020931244,
          "ayref": "y2",
          "showarrow": true,
          "text": "",
          "x": 0.7871307134628296,
          "xref": "x2",
          "y": 0.32631927728652954,
          "yref": "y2"
         },
         {
          "arrowcolor": "green",
          "arrowhead": 3,
          "arrowwidth": 1.5,
          "ax": 0.7871307134628296,
          "axref": "x2",
          "ay": 0.32631927728652954,
          "ayref": "y2",
          "showarrow": true,
          "text": "",
          "x": 0.8865610361099243,
          "xref": "x2",
          "y": 0.17881296575069427,
          "yref": "y2"
         },
         {
          "arrowcolor": "green",
          "arrowhead": 3,
          "arrowwidth": 1.5,
          "ax": 0.8865610361099243,
          "axref": "x2",
          "ay": 0.17881296575069427,
          "ayref": "y2",
          "showarrow": true,
          "text": "",
          "x": 0.86658775806427,
          "xref": "x2",
          "y": 0.12157674878835678,
          "yref": "y2"
         },
         {
          "arrowcolor": "green",
          "arrowhead": 3,
          "arrowwidth": 1.5,
          "ax": 0.86658775806427,
          "axref": "x2",
          "ay": 0.12157674878835678,
          "ayref": "y2",
          "showarrow": true,
          "text": "",
          "x": 0.8980318903923035,
          "xref": "x2",
          "y": 0.0038777906447649,
          "yref": "y2"
         },
         {
          "arrowcolor": "green",
          "arrowhead": 3,
          "arrowwidth": 1.5,
          "ax": 0.8980318903923035,
          "axref": "x2",
          "ay": 0.0038777906447649,
          "ayref": "y2",
          "showarrow": true,
          "text": "",
          "x": 0.960699737071991,
          "xref": "x2",
          "y": 0.14233148097991943,
          "yref": "y2"
         },
         {
          "arrowcolor": "green",
          "arrowhead": 3,
          "arrowwidth": 1.5,
          "ax": 0.960699737071991,
          "axref": "x2",
          "ay": 0.14233148097991943,
          "ayref": "y2",
          "showarrow": true,
          "text": "",
          "x": 0.9702370762825012,
          "xref": "x2",
          "y": 0.25444647669792175,
          "yref": "y2"
         },
         {
          "arrowcolor": "green",
          "arrowhead": 3,
          "arrowwidth": 1.5,
          "ax": 0.9702370762825012,
          "axref": "x2",
          "ay": 0.25444647669792175,
          "ayref": "y2",
          "showarrow": true,
          "text": "",
          "x": 0.9254623651504517,
          "xref": "x2",
          "y": 0.34883493185043335,
          "yref": "y2"
         },
         {
          "arrowcolor": "green",
          "arrowhead": 3,
          "arrowwidth": 1.5,
          "ax": 0.9254623651504517,
          "axref": "x2",
          "ay": 0.34883493185043335,
          "ayref": "y2",
          "showarrow": true,
          "text": "",
          "x": 1,
          "xref": "x2",
          "y": 0.36593687534332275,
          "yref": "y2"
         },
         {
          "arrowcolor": "green",
          "arrowhead": 3,
          "arrowwidth": 1.5,
          "ax": 1,
          "axref": "x2",
          "ay": 0.36593687534332275,
          "ayref": "y2",
          "showarrow": true,
          "text": "",
          "x": 0.969656229019165,
          "xref": "x2",
          "y": 0.4235752522945404,
          "yref": "y2"
         },
         {
          "arrowcolor": "green",
          "arrowhead": 3,
          "arrowwidth": 1.5,
          "ax": 0.969656229019165,
          "axref": "x2",
          "ay": 0.4235752522945404,
          "ayref": "y2",
          "showarrow": true,
          "text": "",
          "x": 0.977165162563324,
          "xref": "x2",
          "y": 0.514599084854126,
          "yref": "y2"
         },
         {
          "arrowcolor": "green",
          "arrowhead": 3,
          "arrowwidth": 1.5,
          "ax": 0.977165162563324,
          "axref": "x2",
          "ay": 0.514599084854126,
          "ayref": "y2",
          "showarrow": true,
          "text": "",
          "x": 0.951595664024353,
          "xref": "x2",
          "y": 0.5988034605979919,
          "yref": "y2"
         },
         {
          "arrowcolor": "green",
          "arrowhead": 3,
          "arrowwidth": 1.5,
          "ax": 0.951595664024353,
          "axref": "x2",
          "ay": 0.5988034605979919,
          "ayref": "y2",
          "showarrow": true,
          "text": "",
          "x": 0.9518475532531738,
          "xref": "x2",
          "y": 0.8460738658905029,
          "yref": "y2"
         },
         {
          "arrowcolor": "green",
          "arrowhead": 3,
          "arrowwidth": 1.5,
          "ax": 0.9518475532531738,
          "axref": "x2",
          "ay": 0.8460738658905029,
          "ayref": "y2",
          "showarrow": true,
          "text": "",
          "x": 0.9625750184059143,
          "xref": "x2",
          "y": 0.8846898078918457,
          "yref": "y2"
         },
         {
          "arrowcolor": "green",
          "arrowhead": 3,
          "arrowwidth": 1.5,
          "ax": 0.9625750184059143,
          "axref": "x2",
          "ay": 0.8846898078918457,
          "ayref": "y2",
          "showarrow": true,
          "text": "",
          "x": 0.8064720034599304,
          "xref": "x2",
          "y": 0.8736791610717773,
          "yref": "y2"
         },
         {
          "arrowcolor": "green",
          "arrowhead": 3,
          "arrowwidth": 1.5,
          "ax": 0.8064720034599304,
          "axref": "x2",
          "ay": 0.8736791610717773,
          "ayref": "y2",
          "showarrow": true,
          "text": "",
          "x": 0.8149540424346924,
          "xref": "x2",
          "y": 0.9701273441314697,
          "yref": "y2"
         },
         {
          "arrowcolor": "green",
          "arrowhead": 3,
          "arrowwidth": 1.5,
          "ax": 0.8149540424346924,
          "axref": "x2",
          "ay": 0.9701273441314697,
          "ayref": "y2",
          "showarrow": true,
          "text": "",
          "x": 0.7186596393585205,
          "xref": "x2",
          "y": 0.9857074618339539,
          "yref": "y2"
         },
         {
          "arrowcolor": "green",
          "arrowhead": 3,
          "arrowwidth": 1.5,
          "ax": 0.7186596393585205,
          "axref": "x2",
          "ay": 0.9857074618339539,
          "ayref": "y2",
          "showarrow": true,
          "text": "",
          "x": 0.5651737451553345,
          "xref": "x2",
          "y": 0.997072696685791,
          "yref": "y2"
         },
         {
          "arrowcolor": "green",
          "arrowhead": 3,
          "arrowwidth": 1.5,
          "ax": 0.5651737451553345,
          "axref": "x2",
          "ay": 0.997072696685791,
          "ayref": "y2",
          "showarrow": true,
          "text": "",
          "x": 0.5410871505737305,
          "xref": "x2",
          "y": 0.9796866178512573,
          "yref": "y2"
         },
         {
          "arrowcolor": "green",
          "arrowhead": 3,
          "arrowwidth": 1.5,
          "ax": 0.5410871505737305,
          "axref": "x2",
          "ay": 0.9796866178512573,
          "ayref": "y2",
          "showarrow": true,
          "text": "",
          "x": 0.527687668800354,
          "xref": "x2",
          "y": 1,
          "yref": "y2"
         },
         {
          "arrowcolor": "green",
          "arrowhead": 3,
          "arrowwidth": 1.5,
          "ax": 0.527687668800354,
          "axref": "x2",
          "ay": 1,
          "ayref": "y2",
          "showarrow": true,
          "text": "",
          "x": 0.47881796956062317,
          "xref": "x2",
          "y": 0.9360227584838867,
          "yref": "y2"
         },
         {
          "arrowcolor": "green",
          "arrowhead": 3,
          "arrowwidth": 1.5,
          "ax": 0.47881796956062317,
          "axref": "x2",
          "ay": 0.9360227584838867,
          "ayref": "y2",
          "showarrow": true,
          "text": "",
          "x": 0.4597606956958771,
          "xref": "x2",
          "y": 0.897630512714386,
          "yref": "y2"
         },
         {
          "arrowcolor": "green",
          "arrowhead": 3,
          "arrowwidth": 1.5,
          "ax": 0.4597606956958771,
          "axref": "x2",
          "ay": 0.897630512714386,
          "ayref": "y2",
          "showarrow": true,
          "text": "",
          "x": 0.16409514844417572,
          "xref": "x2",
          "y": 0.866940438747406,
          "yref": "y2"
         },
         {
          "arrowcolor": "green",
          "arrowhead": 3,
          "arrowwidth": 1.5,
          "ax": 0.16409514844417572,
          "axref": "x2",
          "ay": 0.866940438747406,
          "ayref": "y2",
          "showarrow": true,
          "text": "",
          "x": 0.09711243957281113,
          "xref": "x2",
          "y": 0.6818297505378723,
          "yref": "y2"
         },
         {
          "arrowcolor": "green",
          "arrowhead": 3,
          "arrowwidth": 1.5,
          "ax": 0.09711243957281113,
          "axref": "x2",
          "ay": 0.6818297505378723,
          "ayref": "y2",
          "showarrow": true,
          "text": "",
          "x": 0.039548151195049286,
          "xref": "x2",
          "y": 0.5041060447692871,
          "yref": "y2"
         },
         {
          "arrowcolor": "green",
          "arrowhead": 3,
          "arrowwidth": 1.5,
          "ax": 0.039548151195049286,
          "axref": "x2",
          "ay": 0.5041060447692871,
          "ayref": "y2",
          "showarrow": true,
          "text": "",
          "x": 0.00822916068136692,
          "xref": "x2",
          "y": 0.3549906015396118,
          "yref": "y2"
         },
         {
          "arrowcolor": "green",
          "arrowhead": 3,
          "arrowwidth": 1.5,
          "ax": 0.00822916068136692,
          "axref": "x2",
          "ay": 0.3549906015396118,
          "ayref": "y2",
          "showarrow": true,
          "text": "",
          "x": 0.15748029947280884,
          "xref": "x2",
          "y": 0.3298170566558838,
          "yref": "y2"
         },
         {
          "arrowcolor": "green",
          "arrowhead": 3,
          "arrowwidth": 1.5,
          "ax": 0.15748029947280884,
          "axref": "x2",
          "ay": 0.3298170566558838,
          "ayref": "y2",
          "showarrow": true,
          "text": "",
          "x": 0.17620529234409332,
          "xref": "x2",
          "y": 0.19356709718704224,
          "yref": "y2"
         },
         {
          "arrowcolor": "green",
          "arrowhead": 3,
          "arrowwidth": 1.5,
          "ax": 0.17620529234409332,
          "axref": "x2",
          "ay": 0.19356709718704224,
          "ayref": "y2",
          "showarrow": true,
          "text": "",
          "x": 0.04281238839030266,
          "xref": "x2",
          "y": 0.07915404438972473,
          "yref": "y2"
         },
         {
          "arrowcolor": "green",
          "arrowhead": 3,
          "arrowwidth": 1.5,
          "ax": 0.04281238839030266,
          "axref": "x2",
          "ay": 0.07915404438972473,
          "ayref": "y2",
          "showarrow": true,
          "text": "",
          "x": 0.08758259564638138,
          "xref": "x2",
          "y": 0.029931984841823578,
          "yref": "y2"
         },
         {
          "arrowcolor": "green",
          "arrowhead": 3,
          "arrowwidth": 1.5,
          "ax": 0.08758259564638138,
          "axref": "x2",
          "ay": 0.029931984841823578,
          "ayref": "y2",
          "showarrow": true,
          "text": "",
          "x": 0.26450440287590027,
          "xref": "x2",
          "y": 0.00350161618553102,
          "yref": "y2"
         },
         {
          "arrowcolor": "green",
          "arrowhead": 3,
          "arrowwidth": 1.5,
          "ax": 0.26450440287590027,
          "axref": "x2",
          "ay": 0.00350161618553102,
          "ayref": "y2",
          "showarrow": true,
          "text": "",
          "x": 0.379597008228302,
          "xref": "x2",
          "y": 0.2685128450393677,
          "yref": "y2"
         },
         {
          "arrowcolor": "green",
          "arrowhead": 3,
          "arrowwidth": 1.5,
          "ax": 0.379597008228302,
          "axref": "x2",
          "ay": 0.2685128450393677,
          "ayref": "y2",
          "showarrow": true,
          "text": "",
          "x": 0.4296669661998749,
          "xref": "x2",
          "y": 0.3022981286048889,
          "yref": "y2"
         },
         {
          "arrowcolor": "green",
          "arrowhead": 3,
          "arrowwidth": 1.5,
          "ax": 0.4296669661998749,
          "axref": "x2",
          "ay": 0.3022981286048889,
          "ayref": "y2",
          "showarrow": true,
          "text": "",
          "x": 0.3719242811203003,
          "xref": "x2",
          "y": 0.3596688210964203,
          "yref": "y2"
         },
         {
          "arrowcolor": "green",
          "arrowhead": 3,
          "arrowwidth": 1.5,
          "ax": 0.3719242811203003,
          "axref": "x2",
          "ay": 0.3596688210964203,
          "ayref": "y2",
          "showarrow": true,
          "text": "",
          "x": 0.3791302442550659,
          "xref": "x2",
          "y": 0.4936835765838623,
          "yref": "y2"
         },
         {
          "arrowcolor": "green",
          "arrowhead": 3,
          "arrowwidth": 1.5,
          "ax": 0.3791302442550659,
          "axref": "x2",
          "ay": 0.4936835765838623,
          "ayref": "y2",
          "showarrow": true,
          "text": "",
          "x": 0.3471144735813141,
          "xref": "x2",
          "y": 0.5786922574043274,
          "yref": "y2"
         },
         {
          "arrowcolor": "green",
          "arrowhead": 3,
          "arrowwidth": 1.5,
          "ax": 0.3471144735813141,
          "axref": "x2",
          "ay": 0.5786922574043274,
          "ayref": "y2",
          "showarrow": true,
          "text": "",
          "x": 0.3712027370929718,
          "xref": "x2",
          "y": 0.7137608528137207,
          "yref": "y2"
         },
         {
          "arrowcolor": "green",
          "arrowhead": 3,
          "arrowwidth": 1.5,
          "ax": 0.3712027370929718,
          "axref": "x2",
          "ay": 0.7137608528137207,
          "ayref": "y2",
          "showarrow": true,
          "text": "",
          "x": 0.4883726239204407,
          "xref": "x2",
          "y": 0.8082867860794067,
          "yref": "y2"
         },
         {
          "arrowcolor": "green",
          "arrowhead": 3,
          "arrowwidth": 1.5,
          "ax": 0.4883726239204407,
          "axref": "x2",
          "ay": 0.8082867860794067,
          "ayref": "y2",
          "showarrow": true,
          "text": "",
          "x": 0.5298184156417847,
          "xref": "x2",
          "y": 0.7922477722167969,
          "yref": "y2"
         },
         {
          "arrowcolor": "green",
          "arrowhead": 3,
          "arrowwidth": 1.5,
          "ax": 0.5298184156417847,
          "axref": "x2",
          "ay": 0.7922477722167969,
          "ayref": "y2",
          "showarrow": true,
          "text": "",
          "x": 0.5618996620178223,
          "xref": "x2",
          "y": 0.895494282245636,
          "yref": "y2"
         },
         {
          "arrowcolor": "green",
          "arrowhead": 3,
          "arrowwidth": 1.5,
          "ax": 0.5618996620178223,
          "axref": "x2",
          "ay": 0.895494282245636,
          "ayref": "y2",
          "showarrow": true,
          "text": "",
          "x": 0.7243161201477051,
          "xref": "x2",
          "y": 0.5992100834846497,
          "yref": "y2"
         },
         {
          "arrowcolor": "green",
          "arrowhead": 3,
          "arrowwidth": 1.5,
          "ax": 0.7243161201477051,
          "axref": "x2",
          "ay": 0.5992100834846497,
          "ayref": "y2",
          "showarrow": true,
          "text": "",
          "x": 0.5513949394226074,
          "xref": "x2",
          "y": 0.5829607248306274,
          "yref": "y2"
         },
         {
          "arrowcolor": "green",
          "arrowhead": 3,
          "arrowwidth": 1.5,
          "ax": 0.5513949394226074,
          "axref": "x2",
          "ay": 0.5829607248306274,
          "ayref": "y2",
          "showarrow": true,
          "text": "",
          "x": 0.4752808213233948,
          "xref": "x2",
          "y": 0.5399959683418274,
          "yref": "y2"
         },
         {
          "arrowcolor": "green",
          "arrowhead": 3,
          "arrowwidth": 1.5,
          "ax": 0.4752808213233948,
          "axref": "x2",
          "ay": 0.5399959683418274,
          "ayref": "y2",
          "showarrow": true,
          "text": "",
          "x": 0.5411733388900757,
          "xref": "x2",
          "y": 0.481730580329895,
          "yref": "y2"
         },
         {
          "arrowcolor": "green",
          "arrowhead": 3,
          "arrowwidth": 1.5,
          "ax": 0.5411733388900757,
          "axref": "x2",
          "ay": 0.481730580329895,
          "ayref": "y2",
          "showarrow": true,
          "text": "",
          "x": 0.5252220034599304,
          "xref": "x2",
          "y": 0.3432603180408478,
          "yref": "y2"
         },
         {
          "arrowcolor": "green",
          "arrowhead": 3,
          "arrowwidth": 1.5,
          "ax": 0.5252220034599304,
          "axref": "x2",
          "ay": 0.3432603180408478,
          "ayref": "y2",
          "showarrow": true,
          "text": "",
          "x": 0.6151758432388306,
          "xref": "x2",
          "y": 0.2500847578048706,
          "yref": "y2"
         },
         {
          "arrowcolor": "green",
          "arrowhead": 3,
          "arrowwidth": 1.5,
          "ax": 0.6151758432388306,
          "axref": "x2",
          "ay": 0.2500847578048706,
          "ayref": "y2",
          "showarrow": true,
          "text": "",
          "x": 0.5558197498321533,
          "xref": "x2",
          "y": 0.12925998866558075,
          "yref": "y2"
         },
         {
          "arrowcolor": "green",
          "arrowhead": 3,
          "arrowwidth": 1.5,
          "ax": 0.5558197498321533,
          "axref": "x2",
          "ay": 0.12925998866558075,
          "ayref": "y2",
          "showarrow": true,
          "text": "",
          "x": 0.6467998623847961,
          "xref": "x2",
          "y": 0.1737348437309265,
          "yref": "y2"
         },
         {
          "arrowcolor": "green",
          "arrowhead": 3,
          "arrowwidth": 1.5,
          "ax": 0.6467998623847961,
          "axref": "x2",
          "ay": 0.1737348437309265,
          "ayref": "y2",
          "showarrow": true,
          "text": "",
          "x": 0.6731158494949341,
          "xref": "x2",
          "y": 0.21415235102176666,
          "yref": "y2"
         },
         {
          "arrowcolor": "green",
          "arrowhead": 3,
          "arrowwidth": 1.5,
          "ax": 0.6731158494949341,
          "axref": "x2",
          "ay": 0.21415235102176666,
          "ayref": "y2",
          "showarrow": true,
          "text": "",
          "x": 0.6739954948425293,
          "xref": "x2",
          "y": 0.3910810053348541,
          "yref": "y2"
         }
        ],
        "showlegend": false,
        "template": {
         "data": {
          "bar": [
           {
            "error_x": {
             "color": "#2a3f5f"
            },
            "error_y": {
             "color": "#2a3f5f"
            },
            "marker": {
             "line": {
              "color": "#E5ECF6",
              "width": 0.5
             },
             "pattern": {
              "fillmode": "overlay",
              "size": 10,
              "solidity": 0.2
             }
            },
            "type": "bar"
           }
          ],
          "barpolar": [
           {
            "marker": {
             "line": {
              "color": "#E5ECF6",
              "width": 0.5
             },
             "pattern": {
              "fillmode": "overlay",
              "size": 10,
              "solidity": 0.2
             }
            },
            "type": "barpolar"
           }
          ],
          "carpet": [
           {
            "aaxis": {
             "endlinecolor": "#2a3f5f",
             "gridcolor": "white",
             "linecolor": "white",
             "minorgridcolor": "white",
             "startlinecolor": "#2a3f5f"
            },
            "baxis": {
             "endlinecolor": "#2a3f5f",
             "gridcolor": "white",
             "linecolor": "white",
             "minorgridcolor": "white",
             "startlinecolor": "#2a3f5f"
            },
            "type": "carpet"
           }
          ],
          "choropleth": [
           {
            "colorbar": {
             "outlinewidth": 0,
             "ticks": ""
            },
            "type": "choropleth"
           }
          ],
          "contour": [
           {
            "colorbar": {
             "outlinewidth": 0,
             "ticks": ""
            },
            "colorscale": [
             [
              0,
              "#0d0887"
             ],
             [
              0.1111111111111111,
              "#46039f"
             ],
             [
              0.2222222222222222,
              "#7201a8"
             ],
             [
              0.3333333333333333,
              "#9c179e"
             ],
             [
              0.4444444444444444,
              "#bd3786"
             ],
             [
              0.5555555555555556,
              "#d8576b"
             ],
             [
              0.6666666666666666,
              "#ed7953"
             ],
             [
              0.7777777777777778,
              "#fb9f3a"
             ],
             [
              0.8888888888888888,
              "#fdca26"
             ],
             [
              1,
              "#f0f921"
             ]
            ],
            "type": "contour"
           }
          ],
          "contourcarpet": [
           {
            "colorbar": {
             "outlinewidth": 0,
             "ticks": ""
            },
            "type": "contourcarpet"
           }
          ],
          "heatmap": [
           {
            "colorbar": {
             "outlinewidth": 0,
             "ticks": ""
            },
            "colorscale": [
             [
              0,
              "#0d0887"
             ],
             [
              0.1111111111111111,
              "#46039f"
             ],
             [
              0.2222222222222222,
              "#7201a8"
             ],
             [
              0.3333333333333333,
              "#9c179e"
             ],
             [
              0.4444444444444444,
              "#bd3786"
             ],
             [
              0.5555555555555556,
              "#d8576b"
             ],
             [
              0.6666666666666666,
              "#ed7953"
             ],
             [
              0.7777777777777778,
              "#fb9f3a"
             ],
             [
              0.8888888888888888,
              "#fdca26"
             ],
             [
              1,
              "#f0f921"
             ]
            ],
            "type": "heatmap"
           }
          ],
          "heatmapgl": [
           {
            "colorbar": {
             "outlinewidth": 0,
             "ticks": ""
            },
            "colorscale": [
             [
              0,
              "#0d0887"
             ],
             [
              0.1111111111111111,
              "#46039f"
             ],
             [
              0.2222222222222222,
              "#7201a8"
             ],
             [
              0.3333333333333333,
              "#9c179e"
             ],
             [
              0.4444444444444444,
              "#bd3786"
             ],
             [
              0.5555555555555556,
              "#d8576b"
             ],
             [
              0.6666666666666666,
              "#ed7953"
             ],
             [
              0.7777777777777778,
              "#fb9f3a"
             ],
             [
              0.8888888888888888,
              "#fdca26"
             ],
             [
              1,
              "#f0f921"
             ]
            ],
            "type": "heatmapgl"
           }
          ],
          "histogram": [
           {
            "marker": {
             "pattern": {
              "fillmode": "overlay",
              "size": 10,
              "solidity": 0.2
             }
            },
            "type": "histogram"
           }
          ],
          "histogram2d": [
           {
            "colorbar": {
             "outlinewidth": 0,
             "ticks": ""
            },
            "colorscale": [
             [
              0,
              "#0d0887"
             ],
             [
              0.1111111111111111,
              "#46039f"
             ],
             [
              0.2222222222222222,
              "#7201a8"
             ],
             [
              0.3333333333333333,
              "#9c179e"
             ],
             [
              0.4444444444444444,
              "#bd3786"
             ],
             [
              0.5555555555555556,
              "#d8576b"
             ],
             [
              0.6666666666666666,
              "#ed7953"
             ],
             [
              0.7777777777777778,
              "#fb9f3a"
             ],
             [
              0.8888888888888888,
              "#fdca26"
             ],
             [
              1,
              "#f0f921"
             ]
            ],
            "type": "histogram2d"
           }
          ],
          "histogram2dcontour": [
           {
            "colorbar": {
             "outlinewidth": 0,
             "ticks": ""
            },
            "colorscale": [
             [
              0,
              "#0d0887"
             ],
             [
              0.1111111111111111,
              "#46039f"
             ],
             [
              0.2222222222222222,
              "#7201a8"
             ],
             [
              0.3333333333333333,
              "#9c179e"
             ],
             [
              0.4444444444444444,
              "#bd3786"
             ],
             [
              0.5555555555555556,
              "#d8576b"
             ],
             [
              0.6666666666666666,
              "#ed7953"
             ],
             [
              0.7777777777777778,
              "#fb9f3a"
             ],
             [
              0.8888888888888888,
              "#fdca26"
             ],
             [
              1,
              "#f0f921"
             ]
            ],
            "type": "histogram2dcontour"
           }
          ],
          "mesh3d": [
           {
            "colorbar": {
             "outlinewidth": 0,
             "ticks": ""
            },
            "type": "mesh3d"
           }
          ],
          "parcoords": [
           {
            "line": {
             "colorbar": {
              "outlinewidth": 0,
              "ticks": ""
             }
            },
            "type": "parcoords"
           }
          ],
          "pie": [
           {
            "automargin": true,
            "type": "pie"
           }
          ],
          "scatter": [
           {
            "fillpattern": {
             "fillmode": "overlay",
             "size": 10,
             "solidity": 0.2
            },
            "type": "scatter"
           }
          ],
          "scatter3d": [
           {
            "line": {
             "colorbar": {
              "outlinewidth": 0,
              "ticks": ""
             }
            },
            "marker": {
             "colorbar": {
              "outlinewidth": 0,
              "ticks": ""
             }
            },
            "type": "scatter3d"
           }
          ],
          "scattercarpet": [
           {
            "marker": {
             "colorbar": {
              "outlinewidth": 0,
              "ticks": ""
             }
            },
            "type": "scattercarpet"
           }
          ],
          "scattergeo": [
           {
            "marker": {
             "colorbar": {
              "outlinewidth": 0,
              "ticks": ""
             }
            },
            "type": "scattergeo"
           }
          ],
          "scattergl": [
           {
            "marker": {
             "colorbar": {
              "outlinewidth": 0,
              "ticks": ""
             }
            },
            "type": "scattergl"
           }
          ],
          "scattermapbox": [
           {
            "marker": {
             "colorbar": {
              "outlinewidth": 0,
              "ticks": ""
             }
            },
            "type": "scattermapbox"
           }
          ],
          "scatterpolar": [
           {
            "marker": {
             "colorbar": {
              "outlinewidth": 0,
              "ticks": ""
             }
            },
            "type": "scatterpolar"
           }
          ],
          "scatterpolargl": [
           {
            "marker": {
             "colorbar": {
              "outlinewidth": 0,
              "ticks": ""
             }
            },
            "type": "scatterpolargl"
           }
          ],
          "scatterternary": [
           {
            "marker": {
             "colorbar": {
              "outlinewidth": 0,
              "ticks": ""
             }
            },
            "type": "scatterternary"
           }
          ],
          "surface": [
           {
            "colorbar": {
             "outlinewidth": 0,
             "ticks": ""
            },
            "colorscale": [
             [
              0,
              "#0d0887"
             ],
             [
              0.1111111111111111,
              "#46039f"
             ],
             [
              0.2222222222222222,
              "#7201a8"
             ],
             [
              0.3333333333333333,
              "#9c179e"
             ],
             [
              0.4444444444444444,
              "#bd3786"
             ],
             [
              0.5555555555555556,
              "#d8576b"
             ],
             [
              0.6666666666666666,
              "#ed7953"
             ],
             [
              0.7777777777777778,
              "#fb9f3a"
             ],
             [
              0.8888888888888888,
              "#fdca26"
             ],
             [
              1,
              "#f0f921"
             ]
            ],
            "type": "surface"
           }
          ],
          "table": [
           {
            "cells": {
             "fill": {
              "color": "#EBF0F8"
             },
             "line": {
              "color": "white"
             }
            },
            "header": {
             "fill": {
              "color": "#C8D4E3"
             },
             "line": {
              "color": "white"
             }
            },
            "type": "table"
           }
          ]
         },
         "layout": {
          "annotationdefaults": {
           "arrowcolor": "#2a3f5f",
           "arrowhead": 0,
           "arrowwidth": 1
          },
          "autotypenumbers": "strict",
          "coloraxis": {
           "colorbar": {
            "outlinewidth": 0,
            "ticks": ""
           }
          },
          "colorscale": {
           "diverging": [
            [
             0,
             "#8e0152"
            ],
            [
             0.1,
             "#c51b7d"
            ],
            [
             0.2,
             "#de77ae"
            ],
            [
             0.3,
             "#f1b6da"
            ],
            [
             0.4,
             "#fde0ef"
            ],
            [
             0.5,
             "#f7f7f7"
            ],
            [
             0.6,
             "#e6f5d0"
            ],
            [
             0.7,
             "#b8e186"
            ],
            [
             0.8,
             "#7fbc41"
            ],
            [
             0.9,
             "#4d9221"
            ],
            [
             1,
             "#276419"
            ]
           ],
           "sequential": [
            [
             0,
             "#0d0887"
            ],
            [
             0.1111111111111111,
             "#46039f"
            ],
            [
             0.2222222222222222,
             "#7201a8"
            ],
            [
             0.3333333333333333,
             "#9c179e"
            ],
            [
             0.4444444444444444,
             "#bd3786"
            ],
            [
             0.5555555555555556,
             "#d8576b"
            ],
            [
             0.6666666666666666,
             "#ed7953"
            ],
            [
             0.7777777777777778,
             "#fb9f3a"
            ],
            [
             0.8888888888888888,
             "#fdca26"
            ],
            [
             1,
             "#f0f921"
            ]
           ],
           "sequentialminus": [
            [
             0,
             "#0d0887"
            ],
            [
             0.1111111111111111,
             "#46039f"
            ],
            [
             0.2222222222222222,
             "#7201a8"
            ],
            [
             0.3333333333333333,
             "#9c179e"
            ],
            [
             0.4444444444444444,
             "#bd3786"
            ],
            [
             0.5555555555555556,
             "#d8576b"
            ],
            [
             0.6666666666666666,
             "#ed7953"
            ],
            [
             0.7777777777777778,
             "#fb9f3a"
            ],
            [
             0.8888888888888888,
             "#fdca26"
            ],
            [
             1,
             "#f0f921"
            ]
           ]
          },
          "colorway": [
           "#636efa",
           "#EF553B",
           "#00cc96",
           "#ab63fa",
           "#FFA15A",
           "#19d3f3",
           "#FF6692",
           "#B6E880",
           "#FF97FF",
           "#FECB52"
          ],
          "font": {
           "color": "#2a3f5f"
          },
          "geo": {
           "bgcolor": "white",
           "lakecolor": "white",
           "landcolor": "#E5ECF6",
           "showlakes": true,
           "showland": true,
           "subunitcolor": "white"
          },
          "hoverlabel": {
           "align": "left"
          },
          "hovermode": "closest",
          "mapbox": {
           "style": "light"
          },
          "paper_bgcolor": "white",
          "plot_bgcolor": "#E5ECF6",
          "polar": {
           "angularaxis": {
            "gridcolor": "white",
            "linecolor": "white",
            "ticks": ""
           },
           "bgcolor": "#E5ECF6",
           "radialaxis": {
            "gridcolor": "white",
            "linecolor": "white",
            "ticks": ""
           }
          },
          "scene": {
           "xaxis": {
            "backgroundcolor": "#E5ECF6",
            "gridcolor": "white",
            "gridwidth": 2,
            "linecolor": "white",
            "showbackground": true,
            "ticks": "",
            "zerolinecolor": "white"
           },
           "yaxis": {
            "backgroundcolor": "#E5ECF6",
            "gridcolor": "white",
            "gridwidth": 2,
            "linecolor": "white",
            "showbackground": true,
            "ticks": "",
            "zerolinecolor": "white"
           },
           "zaxis": {
            "backgroundcolor": "#E5ECF6",
            "gridcolor": "white",
            "gridwidth": 2,
            "linecolor": "white",
            "showbackground": true,
            "ticks": "",
            "zerolinecolor": "white"
           }
          },
          "shapedefaults": {
           "line": {
            "color": "#2a3f5f"
           }
          },
          "ternary": {
           "aaxis": {
            "gridcolor": "white",
            "linecolor": "white",
            "ticks": ""
           },
           "baxis": {
            "gridcolor": "white",
            "linecolor": "white",
            "ticks": ""
           },
           "bgcolor": "#E5ECF6",
           "caxis": {
            "gridcolor": "white",
            "linecolor": "white",
            "ticks": ""
           }
          },
          "title": {
           "x": 0.05
          },
          "xaxis": {
           "automargin": true,
           "gridcolor": "white",
           "linecolor": "white",
           "ticks": "",
           "title": {
            "standoff": 15
           },
           "zerolinecolor": "white",
           "zerolinewidth": 2
          },
          "yaxis": {
           "automargin": true,
           "gridcolor": "white",
           "linecolor": "white",
           "ticks": "",
           "title": {
            "standoff": 15
           },
           "zerolinecolor": "white",
           "zerolinewidth": 2
          }
         }
        },
        "xaxis": {
         "anchor": "y",
         "domain": [
          0,
          0.45
         ],
         "visible": false
        },
        "xaxis2": {
         "anchor": "y2",
         "domain": [
          0.55,
          1
         ],
         "visible": false
        },
        "yaxis": {
         "anchor": "x",
         "domain": [
          0,
          1
         ],
         "visible": false
        },
        "yaxis2": {
         "anchor": "x2",
         "domain": [
          0,
          1
         ],
         "visible": false
        }
       }
      }
     },
     "metadata": {},
     "output_type": "display_data"
    },
    {
     "data": {
      "application/vnd.plotly.v1+json": {
       "config": {
        "plotlyServerURL": "https://plot.ly"
       },
       "data": [
        {
         "marker": {
          "color": "red"
         },
         "mode": "markers",
         "type": "scatter",
         "x": [
          0.8248435258865356,
          0.07774583995342255,
          0.9078969955444336,
          0.7074233889579773,
          0.49566414952278137,
          0.7562403678894043,
          0.4268206059932709,
          0.8933483958244324,
          0.4258289039134979,
          0.2397514283657074,
          0.3257726728916168,
          0.4282163679599762,
          0.22391949594020844,
          0.6579375267028809,
          0.5614741444587708,
          0.09508859366178513,
          0.28763338923454285,
          0.7454366683959961,
          0.7701686024665833,
          0.7178653478622437,
          0.17429398000240326,
          0.12896889448165894,
          0.6560344696044922,
          0.10117334872484207,
          0.46587425470352173,
          0.4409392476081848,
          0.8605917096138,
          0.24294480681419373,
          0.149896502494812,
          0.33060306310653687,
          0.4082850515842438,
          0.4356343448162079,
          0.751638650894165,
          0.43903282284736633,
          0.4865492582321167,
          0.7918111085891724,
          0.004389211069792509,
          0.9036514163017273,
          1,
          0.3075615465641022,
          0.5811066627502441,
          0.2812879979610443,
          0.3733980655670166,
          0.8156681656837463,
          0.0075156670063734055,
          0.01666923239827156,
          0.4594425857067108,
          0.8545231223106384,
          0.8649395108222961,
          0.14333538711071014
         ],
         "xaxis": "x",
         "y": [
          0.25801488757133484,
          0.17064306139945984,
          0.42248815298080444,
          0.15243487060070038,
          0.48638996481895447,
          0.8044914603233337,
          0.03210989385843277,
          0.1828891932964325,
          0.21378782391548157,
          0.21506458520889282,
          0.8966559767723083,
          0.02102680504322052,
          0.9932423233985901,
          0.8767291903495789,
          0.26033851504325867,
          0.15073280036449432,
          0.3757268786430359,
          0.6532376408576965,
          0.09030570089817047,
          1,
          0.3843812942504883,
          0.11240841448307037,
          0.2534632980823517,
          0.3498007655143738,
          0.7757897973060608,
          0.2719994783401489,
          0.25501376390457153,
          0.035628583282232285,
          0.0496780090034008,
          0.6685158610343933,
          0.7655107975006104,
          0.9117158651351929,
          0.16548092663288116,
          0.6989254951477051,
          0.15846644341945648,
          0.6004198789596558,
          0.7334231734275818,
          0.04337889328598976,
          0.04835272580385208,
          0.528937816619873,
          0.9868266582489014,
          0.7458282113075256,
          0.21711941063404083,
          0.004602246917784214,
          0.4135265052318573,
          0.6114484667778015,
          0.8416507244110107,
          0.730236291885376,
          0.9311437606811523,
          0.9178341031074524
         ],
         "yaxis": "y"
        },
        {
         "marker": {
          "color": "red"
         },
         "mode": "markers",
         "type": "scatter",
         "x": [
          0.8248435258865356,
          0.07774583995342255,
          0.9078969955444336,
          0.7074233889579773,
          0.49566414952278137,
          0.7562403678894043,
          0.4268206059932709,
          0.8933483958244324,
          0.4258289039134979,
          0.2397514283657074,
          0.3257726728916168,
          0.4282163679599762,
          0.22391949594020844,
          0.6579375267028809,
          0.5614741444587708,
          0.09508859366178513,
          0.28763338923454285,
          0.7454366683959961,
          0.7701686024665833,
          0.7178653478622437,
          0.17429398000240326,
          0.12896889448165894,
          0.6560344696044922,
          0.10117334872484207,
          0.46587425470352173,
          0.4409392476081848,
          0.8605917096138,
          0.24294480681419373,
          0.149896502494812,
          0.33060306310653687,
          0.4082850515842438,
          0.4356343448162079,
          0.751638650894165,
          0.43903282284736633,
          0.4865492582321167,
          0.7918111085891724,
          0.004389211069792509,
          0.9036514163017273,
          1,
          0.3075615465641022,
          0.5811066627502441,
          0.2812879979610443,
          0.3733980655670166,
          0.8156681656837463,
          0.0075156670063734055,
          0.01666923239827156,
          0.4594425857067108,
          0.8545231223106384,
          0.8649395108222961,
          0.14333538711071014
         ],
         "xaxis": "x2",
         "y": [
          0.25801488757133484,
          0.17064306139945984,
          0.42248815298080444,
          0.15243487060070038,
          0.48638996481895447,
          0.8044914603233337,
          0.03210989385843277,
          0.1828891932964325,
          0.21378782391548157,
          0.21506458520889282,
          0.8966559767723083,
          0.02102680504322052,
          0.9932423233985901,
          0.8767291903495789,
          0.26033851504325867,
          0.15073280036449432,
          0.3757268786430359,
          0.6532376408576965,
          0.09030570089817047,
          1,
          0.3843812942504883,
          0.11240841448307037,
          0.2534632980823517,
          0.3498007655143738,
          0.7757897973060608,
          0.2719994783401489,
          0.25501376390457153,
          0.035628583282232285,
          0.0496780090034008,
          0.6685158610343933,
          0.7655107975006104,
          0.9117158651351929,
          0.16548092663288116,
          0.6989254951477051,
          0.15846644341945648,
          0.6004198789596558,
          0.7334231734275818,
          0.04337889328598976,
          0.04835272580385208,
          0.528937816619873,
          0.9868266582489014,
          0.7458282113075256,
          0.21711941063404083,
          0.004602246917784214,
          0.4135265052318573,
          0.6114484667778015,
          0.8416507244110107,
          0.730236291885376,
          0.9311437606811523,
          0.9178341031074524
         ],
         "yaxis": "y2"
        }
       ],
       "layout": {
        "annotations": [
         {
          "font": {
           "size": 16
          },
          "showarrow": false,
          "text": "Christofides",
          "x": 0.225,
          "xanchor": "center",
          "xref": "paper",
          "y": 1,
          "yanchor": "bottom",
          "yref": "paper"
         },
         {
          "font": {
           "size": 16
          },
          "showarrow": false,
          "text": "Ours",
          "x": 0.775,
          "xanchor": "center",
          "xref": "paper",
          "y": 1,
          "yanchor": "bottom",
          "yref": "paper"
         },
         {
          "arrowcolor": "blue",
          "arrowhead": 3,
          "arrowwidth": 1.5,
          "ax": 0.8248435258865356,
          "axref": "x",
          "ay": 0.25801488757133484,
          "ayref": "y",
          "showarrow": true,
          "text": "",
          "x": 0.751638650894165,
          "xref": "x",
          "y": 0.16548092663288116,
          "yref": "y"
         },
         {
          "arrowcolor": "blue",
          "arrowhead": 3,
          "arrowwidth": 1.5,
          "ax": 0.751638650894165,
          "axref": "x",
          "ay": 0.16548092663288116,
          "ayref": "y",
          "showarrow": true,
          "text": "",
          "x": 0.7701686024665833,
          "xref": "x",
          "y": 0.09030570089817047,
          "yref": "y"
         },
         {
          "arrowcolor": "blue",
          "arrowhead": 3,
          "arrowwidth": 1.5,
          "ax": 0.7701686024665833,
          "axref": "x",
          "ay": 0.09030570089817047,
          "ayref": "y",
          "showarrow": true,
          "text": "",
          "x": 0.8156681656837463,
          "xref": "x",
          "y": 0.004602246917784214,
          "yref": "y"
         },
         {
          "arrowcolor": "blue",
          "arrowhead": 3,
          "arrowwidth": 1.5,
          "ax": 0.8156681656837463,
          "axref": "x",
          "ay": 0.004602246917784214,
          "ayref": "y",
          "showarrow": true,
          "text": "",
          "x": 0.9036514163017273,
          "xref": "x",
          "y": 0.04337889328598976,
          "yref": "y"
         },
         {
          "arrowcolor": "blue",
          "arrowhead": 3,
          "arrowwidth": 1.5,
          "ax": 0.9036514163017273,
          "axref": "x",
          "ay": 0.04337889328598976,
          "ayref": "y",
          "showarrow": true,
          "text": "",
          "x": 1,
          "xref": "x",
          "y": 0.04835272580385208,
          "yref": "y"
         },
         {
          "arrowcolor": "blue",
          "arrowhead": 3,
          "arrowwidth": 1.5,
          "ax": 1,
          "axref": "x",
          "ay": 0.04835272580385208,
          "ayref": "y",
          "showarrow": true,
          "text": "",
          "x": 0.8933483958244324,
          "xref": "x",
          "y": 0.1828891932964325,
          "yref": "y"
         },
         {
          "arrowcolor": "blue",
          "arrowhead": 3,
          "arrowwidth": 1.5,
          "ax": 0.8933483958244324,
          "axref": "x",
          "ay": 0.1828891932964325,
          "ayref": "y",
          "showarrow": true,
          "text": "",
          "x": 0.8605917096138,
          "xref": "x",
          "y": 0.25501376390457153,
          "yref": "y"
         },
         {
          "arrowcolor": "blue",
          "arrowhead": 3,
          "arrowwidth": 1.5,
          "ax": 0.8605917096138,
          "axref": "x",
          "ay": 0.25501376390457153,
          "ayref": "y",
          "showarrow": true,
          "text": "",
          "x": 0.7074233889579773,
          "xref": "x",
          "y": 0.15243487060070038,
          "yref": "y"
         },
         {
          "arrowcolor": "blue",
          "arrowhead": 3,
          "arrowwidth": 1.5,
          "ax": 0.7074233889579773,
          "axref": "x",
          "ay": 0.15243487060070038,
          "ayref": "y",
          "showarrow": true,
          "text": "",
          "x": 0.6560344696044922,
          "xref": "x",
          "y": 0.2534632980823517,
          "yref": "y"
         },
         {
          "arrowcolor": "blue",
          "arrowhead": 3,
          "arrowwidth": 1.5,
          "ax": 0.6560344696044922,
          "axref": "x",
          "ay": 0.2534632980823517,
          "ayref": "y",
          "showarrow": true,
          "text": "",
          "x": 0.5614741444587708,
          "xref": "x",
          "y": 0.26033851504325867,
          "yref": "y"
         },
         {
          "arrowcolor": "blue",
          "arrowhead": 3,
          "arrowwidth": 1.5,
          "ax": 0.5614741444587708,
          "axref": "x",
          "ay": 0.26033851504325867,
          "ayref": "y",
          "showarrow": true,
          "text": "",
          "x": 0.4409392476081848,
          "xref": "x",
          "y": 0.2719994783401489,
          "yref": "y"
         },
         {
          "arrowcolor": "blue",
          "arrowhead": 3,
          "arrowwidth": 1.5,
          "ax": 0.4409392476081848,
          "axref": "x",
          "ay": 0.2719994783401489,
          "ayref": "y",
          "showarrow": true,
          "text": "",
          "x": 0.4258289039134979,
          "xref": "x",
          "y": 0.21378782391548157,
          "yref": "y"
         },
         {
          "arrowcolor": "blue",
          "arrowhead": 3,
          "arrowwidth": 1.5,
          "ax": 0.4258289039134979,
          "axref": "x",
          "ay": 0.21378782391548157,
          "ayref": "y",
          "showarrow": true,
          "text": "",
          "x": 0.3733980655670166,
          "xref": "x",
          "y": 0.21711941063404083,
          "yref": "y"
         },
         {
          "arrowcolor": "blue",
          "arrowhead": 3,
          "arrowwidth": 1.5,
          "ax": 0.3733980655670166,
          "axref": "x",
          "ay": 0.21711941063404083,
          "ayref": "y",
          "showarrow": true,
          "text": "",
          "x": 0.2397514283657074,
          "xref": "x",
          "y": 0.21506458520889282,
          "yref": "y"
         },
         {
          "arrowcolor": "blue",
          "arrowhead": 3,
          "arrowwidth": 1.5,
          "ax": 0.2397514283657074,
          "axref": "x",
          "ay": 0.21506458520889282,
          "ayref": "y",
          "showarrow": true,
          "text": "",
          "x": 0.12896889448165894,
          "xref": "x",
          "y": 0.11240841448307037,
          "yref": "y"
         },
         {
          "arrowcolor": "blue",
          "arrowhead": 3,
          "arrowwidth": 1.5,
          "ax": 0.12896889448165894,
          "axref": "x",
          "ay": 0.11240841448307037,
          "ayref": "y",
          "showarrow": true,
          "text": "",
          "x": 0.09508859366178513,
          "xref": "x",
          "y": 0.15073280036449432,
          "yref": "y"
         },
         {
          "arrowcolor": "blue",
          "arrowhead": 3,
          "arrowwidth": 1.5,
          "ax": 0.09508859366178513,
          "axref": "x",
          "ay": 0.15073280036449432,
          "ayref": "y",
          "showarrow": true,
          "text": "",
          "x": 0.07774583995342255,
          "xref": "x",
          "y": 0.17064306139945984,
          "yref": "y"
         },
         {
          "arrowcolor": "blue",
          "arrowhead": 3,
          "arrowwidth": 1.5,
          "ax": 0.07774583995342255,
          "axref": "x",
          "ay": 0.17064306139945984,
          "ayref": "y",
          "showarrow": true,
          "text": "",
          "x": 0.149896502494812,
          "xref": "x",
          "y": 0.0496780090034008,
          "yref": "y"
         },
         {
          "arrowcolor": "blue",
          "arrowhead": 3,
          "arrowwidth": 1.5,
          "ax": 0.149896502494812,
          "axref": "x",
          "ay": 0.0496780090034008,
          "ayref": "y",
          "showarrow": true,
          "text": "",
          "x": 0.24294480681419373,
          "xref": "x",
          "y": 0.035628583282232285,
          "yref": "y"
         },
         {
          "arrowcolor": "blue",
          "arrowhead": 3,
          "arrowwidth": 1.5,
          "ax": 0.24294480681419373,
          "axref": "x",
          "ay": 0.035628583282232285,
          "ayref": "y",
          "showarrow": true,
          "text": "",
          "x": 0.4282163679599762,
          "xref": "x",
          "y": 0.02102680504322052,
          "yref": "y"
         },
         {
          "arrowcolor": "blue",
          "arrowhead": 3,
          "arrowwidth": 1.5,
          "ax": 0.4282163679599762,
          "axref": "x",
          "ay": 0.02102680504322052,
          "ayref": "y",
          "showarrow": true,
          "text": "",
          "x": 0.4268206059932709,
          "xref": "x",
          "y": 0.03210989385843277,
          "yref": "y"
         },
         {
          "arrowcolor": "blue",
          "arrowhead": 3,
          "arrowwidth": 1.5,
          "ax": 0.4268206059932709,
          "axref": "x",
          "ay": 0.03210989385843277,
          "ayref": "y",
          "showarrow": true,
          "text": "",
          "x": 0.4865492582321167,
          "xref": "x",
          "y": 0.15846644341945648,
          "yref": "y"
         },
         {
          "arrowcolor": "blue",
          "arrowhead": 3,
          "arrowwidth": 1.5,
          "ax": 0.4865492582321167,
          "axref": "x",
          "ay": 0.15846644341945648,
          "ayref": "y",
          "showarrow": true,
          "text": "",
          "x": 0.28763338923454285,
          "xref": "x",
          "y": 0.3757268786430359,
          "yref": "y"
         },
         {
          "arrowcolor": "blue",
          "arrowhead": 3,
          "arrowwidth": 1.5,
          "ax": 0.28763338923454285,
          "axref": "x",
          "ay": 0.3757268786430359,
          "ayref": "y",
          "showarrow": true,
          "text": "",
          "x": 0.3075615465641022,
          "xref": "x",
          "y": 0.528937816619873,
          "yref": "y"
         },
         {
          "arrowcolor": "blue",
          "arrowhead": 3,
          "arrowwidth": 1.5,
          "ax": 0.3075615465641022,
          "axref": "x",
          "ay": 0.528937816619873,
          "ayref": "y",
          "showarrow": true,
          "text": "",
          "x": 0.33060306310653687,
          "xref": "x",
          "y": 0.6685158610343933,
          "yref": "y"
         },
         {
          "arrowcolor": "blue",
          "arrowhead": 3,
          "arrowwidth": 1.5,
          "ax": 0.33060306310653687,
          "axref": "x",
          "ay": 0.6685158610343933,
          "ayref": "y",
          "showarrow": true,
          "text": "",
          "x": 0.43903282284736633,
          "xref": "x",
          "y": 0.6989254951477051,
          "yref": "y"
         },
         {
          "arrowcolor": "blue",
          "arrowhead": 3,
          "arrowwidth": 1.5,
          "ax": 0.43903282284736633,
          "axref": "x",
          "ay": 0.6989254951477051,
          "ayref": "y",
          "showarrow": true,
          "text": "",
          "x": 0.4082850515842438,
          "xref": "x",
          "y": 0.7655107975006104,
          "yref": "y"
         },
         {
          "arrowcolor": "blue",
          "arrowhead": 3,
          "arrowwidth": 1.5,
          "ax": 0.4082850515842438,
          "axref": "x",
          "ay": 0.7655107975006104,
          "ayref": "y",
          "showarrow": true,
          "text": "",
          "x": 0.46587425470352173,
          "xref": "x",
          "y": 0.7757897973060608,
          "yref": "y"
         },
         {
          "arrowcolor": "blue",
          "arrowhead": 3,
          "arrowwidth": 1.5,
          "ax": 0.46587425470352173,
          "axref": "x",
          "ay": 0.7757897973060608,
          "ayref": "y",
          "showarrow": true,
          "text": "",
          "x": 0.4594425857067108,
          "xref": "x",
          "y": 0.8416507244110107,
          "yref": "y"
         },
         {
          "arrowcolor": "blue",
          "arrowhead": 3,
          "arrowwidth": 1.5,
          "ax": 0.4594425857067108,
          "axref": "x",
          "ay": 0.8416507244110107,
          "ayref": "y",
          "showarrow": true,
          "text": "",
          "x": 0.4356343448162079,
          "xref": "x",
          "y": 0.9117158651351929,
          "yref": "y"
         },
         {
          "arrowcolor": "blue",
          "arrowhead": 3,
          "arrowwidth": 1.5,
          "ax": 0.4356343448162079,
          "axref": "x",
          "ay": 0.9117158651351929,
          "ayref": "y",
          "showarrow": true,
          "text": "",
          "x": 0.2812879979610443,
          "xref": "x",
          "y": 0.7458282113075256,
          "yref": "y"
         },
         {
          "arrowcolor": "blue",
          "arrowhead": 3,
          "arrowwidth": 1.5,
          "ax": 0.2812879979610443,
          "axref": "x",
          "ay": 0.7458282113075256,
          "ayref": "y",
          "showarrow": true,
          "text": "",
          "x": 0.49566414952278137,
          "xref": "x",
          "y": 0.48638996481895447,
          "yref": "y"
         },
         {
          "arrowcolor": "blue",
          "arrowhead": 3,
          "arrowwidth": 1.5,
          "ax": 0.49566414952278137,
          "axref": "x",
          "ay": 0.48638996481895447,
          "ayref": "y",
          "showarrow": true,
          "text": "",
          "x": 0.17429398000240326,
          "xref": "x",
          "y": 0.3843812942504883,
          "yref": "y"
         },
         {
          "arrowcolor": "blue",
          "arrowhead": 3,
          "arrowwidth": 1.5,
          "ax": 0.17429398000240326,
          "axref": "x",
          "ay": 0.3843812942504883,
          "ayref": "y",
          "showarrow": true,
          "text": "",
          "x": 0.10117334872484207,
          "xref": "x",
          "y": 0.3498007655143738,
          "yref": "y"
         },
         {
          "arrowcolor": "blue",
          "arrowhead": 3,
          "arrowwidth": 1.5,
          "ax": 0.10117334872484207,
          "axref": "x",
          "ay": 0.3498007655143738,
          "ayref": "y",
          "showarrow": true,
          "text": "",
          "x": 0.0075156670063734055,
          "xref": "x",
          "y": 0.4135265052318573,
          "yref": "y"
         },
         {
          "arrowcolor": "blue",
          "arrowhead": 3,
          "arrowwidth": 1.5,
          "ax": 0.0075156670063734055,
          "axref": "x",
          "ay": 0.4135265052318573,
          "ayref": "y",
          "showarrow": true,
          "text": "",
          "x": 0.01666923239827156,
          "xref": "x",
          "y": 0.6114484667778015,
          "yref": "y"
         },
         {
          "arrowcolor": "blue",
          "arrowhead": 3,
          "arrowwidth": 1.5,
          "ax": 0.01666923239827156,
          "axref": "x",
          "ay": 0.6114484667778015,
          "ayref": "y",
          "showarrow": true,
          "text": "",
          "x": 0.004389211069792509,
          "xref": "x",
          "y": 0.7334231734275818,
          "yref": "y"
         },
         {
          "arrowcolor": "blue",
          "arrowhead": 3,
          "arrowwidth": 1.5,
          "ax": 0.004389211069792509,
          "axref": "x",
          "ay": 0.7334231734275818,
          "ayref": "y",
          "showarrow": true,
          "text": "",
          "x": 0.14333538711071014,
          "xref": "x",
          "y": 0.9178341031074524,
          "yref": "y"
         },
         {
          "arrowcolor": "blue",
          "arrowhead": 3,
          "arrowwidth": 1.5,
          "ax": 0.14333538711071014,
          "axref": "x",
          "ay": 0.9178341031074524,
          "ayref": "y",
          "showarrow": true,
          "text": "",
          "x": 0.22391949594020844,
          "xref": "x",
          "y": 0.9932423233985901,
          "yref": "y"
         },
         {
          "arrowcolor": "blue",
          "arrowhead": 3,
          "arrowwidth": 1.5,
          "ax": 0.22391949594020844,
          "axref": "x",
          "ay": 0.9932423233985901,
          "ayref": "y",
          "showarrow": true,
          "text": "",
          "x": 0.3257726728916168,
          "xref": "x",
          "y": 0.8966559767723083,
          "yref": "y"
         },
         {
          "arrowcolor": "blue",
          "arrowhead": 3,
          "arrowwidth": 1.5,
          "ax": 0.3257726728916168,
          "axref": "x",
          "ay": 0.8966559767723083,
          "ayref": "y",
          "showarrow": true,
          "text": "",
          "x": 0.5811066627502441,
          "xref": "x",
          "y": 0.9868266582489014,
          "yref": "y"
         },
         {
          "arrowcolor": "blue",
          "arrowhead": 3,
          "arrowwidth": 1.5,
          "ax": 0.5811066627502441,
          "axref": "x",
          "ay": 0.9868266582489014,
          "ayref": "y",
          "showarrow": true,
          "text": "",
          "x": 0.6579375267028809,
          "xref": "x",
          "y": 0.8767291903495789,
          "yref": "y"
         },
         {
          "arrowcolor": "blue",
          "arrowhead": 3,
          "arrowwidth": 1.5,
          "ax": 0.6579375267028809,
          "axref": "x",
          "ay": 0.8767291903495789,
          "ayref": "y",
          "showarrow": true,
          "text": "",
          "x": 0.8649395108222961,
          "xref": "x",
          "y": 0.9311437606811523,
          "yref": "y"
         },
         {
          "arrowcolor": "blue",
          "arrowhead": 3,
          "arrowwidth": 1.5,
          "ax": 0.8649395108222961,
          "axref": "x",
          "ay": 0.9311437606811523,
          "ayref": "y",
          "showarrow": true,
          "text": "",
          "x": 0.7178653478622437,
          "xref": "x",
          "y": 1,
          "yref": "y"
         },
         {
          "arrowcolor": "blue",
          "arrowhead": 3,
          "arrowwidth": 1.5,
          "ax": 0.7178653478622437,
          "axref": "x",
          "ay": 1,
          "ayref": "y",
          "showarrow": true,
          "text": "",
          "x": 0.7562403678894043,
          "xref": "x",
          "y": 0.8044914603233337,
          "yref": "y"
         },
         {
          "arrowcolor": "blue",
          "arrowhead": 3,
          "arrowwidth": 1.5,
          "ax": 0.7562403678894043,
          "axref": "x",
          "ay": 0.8044914603233337,
          "ayref": "y",
          "showarrow": true,
          "text": "",
          "x": 0.8545231223106384,
          "xref": "x",
          "y": 0.730236291885376,
          "yref": "y"
         },
         {
          "arrowcolor": "blue",
          "arrowhead": 3,
          "arrowwidth": 1.5,
          "ax": 0.8545231223106384,
          "axref": "x",
          "ay": 0.730236291885376,
          "ayref": "y",
          "showarrow": true,
          "text": "",
          "x": 0.7454366683959961,
          "xref": "x",
          "y": 0.6532376408576965,
          "yref": "y"
         },
         {
          "arrowcolor": "blue",
          "arrowhead": 3,
          "arrowwidth": 1.5,
          "ax": 0.7454366683959961,
          "axref": "x",
          "ay": 0.6532376408576965,
          "ayref": "y",
          "showarrow": true,
          "text": "",
          "x": 0.7918111085891724,
          "xref": "x",
          "y": 0.6004198789596558,
          "yref": "y"
         },
         {
          "arrowcolor": "blue",
          "arrowhead": 3,
          "arrowwidth": 1.5,
          "ax": 0.7918111085891724,
          "axref": "x",
          "ay": 0.6004198789596558,
          "ayref": "y",
          "showarrow": true,
          "text": "",
          "x": 0.9078969955444336,
          "xref": "x",
          "y": 0.42248815298080444,
          "yref": "y"
         },
         {
          "arrowcolor": "blue",
          "arrowhead": 3,
          "arrowwidth": 1.5,
          "ax": 0.9078969955444336,
          "axref": "x",
          "ay": 0.42248815298080444,
          "ayref": "y",
          "showarrow": true,
          "text": "",
          "x": 0.8248435258865356,
          "xref": "x",
          "y": 0.25801488757133484,
          "yref": "y"
         },
         {
          "arrowcolor": "green",
          "arrowhead": 3,
          "arrowwidth": 1.5,
          "ax": 0.5614741444587708,
          "axref": "x2",
          "ay": 0.26033851504325867,
          "ayref": "y2",
          "showarrow": true,
          "text": "",
          "x": 0.6560344696044922,
          "xref": "x2",
          "y": 0.2534632980823517,
          "yref": "y2"
         },
         {
          "arrowcolor": "green",
          "arrowhead": 3,
          "arrowwidth": 1.5,
          "ax": 0.6560344696044922,
          "axref": "x2",
          "ay": 0.2534632980823517,
          "ayref": "y2",
          "showarrow": true,
          "text": "",
          "x": 0.7074233889579773,
          "xref": "x2",
          "y": 0.15243487060070038,
          "yref": "y2"
         },
         {
          "arrowcolor": "green",
          "arrowhead": 3,
          "arrowwidth": 1.5,
          "ax": 0.7074233889579773,
          "axref": "x2",
          "ay": 0.15243487060070038,
          "ayref": "y2",
          "showarrow": true,
          "text": "",
          "x": 0.751638650894165,
          "xref": "x2",
          "y": 0.16548092663288116,
          "yref": "y2"
         },
         {
          "arrowcolor": "green",
          "arrowhead": 3,
          "arrowwidth": 1.5,
          "ax": 0.751638650894165,
          "axref": "x2",
          "ay": 0.16548092663288116,
          "ayref": "y2",
          "showarrow": true,
          "text": "",
          "x": 0.7701686024665833,
          "xref": "x2",
          "y": 0.09030570089817047,
          "yref": "y2"
         },
         {
          "arrowcolor": "green",
          "arrowhead": 3,
          "arrowwidth": 1.5,
          "ax": 0.7701686024665833,
          "axref": "x2",
          "ay": 0.09030570089817047,
          "ayref": "y2",
          "showarrow": true,
          "text": "",
          "x": 0.8156681656837463,
          "xref": "x2",
          "y": 0.004602246917784214,
          "yref": "y2"
         },
         {
          "arrowcolor": "green",
          "arrowhead": 3,
          "arrowwidth": 1.5,
          "ax": 0.8156681656837463,
          "axref": "x2",
          "ay": 0.004602246917784214,
          "ayref": "y2",
          "showarrow": true,
          "text": "",
          "x": 0.9036514163017273,
          "xref": "x2",
          "y": 0.04337889328598976,
          "yref": "y2"
         },
         {
          "arrowcolor": "green",
          "arrowhead": 3,
          "arrowwidth": 1.5,
          "ax": 0.9036514163017273,
          "axref": "x2",
          "ay": 0.04337889328598976,
          "ayref": "y2",
          "showarrow": true,
          "text": "",
          "x": 1,
          "xref": "x2",
          "y": 0.04835272580385208,
          "yref": "y2"
         },
         {
          "arrowcolor": "green",
          "arrowhead": 3,
          "arrowwidth": 1.5,
          "ax": 1,
          "axref": "x2",
          "ay": 0.04835272580385208,
          "ayref": "y2",
          "showarrow": true,
          "text": "",
          "x": 0.8933483958244324,
          "xref": "x2",
          "y": 0.1828891932964325,
          "yref": "y2"
         },
         {
          "arrowcolor": "green",
          "arrowhead": 3,
          "arrowwidth": 1.5,
          "ax": 0.8933483958244324,
          "axref": "x2",
          "ay": 0.1828891932964325,
          "ayref": "y2",
          "showarrow": true,
          "text": "",
          "x": 0.8248435258865356,
          "xref": "x2",
          "y": 0.25801488757133484,
          "yref": "y2"
         },
         {
          "arrowcolor": "green",
          "arrowhead": 3,
          "arrowwidth": 1.5,
          "ax": 0.8248435258865356,
          "axref": "x2",
          "ay": 0.25801488757133484,
          "ayref": "y2",
          "showarrow": true,
          "text": "",
          "x": 0.8605917096138,
          "xref": "x2",
          "y": 0.25501376390457153,
          "yref": "y2"
         },
         {
          "arrowcolor": "green",
          "arrowhead": 3,
          "arrowwidth": 1.5,
          "ax": 0.8605917096138,
          "axref": "x2",
          "ay": 0.25501376390457153,
          "ayref": "y2",
          "showarrow": true,
          "text": "",
          "x": 0.9078969955444336,
          "xref": "x2",
          "y": 0.42248815298080444,
          "yref": "y2"
         },
         {
          "arrowcolor": "green",
          "arrowhead": 3,
          "arrowwidth": 1.5,
          "ax": 0.9078969955444336,
          "axref": "x2",
          "ay": 0.42248815298080444,
          "ayref": "y2",
          "showarrow": true,
          "text": "",
          "x": 0.7918111085891724,
          "xref": "x2",
          "y": 0.6004198789596558,
          "yref": "y2"
         },
         {
          "arrowcolor": "green",
          "arrowhead": 3,
          "arrowwidth": 1.5,
          "ax": 0.7918111085891724,
          "axref": "x2",
          "ay": 0.6004198789596558,
          "ayref": "y2",
          "showarrow": true,
          "text": "",
          "x": 0.7454366683959961,
          "xref": "x2",
          "y": 0.6532376408576965,
          "yref": "y2"
         },
         {
          "arrowcolor": "green",
          "arrowhead": 3,
          "arrowwidth": 1.5,
          "ax": 0.7454366683959961,
          "axref": "x2",
          "ay": 0.6532376408576965,
          "ayref": "y2",
          "showarrow": true,
          "text": "",
          "x": 0.8545231223106384,
          "xref": "x2",
          "y": 0.730236291885376,
          "yref": "y2"
         },
         {
          "arrowcolor": "green",
          "arrowhead": 3,
          "arrowwidth": 1.5,
          "ax": 0.8545231223106384,
          "axref": "x2",
          "ay": 0.730236291885376,
          "ayref": "y2",
          "showarrow": true,
          "text": "",
          "x": 0.7562403678894043,
          "xref": "x2",
          "y": 0.8044914603233337,
          "yref": "y2"
         },
         {
          "arrowcolor": "green",
          "arrowhead": 3,
          "arrowwidth": 1.5,
          "ax": 0.7562403678894043,
          "axref": "x2",
          "ay": 0.8044914603233337,
          "ayref": "y2",
          "showarrow": true,
          "text": "",
          "x": 0.8649395108222961,
          "xref": "x2",
          "y": 0.9311437606811523,
          "yref": "y2"
         },
         {
          "arrowcolor": "green",
          "arrowhead": 3,
          "arrowwidth": 1.5,
          "ax": 0.8649395108222961,
          "axref": "x2",
          "ay": 0.9311437606811523,
          "ayref": "y2",
          "showarrow": true,
          "text": "",
          "x": 0.7178653478622437,
          "xref": "x2",
          "y": 1,
          "yref": "y2"
         },
         {
          "arrowcolor": "green",
          "arrowhead": 3,
          "arrowwidth": 1.5,
          "ax": 0.7178653478622437,
          "axref": "x2",
          "ay": 1,
          "ayref": "y2",
          "showarrow": true,
          "text": "",
          "x": 0.6579375267028809,
          "xref": "x2",
          "y": 0.8767291903495789,
          "yref": "y2"
         },
         {
          "arrowcolor": "green",
          "arrowhead": 3,
          "arrowwidth": 1.5,
          "ax": 0.6579375267028809,
          "axref": "x2",
          "ay": 0.8767291903495789,
          "ayref": "y2",
          "showarrow": true,
          "text": "",
          "x": 0.5811066627502441,
          "xref": "x2",
          "y": 0.9868266582489014,
          "yref": "y2"
         },
         {
          "arrowcolor": "green",
          "arrowhead": 3,
          "arrowwidth": 1.5,
          "ax": 0.5811066627502441,
          "axref": "x2",
          "ay": 0.9868266582489014,
          "ayref": "y2",
          "showarrow": true,
          "text": "",
          "x": 0.4356343448162079,
          "xref": "x2",
          "y": 0.9117158651351929,
          "yref": "y2"
         },
         {
          "arrowcolor": "green",
          "arrowhead": 3,
          "arrowwidth": 1.5,
          "ax": 0.4356343448162079,
          "axref": "x2",
          "ay": 0.9117158651351929,
          "ayref": "y2",
          "showarrow": true,
          "text": "",
          "x": 0.3257726728916168,
          "xref": "x2",
          "y": 0.8966559767723083,
          "yref": "y2"
         },
         {
          "arrowcolor": "green",
          "arrowhead": 3,
          "arrowwidth": 1.5,
          "ax": 0.3257726728916168,
          "axref": "x2",
          "ay": 0.8966559767723083,
          "ayref": "y2",
          "showarrow": true,
          "text": "",
          "x": 0.22391949594020844,
          "xref": "x2",
          "y": 0.9932423233985901,
          "yref": "y2"
         },
         {
          "arrowcolor": "green",
          "arrowhead": 3,
          "arrowwidth": 1.5,
          "ax": 0.22391949594020844,
          "axref": "x2",
          "ay": 0.9932423233985901,
          "ayref": "y2",
          "showarrow": true,
          "text": "",
          "x": 0.14333538711071014,
          "xref": "x2",
          "y": 0.9178341031074524,
          "yref": "y2"
         },
         {
          "arrowcolor": "green",
          "arrowhead": 3,
          "arrowwidth": 1.5,
          "ax": 0.14333538711071014,
          "axref": "x2",
          "ay": 0.9178341031074524,
          "ayref": "y2",
          "showarrow": true,
          "text": "",
          "x": 0.004389211069792509,
          "xref": "x2",
          "y": 0.7334231734275818,
          "yref": "y2"
         },
         {
          "arrowcolor": "green",
          "arrowhead": 3,
          "arrowwidth": 1.5,
          "ax": 0.004389211069792509,
          "axref": "x2",
          "ay": 0.7334231734275818,
          "ayref": "y2",
          "showarrow": true,
          "text": "",
          "x": 0.01666923239827156,
          "xref": "x2",
          "y": 0.6114484667778015,
          "yref": "y2"
         },
         {
          "arrowcolor": "green",
          "arrowhead": 3,
          "arrowwidth": 1.5,
          "ax": 0.01666923239827156,
          "axref": "x2",
          "ay": 0.6114484667778015,
          "ayref": "y2",
          "showarrow": true,
          "text": "",
          "x": 0.0075156670063734055,
          "xref": "x2",
          "y": 0.4135265052318573,
          "yref": "y2"
         },
         {
          "arrowcolor": "green",
          "arrowhead": 3,
          "arrowwidth": 1.5,
          "ax": 0.0075156670063734055,
          "axref": "x2",
          "ay": 0.4135265052318573,
          "ayref": "y2",
          "showarrow": true,
          "text": "",
          "x": 0.10117334872484207,
          "xref": "x2",
          "y": 0.3498007655143738,
          "yref": "y2"
         },
         {
          "arrowcolor": "green",
          "arrowhead": 3,
          "arrowwidth": 1.5,
          "ax": 0.10117334872484207,
          "axref": "x2",
          "ay": 0.3498007655143738,
          "ayref": "y2",
          "showarrow": true,
          "text": "",
          "x": 0.07774583995342255,
          "xref": "x2",
          "y": 0.17064306139945984,
          "yref": "y2"
         },
         {
          "arrowcolor": "green",
          "arrowhead": 3,
          "arrowwidth": 1.5,
          "ax": 0.07774583995342255,
          "axref": "x2",
          "ay": 0.17064306139945984,
          "ayref": "y2",
          "showarrow": true,
          "text": "",
          "x": 0.09508859366178513,
          "xref": "x2",
          "y": 0.15073280036449432,
          "yref": "y2"
         },
         {
          "arrowcolor": "green",
          "arrowhead": 3,
          "arrowwidth": 1.5,
          "ax": 0.09508859366178513,
          "axref": "x2",
          "ay": 0.15073280036449432,
          "ayref": "y2",
          "showarrow": true,
          "text": "",
          "x": 0.12896889448165894,
          "xref": "x2",
          "y": 0.11240841448307037,
          "yref": "y2"
         },
         {
          "arrowcolor": "green",
          "arrowhead": 3,
          "arrowwidth": 1.5,
          "ax": 0.12896889448165894,
          "axref": "x2",
          "ay": 0.11240841448307037,
          "ayref": "y2",
          "showarrow": true,
          "text": "",
          "x": 0.149896502494812,
          "xref": "x2",
          "y": 0.0496780090034008,
          "yref": "y2"
         },
         {
          "arrowcolor": "green",
          "arrowhead": 3,
          "arrowwidth": 1.5,
          "ax": 0.149896502494812,
          "axref": "x2",
          "ay": 0.0496780090034008,
          "ayref": "y2",
          "showarrow": true,
          "text": "",
          "x": 0.24294480681419373,
          "xref": "x2",
          "y": 0.035628583282232285,
          "yref": "y2"
         },
         {
          "arrowcolor": "green",
          "arrowhead": 3,
          "arrowwidth": 1.5,
          "ax": 0.24294480681419373,
          "axref": "x2",
          "ay": 0.035628583282232285,
          "ayref": "y2",
          "showarrow": true,
          "text": "",
          "x": 0.2397514283657074,
          "xref": "x2",
          "y": 0.21506458520889282,
          "yref": "y2"
         },
         {
          "arrowcolor": "green",
          "arrowhead": 3,
          "arrowwidth": 1.5,
          "ax": 0.2397514283657074,
          "axref": "x2",
          "ay": 0.21506458520889282,
          "ayref": "y2",
          "showarrow": true,
          "text": "",
          "x": 0.28763338923454285,
          "xref": "x2",
          "y": 0.3757268786430359,
          "yref": "y2"
         },
         {
          "arrowcolor": "green",
          "arrowhead": 3,
          "arrowwidth": 1.5,
          "ax": 0.28763338923454285,
          "axref": "x2",
          "ay": 0.3757268786430359,
          "ayref": "y2",
          "showarrow": true,
          "text": "",
          "x": 0.17429398000240326,
          "xref": "x2",
          "y": 0.3843812942504883,
          "yref": "y2"
         },
         {
          "arrowcolor": "green",
          "arrowhead": 3,
          "arrowwidth": 1.5,
          "ax": 0.17429398000240326,
          "axref": "x2",
          "ay": 0.3843812942504883,
          "ayref": "y2",
          "showarrow": true,
          "text": "",
          "x": 0.3075615465641022,
          "xref": "x2",
          "y": 0.528937816619873,
          "yref": "y2"
         },
         {
          "arrowcolor": "green",
          "arrowhead": 3,
          "arrowwidth": 1.5,
          "ax": 0.3075615465641022,
          "axref": "x2",
          "ay": 0.528937816619873,
          "ayref": "y2",
          "showarrow": true,
          "text": "",
          "x": 0.33060306310653687,
          "xref": "x2",
          "y": 0.6685158610343933,
          "yref": "y2"
         },
         {
          "arrowcolor": "green",
          "arrowhead": 3,
          "arrowwidth": 1.5,
          "ax": 0.33060306310653687,
          "axref": "x2",
          "ay": 0.6685158610343933,
          "ayref": "y2",
          "showarrow": true,
          "text": "",
          "x": 0.2812879979610443,
          "xref": "x2",
          "y": 0.7458282113075256,
          "yref": "y2"
         },
         {
          "arrowcolor": "green",
          "arrowhead": 3,
          "arrowwidth": 1.5,
          "ax": 0.2812879979610443,
          "axref": "x2",
          "ay": 0.7458282113075256,
          "ayref": "y2",
          "showarrow": true,
          "text": "",
          "x": 0.4082850515842438,
          "xref": "x2",
          "y": 0.7655107975006104,
          "yref": "y2"
         },
         {
          "arrowcolor": "green",
          "arrowhead": 3,
          "arrowwidth": 1.5,
          "ax": 0.4082850515842438,
          "axref": "x2",
          "ay": 0.7655107975006104,
          "ayref": "y2",
          "showarrow": true,
          "text": "",
          "x": 0.4594425857067108,
          "xref": "x2",
          "y": 0.8416507244110107,
          "yref": "y2"
         },
         {
          "arrowcolor": "green",
          "arrowhead": 3,
          "arrowwidth": 1.5,
          "ax": 0.4594425857067108,
          "axref": "x2",
          "ay": 0.8416507244110107,
          "ayref": "y2",
          "showarrow": true,
          "text": "",
          "x": 0.43903282284736633,
          "xref": "x2",
          "y": 0.6989254951477051,
          "yref": "y2"
         },
         {
          "arrowcolor": "green",
          "arrowhead": 3,
          "arrowwidth": 1.5,
          "ax": 0.43903282284736633,
          "axref": "x2",
          "ay": 0.6989254951477051,
          "ayref": "y2",
          "showarrow": true,
          "text": "",
          "x": 0.46587425470352173,
          "xref": "x2",
          "y": 0.7757897973060608,
          "yref": "y2"
         },
         {
          "arrowcolor": "green",
          "arrowhead": 3,
          "arrowwidth": 1.5,
          "ax": 0.46587425470352173,
          "axref": "x2",
          "ay": 0.7757897973060608,
          "ayref": "y2",
          "showarrow": true,
          "text": "",
          "x": 0.49566414952278137,
          "xref": "x2",
          "y": 0.48638996481895447,
          "yref": "y2"
         },
         {
          "arrowcolor": "green",
          "arrowhead": 3,
          "arrowwidth": 1.5,
          "ax": 0.49566414952278137,
          "axref": "x2",
          "ay": 0.48638996481895447,
          "ayref": "y2",
          "showarrow": true,
          "text": "",
          "x": 0.4409392476081848,
          "xref": "x2",
          "y": 0.2719994783401489,
          "yref": "y2"
         },
         {
          "arrowcolor": "green",
          "arrowhead": 3,
          "arrowwidth": 1.5,
          "ax": 0.4409392476081848,
          "axref": "x2",
          "ay": 0.2719994783401489,
          "ayref": "y2",
          "showarrow": true,
          "text": "",
          "x": 0.4258289039134979,
          "xref": "x2",
          "y": 0.21378782391548157,
          "yref": "y2"
         },
         {
          "arrowcolor": "green",
          "arrowhead": 3,
          "arrowwidth": 1.5,
          "ax": 0.4258289039134979,
          "axref": "x2",
          "ay": 0.21378782391548157,
          "ayref": "y2",
          "showarrow": true,
          "text": "",
          "x": 0.3733980655670166,
          "xref": "x2",
          "y": 0.21711941063404083,
          "yref": "y2"
         },
         {
          "arrowcolor": "green",
          "arrowhead": 3,
          "arrowwidth": 1.5,
          "ax": 0.3733980655670166,
          "axref": "x2",
          "ay": 0.21711941063404083,
          "ayref": "y2",
          "showarrow": true,
          "text": "",
          "x": 0.4268206059932709,
          "xref": "x2",
          "y": 0.03210989385843277,
          "yref": "y2"
         },
         {
          "arrowcolor": "green",
          "arrowhead": 3,
          "arrowwidth": 1.5,
          "ax": 0.4268206059932709,
          "axref": "x2",
          "ay": 0.03210989385843277,
          "ayref": "y2",
          "showarrow": true,
          "text": "",
          "x": 0.4282163679599762,
          "xref": "x2",
          "y": 0.02102680504322052,
          "yref": "y2"
         },
         {
          "arrowcolor": "green",
          "arrowhead": 3,
          "arrowwidth": 1.5,
          "ax": 0.4282163679599762,
          "axref": "x2",
          "ay": 0.02102680504322052,
          "ayref": "y2",
          "showarrow": true,
          "text": "",
          "x": 0.4865492582321167,
          "xref": "x2",
          "y": 0.15846644341945648,
          "yref": "y2"
         },
         {
          "arrowcolor": "green",
          "arrowhead": 3,
          "arrowwidth": 1.5,
          "ax": 0.4865492582321167,
          "axref": "x2",
          "ay": 0.15846644341945648,
          "ayref": "y2",
          "showarrow": true,
          "text": "",
          "x": 0.5614741444587708,
          "xref": "x2",
          "y": 0.26033851504325867,
          "yref": "y2"
         }
        ],
        "showlegend": false,
        "template": {
         "data": {
          "bar": [
           {
            "error_x": {
             "color": "#2a3f5f"
            },
            "error_y": {
             "color": "#2a3f5f"
            },
            "marker": {
             "line": {
              "color": "#E5ECF6",
              "width": 0.5
             },
             "pattern": {
              "fillmode": "overlay",
              "size": 10,
              "solidity": 0.2
             }
            },
            "type": "bar"
           }
          ],
          "barpolar": [
           {
            "marker": {
             "line": {
              "color": "#E5ECF6",
              "width": 0.5
             },
             "pattern": {
              "fillmode": "overlay",
              "size": 10,
              "solidity": 0.2
             }
            },
            "type": "barpolar"
           }
          ],
          "carpet": [
           {
            "aaxis": {
             "endlinecolor": "#2a3f5f",
             "gridcolor": "white",
             "linecolor": "white",
             "minorgridcolor": "white",
             "startlinecolor": "#2a3f5f"
            },
            "baxis": {
             "endlinecolor": "#2a3f5f",
             "gridcolor": "white",
             "linecolor": "white",
             "minorgridcolor": "white",
             "startlinecolor": "#2a3f5f"
            },
            "type": "carpet"
           }
          ],
          "choropleth": [
           {
            "colorbar": {
             "outlinewidth": 0,
             "ticks": ""
            },
            "type": "choropleth"
           }
          ],
          "contour": [
           {
            "colorbar": {
             "outlinewidth": 0,
             "ticks": ""
            },
            "colorscale": [
             [
              0,
              "#0d0887"
             ],
             [
              0.1111111111111111,
              "#46039f"
             ],
             [
              0.2222222222222222,
              "#7201a8"
             ],
             [
              0.3333333333333333,
              "#9c179e"
             ],
             [
              0.4444444444444444,
              "#bd3786"
             ],
             [
              0.5555555555555556,
              "#d8576b"
             ],
             [
              0.6666666666666666,
              "#ed7953"
             ],
             [
              0.7777777777777778,
              "#fb9f3a"
             ],
             [
              0.8888888888888888,
              "#fdca26"
             ],
             [
              1,
              "#f0f921"
             ]
            ],
            "type": "contour"
           }
          ],
          "contourcarpet": [
           {
            "colorbar": {
             "outlinewidth": 0,
             "ticks": ""
            },
            "type": "contourcarpet"
           }
          ],
          "heatmap": [
           {
            "colorbar": {
             "outlinewidth": 0,
             "ticks": ""
            },
            "colorscale": [
             [
              0,
              "#0d0887"
             ],
             [
              0.1111111111111111,
              "#46039f"
             ],
             [
              0.2222222222222222,
              "#7201a8"
             ],
             [
              0.3333333333333333,
              "#9c179e"
             ],
             [
              0.4444444444444444,
              "#bd3786"
             ],
             [
              0.5555555555555556,
              "#d8576b"
             ],
             [
              0.6666666666666666,
              "#ed7953"
             ],
             [
              0.7777777777777778,
              "#fb9f3a"
             ],
             [
              0.8888888888888888,
              "#fdca26"
             ],
             [
              1,
              "#f0f921"
             ]
            ],
            "type": "heatmap"
           }
          ],
          "heatmapgl": [
           {
            "colorbar": {
             "outlinewidth": 0,
             "ticks": ""
            },
            "colorscale": [
             [
              0,
              "#0d0887"
             ],
             [
              0.1111111111111111,
              "#46039f"
             ],
             [
              0.2222222222222222,
              "#7201a8"
             ],
             [
              0.3333333333333333,
              "#9c179e"
             ],
             [
              0.4444444444444444,
              "#bd3786"
             ],
             [
              0.5555555555555556,
              "#d8576b"
             ],
             [
              0.6666666666666666,
              "#ed7953"
             ],
             [
              0.7777777777777778,
              "#fb9f3a"
             ],
             [
              0.8888888888888888,
              "#fdca26"
             ],
             [
              1,
              "#f0f921"
             ]
            ],
            "type": "heatmapgl"
           }
          ],
          "histogram": [
           {
            "marker": {
             "pattern": {
              "fillmode": "overlay",
              "size": 10,
              "solidity": 0.2
             }
            },
            "type": "histogram"
           }
          ],
          "histogram2d": [
           {
            "colorbar": {
             "outlinewidth": 0,
             "ticks": ""
            },
            "colorscale": [
             [
              0,
              "#0d0887"
             ],
             [
              0.1111111111111111,
              "#46039f"
             ],
             [
              0.2222222222222222,
              "#7201a8"
             ],
             [
              0.3333333333333333,
              "#9c179e"
             ],
             [
              0.4444444444444444,
              "#bd3786"
             ],
             [
              0.5555555555555556,
              "#d8576b"
             ],
             [
              0.6666666666666666,
              "#ed7953"
             ],
             [
              0.7777777777777778,
              "#fb9f3a"
             ],
             [
              0.8888888888888888,
              "#fdca26"
             ],
             [
              1,
              "#f0f921"
             ]
            ],
            "type": "histogram2d"
           }
          ],
          "histogram2dcontour": [
           {
            "colorbar": {
             "outlinewidth": 0,
             "ticks": ""
            },
            "colorscale": [
             [
              0,
              "#0d0887"
             ],
             [
              0.1111111111111111,
              "#46039f"
             ],
             [
              0.2222222222222222,
              "#7201a8"
             ],
             [
              0.3333333333333333,
              "#9c179e"
             ],
             [
              0.4444444444444444,
              "#bd3786"
             ],
             [
              0.5555555555555556,
              "#d8576b"
             ],
             [
              0.6666666666666666,
              "#ed7953"
             ],
             [
              0.7777777777777778,
              "#fb9f3a"
             ],
             [
              0.8888888888888888,
              "#fdca26"
             ],
             [
              1,
              "#f0f921"
             ]
            ],
            "type": "histogram2dcontour"
           }
          ],
          "mesh3d": [
           {
            "colorbar": {
             "outlinewidth": 0,
             "ticks": ""
            },
            "type": "mesh3d"
           }
          ],
          "parcoords": [
           {
            "line": {
             "colorbar": {
              "outlinewidth": 0,
              "ticks": ""
             }
            },
            "type": "parcoords"
           }
          ],
          "pie": [
           {
            "automargin": true,
            "type": "pie"
           }
          ],
          "scatter": [
           {
            "fillpattern": {
             "fillmode": "overlay",
             "size": 10,
             "solidity": 0.2
            },
            "type": "scatter"
           }
          ],
          "scatter3d": [
           {
            "line": {
             "colorbar": {
              "outlinewidth": 0,
              "ticks": ""
             }
            },
            "marker": {
             "colorbar": {
              "outlinewidth": 0,
              "ticks": ""
             }
            },
            "type": "scatter3d"
           }
          ],
          "scattercarpet": [
           {
            "marker": {
             "colorbar": {
              "outlinewidth": 0,
              "ticks": ""
             }
            },
            "type": "scattercarpet"
           }
          ],
          "scattergeo": [
           {
            "marker": {
             "colorbar": {
              "outlinewidth": 0,
              "ticks": ""
             }
            },
            "type": "scattergeo"
           }
          ],
          "scattergl": [
           {
            "marker": {
             "colorbar": {
              "outlinewidth": 0,
              "ticks": ""
             }
            },
            "type": "scattergl"
           }
          ],
          "scattermapbox": [
           {
            "marker": {
             "colorbar": {
              "outlinewidth": 0,
              "ticks": ""
             }
            },
            "type": "scattermapbox"
           }
          ],
          "scatterpolar": [
           {
            "marker": {
             "colorbar": {
              "outlinewidth": 0,
              "ticks": ""
             }
            },
            "type": "scatterpolar"
           }
          ],
          "scatterpolargl": [
           {
            "marker": {
             "colorbar": {
              "outlinewidth": 0,
              "ticks": ""
             }
            },
            "type": "scatterpolargl"
           }
          ],
          "scatterternary": [
           {
            "marker": {
             "colorbar": {
              "outlinewidth": 0,
              "ticks": ""
             }
            },
            "type": "scatterternary"
           }
          ],
          "surface": [
           {
            "colorbar": {
             "outlinewidth": 0,
             "ticks": ""
            },
            "colorscale": [
             [
              0,
              "#0d0887"
             ],
             [
              0.1111111111111111,
              "#46039f"
             ],
             [
              0.2222222222222222,
              "#7201a8"
             ],
             [
              0.3333333333333333,
              "#9c179e"
             ],
             [
              0.4444444444444444,
              "#bd3786"
             ],
             [
              0.5555555555555556,
              "#d8576b"
             ],
             [
              0.6666666666666666,
              "#ed7953"
             ],
             [
              0.7777777777777778,
              "#fb9f3a"
             ],
             [
              0.8888888888888888,
              "#fdca26"
             ],
             [
              1,
              "#f0f921"
             ]
            ],
            "type": "surface"
           }
          ],
          "table": [
           {
            "cells": {
             "fill": {
              "color": "#EBF0F8"
             },
             "line": {
              "color": "white"
             }
            },
            "header": {
             "fill": {
              "color": "#C8D4E3"
             },
             "line": {
              "color": "white"
             }
            },
            "type": "table"
           }
          ]
         },
         "layout": {
          "annotationdefaults": {
           "arrowcolor": "#2a3f5f",
           "arrowhead": 0,
           "arrowwidth": 1
          },
          "autotypenumbers": "strict",
          "coloraxis": {
           "colorbar": {
            "outlinewidth": 0,
            "ticks": ""
           }
          },
          "colorscale": {
           "diverging": [
            [
             0,
             "#8e0152"
            ],
            [
             0.1,
             "#c51b7d"
            ],
            [
             0.2,
             "#de77ae"
            ],
            [
             0.3,
             "#f1b6da"
            ],
            [
             0.4,
             "#fde0ef"
            ],
            [
             0.5,
             "#f7f7f7"
            ],
            [
             0.6,
             "#e6f5d0"
            ],
            [
             0.7,
             "#b8e186"
            ],
            [
             0.8,
             "#7fbc41"
            ],
            [
             0.9,
             "#4d9221"
            ],
            [
             1,
             "#276419"
            ]
           ],
           "sequential": [
            [
             0,
             "#0d0887"
            ],
            [
             0.1111111111111111,
             "#46039f"
            ],
            [
             0.2222222222222222,
             "#7201a8"
            ],
            [
             0.3333333333333333,
             "#9c179e"
            ],
            [
             0.4444444444444444,
             "#bd3786"
            ],
            [
             0.5555555555555556,
             "#d8576b"
            ],
            [
             0.6666666666666666,
             "#ed7953"
            ],
            [
             0.7777777777777778,
             "#fb9f3a"
            ],
            [
             0.8888888888888888,
             "#fdca26"
            ],
            [
             1,
             "#f0f921"
            ]
           ],
           "sequentialminus": [
            [
             0,
             "#0d0887"
            ],
            [
             0.1111111111111111,
             "#46039f"
            ],
            [
             0.2222222222222222,
             "#7201a8"
            ],
            [
             0.3333333333333333,
             "#9c179e"
            ],
            [
             0.4444444444444444,
             "#bd3786"
            ],
            [
             0.5555555555555556,
             "#d8576b"
            ],
            [
             0.6666666666666666,
             "#ed7953"
            ],
            [
             0.7777777777777778,
             "#fb9f3a"
            ],
            [
             0.8888888888888888,
             "#fdca26"
            ],
            [
             1,
             "#f0f921"
            ]
           ]
          },
          "colorway": [
           "#636efa",
           "#EF553B",
           "#00cc96",
           "#ab63fa",
           "#FFA15A",
           "#19d3f3",
           "#FF6692",
           "#B6E880",
           "#FF97FF",
           "#FECB52"
          ],
          "font": {
           "color": "#2a3f5f"
          },
          "geo": {
           "bgcolor": "white",
           "lakecolor": "white",
           "landcolor": "#E5ECF6",
           "showlakes": true,
           "showland": true,
           "subunitcolor": "white"
          },
          "hoverlabel": {
           "align": "left"
          },
          "hovermode": "closest",
          "mapbox": {
           "style": "light"
          },
          "paper_bgcolor": "white",
          "plot_bgcolor": "#E5ECF6",
          "polar": {
           "angularaxis": {
            "gridcolor": "white",
            "linecolor": "white",
            "ticks": ""
           },
           "bgcolor": "#E5ECF6",
           "radialaxis": {
            "gridcolor": "white",
            "linecolor": "white",
            "ticks": ""
           }
          },
          "scene": {
           "xaxis": {
            "backgroundcolor": "#E5ECF6",
            "gridcolor": "white",
            "gridwidth": 2,
            "linecolor": "white",
            "showbackground": true,
            "ticks": "",
            "zerolinecolor": "white"
           },
           "yaxis": {
            "backgroundcolor": "#E5ECF6",
            "gridcolor": "white",
            "gridwidth": 2,
            "linecolor": "white",
            "showbackground": true,
            "ticks": "",
            "zerolinecolor": "white"
           },
           "zaxis": {
            "backgroundcolor": "#E5ECF6",
            "gridcolor": "white",
            "gridwidth": 2,
            "linecolor": "white",
            "showbackground": true,
            "ticks": "",
            "zerolinecolor": "white"
           }
          },
          "shapedefaults": {
           "line": {
            "color": "#2a3f5f"
           }
          },
          "ternary": {
           "aaxis": {
            "gridcolor": "white",
            "linecolor": "white",
            "ticks": ""
           },
           "baxis": {
            "gridcolor": "white",
            "linecolor": "white",
            "ticks": ""
           },
           "bgcolor": "#E5ECF6",
           "caxis": {
            "gridcolor": "white",
            "linecolor": "white",
            "ticks": ""
           }
          },
          "title": {
           "x": 0.05
          },
          "xaxis": {
           "automargin": true,
           "gridcolor": "white",
           "linecolor": "white",
           "ticks": "",
           "title": {
            "standoff": 15
           },
           "zerolinecolor": "white",
           "zerolinewidth": 2
          },
          "yaxis": {
           "automargin": true,
           "gridcolor": "white",
           "linecolor": "white",
           "ticks": "",
           "title": {
            "standoff": 15
           },
           "zerolinecolor": "white",
           "zerolinewidth": 2
          }
         }
        },
        "xaxis": {
         "anchor": "y",
         "domain": [
          0,
          0.45
         ],
         "visible": false
        },
        "xaxis2": {
         "anchor": "y2",
         "domain": [
          0.55,
          1
         ],
         "visible": false
        },
        "yaxis": {
         "anchor": "x",
         "domain": [
          0,
          1
         ],
         "visible": false
        },
        "yaxis2": {
         "anchor": "x2",
         "domain": [
          0,
          1
         ],
         "visible": false
        }
       }
      }
     },
     "metadata": {},
     "output_type": "display_data"
    },
    {
     "data": {
      "application/vnd.plotly.v1+json": {
       "config": {
        "plotlyServerURL": "https://plot.ly"
       },
       "data": [
        {
         "marker": {
          "color": "red"
         },
         "mode": "markers",
         "type": "scatter",
         "x": [
          1,
          0.9488465189933777,
          0.2897194027900696,
          0.2722228765487671,
          0.10417725890874863,
          0.733214259147644,
          0.5289155840873718,
          0.29666322469711304,
          0.897322416305542,
          0.7540915608406067,
          0.8813786506652832,
          0.06406597793102264,
          0.04427032545208931,
          0.23607060313224792,
          0.03429381549358368,
          0.6224187612533569,
          0.278498113155365,
          0.4701564311981201,
          0.15417033433914185,
          0.36996588110923767,
          0.002585513284429908,
          0.09018798917531967,
          0.6984806060791016,
          0.46745914220809937,
          0.5673205256462097,
          0.4974914789199829,
          0.9339194297790527,
          0.42532047629356384,
          0.8579863905906677,
          0.548678994178772,
          0.5611159801483154,
          0.9697995185852051,
          0.31590187549591064,
          0.9194835424423218,
          0.321424663066864,
          0.44037461280822754,
          0.3455809950828552,
          0.04040685296058655,
          0.6945639848709106,
          0.5914282202720642,
          0.8736832737922668,
          0.20057371258735657,
          0.6661401391029358,
          0.8764553666114807,
          0.9346012473106384,
          0.9402918815612793,
          0.16984474658966064,
          0.03125967085361481,
          0.8785412907600403,
          0.1107925996184349
         ],
         "xaxis": "x",
         "y": [
          0.9533677697181702,
          0.8201360702514648,
          0.26480287313461304,
          0.429848849773407,
          0.48201483488082886,
          0.2541181147098541,
          0.6452329754829407,
          0.5077855587005615,
          0.12146234512329102,
          0.37679773569107056,
          0.7056702971458435,
          0.07396989315748215,
          0.3176998496055603,
          0.28157979249954224,
          0.34752917289733887,
          0.25329339504241943,
          0.9247768521308899,
          0.8565316200256348,
          0.4139587879180908,
          0.39692187309265137,
          0.5012500286102295,
          0.16023212671279907,
          0.4557458758354187,
          0.509139895439148,
          0.5974059104919434,
          0.01952345110476017,
          0.5889321565628052,
          0.21344412863254547,
          0.922637403011322,
          0.11262001842260361,
          0.9060457944869995,
          0.4212576448917389,
          0.5150036811828613,
          0.49869009852409363,
          0.7157439589500427,
          0.6313769221305847,
          0.5868978500366211,
          0.7142741084098816,
          0.22709615528583527,
          0.3821094036102295,
          0.41753214597702026,
          0.49909156560897827,
          0.27396759390830994,
          0.23676301538944244,
          0.09323020279407501,
          0.7814679741859436,
          0.8472781777381897,
          0.7967921495437622,
          0.35001444816589355,
          1
         ],
         "yaxis": "y"
        },
        {
         "marker": {
          "color": "red"
         },
         "mode": "markers",
         "type": "scatter",
         "x": [
          1,
          0.9488465189933777,
          0.2897194027900696,
          0.2722228765487671,
          0.10417725890874863,
          0.733214259147644,
          0.5289155840873718,
          0.29666322469711304,
          0.897322416305542,
          0.7540915608406067,
          0.8813786506652832,
          0.06406597793102264,
          0.04427032545208931,
          0.23607060313224792,
          0.03429381549358368,
          0.6224187612533569,
          0.278498113155365,
          0.4701564311981201,
          0.15417033433914185,
          0.36996588110923767,
          0.002585513284429908,
          0.09018798917531967,
          0.6984806060791016,
          0.46745914220809937,
          0.5673205256462097,
          0.4974914789199829,
          0.9339194297790527,
          0.42532047629356384,
          0.8579863905906677,
          0.548678994178772,
          0.5611159801483154,
          0.9697995185852051,
          0.31590187549591064,
          0.9194835424423218,
          0.321424663066864,
          0.44037461280822754,
          0.3455809950828552,
          0.04040685296058655,
          0.6945639848709106,
          0.5914282202720642,
          0.8736832737922668,
          0.20057371258735657,
          0.6661401391029358,
          0.8764553666114807,
          0.9346012473106384,
          0.9402918815612793,
          0.16984474658966064,
          0.03125967085361481,
          0.8785412907600403,
          0.1107925996184349
         ],
         "xaxis": "x2",
         "y": [
          0.9533677697181702,
          0.8201360702514648,
          0.26480287313461304,
          0.429848849773407,
          0.48201483488082886,
          0.2541181147098541,
          0.6452329754829407,
          0.5077855587005615,
          0.12146234512329102,
          0.37679773569107056,
          0.7056702971458435,
          0.07396989315748215,
          0.3176998496055603,
          0.28157979249954224,
          0.34752917289733887,
          0.25329339504241943,
          0.9247768521308899,
          0.8565316200256348,
          0.4139587879180908,
          0.39692187309265137,
          0.5012500286102295,
          0.16023212671279907,
          0.4557458758354187,
          0.509139895439148,
          0.5974059104919434,
          0.01952345110476017,
          0.5889321565628052,
          0.21344412863254547,
          0.922637403011322,
          0.11262001842260361,
          0.9060457944869995,
          0.4212576448917389,
          0.5150036811828613,
          0.49869009852409363,
          0.7157439589500427,
          0.6313769221305847,
          0.5868978500366211,
          0.7142741084098816,
          0.22709615528583527,
          0.3821094036102295,
          0.41753214597702026,
          0.49909156560897827,
          0.27396759390830994,
          0.23676301538944244,
          0.09323020279407501,
          0.7814679741859436,
          0.8472781777381897,
          0.7967921495437622,
          0.35001444816589355,
          1
         ],
         "yaxis": "y2"
        }
       ],
       "layout": {
        "annotations": [
         {
          "font": {
           "size": 16
          },
          "showarrow": false,
          "text": "Christofides",
          "x": 0.225,
          "xanchor": "center",
          "xref": "paper",
          "y": 1,
          "yanchor": "bottom",
          "yref": "paper"
         },
         {
          "font": {
           "size": 16
          },
          "showarrow": false,
          "text": "Ours",
          "x": 0.775,
          "xanchor": "center",
          "xref": "paper",
          "y": 1,
          "yanchor": "bottom",
          "yref": "paper"
         },
         {
          "arrowcolor": "blue",
          "arrowhead": 3,
          "arrowwidth": 1.5,
          "ax": 1,
          "axref": "x",
          "ay": 0.9533677697181702,
          "ayref": "y",
          "showarrow": true,
          "text": "",
          "x": 0.9488465189933777,
          "xref": "x",
          "y": 0.8201360702514648,
          "yref": "y"
         },
         {
          "arrowcolor": "blue",
          "arrowhead": 3,
          "arrowwidth": 1.5,
          "ax": 0.9488465189933777,
          "axref": "x",
          "ay": 0.8201360702514648,
          "ayref": "y",
          "showarrow": true,
          "text": "",
          "x": 0.8579863905906677,
          "xref": "x",
          "y": 0.922637403011322,
          "yref": "y"
         },
         {
          "arrowcolor": "blue",
          "arrowhead": 3,
          "arrowwidth": 1.5,
          "ax": 0.8579863905906677,
          "axref": "x",
          "ay": 0.922637403011322,
          "ayref": "y",
          "showarrow": true,
          "text": "",
          "x": 0.5611159801483154,
          "xref": "x",
          "y": 0.9060457944869995,
          "yref": "y"
         },
         {
          "arrowcolor": "blue",
          "arrowhead": 3,
          "arrowwidth": 1.5,
          "ax": 0.5611159801483154,
          "axref": "x",
          "ay": 0.9060457944869995,
          "ayref": "y",
          "showarrow": true,
          "text": "",
          "x": 0.4701564311981201,
          "xref": "x",
          "y": 0.8565316200256348,
          "yref": "y"
         },
         {
          "arrowcolor": "blue",
          "arrowhead": 3,
          "arrowwidth": 1.5,
          "ax": 0.4701564311981201,
          "axref": "x",
          "ay": 0.8565316200256348,
          "ayref": "y",
          "showarrow": true,
          "text": "",
          "x": 0.278498113155365,
          "xref": "x",
          "y": 0.9247768521308899,
          "yref": "y"
         },
         {
          "arrowcolor": "blue",
          "arrowhead": 3,
          "arrowwidth": 1.5,
          "ax": 0.278498113155365,
          "axref": "x",
          "ay": 0.9247768521308899,
          "ayref": "y",
          "showarrow": true,
          "text": "",
          "x": 0.16984474658966064,
          "xref": "x",
          "y": 0.8472781777381897,
          "yref": "y"
         },
         {
          "arrowcolor": "blue",
          "arrowhead": 3,
          "arrowwidth": 1.5,
          "ax": 0.16984474658966064,
          "axref": "x",
          "ay": 0.8472781777381897,
          "ayref": "y",
          "showarrow": true,
          "text": "",
          "x": 0.1107925996184349,
          "xref": "x",
          "y": 1,
          "yref": "y"
         },
         {
          "arrowcolor": "blue",
          "arrowhead": 3,
          "arrowwidth": 1.5,
          "ax": 0.1107925996184349,
          "axref": "x",
          "ay": 1,
          "ayref": "y",
          "showarrow": true,
          "text": "",
          "x": 0.04040685296058655,
          "xref": "x",
          "y": 0.7142741084098816,
          "yref": "y"
         },
         {
          "arrowcolor": "blue",
          "arrowhead": 3,
          "arrowwidth": 1.5,
          "ax": 0.04040685296058655,
          "axref": "x",
          "ay": 0.7142741084098816,
          "ayref": "y",
          "showarrow": true,
          "text": "",
          "x": 0.03125967085361481,
          "xref": "x",
          "y": 0.7967921495437622,
          "yref": "y"
         },
         {
          "arrowcolor": "blue",
          "arrowhead": 3,
          "arrowwidth": 1.5,
          "ax": 0.03125967085361481,
          "axref": "x",
          "ay": 0.7967921495437622,
          "ayref": "y",
          "showarrow": true,
          "text": "",
          "x": 0.321424663066864,
          "xref": "x",
          "y": 0.7157439589500427,
          "yref": "y"
         },
         {
          "arrowcolor": "blue",
          "arrowhead": 3,
          "arrowwidth": 1.5,
          "ax": 0.321424663066864,
          "axref": "x",
          "ay": 0.7157439589500427,
          "ayref": "y",
          "showarrow": true,
          "text": "",
          "x": 0.3455809950828552,
          "xref": "x",
          "y": 0.5868978500366211,
          "yref": "y"
         },
         {
          "arrowcolor": "blue",
          "arrowhead": 3,
          "arrowwidth": 1.5,
          "ax": 0.3455809950828552,
          "axref": "x",
          "ay": 0.5868978500366211,
          "ayref": "y",
          "showarrow": true,
          "text": "",
          "x": 0.44037461280822754,
          "xref": "x",
          "y": 0.6313769221305847,
          "yref": "y"
         },
         {
          "arrowcolor": "blue",
          "arrowhead": 3,
          "arrowwidth": 1.5,
          "ax": 0.44037461280822754,
          "axref": "x",
          "ay": 0.6313769221305847,
          "ayref": "y",
          "showarrow": true,
          "text": "",
          "x": 0.46745914220809937,
          "xref": "x",
          "y": 0.509139895439148,
          "yref": "y"
         },
         {
          "arrowcolor": "blue",
          "arrowhead": 3,
          "arrowwidth": 1.5,
          "ax": 0.46745914220809937,
          "axref": "x",
          "ay": 0.509139895439148,
          "ayref": "y",
          "showarrow": true,
          "text": "",
          "x": 0.5673205256462097,
          "xref": "x",
          "y": 0.5974059104919434,
          "yref": "y"
         },
         {
          "arrowcolor": "blue",
          "arrowhead": 3,
          "arrowwidth": 1.5,
          "ax": 0.5673205256462097,
          "axref": "x",
          "ay": 0.5974059104919434,
          "ayref": "y",
          "showarrow": true,
          "text": "",
          "x": 0.5289155840873718,
          "xref": "x",
          "y": 0.6452329754829407,
          "yref": "y"
         },
         {
          "arrowcolor": "blue",
          "arrowhead": 3,
          "arrowwidth": 1.5,
          "ax": 0.5289155840873718,
          "axref": "x",
          "ay": 0.6452329754829407,
          "ayref": "y",
          "showarrow": true,
          "text": "",
          "x": 0.31590187549591064,
          "xref": "x",
          "y": 0.5150036811828613,
          "yref": "y"
         },
         {
          "arrowcolor": "blue",
          "arrowhead": 3,
          "arrowwidth": 1.5,
          "ax": 0.31590187549591064,
          "axref": "x",
          "ay": 0.5150036811828613,
          "ayref": "y",
          "showarrow": true,
          "text": "",
          "x": 0.29666322469711304,
          "xref": "x",
          "y": 0.5077855587005615,
          "yref": "y"
         },
         {
          "arrowcolor": "blue",
          "arrowhead": 3,
          "arrowwidth": 1.5,
          "ax": 0.29666322469711304,
          "axref": "x",
          "ay": 0.5077855587005615,
          "ayref": "y",
          "showarrow": true,
          "text": "",
          "x": 0.36996588110923767,
          "xref": "x",
          "y": 0.39692187309265137,
          "yref": "y"
         },
         {
          "arrowcolor": "blue",
          "arrowhead": 3,
          "arrowwidth": 1.5,
          "ax": 0.36996588110923767,
          "axref": "x",
          "ay": 0.39692187309265137,
          "ayref": "y",
          "showarrow": true,
          "text": "",
          "x": 0.2722228765487671,
          "xref": "x",
          "y": 0.429848849773407,
          "yref": "y"
         },
         {
          "arrowcolor": "blue",
          "arrowhead": 3,
          "arrowwidth": 1.5,
          "ax": 0.2722228765487671,
          "axref": "x",
          "ay": 0.429848849773407,
          "ayref": "y",
          "showarrow": true,
          "text": "",
          "x": 0.15417033433914185,
          "xref": "x",
          "y": 0.4139587879180908,
          "yref": "y"
         },
         {
          "arrowcolor": "blue",
          "arrowhead": 3,
          "arrowwidth": 1.5,
          "ax": 0.15417033433914185,
          "axref": "x",
          "ay": 0.4139587879180908,
          "ayref": "y",
          "showarrow": true,
          "text": "",
          "x": 0.03429381549358368,
          "xref": "x",
          "y": 0.34752917289733887,
          "yref": "y"
         },
         {
          "arrowcolor": "blue",
          "arrowhead": 3,
          "arrowwidth": 1.5,
          "ax": 0.03429381549358368,
          "axref": "x",
          "ay": 0.34752917289733887,
          "ayref": "y",
          "showarrow": true,
          "text": "",
          "x": 0.04427032545208931,
          "xref": "x",
          "y": 0.3176998496055603,
          "yref": "y"
         },
         {
          "arrowcolor": "blue",
          "arrowhead": 3,
          "arrowwidth": 1.5,
          "ax": 0.04427032545208931,
          "axref": "x",
          "ay": 0.3176998496055603,
          "ayref": "y",
          "showarrow": true,
          "text": "",
          "x": 0.09018798917531967,
          "xref": "x",
          "y": 0.16023212671279907,
          "yref": "y"
         },
         {
          "arrowcolor": "blue",
          "arrowhead": 3,
          "arrowwidth": 1.5,
          "ax": 0.09018798917531967,
          "axref": "x",
          "ay": 0.16023212671279907,
          "ayref": "y",
          "showarrow": true,
          "text": "",
          "x": 0.06406597793102264,
          "xref": "x",
          "y": 0.07396989315748215,
          "yref": "y"
         },
         {
          "arrowcolor": "blue",
          "arrowhead": 3,
          "arrowwidth": 1.5,
          "ax": 0.06406597793102264,
          "axref": "x",
          "ay": 0.07396989315748215,
          "ayref": "y",
          "showarrow": true,
          "text": "",
          "x": 0.002585513284429908,
          "xref": "x",
          "y": 0.5012500286102295,
          "yref": "y"
         },
         {
          "arrowcolor": "blue",
          "arrowhead": 3,
          "arrowwidth": 1.5,
          "ax": 0.002585513284429908,
          "axref": "x",
          "ay": 0.5012500286102295,
          "ayref": "y",
          "showarrow": true,
          "text": "",
          "x": 0.10417725890874863,
          "xref": "x",
          "y": 0.48201483488082886,
          "yref": "y"
         },
         {
          "arrowcolor": "blue",
          "arrowhead": 3,
          "arrowwidth": 1.5,
          "ax": 0.10417725890874863,
          "axref": "x",
          "ay": 0.48201483488082886,
          "ayref": "y",
          "showarrow": true,
          "text": "",
          "x": 0.20057371258735657,
          "xref": "x",
          "y": 0.49909156560897827,
          "yref": "y"
         },
         {
          "arrowcolor": "blue",
          "arrowhead": 3,
          "arrowwidth": 1.5,
          "ax": 0.20057371258735657,
          "axref": "x",
          "ay": 0.49909156560897827,
          "ayref": "y",
          "showarrow": true,
          "text": "",
          "x": 0.23607060313224792,
          "xref": "x",
          "y": 0.28157979249954224,
          "yref": "y"
         },
         {
          "arrowcolor": "blue",
          "arrowhead": 3,
          "arrowwidth": 1.5,
          "ax": 0.23607060313224792,
          "axref": "x",
          "ay": 0.28157979249954224,
          "ayref": "y",
          "showarrow": true,
          "text": "",
          "x": 0.2897194027900696,
          "xref": "x",
          "y": 0.26480287313461304,
          "yref": "y"
         },
         {
          "arrowcolor": "blue",
          "arrowhead": 3,
          "arrowwidth": 1.5,
          "ax": 0.2897194027900696,
          "axref": "x",
          "ay": 0.26480287313461304,
          "ayref": "y",
          "showarrow": true,
          "text": "",
          "x": 0.42532047629356384,
          "xref": "x",
          "y": 0.21344412863254547,
          "yref": "y"
         },
         {
          "arrowcolor": "blue",
          "arrowhead": 3,
          "arrowwidth": 1.5,
          "ax": 0.42532047629356384,
          "axref": "x",
          "ay": 0.21344412863254547,
          "ayref": "y",
          "showarrow": true,
          "text": "",
          "x": 0.548678994178772,
          "xref": "x",
          "y": 0.11262001842260361,
          "yref": "y"
         },
         {
          "arrowcolor": "blue",
          "arrowhead": 3,
          "arrowwidth": 1.5,
          "ax": 0.548678994178772,
          "axref": "x",
          "ay": 0.11262001842260361,
          "ayref": "y",
          "showarrow": true,
          "text": "",
          "x": 0.4974914789199829,
          "xref": "x",
          "y": 0.01952345110476017,
          "yref": "y"
         },
         {
          "arrowcolor": "blue",
          "arrowhead": 3,
          "arrowwidth": 1.5,
          "ax": 0.4974914789199829,
          "axref": "x",
          "ay": 0.01952345110476017,
          "ayref": "y",
          "showarrow": true,
          "text": "",
          "x": 0.6224187612533569,
          "xref": "x",
          "y": 0.25329339504241943,
          "yref": "y"
         },
         {
          "arrowcolor": "blue",
          "arrowhead": 3,
          "arrowwidth": 1.5,
          "ax": 0.6224187612533569,
          "axref": "x",
          "ay": 0.25329339504241943,
          "ayref": "y",
          "showarrow": true,
          "text": "",
          "x": 0.6661401391029358,
          "xref": "x",
          "y": 0.27396759390830994,
          "yref": "y"
         },
         {
          "arrowcolor": "blue",
          "arrowhead": 3,
          "arrowwidth": 1.5,
          "ax": 0.6661401391029358,
          "axref": "x",
          "ay": 0.27396759390830994,
          "ayref": "y",
          "showarrow": true,
          "text": "",
          "x": 0.6945639848709106,
          "xref": "x",
          "y": 0.22709615528583527,
          "yref": "y"
         },
         {
          "arrowcolor": "blue",
          "arrowhead": 3,
          "arrowwidth": 1.5,
          "ax": 0.6945639848709106,
          "axref": "x",
          "ay": 0.22709615528583527,
          "ayref": "y",
          "showarrow": true,
          "text": "",
          "x": 0.733214259147644,
          "xref": "x",
          "y": 0.2541181147098541,
          "yref": "y"
         },
         {
          "arrowcolor": "blue",
          "arrowhead": 3,
          "arrowwidth": 1.5,
          "ax": 0.733214259147644,
          "axref": "x",
          "ay": 0.2541181147098541,
          "ayref": "y",
          "showarrow": true,
          "text": "",
          "x": 0.7540915608406067,
          "xref": "x",
          "y": 0.37679773569107056,
          "yref": "y"
         },
         {
          "arrowcolor": "blue",
          "arrowhead": 3,
          "arrowwidth": 1.5,
          "ax": 0.7540915608406067,
          "axref": "x",
          "ay": 0.37679773569107056,
          "ayref": "y",
          "showarrow": true,
          "text": "",
          "x": 0.5914282202720642,
          "xref": "x",
          "y": 0.3821094036102295,
          "yref": "y"
         },
         {
          "arrowcolor": "blue",
          "arrowhead": 3,
          "arrowwidth": 1.5,
          "ax": 0.5914282202720642,
          "axref": "x",
          "ay": 0.3821094036102295,
          "ayref": "y",
          "showarrow": true,
          "text": "",
          "x": 0.6984806060791016,
          "xref": "x",
          "y": 0.4557458758354187,
          "yref": "y"
         },
         {
          "arrowcolor": "blue",
          "arrowhead": 3,
          "arrowwidth": 1.5,
          "ax": 0.6984806060791016,
          "axref": "x",
          "ay": 0.4557458758354187,
          "ayref": "y",
          "showarrow": true,
          "text": "",
          "x": 0.8736832737922668,
          "xref": "x",
          "y": 0.41753214597702026,
          "yref": "y"
         },
         {
          "arrowcolor": "blue",
          "arrowhead": 3,
          "arrowwidth": 1.5,
          "ax": 0.8736832737922668,
          "axref": "x",
          "ay": 0.41753214597702026,
          "ayref": "y",
          "showarrow": true,
          "text": "",
          "x": 0.8785412907600403,
          "xref": "x",
          "y": 0.35001444816589355,
          "yref": "y"
         },
         {
          "arrowcolor": "blue",
          "arrowhead": 3,
          "arrowwidth": 1.5,
          "ax": 0.8785412907600403,
          "axref": "x",
          "ay": 0.35001444816589355,
          "ayref": "y",
          "showarrow": true,
          "text": "",
          "x": 0.8764553666114807,
          "xref": "x",
          "y": 0.23676301538944244,
          "yref": "y"
         },
         {
          "arrowcolor": "blue",
          "arrowhead": 3,
          "arrowwidth": 1.5,
          "ax": 0.8764553666114807,
          "axref": "x",
          "ay": 0.23676301538944244,
          "ayref": "y",
          "showarrow": true,
          "text": "",
          "x": 0.897322416305542,
          "xref": "x",
          "y": 0.12146234512329102,
          "yref": "y"
         },
         {
          "arrowcolor": "blue",
          "arrowhead": 3,
          "arrowwidth": 1.5,
          "ax": 0.897322416305542,
          "axref": "x",
          "ay": 0.12146234512329102,
          "ayref": "y",
          "showarrow": true,
          "text": "",
          "x": 0.9346012473106384,
          "xref": "x",
          "y": 0.09323020279407501,
          "yref": "y"
         },
         {
          "arrowcolor": "blue",
          "arrowhead": 3,
          "arrowwidth": 1.5,
          "ax": 0.9346012473106384,
          "axref": "x",
          "ay": 0.09323020279407501,
          "ayref": "y",
          "showarrow": true,
          "text": "",
          "x": 0.9194835424423218,
          "xref": "x",
          "y": 0.49869009852409363,
          "yref": "y"
         },
         {
          "arrowcolor": "blue",
          "arrowhead": 3,
          "arrowwidth": 1.5,
          "ax": 0.9194835424423218,
          "axref": "x",
          "ay": 0.49869009852409363,
          "ayref": "y",
          "showarrow": true,
          "text": "",
          "x": 0.9697995185852051,
          "xref": "x",
          "y": 0.4212576448917389,
          "yref": "y"
         },
         {
          "arrowcolor": "blue",
          "arrowhead": 3,
          "arrowwidth": 1.5,
          "ax": 0.9697995185852051,
          "axref": "x",
          "ay": 0.4212576448917389,
          "ayref": "y",
          "showarrow": true,
          "text": "",
          "x": 0.9339194297790527,
          "xref": "x",
          "y": 0.5889321565628052,
          "yref": "y"
         },
         {
          "arrowcolor": "blue",
          "arrowhead": 3,
          "arrowwidth": 1.5,
          "ax": 0.9339194297790527,
          "axref": "x",
          "ay": 0.5889321565628052,
          "ayref": "y",
          "showarrow": true,
          "text": "",
          "x": 0.8813786506652832,
          "xref": "x",
          "y": 0.7056702971458435,
          "yref": "y"
         },
         {
          "arrowcolor": "blue",
          "arrowhead": 3,
          "arrowwidth": 1.5,
          "ax": 0.8813786506652832,
          "axref": "x",
          "ay": 0.7056702971458435,
          "ayref": "y",
          "showarrow": true,
          "text": "",
          "x": 0.9402918815612793,
          "xref": "x",
          "y": 0.7814679741859436,
          "yref": "y"
         },
         {
          "arrowcolor": "blue",
          "arrowhead": 3,
          "arrowwidth": 1.5,
          "ax": 0.9402918815612793,
          "axref": "x",
          "ay": 0.7814679741859436,
          "ayref": "y",
          "showarrow": true,
          "text": "",
          "x": 1,
          "xref": "x",
          "y": 0.9533677697181702,
          "yref": "y"
         },
         {
          "arrowcolor": "green",
          "arrowhead": 3,
          "arrowwidth": 1.5,
          "ax": 0.6661401391029358,
          "axref": "x2",
          "ay": 0.27396759390830994,
          "ayref": "y2",
          "showarrow": true,
          "text": "",
          "x": 0.6984806060791016,
          "xref": "x2",
          "y": 0.4557458758354187,
          "yref": "y2"
         },
         {
          "arrowcolor": "green",
          "arrowhead": 3,
          "arrowwidth": 1.5,
          "ax": 0.6984806060791016,
          "axref": "x2",
          "ay": 0.4557458758354187,
          "ayref": "y2",
          "showarrow": true,
          "text": "",
          "x": 0.7540915608406067,
          "xref": "x2",
          "y": 0.37679773569107056,
          "yref": "y2"
         },
         {
          "arrowcolor": "green",
          "arrowhead": 3,
          "arrowwidth": 1.5,
          "ax": 0.7540915608406067,
          "axref": "x2",
          "ay": 0.37679773569107056,
          "ayref": "y2",
          "showarrow": true,
          "text": "",
          "x": 0.733214259147644,
          "xref": "x2",
          "y": 0.2541181147098541,
          "yref": "y2"
         },
         {
          "arrowcolor": "green",
          "arrowhead": 3,
          "arrowwidth": 1.5,
          "ax": 0.733214259147644,
          "axref": "x2",
          "ay": 0.2541181147098541,
          "ayref": "y2",
          "showarrow": true,
          "text": "",
          "x": 0.6945639848709106,
          "xref": "x2",
          "y": 0.22709615528583527,
          "yref": "y2"
         },
         {
          "arrowcolor": "green",
          "arrowhead": 3,
          "arrowwidth": 1.5,
          "ax": 0.6945639848709106,
          "axref": "x2",
          "ay": 0.22709615528583527,
          "ayref": "y2",
          "showarrow": true,
          "text": "",
          "x": 0.897322416305542,
          "xref": "x2",
          "y": 0.12146234512329102,
          "yref": "y2"
         },
         {
          "arrowcolor": "green",
          "arrowhead": 3,
          "arrowwidth": 1.5,
          "ax": 0.897322416305542,
          "axref": "x2",
          "ay": 0.12146234512329102,
          "ayref": "y2",
          "showarrow": true,
          "text": "",
          "x": 0.9346012473106384,
          "xref": "x2",
          "y": 0.09323020279407501,
          "yref": "y2"
         },
         {
          "arrowcolor": "green",
          "arrowhead": 3,
          "arrowwidth": 1.5,
          "ax": 0.9346012473106384,
          "axref": "x2",
          "ay": 0.09323020279407501,
          "ayref": "y2",
          "showarrow": true,
          "text": "",
          "x": 0.8764553666114807,
          "xref": "x2",
          "y": 0.23676301538944244,
          "yref": "y2"
         },
         {
          "arrowcolor": "green",
          "arrowhead": 3,
          "arrowwidth": 1.5,
          "ax": 0.8764553666114807,
          "axref": "x2",
          "ay": 0.23676301538944244,
          "ayref": "y2",
          "showarrow": true,
          "text": "",
          "x": 0.8785412907600403,
          "xref": "x2",
          "y": 0.35001444816589355,
          "yref": "y2"
         },
         {
          "arrowcolor": "green",
          "arrowhead": 3,
          "arrowwidth": 1.5,
          "ax": 0.8785412907600403,
          "axref": "x2",
          "ay": 0.35001444816589355,
          "ayref": "y2",
          "showarrow": true,
          "text": "",
          "x": 0.8736832737922668,
          "xref": "x2",
          "y": 0.41753214597702026,
          "yref": "y2"
         },
         {
          "arrowcolor": "green",
          "arrowhead": 3,
          "arrowwidth": 1.5,
          "ax": 0.8736832737922668,
          "axref": "x2",
          "ay": 0.41753214597702026,
          "ayref": "y2",
          "showarrow": true,
          "text": "",
          "x": 0.9697995185852051,
          "xref": "x2",
          "y": 0.4212576448917389,
          "yref": "y2"
         },
         {
          "arrowcolor": "green",
          "arrowhead": 3,
          "arrowwidth": 1.5,
          "ax": 0.9697995185852051,
          "axref": "x2",
          "ay": 0.4212576448917389,
          "ayref": "y2",
          "showarrow": true,
          "text": "",
          "x": 0.9194835424423218,
          "xref": "x2",
          "y": 0.49869009852409363,
          "yref": "y2"
         },
         {
          "arrowcolor": "green",
          "arrowhead": 3,
          "arrowwidth": 1.5,
          "ax": 0.9194835424423218,
          "axref": "x2",
          "ay": 0.49869009852409363,
          "ayref": "y2",
          "showarrow": true,
          "text": "",
          "x": 0.9339194297790527,
          "xref": "x2",
          "y": 0.5889321565628052,
          "yref": "y2"
         },
         {
          "arrowcolor": "green",
          "arrowhead": 3,
          "arrowwidth": 1.5,
          "ax": 0.9339194297790527,
          "axref": "x2",
          "ay": 0.5889321565628052,
          "ayref": "y2",
          "showarrow": true,
          "text": "",
          "x": 0.8813786506652832,
          "xref": "x2",
          "y": 0.7056702971458435,
          "yref": "y2"
         },
         {
          "arrowcolor": "green",
          "arrowhead": 3,
          "arrowwidth": 1.5,
          "ax": 0.8813786506652832,
          "axref": "x2",
          "ay": 0.7056702971458435,
          "ayref": "y2",
          "showarrow": true,
          "text": "",
          "x": 0.9402918815612793,
          "xref": "x2",
          "y": 0.7814679741859436,
          "yref": "y2"
         },
         {
          "arrowcolor": "green",
          "arrowhead": 3,
          "arrowwidth": 1.5,
          "ax": 0.9402918815612793,
          "axref": "x2",
          "ay": 0.7814679741859436,
          "ayref": "y2",
          "showarrow": true,
          "text": "",
          "x": 0.9488465189933777,
          "xref": "x2",
          "y": 0.8201360702514648,
          "yref": "y2"
         },
         {
          "arrowcolor": "green",
          "arrowhead": 3,
          "arrowwidth": 1.5,
          "ax": 0.9488465189933777,
          "axref": "x2",
          "ay": 0.8201360702514648,
          "ayref": "y2",
          "showarrow": true,
          "text": "",
          "x": 1,
          "xref": "x2",
          "y": 0.9533677697181702,
          "yref": "y2"
         },
         {
          "arrowcolor": "green",
          "arrowhead": 3,
          "arrowwidth": 1.5,
          "ax": 1,
          "axref": "x2",
          "ay": 0.9533677697181702,
          "ayref": "y2",
          "showarrow": true,
          "text": "",
          "x": 0.8579863905906677,
          "xref": "x2",
          "y": 0.922637403011322,
          "yref": "y2"
         },
         {
          "arrowcolor": "green",
          "arrowhead": 3,
          "arrowwidth": 1.5,
          "ax": 0.8579863905906677,
          "axref": "x2",
          "ay": 0.922637403011322,
          "ayref": "y2",
          "showarrow": true,
          "text": "",
          "x": 0.5611159801483154,
          "xref": "x2",
          "y": 0.9060457944869995,
          "yref": "y2"
         },
         {
          "arrowcolor": "green",
          "arrowhead": 3,
          "arrowwidth": 1.5,
          "ax": 0.5611159801483154,
          "axref": "x2",
          "ay": 0.9060457944869995,
          "ayref": "y2",
          "showarrow": true,
          "text": "",
          "x": 0.4701564311981201,
          "xref": "x2",
          "y": 0.8565316200256348,
          "yref": "y2"
         },
         {
          "arrowcolor": "green",
          "arrowhead": 3,
          "arrowwidth": 1.5,
          "ax": 0.4701564311981201,
          "axref": "x2",
          "ay": 0.8565316200256348,
          "ayref": "y2",
          "showarrow": true,
          "text": "",
          "x": 0.278498113155365,
          "xref": "x2",
          "y": 0.9247768521308899,
          "yref": "y2"
         },
         {
          "arrowcolor": "green",
          "arrowhead": 3,
          "arrowwidth": 1.5,
          "ax": 0.278498113155365,
          "axref": "x2",
          "ay": 0.9247768521308899,
          "ayref": "y2",
          "showarrow": true,
          "text": "",
          "x": 0.1107925996184349,
          "xref": "x2",
          "y": 1,
          "yref": "y2"
         },
         {
          "arrowcolor": "green",
          "arrowhead": 3,
          "arrowwidth": 1.5,
          "ax": 0.1107925996184349,
          "axref": "x2",
          "ay": 1,
          "ayref": "y2",
          "showarrow": true,
          "text": "",
          "x": 0.16984474658966064,
          "xref": "x2",
          "y": 0.8472781777381897,
          "yref": "y2"
         },
         {
          "arrowcolor": "green",
          "arrowhead": 3,
          "arrowwidth": 1.5,
          "ax": 0.16984474658966064,
          "axref": "x2",
          "ay": 0.8472781777381897,
          "ayref": "y2",
          "showarrow": true,
          "text": "",
          "x": 0.03125967085361481,
          "xref": "x2",
          "y": 0.7967921495437622,
          "yref": "y2"
         },
         {
          "arrowcolor": "green",
          "arrowhead": 3,
          "arrowwidth": 1.5,
          "ax": 0.03125967085361481,
          "axref": "x2",
          "ay": 0.7967921495437622,
          "ayref": "y2",
          "showarrow": true,
          "text": "",
          "x": 0.04040685296058655,
          "xref": "x2",
          "y": 0.7142741084098816,
          "yref": "y2"
         },
         {
          "arrowcolor": "green",
          "arrowhead": 3,
          "arrowwidth": 1.5,
          "ax": 0.04040685296058655,
          "axref": "x2",
          "ay": 0.7142741084098816,
          "ayref": "y2",
          "showarrow": true,
          "text": "",
          "x": 0.002585513284429908,
          "xref": "x2",
          "y": 0.5012500286102295,
          "yref": "y2"
         },
         {
          "arrowcolor": "green",
          "arrowhead": 3,
          "arrowwidth": 1.5,
          "ax": 0.002585513284429908,
          "axref": "x2",
          "ay": 0.5012500286102295,
          "ayref": "y2",
          "showarrow": true,
          "text": "",
          "x": 0.10417725890874863,
          "xref": "x2",
          "y": 0.48201483488082886,
          "yref": "y2"
         },
         {
          "arrowcolor": "green",
          "arrowhead": 3,
          "arrowwidth": 1.5,
          "ax": 0.10417725890874863,
          "axref": "x2",
          "ay": 0.48201483488082886,
          "ayref": "y2",
          "showarrow": true,
          "text": "",
          "x": 0.15417033433914185,
          "xref": "x2",
          "y": 0.4139587879180908,
          "yref": "y2"
         },
         {
          "arrowcolor": "green",
          "arrowhead": 3,
          "arrowwidth": 1.5,
          "ax": 0.15417033433914185,
          "axref": "x2",
          "ay": 0.4139587879180908,
          "ayref": "y2",
          "showarrow": true,
          "text": "",
          "x": 0.03429381549358368,
          "xref": "x2",
          "y": 0.34752917289733887,
          "yref": "y2"
         },
         {
          "arrowcolor": "green",
          "arrowhead": 3,
          "arrowwidth": 1.5,
          "ax": 0.03429381549358368,
          "axref": "x2",
          "ay": 0.34752917289733887,
          "ayref": "y2",
          "showarrow": true,
          "text": "",
          "x": 0.04427032545208931,
          "xref": "x2",
          "y": 0.3176998496055603,
          "yref": "y2"
         },
         {
          "arrowcolor": "green",
          "arrowhead": 3,
          "arrowwidth": 1.5,
          "ax": 0.04427032545208931,
          "axref": "x2",
          "ay": 0.3176998496055603,
          "ayref": "y2",
          "showarrow": true,
          "text": "",
          "x": 0.09018798917531967,
          "xref": "x2",
          "y": 0.16023212671279907,
          "yref": "y2"
         },
         {
          "arrowcolor": "green",
          "arrowhead": 3,
          "arrowwidth": 1.5,
          "ax": 0.09018798917531967,
          "axref": "x2",
          "ay": 0.16023212671279907,
          "ayref": "y2",
          "showarrow": true,
          "text": "",
          "x": 0.06406597793102264,
          "xref": "x2",
          "y": 0.07396989315748215,
          "yref": "y2"
         },
         {
          "arrowcolor": "green",
          "arrowhead": 3,
          "arrowwidth": 1.5,
          "ax": 0.06406597793102264,
          "axref": "x2",
          "ay": 0.07396989315748215,
          "ayref": "y2",
          "showarrow": true,
          "text": "",
          "x": 0.23607060313224792,
          "xref": "x2",
          "y": 0.28157979249954224,
          "yref": "y2"
         },
         {
          "arrowcolor": "green",
          "arrowhead": 3,
          "arrowwidth": 1.5,
          "ax": 0.23607060313224792,
          "axref": "x2",
          "ay": 0.28157979249954224,
          "ayref": "y2",
          "showarrow": true,
          "text": "",
          "x": 0.2897194027900696,
          "xref": "x2",
          "y": 0.26480287313461304,
          "yref": "y2"
         },
         {
          "arrowcolor": "green",
          "arrowhead": 3,
          "arrowwidth": 1.5,
          "ax": 0.2897194027900696,
          "axref": "x2",
          "ay": 0.26480287313461304,
          "ayref": "y2",
          "showarrow": true,
          "text": "",
          "x": 0.2722228765487671,
          "xref": "x2",
          "y": 0.429848849773407,
          "yref": "y2"
         },
         {
          "arrowcolor": "green",
          "arrowhead": 3,
          "arrowwidth": 1.5,
          "ax": 0.2722228765487671,
          "axref": "x2",
          "ay": 0.429848849773407,
          "ayref": "y2",
          "showarrow": true,
          "text": "",
          "x": 0.20057371258735657,
          "xref": "x2",
          "y": 0.49909156560897827,
          "yref": "y2"
         },
         {
          "arrowcolor": "green",
          "arrowhead": 3,
          "arrowwidth": 1.5,
          "ax": 0.20057371258735657,
          "axref": "x2",
          "ay": 0.49909156560897827,
          "ayref": "y2",
          "showarrow": true,
          "text": "",
          "x": 0.29666322469711304,
          "xref": "x2",
          "y": 0.5077855587005615,
          "yref": "y2"
         },
         {
          "arrowcolor": "green",
          "arrowhead": 3,
          "arrowwidth": 1.5,
          "ax": 0.29666322469711304,
          "axref": "x2",
          "ay": 0.5077855587005615,
          "ayref": "y2",
          "showarrow": true,
          "text": "",
          "x": 0.3455809950828552,
          "xref": "x2",
          "y": 0.5868978500366211,
          "yref": "y2"
         },
         {
          "arrowcolor": "green",
          "arrowhead": 3,
          "arrowwidth": 1.5,
          "ax": 0.3455809950828552,
          "axref": "x2",
          "ay": 0.5868978500366211,
          "ayref": "y2",
          "showarrow": true,
          "text": "",
          "x": 0.321424663066864,
          "xref": "x2",
          "y": 0.7157439589500427,
          "yref": "y2"
         },
         {
          "arrowcolor": "green",
          "arrowhead": 3,
          "arrowwidth": 1.5,
          "ax": 0.321424663066864,
          "axref": "x2",
          "ay": 0.7157439589500427,
          "ayref": "y2",
          "showarrow": true,
          "text": "",
          "x": 0.44037461280822754,
          "xref": "x2",
          "y": 0.6313769221305847,
          "yref": "y2"
         },
         {
          "arrowcolor": "green",
          "arrowhead": 3,
          "arrowwidth": 1.5,
          "ax": 0.44037461280822754,
          "axref": "x2",
          "ay": 0.6313769221305847,
          "ayref": "y2",
          "showarrow": true,
          "text": "",
          "x": 0.5289155840873718,
          "xref": "x2",
          "y": 0.6452329754829407,
          "yref": "y2"
         },
         {
          "arrowcolor": "green",
          "arrowhead": 3,
          "arrowwidth": 1.5,
          "ax": 0.5289155840873718,
          "axref": "x2",
          "ay": 0.6452329754829407,
          "ayref": "y2",
          "showarrow": true,
          "text": "",
          "x": 0.5673205256462097,
          "xref": "x2",
          "y": 0.5974059104919434,
          "yref": "y2"
         },
         {
          "arrowcolor": "green",
          "arrowhead": 3,
          "arrowwidth": 1.5,
          "ax": 0.5673205256462097,
          "axref": "x2",
          "ay": 0.5974059104919434,
          "ayref": "y2",
          "showarrow": true,
          "text": "",
          "x": 0.31590187549591064,
          "xref": "x2",
          "y": 0.5150036811828613,
          "yref": "y2"
         },
         {
          "arrowcolor": "green",
          "arrowhead": 3,
          "arrowwidth": 1.5,
          "ax": 0.31590187549591064,
          "axref": "x2",
          "ay": 0.5150036811828613,
          "ayref": "y2",
          "showarrow": true,
          "text": "",
          "x": 0.46745914220809937,
          "xref": "x2",
          "y": 0.509139895439148,
          "yref": "y2"
         },
         {
          "arrowcolor": "green",
          "arrowhead": 3,
          "arrowwidth": 1.5,
          "ax": 0.46745914220809937,
          "axref": "x2",
          "ay": 0.509139895439148,
          "ayref": "y2",
          "showarrow": true,
          "text": "",
          "x": 0.5914282202720642,
          "xref": "x2",
          "y": 0.3821094036102295,
          "yref": "y2"
         },
         {
          "arrowcolor": "green",
          "arrowhead": 3,
          "arrowwidth": 1.5,
          "ax": 0.5914282202720642,
          "axref": "x2",
          "ay": 0.3821094036102295,
          "ayref": "y2",
          "showarrow": true,
          "text": "",
          "x": 0.36996588110923767,
          "xref": "x2",
          "y": 0.39692187309265137,
          "yref": "y2"
         },
         {
          "arrowcolor": "green",
          "arrowhead": 3,
          "arrowwidth": 1.5,
          "ax": 0.36996588110923767,
          "axref": "x2",
          "ay": 0.39692187309265137,
          "ayref": "y2",
          "showarrow": true,
          "text": "",
          "x": 0.42532047629356384,
          "xref": "x2",
          "y": 0.21344412863254547,
          "yref": "y2"
         },
         {
          "arrowcolor": "green",
          "arrowhead": 3,
          "arrowwidth": 1.5,
          "ax": 0.42532047629356384,
          "axref": "x2",
          "ay": 0.21344412863254547,
          "ayref": "y2",
          "showarrow": true,
          "text": "",
          "x": 0.4974914789199829,
          "xref": "x2",
          "y": 0.01952345110476017,
          "yref": "y2"
         },
         {
          "arrowcolor": "green",
          "arrowhead": 3,
          "arrowwidth": 1.5,
          "ax": 0.4974914789199829,
          "axref": "x2",
          "ay": 0.01952345110476017,
          "ayref": "y2",
          "showarrow": true,
          "text": "",
          "x": 0.548678994178772,
          "xref": "x2",
          "y": 0.11262001842260361,
          "yref": "y2"
         },
         {
          "arrowcolor": "green",
          "arrowhead": 3,
          "arrowwidth": 1.5,
          "ax": 0.548678994178772,
          "axref": "x2",
          "ay": 0.11262001842260361,
          "ayref": "y2",
          "showarrow": true,
          "text": "",
          "x": 0.6224187612533569,
          "xref": "x2",
          "y": 0.25329339504241943,
          "yref": "y2"
         },
         {
          "arrowcolor": "green",
          "arrowhead": 3,
          "arrowwidth": 1.5,
          "ax": 0.6224187612533569,
          "axref": "x2",
          "ay": 0.25329339504241943,
          "ayref": "y2",
          "showarrow": true,
          "text": "",
          "x": 0.6661401391029358,
          "xref": "x2",
          "y": 0.27396759390830994,
          "yref": "y2"
         }
        ],
        "showlegend": false,
        "template": {
         "data": {
          "bar": [
           {
            "error_x": {
             "color": "#2a3f5f"
            },
            "error_y": {
             "color": "#2a3f5f"
            },
            "marker": {
             "line": {
              "color": "#E5ECF6",
              "width": 0.5
             },
             "pattern": {
              "fillmode": "overlay",
              "size": 10,
              "solidity": 0.2
             }
            },
            "type": "bar"
           }
          ],
          "barpolar": [
           {
            "marker": {
             "line": {
              "color": "#E5ECF6",
              "width": 0.5
             },
             "pattern": {
              "fillmode": "overlay",
              "size": 10,
              "solidity": 0.2
             }
            },
            "type": "barpolar"
           }
          ],
          "carpet": [
           {
            "aaxis": {
             "endlinecolor": "#2a3f5f",
             "gridcolor": "white",
             "linecolor": "white",
             "minorgridcolor": "white",
             "startlinecolor": "#2a3f5f"
            },
            "baxis": {
             "endlinecolor": "#2a3f5f",
             "gridcolor": "white",
             "linecolor": "white",
             "minorgridcolor": "white",
             "startlinecolor": "#2a3f5f"
            },
            "type": "carpet"
           }
          ],
          "choropleth": [
           {
            "colorbar": {
             "outlinewidth": 0,
             "ticks": ""
            },
            "type": "choropleth"
           }
          ],
          "contour": [
           {
            "colorbar": {
             "outlinewidth": 0,
             "ticks": ""
            },
            "colorscale": [
             [
              0,
              "#0d0887"
             ],
             [
              0.1111111111111111,
              "#46039f"
             ],
             [
              0.2222222222222222,
              "#7201a8"
             ],
             [
              0.3333333333333333,
              "#9c179e"
             ],
             [
              0.4444444444444444,
              "#bd3786"
             ],
             [
              0.5555555555555556,
              "#d8576b"
             ],
             [
              0.6666666666666666,
              "#ed7953"
             ],
             [
              0.7777777777777778,
              "#fb9f3a"
             ],
             [
              0.8888888888888888,
              "#fdca26"
             ],
             [
              1,
              "#f0f921"
             ]
            ],
            "type": "contour"
           }
          ],
          "contourcarpet": [
           {
            "colorbar": {
             "outlinewidth": 0,
             "ticks": ""
            },
            "type": "contourcarpet"
           }
          ],
          "heatmap": [
           {
            "colorbar": {
             "outlinewidth": 0,
             "ticks": ""
            },
            "colorscale": [
             [
              0,
              "#0d0887"
             ],
             [
              0.1111111111111111,
              "#46039f"
             ],
             [
              0.2222222222222222,
              "#7201a8"
             ],
             [
              0.3333333333333333,
              "#9c179e"
             ],
             [
              0.4444444444444444,
              "#bd3786"
             ],
             [
              0.5555555555555556,
              "#d8576b"
             ],
             [
              0.6666666666666666,
              "#ed7953"
             ],
             [
              0.7777777777777778,
              "#fb9f3a"
             ],
             [
              0.8888888888888888,
              "#fdca26"
             ],
             [
              1,
              "#f0f921"
             ]
            ],
            "type": "heatmap"
           }
          ],
          "heatmapgl": [
           {
            "colorbar": {
             "outlinewidth": 0,
             "ticks": ""
            },
            "colorscale": [
             [
              0,
              "#0d0887"
             ],
             [
              0.1111111111111111,
              "#46039f"
             ],
             [
              0.2222222222222222,
              "#7201a8"
             ],
             [
              0.3333333333333333,
              "#9c179e"
             ],
             [
              0.4444444444444444,
              "#bd3786"
             ],
             [
              0.5555555555555556,
              "#d8576b"
             ],
             [
              0.6666666666666666,
              "#ed7953"
             ],
             [
              0.7777777777777778,
              "#fb9f3a"
             ],
             [
              0.8888888888888888,
              "#fdca26"
             ],
             [
              1,
              "#f0f921"
             ]
            ],
            "type": "heatmapgl"
           }
          ],
          "histogram": [
           {
            "marker": {
             "pattern": {
              "fillmode": "overlay",
              "size": 10,
              "solidity": 0.2
             }
            },
            "type": "histogram"
           }
          ],
          "histogram2d": [
           {
            "colorbar": {
             "outlinewidth": 0,
             "ticks": ""
            },
            "colorscale": [
             [
              0,
              "#0d0887"
             ],
             [
              0.1111111111111111,
              "#46039f"
             ],
             [
              0.2222222222222222,
              "#7201a8"
             ],
             [
              0.3333333333333333,
              "#9c179e"
             ],
             [
              0.4444444444444444,
              "#bd3786"
             ],
             [
              0.5555555555555556,
              "#d8576b"
             ],
             [
              0.6666666666666666,
              "#ed7953"
             ],
             [
              0.7777777777777778,
              "#fb9f3a"
             ],
             [
              0.8888888888888888,
              "#fdca26"
             ],
             [
              1,
              "#f0f921"
             ]
            ],
            "type": "histogram2d"
           }
          ],
          "histogram2dcontour": [
           {
            "colorbar": {
             "outlinewidth": 0,
             "ticks": ""
            },
            "colorscale": [
             [
              0,
              "#0d0887"
             ],
             [
              0.1111111111111111,
              "#46039f"
             ],
             [
              0.2222222222222222,
              "#7201a8"
             ],
             [
              0.3333333333333333,
              "#9c179e"
             ],
             [
              0.4444444444444444,
              "#bd3786"
             ],
             [
              0.5555555555555556,
              "#d8576b"
             ],
             [
              0.6666666666666666,
              "#ed7953"
             ],
             [
              0.7777777777777778,
              "#fb9f3a"
             ],
             [
              0.8888888888888888,
              "#fdca26"
             ],
             [
              1,
              "#f0f921"
             ]
            ],
            "type": "histogram2dcontour"
           }
          ],
          "mesh3d": [
           {
            "colorbar": {
             "outlinewidth": 0,
             "ticks": ""
            },
            "type": "mesh3d"
           }
          ],
          "parcoords": [
           {
            "line": {
             "colorbar": {
              "outlinewidth": 0,
              "ticks": ""
             }
            },
            "type": "parcoords"
           }
          ],
          "pie": [
           {
            "automargin": true,
            "type": "pie"
           }
          ],
          "scatter": [
           {
            "fillpattern": {
             "fillmode": "overlay",
             "size": 10,
             "solidity": 0.2
            },
            "type": "scatter"
           }
          ],
          "scatter3d": [
           {
            "line": {
             "colorbar": {
              "outlinewidth": 0,
              "ticks": ""
             }
            },
            "marker": {
             "colorbar": {
              "outlinewidth": 0,
              "ticks": ""
             }
            },
            "type": "scatter3d"
           }
          ],
          "scattercarpet": [
           {
            "marker": {
             "colorbar": {
              "outlinewidth": 0,
              "ticks": ""
             }
            },
            "type": "scattercarpet"
           }
          ],
          "scattergeo": [
           {
            "marker": {
             "colorbar": {
              "outlinewidth": 0,
              "ticks": ""
             }
            },
            "type": "scattergeo"
           }
          ],
          "scattergl": [
           {
            "marker": {
             "colorbar": {
              "outlinewidth": 0,
              "ticks": ""
             }
            },
            "type": "scattergl"
           }
          ],
          "scattermapbox": [
           {
            "marker": {
             "colorbar": {
              "outlinewidth": 0,
              "ticks": ""
             }
            },
            "type": "scattermapbox"
           }
          ],
          "scatterpolar": [
           {
            "marker": {
             "colorbar": {
              "outlinewidth": 0,
              "ticks": ""
             }
            },
            "type": "scatterpolar"
           }
          ],
          "scatterpolargl": [
           {
            "marker": {
             "colorbar": {
              "outlinewidth": 0,
              "ticks": ""
             }
            },
            "type": "scatterpolargl"
           }
          ],
          "scatterternary": [
           {
            "marker": {
             "colorbar": {
              "outlinewidth": 0,
              "ticks": ""
             }
            },
            "type": "scatterternary"
           }
          ],
          "surface": [
           {
            "colorbar": {
             "outlinewidth": 0,
             "ticks": ""
            },
            "colorscale": [
             [
              0,
              "#0d0887"
             ],
             [
              0.1111111111111111,
              "#46039f"
             ],
             [
              0.2222222222222222,
              "#7201a8"
             ],
             [
              0.3333333333333333,
              "#9c179e"
             ],
             [
              0.4444444444444444,
              "#bd3786"
             ],
             [
              0.5555555555555556,
              "#d8576b"
             ],
             [
              0.6666666666666666,
              "#ed7953"
             ],
             [
              0.7777777777777778,
              "#fb9f3a"
             ],
             [
              0.8888888888888888,
              "#fdca26"
             ],
             [
              1,
              "#f0f921"
             ]
            ],
            "type": "surface"
           }
          ],
          "table": [
           {
            "cells": {
             "fill": {
              "color": "#EBF0F8"
             },
             "line": {
              "color": "white"
             }
            },
            "header": {
             "fill": {
              "color": "#C8D4E3"
             },
             "line": {
              "color": "white"
             }
            },
            "type": "table"
           }
          ]
         },
         "layout": {
          "annotationdefaults": {
           "arrowcolor": "#2a3f5f",
           "arrowhead": 0,
           "arrowwidth": 1
          },
          "autotypenumbers": "strict",
          "coloraxis": {
           "colorbar": {
            "outlinewidth": 0,
            "ticks": ""
           }
          },
          "colorscale": {
           "diverging": [
            [
             0,
             "#8e0152"
            ],
            [
             0.1,
             "#c51b7d"
            ],
            [
             0.2,
             "#de77ae"
            ],
            [
             0.3,
             "#f1b6da"
            ],
            [
             0.4,
             "#fde0ef"
            ],
            [
             0.5,
             "#f7f7f7"
            ],
            [
             0.6,
             "#e6f5d0"
            ],
            [
             0.7,
             "#b8e186"
            ],
            [
             0.8,
             "#7fbc41"
            ],
            [
             0.9,
             "#4d9221"
            ],
            [
             1,
             "#276419"
            ]
           ],
           "sequential": [
            [
             0,
             "#0d0887"
            ],
            [
             0.1111111111111111,
             "#46039f"
            ],
            [
             0.2222222222222222,
             "#7201a8"
            ],
            [
             0.3333333333333333,
             "#9c179e"
            ],
            [
             0.4444444444444444,
             "#bd3786"
            ],
            [
             0.5555555555555556,
             "#d8576b"
            ],
            [
             0.6666666666666666,
             "#ed7953"
            ],
            [
             0.7777777777777778,
             "#fb9f3a"
            ],
            [
             0.8888888888888888,
             "#fdca26"
            ],
            [
             1,
             "#f0f921"
            ]
           ],
           "sequentialminus": [
            [
             0,
             "#0d0887"
            ],
            [
             0.1111111111111111,
             "#46039f"
            ],
            [
             0.2222222222222222,
             "#7201a8"
            ],
            [
             0.3333333333333333,
             "#9c179e"
            ],
            [
             0.4444444444444444,
             "#bd3786"
            ],
            [
             0.5555555555555556,
             "#d8576b"
            ],
            [
             0.6666666666666666,
             "#ed7953"
            ],
            [
             0.7777777777777778,
             "#fb9f3a"
            ],
            [
             0.8888888888888888,
             "#fdca26"
            ],
            [
             1,
             "#f0f921"
            ]
           ]
          },
          "colorway": [
           "#636efa",
           "#EF553B",
           "#00cc96",
           "#ab63fa",
           "#FFA15A",
           "#19d3f3",
           "#FF6692",
           "#B6E880",
           "#FF97FF",
           "#FECB52"
          ],
          "font": {
           "color": "#2a3f5f"
          },
          "geo": {
           "bgcolor": "white",
           "lakecolor": "white",
           "landcolor": "#E5ECF6",
           "showlakes": true,
           "showland": true,
           "subunitcolor": "white"
          },
          "hoverlabel": {
           "align": "left"
          },
          "hovermode": "closest",
          "mapbox": {
           "style": "light"
          },
          "paper_bgcolor": "white",
          "plot_bgcolor": "#E5ECF6",
          "polar": {
           "angularaxis": {
            "gridcolor": "white",
            "linecolor": "white",
            "ticks": ""
           },
           "bgcolor": "#E5ECF6",
           "radialaxis": {
            "gridcolor": "white",
            "linecolor": "white",
            "ticks": ""
           }
          },
          "scene": {
           "xaxis": {
            "backgroundcolor": "#E5ECF6",
            "gridcolor": "white",
            "gridwidth": 2,
            "linecolor": "white",
            "showbackground": true,
            "ticks": "",
            "zerolinecolor": "white"
           },
           "yaxis": {
            "backgroundcolor": "#E5ECF6",
            "gridcolor": "white",
            "gridwidth": 2,
            "linecolor": "white",
            "showbackground": true,
            "ticks": "",
            "zerolinecolor": "white"
           },
           "zaxis": {
            "backgroundcolor": "#E5ECF6",
            "gridcolor": "white",
            "gridwidth": 2,
            "linecolor": "white",
            "showbackground": true,
            "ticks": "",
            "zerolinecolor": "white"
           }
          },
          "shapedefaults": {
           "line": {
            "color": "#2a3f5f"
           }
          },
          "ternary": {
           "aaxis": {
            "gridcolor": "white",
            "linecolor": "white",
            "ticks": ""
           },
           "baxis": {
            "gridcolor": "white",
            "linecolor": "white",
            "ticks": ""
           },
           "bgcolor": "#E5ECF6",
           "caxis": {
            "gridcolor": "white",
            "linecolor": "white",
            "ticks": ""
           }
          },
          "title": {
           "x": 0.05
          },
          "xaxis": {
           "automargin": true,
           "gridcolor": "white",
           "linecolor": "white",
           "ticks": "",
           "title": {
            "standoff": 15
           },
           "zerolinecolor": "white",
           "zerolinewidth": 2
          },
          "yaxis": {
           "automargin": true,
           "gridcolor": "white",
           "linecolor": "white",
           "ticks": "",
           "title": {
            "standoff": 15
           },
           "zerolinecolor": "white",
           "zerolinewidth": 2
          }
         }
        },
        "xaxis": {
         "anchor": "y",
         "domain": [
          0,
          0.45
         ],
         "visible": false
        },
        "xaxis2": {
         "anchor": "y2",
         "domain": [
          0.55,
          1
         ],
         "visible": false
        },
        "yaxis": {
         "anchor": "x",
         "domain": [
          0,
          1
         ],
         "visible": false
        },
        "yaxis2": {
         "anchor": "x2",
         "domain": [
          0,
          1
         ],
         "visible": false
        }
       }
      }
     },
     "metadata": {},
     "output_type": "display_data"
    },
    {
     "data": {
      "application/vnd.plotly.v1+json": {
       "config": {
        "plotlyServerURL": "https://plot.ly"
       },
       "data": [
        {
         "marker": {
          "color": "red"
         },
         "mode": "markers",
         "type": "scatter",
         "x": [
          0.09206449240446091,
          0.632741391658783,
          0.22243206202983856,
          0.4708704650402069,
          0.2687699496746063,
          0.35118305683135986,
          0.2660906910896301,
          0.1538691222667694,
          0.25192078948020935,
          0.2300100177526474,
          0.8113844990730286,
          0.37462514638900757,
          0.6078131198883057,
          0.22462591528892517,
          0.0850023701786995,
          0.35945743322372437,
          0.29412177205085754,
          0.5155704021453857,
          0.5011448264122009,
          1,
          0.3341479003429413,
          0.7250296473503113,
          0.5267367362976074,
          0.8250149488449097,
          0.9180075526237488,
          0.1065584197640419,
          0.3347638249397278,
          0.4738849103450775,
          0.20199842751026154,
          0.536797821521759,
          0.17745110392570496,
          0.2909587621688843,
          0.8118743300437927,
          0.3626827001571655,
          0.8047382831573486,
          0.9098134636878967,
          0.5601549744606018,
          0.0713401809334755,
          0.5701894760131836,
          0.705963134765625,
          0.45227351784706116,
          0.9499271512031555,
          0.38276365399360657,
          0.5156728625297546,
          0.26349174976348877,
          0.08844205737113953,
          0.8662732243537903,
          0.5747721195220947,
          0.14363527297973633,
          0.5589280724525452
         ],
         "xaxis": "x",
         "y": [
          0.01358405314385891,
          0.2355448305606842,
          0.5246801376342773,
          0.793908953666687,
          0.4639367461204529,
          0.15941661596298218,
          0.5707613229751587,
          0.14533767104148865,
          0.4402063190937042,
          0.874582827091217,
          0.03162946552038193,
          0.33469533920288086,
          0.22042542695999146,
          0.6225489974021912,
          0.3665662705898285,
          0.6818361878395081,
          0.9558321833610535,
          0.8647683262825012,
          0.5436099171638489,
          0.8971468806266785,
          0.5351700782775879,
          0.8908355832099915,
          0.8108198046684265,
          0.15167847275733948,
          0.6973279714584351,
          0.21755824983119965,
          0.613750696182251,
          0.12518154084682465,
          0.33123743534088135,
          0.13522358238697052,
          0.6192588806152344,
          0.7208820581436157,
          0.29431235790252686,
          0.10095702111721039,
          0.8650709390640259,
          0.03997549042105675,
          0.8586599826812744,
          0.9095173478126526,
          0.6063804030418396,
          0.4457702338695526,
          0.26759210228919983,
          0.6268665194511414,
          0.3823969066143036,
          0.24657754600048065,
          0.24698708951473236,
          0.740028977394104,
          0.2428547739982605,
          0.013228856958448887,
          0.07533301413059235,
          1
         ],
         "yaxis": "y"
        },
        {
         "marker": {
          "color": "red"
         },
         "mode": "markers",
         "type": "scatter",
         "x": [
          0.09206449240446091,
          0.632741391658783,
          0.22243206202983856,
          0.4708704650402069,
          0.2687699496746063,
          0.35118305683135986,
          0.2660906910896301,
          0.1538691222667694,
          0.25192078948020935,
          0.2300100177526474,
          0.8113844990730286,
          0.37462514638900757,
          0.6078131198883057,
          0.22462591528892517,
          0.0850023701786995,
          0.35945743322372437,
          0.29412177205085754,
          0.5155704021453857,
          0.5011448264122009,
          1,
          0.3341479003429413,
          0.7250296473503113,
          0.5267367362976074,
          0.8250149488449097,
          0.9180075526237488,
          0.1065584197640419,
          0.3347638249397278,
          0.4738849103450775,
          0.20199842751026154,
          0.536797821521759,
          0.17745110392570496,
          0.2909587621688843,
          0.8118743300437927,
          0.3626827001571655,
          0.8047382831573486,
          0.9098134636878967,
          0.5601549744606018,
          0.0713401809334755,
          0.5701894760131836,
          0.705963134765625,
          0.45227351784706116,
          0.9499271512031555,
          0.38276365399360657,
          0.5156728625297546,
          0.26349174976348877,
          0.08844205737113953,
          0.8662732243537903,
          0.5747721195220947,
          0.14363527297973633,
          0.5589280724525452
         ],
         "xaxis": "x2",
         "y": [
          0.01358405314385891,
          0.2355448305606842,
          0.5246801376342773,
          0.793908953666687,
          0.4639367461204529,
          0.15941661596298218,
          0.5707613229751587,
          0.14533767104148865,
          0.4402063190937042,
          0.874582827091217,
          0.03162946552038193,
          0.33469533920288086,
          0.22042542695999146,
          0.6225489974021912,
          0.3665662705898285,
          0.6818361878395081,
          0.9558321833610535,
          0.8647683262825012,
          0.5436099171638489,
          0.8971468806266785,
          0.5351700782775879,
          0.8908355832099915,
          0.8108198046684265,
          0.15167847275733948,
          0.6973279714584351,
          0.21755824983119965,
          0.613750696182251,
          0.12518154084682465,
          0.33123743534088135,
          0.13522358238697052,
          0.6192588806152344,
          0.7208820581436157,
          0.29431235790252686,
          0.10095702111721039,
          0.8650709390640259,
          0.03997549042105675,
          0.8586599826812744,
          0.9095173478126526,
          0.6063804030418396,
          0.4457702338695526,
          0.26759210228919983,
          0.6268665194511414,
          0.3823969066143036,
          0.24657754600048065,
          0.24698708951473236,
          0.740028977394104,
          0.2428547739982605,
          0.013228856958448887,
          0.07533301413059235,
          1
         ],
         "yaxis": "y2"
        }
       ],
       "layout": {
        "annotations": [
         {
          "font": {
           "size": 16
          },
          "showarrow": false,
          "text": "Christofides",
          "x": 0.225,
          "xanchor": "center",
          "xref": "paper",
          "y": 1,
          "yanchor": "bottom",
          "yref": "paper"
         },
         {
          "font": {
           "size": 16
          },
          "showarrow": false,
          "text": "Ours",
          "x": 0.775,
          "xanchor": "center",
          "xref": "paper",
          "y": 1,
          "yanchor": "bottom",
          "yref": "paper"
         },
         {
          "arrowcolor": "blue",
          "arrowhead": 3,
          "arrowwidth": 1.5,
          "ax": 0.09206449240446091,
          "axref": "x",
          "ay": 0.01358405314385891,
          "ayref": "y",
          "showarrow": true,
          "text": "",
          "x": 0.0850023701786995,
          "xref": "x",
          "y": 0.3665662705898285,
          "yref": "y"
         },
         {
          "arrowcolor": "blue",
          "arrowhead": 3,
          "arrowwidth": 1.5,
          "ax": 0.0850023701786995,
          "axref": "x",
          "ay": 0.3665662705898285,
          "ayref": "y",
          "showarrow": true,
          "text": "",
          "x": 0.20199842751026154,
          "xref": "x",
          "y": 0.33123743534088135,
          "yref": "y"
         },
         {
          "arrowcolor": "blue",
          "arrowhead": 3,
          "arrowwidth": 1.5,
          "ax": 0.20199842751026154,
          "axref": "x",
          "ay": 0.33123743534088135,
          "ayref": "y",
          "showarrow": true,
          "text": "",
          "x": 0.26349174976348877,
          "xref": "x",
          "y": 0.24698708951473236,
          "yref": "y"
         },
         {
          "arrowcolor": "blue",
          "arrowhead": 3,
          "arrowwidth": 1.5,
          "ax": 0.26349174976348877,
          "axref": "x",
          "ay": 0.24698708951473236,
          "ayref": "y",
          "showarrow": true,
          "text": "",
          "x": 0.35118305683135986,
          "xref": "x",
          "y": 0.15941661596298218,
          "yref": "y"
         },
         {
          "arrowcolor": "blue",
          "arrowhead": 3,
          "arrowwidth": 1.5,
          "ax": 0.35118305683135986,
          "axref": "x",
          "ay": 0.15941661596298218,
          "ayref": "y",
          "showarrow": true,
          "text": "",
          "x": 0.3626827001571655,
          "xref": "x",
          "y": 0.10095702111721039,
          "yref": "y"
         },
         {
          "arrowcolor": "blue",
          "arrowhead": 3,
          "arrowwidth": 1.5,
          "ax": 0.3626827001571655,
          "axref": "x",
          "ay": 0.10095702111721039,
          "ayref": "y",
          "showarrow": true,
          "text": "",
          "x": 0.4738849103450775,
          "xref": "x",
          "y": 0.12518154084682465,
          "yref": "y"
         },
         {
          "arrowcolor": "blue",
          "arrowhead": 3,
          "arrowwidth": 1.5,
          "ax": 0.4738849103450775,
          "axref": "x",
          "ay": 0.12518154084682465,
          "ayref": "y",
          "showarrow": true,
          "text": "",
          "x": 0.536797821521759,
          "xref": "x",
          "y": 0.13522358238697052,
          "yref": "y"
         },
         {
          "arrowcolor": "blue",
          "arrowhead": 3,
          "arrowwidth": 1.5,
          "ax": 0.536797821521759,
          "axref": "x",
          "ay": 0.13522358238697052,
          "ayref": "y",
          "showarrow": true,
          "text": "",
          "x": 0.5747721195220947,
          "xref": "x",
          "y": 0.013228856958448887,
          "yref": "y"
         },
         {
          "arrowcolor": "blue",
          "arrowhead": 3,
          "arrowwidth": 1.5,
          "ax": 0.5747721195220947,
          "axref": "x",
          "ay": 0.013228856958448887,
          "ayref": "y",
          "showarrow": true,
          "text": "",
          "x": 0.6078131198883057,
          "xref": "x",
          "y": 0.22042542695999146,
          "yref": "y"
         },
         {
          "arrowcolor": "blue",
          "arrowhead": 3,
          "arrowwidth": 1.5,
          "ax": 0.6078131198883057,
          "axref": "x",
          "ay": 0.22042542695999146,
          "ayref": "y",
          "showarrow": true,
          "text": "",
          "x": 0.38276365399360657,
          "xref": "x",
          "y": 0.3823969066143036,
          "yref": "y"
         },
         {
          "arrowcolor": "blue",
          "arrowhead": 3,
          "arrowwidth": 1.5,
          "ax": 0.38276365399360657,
          "axref": "x",
          "ay": 0.3823969066143036,
          "ayref": "y",
          "showarrow": true,
          "text": "",
          "x": 0.37462514638900757,
          "xref": "x",
          "y": 0.33469533920288086,
          "yref": "y"
         },
         {
          "arrowcolor": "blue",
          "arrowhead": 3,
          "arrowwidth": 1.5,
          "ax": 0.37462514638900757,
          "axref": "x",
          "ay": 0.33469533920288086,
          "ayref": "y",
          "showarrow": true,
          "text": "",
          "x": 0.45227351784706116,
          "xref": "x",
          "y": 0.26759210228919983,
          "yref": "y"
         },
         {
          "arrowcolor": "blue",
          "arrowhead": 3,
          "arrowwidth": 1.5,
          "ax": 0.45227351784706116,
          "axref": "x",
          "ay": 0.26759210228919983,
          "ayref": "y",
          "showarrow": true,
          "text": "",
          "x": 0.5156728625297546,
          "xref": "x",
          "y": 0.24657754600048065,
          "yref": "y"
         },
         {
          "arrowcolor": "blue",
          "arrowhead": 3,
          "arrowwidth": 1.5,
          "ax": 0.5156728625297546,
          "axref": "x",
          "ay": 0.24657754600048065,
          "ayref": "y",
          "showarrow": true,
          "text": "",
          "x": 0.632741391658783,
          "xref": "x",
          "y": 0.2355448305606842,
          "yref": "y"
         },
         {
          "arrowcolor": "blue",
          "arrowhead": 3,
          "arrowwidth": 1.5,
          "ax": 0.632741391658783,
          "axref": "x",
          "ay": 0.2355448305606842,
          "ayref": "y",
          "showarrow": true,
          "text": "",
          "x": 0.8118743300437927,
          "xref": "x",
          "y": 0.29431235790252686,
          "yref": "y"
         },
         {
          "arrowcolor": "blue",
          "arrowhead": 3,
          "arrowwidth": 1.5,
          "ax": 0.8118743300437927,
          "axref": "x",
          "ay": 0.29431235790252686,
          "ayref": "y",
          "showarrow": true,
          "text": "",
          "x": 0.9098134636878967,
          "xref": "x",
          "y": 0.03997549042105675,
          "yref": "y"
         },
         {
          "arrowcolor": "blue",
          "arrowhead": 3,
          "arrowwidth": 1.5,
          "ax": 0.9098134636878967,
          "axref": "x",
          "ay": 0.03997549042105675,
          "ayref": "y",
          "showarrow": true,
          "text": "",
          "x": 0.8113844990730286,
          "xref": "x",
          "y": 0.03162946552038193,
          "yref": "y"
         },
         {
          "arrowcolor": "blue",
          "arrowhead": 3,
          "arrowwidth": 1.5,
          "ax": 0.8113844990730286,
          "axref": "x",
          "ay": 0.03162946552038193,
          "ayref": "y",
          "showarrow": true,
          "text": "",
          "x": 0.8250149488449097,
          "xref": "x",
          "y": 0.15167847275733948,
          "yref": "y"
         },
         {
          "arrowcolor": "blue",
          "arrowhead": 3,
          "arrowwidth": 1.5,
          "ax": 0.8250149488449097,
          "axref": "x",
          "ay": 0.15167847275733948,
          "ayref": "y",
          "showarrow": true,
          "text": "",
          "x": 0.8662732243537903,
          "xref": "x",
          "y": 0.2428547739982605,
          "yref": "y"
         },
         {
          "arrowcolor": "blue",
          "arrowhead": 3,
          "arrowwidth": 1.5,
          "ax": 0.8662732243537903,
          "axref": "x",
          "ay": 0.2428547739982605,
          "ayref": "y",
          "showarrow": true,
          "text": "",
          "x": 0.705963134765625,
          "xref": "x",
          "y": 0.4457702338695526,
          "yref": "y"
         },
         {
          "arrowcolor": "blue",
          "arrowhead": 3,
          "arrowwidth": 1.5,
          "ax": 0.705963134765625,
          "axref": "x",
          "ay": 0.4457702338695526,
          "ayref": "y",
          "showarrow": true,
          "text": "",
          "x": 0.9499271512031555,
          "xref": "x",
          "y": 0.6268665194511414,
          "yref": "y"
         },
         {
          "arrowcolor": "blue",
          "arrowhead": 3,
          "arrowwidth": 1.5,
          "ax": 0.9499271512031555,
          "axref": "x",
          "ay": 0.6268665194511414,
          "ayref": "y",
          "showarrow": true,
          "text": "",
          "x": 0.9180075526237488,
          "xref": "x",
          "y": 0.6973279714584351,
          "yref": "y"
         },
         {
          "arrowcolor": "blue",
          "arrowhead": 3,
          "arrowwidth": 1.5,
          "ax": 0.9180075526237488,
          "axref": "x",
          "ay": 0.6973279714584351,
          "ayref": "y",
          "showarrow": true,
          "text": "",
          "x": 0.8047382831573486,
          "xref": "x",
          "y": 0.8650709390640259,
          "yref": "y"
         },
         {
          "arrowcolor": "blue",
          "arrowhead": 3,
          "arrowwidth": 1.5,
          "ax": 0.8047382831573486,
          "axref": "x",
          "ay": 0.8650709390640259,
          "ayref": "y",
          "showarrow": true,
          "text": "",
          "x": 1,
          "xref": "x",
          "y": 0.8971468806266785,
          "yref": "y"
         },
         {
          "arrowcolor": "blue",
          "arrowhead": 3,
          "arrowwidth": 1.5,
          "ax": 1,
          "axref": "x",
          "ay": 0.8971468806266785,
          "ayref": "y",
          "showarrow": true,
          "text": "",
          "x": 0.7250296473503113,
          "xref": "x",
          "y": 0.8908355832099915,
          "yref": "y"
         },
         {
          "arrowcolor": "blue",
          "arrowhead": 3,
          "arrowwidth": 1.5,
          "ax": 0.7250296473503113,
          "axref": "x",
          "ay": 0.8908355832099915,
          "ayref": "y",
          "showarrow": true,
          "text": "",
          "x": 0.5601549744606018,
          "xref": "x",
          "y": 0.8586599826812744,
          "yref": "y"
         },
         {
          "arrowcolor": "blue",
          "arrowhead": 3,
          "arrowwidth": 1.5,
          "ax": 0.5601549744606018,
          "axref": "x",
          "ay": 0.8586599826812744,
          "ayref": "y",
          "showarrow": true,
          "text": "",
          "x": 0.5589280724525452,
          "xref": "x",
          "y": 1,
          "yref": "y"
         },
         {
          "arrowcolor": "blue",
          "arrowhead": 3,
          "arrowwidth": 1.5,
          "ax": 0.5589280724525452,
          "axref": "x",
          "ay": 1,
          "ayref": "y",
          "showarrow": true,
          "text": "",
          "x": 0.5155704021453857,
          "xref": "x",
          "y": 0.8647683262825012,
          "yref": "y"
         },
         {
          "arrowcolor": "blue",
          "arrowhead": 3,
          "arrowwidth": 1.5,
          "ax": 0.5155704021453857,
          "axref": "x",
          "ay": 0.8647683262825012,
          "ayref": "y",
          "showarrow": true,
          "text": "",
          "x": 0.5267367362976074,
          "xref": "x",
          "y": 0.8108198046684265,
          "yref": "y"
         },
         {
          "arrowcolor": "blue",
          "arrowhead": 3,
          "arrowwidth": 1.5,
          "ax": 0.5267367362976074,
          "axref": "x",
          "ay": 0.8108198046684265,
          "ayref": "y",
          "showarrow": true,
          "text": "",
          "x": 0.4708704650402069,
          "xref": "x",
          "y": 0.793908953666687,
          "yref": "y"
         },
         {
          "arrowcolor": "blue",
          "arrowhead": 3,
          "arrowwidth": 1.5,
          "ax": 0.4708704650402069,
          "axref": "x",
          "ay": 0.793908953666687,
          "ayref": "y",
          "showarrow": true,
          "text": "",
          "x": 0.35945743322372437,
          "xref": "x",
          "y": 0.6818361878395081,
          "yref": "y"
         },
         {
          "arrowcolor": "blue",
          "arrowhead": 3,
          "arrowwidth": 1.5,
          "ax": 0.35945743322372437,
          "axref": "x",
          "ay": 0.6818361878395081,
          "ayref": "y",
          "showarrow": true,
          "text": "",
          "x": 0.5701894760131836,
          "xref": "x",
          "y": 0.6063804030418396,
          "yref": "y"
         },
         {
          "arrowcolor": "blue",
          "arrowhead": 3,
          "arrowwidth": 1.5,
          "ax": 0.5701894760131836,
          "axref": "x",
          "ay": 0.6063804030418396,
          "ayref": "y",
          "showarrow": true,
          "text": "",
          "x": 0.5011448264122009,
          "xref": "x",
          "y": 0.5436099171638489,
          "yref": "y"
         },
         {
          "arrowcolor": "blue",
          "arrowhead": 3,
          "arrowwidth": 1.5,
          "ax": 0.5011448264122009,
          "axref": "x",
          "ay": 0.5436099171638489,
          "ayref": "y",
          "showarrow": true,
          "text": "",
          "x": 0.3341479003429413,
          "xref": "x",
          "y": 0.5351700782775879,
          "yref": "y"
         },
         {
          "arrowcolor": "blue",
          "arrowhead": 3,
          "arrowwidth": 1.5,
          "ax": 0.3341479003429413,
          "axref": "x",
          "ay": 0.5351700782775879,
          "ayref": "y",
          "showarrow": true,
          "text": "",
          "x": 0.2660906910896301,
          "xref": "x",
          "y": 0.5707613229751587,
          "yref": "y"
         },
         {
          "arrowcolor": "blue",
          "arrowhead": 3,
          "arrowwidth": 1.5,
          "ax": 0.2660906910896301,
          "axref": "x",
          "ay": 0.5707613229751587,
          "ayref": "y",
          "showarrow": true,
          "text": "",
          "x": 0.3347638249397278,
          "xref": "x",
          "y": 0.613750696182251,
          "yref": "y"
         },
         {
          "arrowcolor": "blue",
          "arrowhead": 3,
          "arrowwidth": 1.5,
          "ax": 0.3347638249397278,
          "axref": "x",
          "ay": 0.613750696182251,
          "ayref": "y",
          "showarrow": true,
          "text": "",
          "x": 0.2909587621688843,
          "xref": "x",
          "y": 0.7208820581436157,
          "yref": "y"
         },
         {
          "arrowcolor": "blue",
          "arrowhead": 3,
          "arrowwidth": 1.5,
          "ax": 0.2909587621688843,
          "axref": "x",
          "ay": 0.7208820581436157,
          "ayref": "y",
          "showarrow": true,
          "text": "",
          "x": 0.2300100177526474,
          "xref": "x",
          "y": 0.874582827091217,
          "yref": "y"
         },
         {
          "arrowcolor": "blue",
          "arrowhead": 3,
          "arrowwidth": 1.5,
          "ax": 0.2300100177526474,
          "axref": "x",
          "ay": 0.874582827091217,
          "ayref": "y",
          "showarrow": true,
          "text": "",
          "x": 0.29412177205085754,
          "xref": "x",
          "y": 0.9558321833610535,
          "yref": "y"
         },
         {
          "arrowcolor": "blue",
          "arrowhead": 3,
          "arrowwidth": 1.5,
          "ax": 0.29412177205085754,
          "axref": "x",
          "ay": 0.9558321833610535,
          "ayref": "y",
          "showarrow": true,
          "text": "",
          "x": 0.0713401809334755,
          "xref": "x",
          "y": 0.9095173478126526,
          "yref": "y"
         },
         {
          "arrowcolor": "blue",
          "arrowhead": 3,
          "arrowwidth": 1.5,
          "ax": 0.0713401809334755,
          "axref": "x",
          "ay": 0.9095173478126526,
          "ayref": "y",
          "showarrow": true,
          "text": "",
          "x": 0.08844205737113953,
          "xref": "x",
          "y": 0.740028977394104,
          "yref": "y"
         },
         {
          "arrowcolor": "blue",
          "arrowhead": 3,
          "arrowwidth": 1.5,
          "ax": 0.08844205737113953,
          "axref": "x",
          "ay": 0.740028977394104,
          "ayref": "y",
          "showarrow": true,
          "text": "",
          "x": 0.17745110392570496,
          "xref": "x",
          "y": 0.6192588806152344,
          "yref": "y"
         },
         {
          "arrowcolor": "blue",
          "arrowhead": 3,
          "arrowwidth": 1.5,
          "ax": 0.17745110392570496,
          "axref": "x",
          "ay": 0.6192588806152344,
          "ayref": "y",
          "showarrow": true,
          "text": "",
          "x": 0.22462591528892517,
          "xref": "x",
          "y": 0.6225489974021912,
          "yref": "y"
         },
         {
          "arrowcolor": "blue",
          "arrowhead": 3,
          "arrowwidth": 1.5,
          "ax": 0.22462591528892517,
          "axref": "x",
          "ay": 0.6225489974021912,
          "ayref": "y",
          "showarrow": true,
          "text": "",
          "x": 0.22243206202983856,
          "xref": "x",
          "y": 0.5246801376342773,
          "yref": "y"
         },
         {
          "arrowcolor": "blue",
          "arrowhead": 3,
          "arrowwidth": 1.5,
          "ax": 0.22243206202983856,
          "axref": "x",
          "ay": 0.5246801376342773,
          "ayref": "y",
          "showarrow": true,
          "text": "",
          "x": 0.2687699496746063,
          "xref": "x",
          "y": 0.4639367461204529,
          "yref": "y"
         },
         {
          "arrowcolor": "blue",
          "arrowhead": 3,
          "arrowwidth": 1.5,
          "ax": 0.2687699496746063,
          "axref": "x",
          "ay": 0.4639367461204529,
          "ayref": "y",
          "showarrow": true,
          "text": "",
          "x": 0.25192078948020935,
          "xref": "x",
          "y": 0.4402063190937042,
          "yref": "y"
         },
         {
          "arrowcolor": "blue",
          "arrowhead": 3,
          "arrowwidth": 1.5,
          "ax": 0.25192078948020935,
          "axref": "x",
          "ay": 0.4402063190937042,
          "ayref": "y",
          "showarrow": true,
          "text": "",
          "x": 0.1065584197640419,
          "xref": "x",
          "y": 0.21755824983119965,
          "yref": "y"
         },
         {
          "arrowcolor": "blue",
          "arrowhead": 3,
          "arrowwidth": 1.5,
          "ax": 0.1065584197640419,
          "axref": "x",
          "ay": 0.21755824983119965,
          "ayref": "y",
          "showarrow": true,
          "text": "",
          "x": 0.1538691222667694,
          "xref": "x",
          "y": 0.14533767104148865,
          "yref": "y"
         },
         {
          "arrowcolor": "blue",
          "arrowhead": 3,
          "arrowwidth": 1.5,
          "ax": 0.1538691222667694,
          "axref": "x",
          "ay": 0.14533767104148865,
          "ayref": "y",
          "showarrow": true,
          "text": "",
          "x": 0.14363527297973633,
          "xref": "x",
          "y": 0.07533301413059235,
          "yref": "y"
         },
         {
          "arrowcolor": "blue",
          "arrowhead": 3,
          "arrowwidth": 1.5,
          "ax": 0.14363527297973633,
          "axref": "x",
          "ay": 0.07533301413059235,
          "ayref": "y",
          "showarrow": true,
          "text": "",
          "x": 0.09206449240446091,
          "xref": "x",
          "y": 0.01358405314385891,
          "yref": "y"
         },
         {
          "arrowcolor": "green",
          "arrowhead": 3,
          "arrowwidth": 1.5,
          "ax": 0.5156728625297546,
          "axref": "x2",
          "ay": 0.24657754600048065,
          "ayref": "y2",
          "showarrow": true,
          "text": "",
          "x": 0.536797821521759,
          "xref": "x2",
          "y": 0.13522358238697052,
          "yref": "y2"
         },
         {
          "arrowcolor": "green",
          "arrowhead": 3,
          "arrowwidth": 1.5,
          "ax": 0.536797821521759,
          "axref": "x2",
          "ay": 0.13522358238697052,
          "ayref": "y2",
          "showarrow": true,
          "text": "",
          "x": 0.6078131198883057,
          "xref": "x2",
          "y": 0.22042542695999146,
          "yref": "y2"
         },
         {
          "arrowcolor": "green",
          "arrowhead": 3,
          "arrowwidth": 1.5,
          "ax": 0.6078131198883057,
          "axref": "x2",
          "ay": 0.22042542695999146,
          "ayref": "y2",
          "showarrow": true,
          "text": "",
          "x": 0.632741391658783,
          "xref": "x2",
          "y": 0.2355448305606842,
          "yref": "y2"
         },
         {
          "arrowcolor": "green",
          "arrowhead": 3,
          "arrowwidth": 1.5,
          "ax": 0.632741391658783,
          "axref": "x2",
          "ay": 0.2355448305606842,
          "ayref": "y2",
          "showarrow": true,
          "text": "",
          "x": 0.5747721195220947,
          "xref": "x2",
          "y": 0.013228856958448887,
          "yref": "y2"
         },
         {
          "arrowcolor": "green",
          "arrowhead": 3,
          "arrowwidth": 1.5,
          "ax": 0.5747721195220947,
          "axref": "x2",
          "ay": 0.013228856958448887,
          "ayref": "y2",
          "showarrow": true,
          "text": "",
          "x": 0.8113844990730286,
          "xref": "x2",
          "y": 0.03162946552038193,
          "yref": "y2"
         },
         {
          "arrowcolor": "green",
          "arrowhead": 3,
          "arrowwidth": 1.5,
          "ax": 0.8113844990730286,
          "axref": "x2",
          "ay": 0.03162946552038193,
          "ayref": "y2",
          "showarrow": true,
          "text": "",
          "x": 0.9098134636878967,
          "xref": "x2",
          "y": 0.03997549042105675,
          "yref": "y2"
         },
         {
          "arrowcolor": "green",
          "arrowhead": 3,
          "arrowwidth": 1.5,
          "ax": 0.9098134636878967,
          "axref": "x2",
          "ay": 0.03997549042105675,
          "ayref": "y2",
          "showarrow": true,
          "text": "",
          "x": 0.8250149488449097,
          "xref": "x2",
          "y": 0.15167847275733948,
          "yref": "y2"
         },
         {
          "arrowcolor": "green",
          "arrowhead": 3,
          "arrowwidth": 1.5,
          "ax": 0.8250149488449097,
          "axref": "x2",
          "ay": 0.15167847275733948,
          "ayref": "y2",
          "showarrow": true,
          "text": "",
          "x": 0.8662732243537903,
          "xref": "x2",
          "y": 0.2428547739982605,
          "yref": "y2"
         },
         {
          "arrowcolor": "green",
          "arrowhead": 3,
          "arrowwidth": 1.5,
          "ax": 0.8662732243537903,
          "axref": "x2",
          "ay": 0.2428547739982605,
          "ayref": "y2",
          "showarrow": true,
          "text": "",
          "x": 0.8118743300437927,
          "xref": "x2",
          "y": 0.29431235790252686,
          "yref": "y2"
         },
         {
          "arrowcolor": "green",
          "arrowhead": 3,
          "arrowwidth": 1.5,
          "ax": 0.8118743300437927,
          "axref": "x2",
          "ay": 0.29431235790252686,
          "ayref": "y2",
          "showarrow": true,
          "text": "",
          "x": 0.705963134765625,
          "xref": "x2",
          "y": 0.4457702338695526,
          "yref": "y2"
         },
         {
          "arrowcolor": "green",
          "arrowhead": 3,
          "arrowwidth": 1.5,
          "ax": 0.705963134765625,
          "axref": "x2",
          "ay": 0.4457702338695526,
          "ayref": "y2",
          "showarrow": true,
          "text": "",
          "x": 0.9499271512031555,
          "xref": "x2",
          "y": 0.6268665194511414,
          "yref": "y2"
         },
         {
          "arrowcolor": "green",
          "arrowhead": 3,
          "arrowwidth": 1.5,
          "ax": 0.9499271512031555,
          "axref": "x2",
          "ay": 0.6268665194511414,
          "ayref": "y2",
          "showarrow": true,
          "text": "",
          "x": 0.9180075526237488,
          "xref": "x2",
          "y": 0.6973279714584351,
          "yref": "y2"
         },
         {
          "arrowcolor": "green",
          "arrowhead": 3,
          "arrowwidth": 1.5,
          "ax": 0.9180075526237488,
          "axref": "x2",
          "ay": 0.6973279714584351,
          "ayref": "y2",
          "showarrow": true,
          "text": "",
          "x": 1,
          "xref": "x2",
          "y": 0.8971468806266785,
          "yref": "y2"
         },
         {
          "arrowcolor": "green",
          "arrowhead": 3,
          "arrowwidth": 1.5,
          "ax": 1,
          "axref": "x2",
          "ay": 0.8971468806266785,
          "ayref": "y2",
          "showarrow": true,
          "text": "",
          "x": 0.8047382831573486,
          "xref": "x2",
          "y": 0.8650709390640259,
          "yref": "y2"
         },
         {
          "arrowcolor": "green",
          "arrowhead": 3,
          "arrowwidth": 1.5,
          "ax": 0.8047382831573486,
          "axref": "x2",
          "ay": 0.8650709390640259,
          "ayref": "y2",
          "showarrow": true,
          "text": "",
          "x": 0.7250296473503113,
          "xref": "x2",
          "y": 0.8908355832099915,
          "yref": "y2"
         },
         {
          "arrowcolor": "green",
          "arrowhead": 3,
          "arrowwidth": 1.5,
          "ax": 0.7250296473503113,
          "axref": "x2",
          "ay": 0.8908355832099915,
          "ayref": "y2",
          "showarrow": true,
          "text": "",
          "x": 0.5589280724525452,
          "xref": "x2",
          "y": 1,
          "yref": "y2"
         },
         {
          "arrowcolor": "green",
          "arrowhead": 3,
          "arrowwidth": 1.5,
          "ax": 0.5589280724525452,
          "axref": "x2",
          "ay": 1,
          "ayref": "y2",
          "showarrow": true,
          "text": "",
          "x": 0.5601549744606018,
          "xref": "x2",
          "y": 0.8586599826812744,
          "yref": "y2"
         },
         {
          "arrowcolor": "green",
          "arrowhead": 3,
          "arrowwidth": 1.5,
          "ax": 0.5601549744606018,
          "axref": "x2",
          "ay": 0.8586599826812744,
          "ayref": "y2",
          "showarrow": true,
          "text": "",
          "x": 0.5155704021453857,
          "xref": "x2",
          "y": 0.8647683262825012,
          "yref": "y2"
         },
         {
          "arrowcolor": "green",
          "arrowhead": 3,
          "arrowwidth": 1.5,
          "ax": 0.5155704021453857,
          "axref": "x2",
          "ay": 0.8647683262825012,
          "ayref": "y2",
          "showarrow": true,
          "text": "",
          "x": 0.5267367362976074,
          "xref": "x2",
          "y": 0.8108198046684265,
          "yref": "y2"
         },
         {
          "arrowcolor": "green",
          "arrowhead": 3,
          "arrowwidth": 1.5,
          "ax": 0.5267367362976074,
          "axref": "x2",
          "ay": 0.8108198046684265,
          "ayref": "y2",
          "showarrow": true,
          "text": "",
          "x": 0.4708704650402069,
          "xref": "x2",
          "y": 0.793908953666687,
          "yref": "y2"
         },
         {
          "arrowcolor": "green",
          "arrowhead": 3,
          "arrowwidth": 1.5,
          "ax": 0.4708704650402069,
          "axref": "x2",
          "ay": 0.793908953666687,
          "ayref": "y2",
          "showarrow": true,
          "text": "",
          "x": 0.29412177205085754,
          "xref": "x2",
          "y": 0.9558321833610535,
          "yref": "y2"
         },
         {
          "arrowcolor": "green",
          "arrowhead": 3,
          "arrowwidth": 1.5,
          "ax": 0.29412177205085754,
          "axref": "x2",
          "ay": 0.9558321833610535,
          "ayref": "y2",
          "showarrow": true,
          "text": "",
          "x": 0.2300100177526474,
          "xref": "x2",
          "y": 0.874582827091217,
          "yref": "y2"
         },
         {
          "arrowcolor": "green",
          "arrowhead": 3,
          "arrowwidth": 1.5,
          "ax": 0.2300100177526474,
          "axref": "x2",
          "ay": 0.874582827091217,
          "ayref": "y2",
          "showarrow": true,
          "text": "",
          "x": 0.0713401809334755,
          "xref": "x2",
          "y": 0.9095173478126526,
          "yref": "y2"
         },
         {
          "arrowcolor": "green",
          "arrowhead": 3,
          "arrowwidth": 1.5,
          "ax": 0.0713401809334755,
          "axref": "x2",
          "ay": 0.9095173478126526,
          "ayref": "y2",
          "showarrow": true,
          "text": "",
          "x": 0.08844205737113953,
          "xref": "x2",
          "y": 0.740028977394104,
          "yref": "y2"
         },
         {
          "arrowcolor": "green",
          "arrowhead": 3,
          "arrowwidth": 1.5,
          "ax": 0.08844205737113953,
          "axref": "x2",
          "ay": 0.740028977394104,
          "ayref": "y2",
          "showarrow": true,
          "text": "",
          "x": 0.17745110392570496,
          "xref": "x2",
          "y": 0.6192588806152344,
          "yref": "y2"
         },
         {
          "arrowcolor": "green",
          "arrowhead": 3,
          "arrowwidth": 1.5,
          "ax": 0.17745110392570496,
          "axref": "x2",
          "ay": 0.6192588806152344,
          "ayref": "y2",
          "showarrow": true,
          "text": "",
          "x": 0.0850023701786995,
          "xref": "x2",
          "y": 0.3665662705898285,
          "yref": "y2"
         },
         {
          "arrowcolor": "green",
          "arrowhead": 3,
          "arrowwidth": 1.5,
          "ax": 0.0850023701786995,
          "axref": "x2",
          "ay": 0.3665662705898285,
          "ayref": "y2",
          "showarrow": true,
          "text": "",
          "x": 0.20199842751026154,
          "xref": "x2",
          "y": 0.33123743534088135,
          "yref": "y2"
         },
         {
          "arrowcolor": "green",
          "arrowhead": 3,
          "arrowwidth": 1.5,
          "ax": 0.20199842751026154,
          "axref": "x2",
          "ay": 0.33123743534088135,
          "ayref": "y2",
          "showarrow": true,
          "text": "",
          "x": 0.1065584197640419,
          "xref": "x2",
          "y": 0.21755824983119965,
          "yref": "y2"
         },
         {
          "arrowcolor": "green",
          "arrowhead": 3,
          "arrowwidth": 1.5,
          "ax": 0.1065584197640419,
          "axref": "x2",
          "ay": 0.21755824983119965,
          "ayref": "y2",
          "showarrow": true,
          "text": "",
          "x": 0.1538691222667694,
          "xref": "x2",
          "y": 0.14533767104148865,
          "yref": "y2"
         },
         {
          "arrowcolor": "green",
          "arrowhead": 3,
          "arrowwidth": 1.5,
          "ax": 0.1538691222667694,
          "axref": "x2",
          "ay": 0.14533767104148865,
          "ayref": "y2",
          "showarrow": true,
          "text": "",
          "x": 0.09206449240446091,
          "xref": "x2",
          "y": 0.01358405314385891,
          "yref": "y2"
         },
         {
          "arrowcolor": "green",
          "arrowhead": 3,
          "arrowwidth": 1.5,
          "ax": 0.09206449240446091,
          "axref": "x2",
          "ay": 0.01358405314385891,
          "ayref": "y2",
          "showarrow": true,
          "text": "",
          "x": 0.14363527297973633,
          "xref": "x2",
          "y": 0.07533301413059235,
          "yref": "y2"
         },
         {
          "arrowcolor": "green",
          "arrowhead": 3,
          "arrowwidth": 1.5,
          "ax": 0.14363527297973633,
          "axref": "x2",
          "ay": 0.07533301413059235,
          "ayref": "y2",
          "showarrow": true,
          "text": "",
          "x": 0.26349174976348877,
          "xref": "x2",
          "y": 0.24698708951473236,
          "yref": "y2"
         },
         {
          "arrowcolor": "green",
          "arrowhead": 3,
          "arrowwidth": 1.5,
          "ax": 0.26349174976348877,
          "axref": "x2",
          "ay": 0.24698708951473236,
          "ayref": "y2",
          "showarrow": true,
          "text": "",
          "x": 0.25192078948020935,
          "xref": "x2",
          "y": 0.4402063190937042,
          "yref": "y2"
         },
         {
          "arrowcolor": "green",
          "arrowhead": 3,
          "arrowwidth": 1.5,
          "ax": 0.25192078948020935,
          "axref": "x2",
          "ay": 0.4402063190937042,
          "ayref": "y2",
          "showarrow": true,
          "text": "",
          "x": 0.2687699496746063,
          "xref": "x2",
          "y": 0.4639367461204529,
          "yref": "y2"
         },
         {
          "arrowcolor": "green",
          "arrowhead": 3,
          "arrowwidth": 1.5,
          "ax": 0.2687699496746063,
          "axref": "x2",
          "ay": 0.4639367461204529,
          "ayref": "y2",
          "showarrow": true,
          "text": "",
          "x": 0.22243206202983856,
          "xref": "x2",
          "y": 0.5246801376342773,
          "yref": "y2"
         },
         {
          "arrowcolor": "green",
          "arrowhead": 3,
          "arrowwidth": 1.5,
          "ax": 0.22243206202983856,
          "axref": "x2",
          "ay": 0.5246801376342773,
          "ayref": "y2",
          "showarrow": true,
          "text": "",
          "x": 0.2660906910896301,
          "xref": "x2",
          "y": 0.5707613229751587,
          "yref": "y2"
         },
         {
          "arrowcolor": "green",
          "arrowhead": 3,
          "arrowwidth": 1.5,
          "ax": 0.2660906910896301,
          "axref": "x2",
          "ay": 0.5707613229751587,
          "ayref": "y2",
          "showarrow": true,
          "text": "",
          "x": 0.22462591528892517,
          "xref": "x2",
          "y": 0.6225489974021912,
          "yref": "y2"
         },
         {
          "arrowcolor": "green",
          "arrowhead": 3,
          "arrowwidth": 1.5,
          "ax": 0.22462591528892517,
          "axref": "x2",
          "ay": 0.6225489974021912,
          "ayref": "y2",
          "showarrow": true,
          "text": "",
          "x": 0.3347638249397278,
          "xref": "x2",
          "y": 0.613750696182251,
          "yref": "y2"
         },
         {
          "arrowcolor": "green",
          "arrowhead": 3,
          "arrowwidth": 1.5,
          "ax": 0.3347638249397278,
          "axref": "x2",
          "ay": 0.613750696182251,
          "ayref": "y2",
          "showarrow": true,
          "text": "",
          "x": 0.2909587621688843,
          "xref": "x2",
          "y": 0.7208820581436157,
          "yref": "y2"
         },
         {
          "arrowcolor": "green",
          "arrowhead": 3,
          "arrowwidth": 1.5,
          "ax": 0.2909587621688843,
          "axref": "x2",
          "ay": 0.7208820581436157,
          "ayref": "y2",
          "showarrow": true,
          "text": "",
          "x": 0.35945743322372437,
          "xref": "x2",
          "y": 0.6818361878395081,
          "yref": "y2"
         },
         {
          "arrowcolor": "green",
          "arrowhead": 3,
          "arrowwidth": 1.5,
          "ax": 0.35945743322372437,
          "axref": "x2",
          "ay": 0.6818361878395081,
          "ayref": "y2",
          "showarrow": true,
          "text": "",
          "x": 0.5701894760131836,
          "xref": "x2",
          "y": 0.6063804030418396,
          "yref": "y2"
         },
         {
          "arrowcolor": "green",
          "arrowhead": 3,
          "arrowwidth": 1.5,
          "ax": 0.5701894760131836,
          "axref": "x2",
          "ay": 0.6063804030418396,
          "ayref": "y2",
          "showarrow": true,
          "text": "",
          "x": 0.5011448264122009,
          "xref": "x2",
          "y": 0.5436099171638489,
          "yref": "y2"
         },
         {
          "arrowcolor": "green",
          "arrowhead": 3,
          "arrowwidth": 1.5,
          "ax": 0.5011448264122009,
          "axref": "x2",
          "ay": 0.5436099171638489,
          "ayref": "y2",
          "showarrow": true,
          "text": "",
          "x": 0.3341479003429413,
          "xref": "x2",
          "y": 0.5351700782775879,
          "yref": "y2"
         },
         {
          "arrowcolor": "green",
          "arrowhead": 3,
          "arrowwidth": 1.5,
          "ax": 0.3341479003429413,
          "axref": "x2",
          "ay": 0.5351700782775879,
          "ayref": "y2",
          "showarrow": true,
          "text": "",
          "x": 0.38276365399360657,
          "xref": "x2",
          "y": 0.3823969066143036,
          "yref": "y2"
         },
         {
          "arrowcolor": "green",
          "arrowhead": 3,
          "arrowwidth": 1.5,
          "ax": 0.38276365399360657,
          "axref": "x2",
          "ay": 0.3823969066143036,
          "ayref": "y2",
          "showarrow": true,
          "text": "",
          "x": 0.37462514638900757,
          "xref": "x2",
          "y": 0.33469533920288086,
          "yref": "y2"
         },
         {
          "arrowcolor": "green",
          "arrowhead": 3,
          "arrowwidth": 1.5,
          "ax": 0.37462514638900757,
          "axref": "x2",
          "ay": 0.33469533920288086,
          "ayref": "y2",
          "showarrow": true,
          "text": "",
          "x": 0.35118305683135986,
          "xref": "x2",
          "y": 0.15941661596298218,
          "yref": "y2"
         },
         {
          "arrowcolor": "green",
          "arrowhead": 3,
          "arrowwidth": 1.5,
          "ax": 0.35118305683135986,
          "axref": "x2",
          "ay": 0.15941661596298218,
          "ayref": "y2",
          "showarrow": true,
          "text": "",
          "x": 0.3626827001571655,
          "xref": "x2",
          "y": 0.10095702111721039,
          "yref": "y2"
         },
         {
          "arrowcolor": "green",
          "arrowhead": 3,
          "arrowwidth": 1.5,
          "ax": 0.3626827001571655,
          "axref": "x2",
          "ay": 0.10095702111721039,
          "ayref": "y2",
          "showarrow": true,
          "text": "",
          "x": 0.4738849103450775,
          "xref": "x2",
          "y": 0.12518154084682465,
          "yref": "y2"
         },
         {
          "arrowcolor": "green",
          "arrowhead": 3,
          "arrowwidth": 1.5,
          "ax": 0.4738849103450775,
          "axref": "x2",
          "ay": 0.12518154084682465,
          "ayref": "y2",
          "showarrow": true,
          "text": "",
          "x": 0.45227351784706116,
          "xref": "x2",
          "y": 0.26759210228919983,
          "yref": "y2"
         },
         {
          "arrowcolor": "green",
          "arrowhead": 3,
          "arrowwidth": 1.5,
          "ax": 0.45227351784706116,
          "axref": "x2",
          "ay": 0.26759210228919983,
          "ayref": "y2",
          "showarrow": true,
          "text": "",
          "x": 0.5156728625297546,
          "xref": "x2",
          "y": 0.24657754600048065,
          "yref": "y2"
         }
        ],
        "showlegend": false,
        "template": {
         "data": {
          "bar": [
           {
            "error_x": {
             "color": "#2a3f5f"
            },
            "error_y": {
             "color": "#2a3f5f"
            },
            "marker": {
             "line": {
              "color": "#E5ECF6",
              "width": 0.5
             },
             "pattern": {
              "fillmode": "overlay",
              "size": 10,
              "solidity": 0.2
             }
            },
            "type": "bar"
           }
          ],
          "barpolar": [
           {
            "marker": {
             "line": {
              "color": "#E5ECF6",
              "width": 0.5
             },
             "pattern": {
              "fillmode": "overlay",
              "size": 10,
              "solidity": 0.2
             }
            },
            "type": "barpolar"
           }
          ],
          "carpet": [
           {
            "aaxis": {
             "endlinecolor": "#2a3f5f",
             "gridcolor": "white",
             "linecolor": "white",
             "minorgridcolor": "white",
             "startlinecolor": "#2a3f5f"
            },
            "baxis": {
             "endlinecolor": "#2a3f5f",
             "gridcolor": "white",
             "linecolor": "white",
             "minorgridcolor": "white",
             "startlinecolor": "#2a3f5f"
            },
            "type": "carpet"
           }
          ],
          "choropleth": [
           {
            "colorbar": {
             "outlinewidth": 0,
             "ticks": ""
            },
            "type": "choropleth"
           }
          ],
          "contour": [
           {
            "colorbar": {
             "outlinewidth": 0,
             "ticks": ""
            },
            "colorscale": [
             [
              0,
              "#0d0887"
             ],
             [
              0.1111111111111111,
              "#46039f"
             ],
             [
              0.2222222222222222,
              "#7201a8"
             ],
             [
              0.3333333333333333,
              "#9c179e"
             ],
             [
              0.4444444444444444,
              "#bd3786"
             ],
             [
              0.5555555555555556,
              "#d8576b"
             ],
             [
              0.6666666666666666,
              "#ed7953"
             ],
             [
              0.7777777777777778,
              "#fb9f3a"
             ],
             [
              0.8888888888888888,
              "#fdca26"
             ],
             [
              1,
              "#f0f921"
             ]
            ],
            "type": "contour"
           }
          ],
          "contourcarpet": [
           {
            "colorbar": {
             "outlinewidth": 0,
             "ticks": ""
            },
            "type": "contourcarpet"
           }
          ],
          "heatmap": [
           {
            "colorbar": {
             "outlinewidth": 0,
             "ticks": ""
            },
            "colorscale": [
             [
              0,
              "#0d0887"
             ],
             [
              0.1111111111111111,
              "#46039f"
             ],
             [
              0.2222222222222222,
              "#7201a8"
             ],
             [
              0.3333333333333333,
              "#9c179e"
             ],
             [
              0.4444444444444444,
              "#bd3786"
             ],
             [
              0.5555555555555556,
              "#d8576b"
             ],
             [
              0.6666666666666666,
              "#ed7953"
             ],
             [
              0.7777777777777778,
              "#fb9f3a"
             ],
             [
              0.8888888888888888,
              "#fdca26"
             ],
             [
              1,
              "#f0f921"
             ]
            ],
            "type": "heatmap"
           }
          ],
          "heatmapgl": [
           {
            "colorbar": {
             "outlinewidth": 0,
             "ticks": ""
            },
            "colorscale": [
             [
              0,
              "#0d0887"
             ],
             [
              0.1111111111111111,
              "#46039f"
             ],
             [
              0.2222222222222222,
              "#7201a8"
             ],
             [
              0.3333333333333333,
              "#9c179e"
             ],
             [
              0.4444444444444444,
              "#bd3786"
             ],
             [
              0.5555555555555556,
              "#d8576b"
             ],
             [
              0.6666666666666666,
              "#ed7953"
             ],
             [
              0.7777777777777778,
              "#fb9f3a"
             ],
             [
              0.8888888888888888,
              "#fdca26"
             ],
             [
              1,
              "#f0f921"
             ]
            ],
            "type": "heatmapgl"
           }
          ],
          "histogram": [
           {
            "marker": {
             "pattern": {
              "fillmode": "overlay",
              "size": 10,
              "solidity": 0.2
             }
            },
            "type": "histogram"
           }
          ],
          "histogram2d": [
           {
            "colorbar": {
             "outlinewidth": 0,
             "ticks": ""
            },
            "colorscale": [
             [
              0,
              "#0d0887"
             ],
             [
              0.1111111111111111,
              "#46039f"
             ],
             [
              0.2222222222222222,
              "#7201a8"
             ],
             [
              0.3333333333333333,
              "#9c179e"
             ],
             [
              0.4444444444444444,
              "#bd3786"
             ],
             [
              0.5555555555555556,
              "#d8576b"
             ],
             [
              0.6666666666666666,
              "#ed7953"
             ],
             [
              0.7777777777777778,
              "#fb9f3a"
             ],
             [
              0.8888888888888888,
              "#fdca26"
             ],
             [
              1,
              "#f0f921"
             ]
            ],
            "type": "histogram2d"
           }
          ],
          "histogram2dcontour": [
           {
            "colorbar": {
             "outlinewidth": 0,
             "ticks": ""
            },
            "colorscale": [
             [
              0,
              "#0d0887"
             ],
             [
              0.1111111111111111,
              "#46039f"
             ],
             [
              0.2222222222222222,
              "#7201a8"
             ],
             [
              0.3333333333333333,
              "#9c179e"
             ],
             [
              0.4444444444444444,
              "#bd3786"
             ],
             [
              0.5555555555555556,
              "#d8576b"
             ],
             [
              0.6666666666666666,
              "#ed7953"
             ],
             [
              0.7777777777777778,
              "#fb9f3a"
             ],
             [
              0.8888888888888888,
              "#fdca26"
             ],
             [
              1,
              "#f0f921"
             ]
            ],
            "type": "histogram2dcontour"
           }
          ],
          "mesh3d": [
           {
            "colorbar": {
             "outlinewidth": 0,
             "ticks": ""
            },
            "type": "mesh3d"
           }
          ],
          "parcoords": [
           {
            "line": {
             "colorbar": {
              "outlinewidth": 0,
              "ticks": ""
             }
            },
            "type": "parcoords"
           }
          ],
          "pie": [
           {
            "automargin": true,
            "type": "pie"
           }
          ],
          "scatter": [
           {
            "fillpattern": {
             "fillmode": "overlay",
             "size": 10,
             "solidity": 0.2
            },
            "type": "scatter"
           }
          ],
          "scatter3d": [
           {
            "line": {
             "colorbar": {
              "outlinewidth": 0,
              "ticks": ""
             }
            },
            "marker": {
             "colorbar": {
              "outlinewidth": 0,
              "ticks": ""
             }
            },
            "type": "scatter3d"
           }
          ],
          "scattercarpet": [
           {
            "marker": {
             "colorbar": {
              "outlinewidth": 0,
              "ticks": ""
             }
            },
            "type": "scattercarpet"
           }
          ],
          "scattergeo": [
           {
            "marker": {
             "colorbar": {
              "outlinewidth": 0,
              "ticks": ""
             }
            },
            "type": "scattergeo"
           }
          ],
          "scattergl": [
           {
            "marker": {
             "colorbar": {
              "outlinewidth": 0,
              "ticks": ""
             }
            },
            "type": "scattergl"
           }
          ],
          "scattermapbox": [
           {
            "marker": {
             "colorbar": {
              "outlinewidth": 0,
              "ticks": ""
             }
            },
            "type": "scattermapbox"
           }
          ],
          "scatterpolar": [
           {
            "marker": {
             "colorbar": {
              "outlinewidth": 0,
              "ticks": ""
             }
            },
            "type": "scatterpolar"
           }
          ],
          "scatterpolargl": [
           {
            "marker": {
             "colorbar": {
              "outlinewidth": 0,
              "ticks": ""
             }
            },
            "type": "scatterpolargl"
           }
          ],
          "scatterternary": [
           {
            "marker": {
             "colorbar": {
              "outlinewidth": 0,
              "ticks": ""
             }
            },
            "type": "scatterternary"
           }
          ],
          "surface": [
           {
            "colorbar": {
             "outlinewidth": 0,
             "ticks": ""
            },
            "colorscale": [
             [
              0,
              "#0d0887"
             ],
             [
              0.1111111111111111,
              "#46039f"
             ],
             [
              0.2222222222222222,
              "#7201a8"
             ],
             [
              0.3333333333333333,
              "#9c179e"
             ],
             [
              0.4444444444444444,
              "#bd3786"
             ],
             [
              0.5555555555555556,
              "#d8576b"
             ],
             [
              0.6666666666666666,
              "#ed7953"
             ],
             [
              0.7777777777777778,
              "#fb9f3a"
             ],
             [
              0.8888888888888888,
              "#fdca26"
             ],
             [
              1,
              "#f0f921"
             ]
            ],
            "type": "surface"
           }
          ],
          "table": [
           {
            "cells": {
             "fill": {
              "color": "#EBF0F8"
             },
             "line": {
              "color": "white"
             }
            },
            "header": {
             "fill": {
              "color": "#C8D4E3"
             },
             "line": {
              "color": "white"
             }
            },
            "type": "table"
           }
          ]
         },
         "layout": {
          "annotationdefaults": {
           "arrowcolor": "#2a3f5f",
           "arrowhead": 0,
           "arrowwidth": 1
          },
          "autotypenumbers": "strict",
          "coloraxis": {
           "colorbar": {
            "outlinewidth": 0,
            "ticks": ""
           }
          },
          "colorscale": {
           "diverging": [
            [
             0,
             "#8e0152"
            ],
            [
             0.1,
             "#c51b7d"
            ],
            [
             0.2,
             "#de77ae"
            ],
            [
             0.3,
             "#f1b6da"
            ],
            [
             0.4,
             "#fde0ef"
            ],
            [
             0.5,
             "#f7f7f7"
            ],
            [
             0.6,
             "#e6f5d0"
            ],
            [
             0.7,
             "#b8e186"
            ],
            [
             0.8,
             "#7fbc41"
            ],
            [
             0.9,
             "#4d9221"
            ],
            [
             1,
             "#276419"
            ]
           ],
           "sequential": [
            [
             0,
             "#0d0887"
            ],
            [
             0.1111111111111111,
             "#46039f"
            ],
            [
             0.2222222222222222,
             "#7201a8"
            ],
            [
             0.3333333333333333,
             "#9c179e"
            ],
            [
             0.4444444444444444,
             "#bd3786"
            ],
            [
             0.5555555555555556,
             "#d8576b"
            ],
            [
             0.6666666666666666,
             "#ed7953"
            ],
            [
             0.7777777777777778,
             "#fb9f3a"
            ],
            [
             0.8888888888888888,
             "#fdca26"
            ],
            [
             1,
             "#f0f921"
            ]
           ],
           "sequentialminus": [
            [
             0,
             "#0d0887"
            ],
            [
             0.1111111111111111,
             "#46039f"
            ],
            [
             0.2222222222222222,
             "#7201a8"
            ],
            [
             0.3333333333333333,
             "#9c179e"
            ],
            [
             0.4444444444444444,
             "#bd3786"
            ],
            [
             0.5555555555555556,
             "#d8576b"
            ],
            [
             0.6666666666666666,
             "#ed7953"
            ],
            [
             0.7777777777777778,
             "#fb9f3a"
            ],
            [
             0.8888888888888888,
             "#fdca26"
            ],
            [
             1,
             "#f0f921"
            ]
           ]
          },
          "colorway": [
           "#636efa",
           "#EF553B",
           "#00cc96",
           "#ab63fa",
           "#FFA15A",
           "#19d3f3",
           "#FF6692",
           "#B6E880",
           "#FF97FF",
           "#FECB52"
          ],
          "font": {
           "color": "#2a3f5f"
          },
          "geo": {
           "bgcolor": "white",
           "lakecolor": "white",
           "landcolor": "#E5ECF6",
           "showlakes": true,
           "showland": true,
           "subunitcolor": "white"
          },
          "hoverlabel": {
           "align": "left"
          },
          "hovermode": "closest",
          "mapbox": {
           "style": "light"
          },
          "paper_bgcolor": "white",
          "plot_bgcolor": "#E5ECF6",
          "polar": {
           "angularaxis": {
            "gridcolor": "white",
            "linecolor": "white",
            "ticks": ""
           },
           "bgcolor": "#E5ECF6",
           "radialaxis": {
            "gridcolor": "white",
            "linecolor": "white",
            "ticks": ""
           }
          },
          "scene": {
           "xaxis": {
            "backgroundcolor": "#E5ECF6",
            "gridcolor": "white",
            "gridwidth": 2,
            "linecolor": "white",
            "showbackground": true,
            "ticks": "",
            "zerolinecolor": "white"
           },
           "yaxis": {
            "backgroundcolor": "#E5ECF6",
            "gridcolor": "white",
            "gridwidth": 2,
            "linecolor": "white",
            "showbackground": true,
            "ticks": "",
            "zerolinecolor": "white"
           },
           "zaxis": {
            "backgroundcolor": "#E5ECF6",
            "gridcolor": "white",
            "gridwidth": 2,
            "linecolor": "white",
            "showbackground": true,
            "ticks": "",
            "zerolinecolor": "white"
           }
          },
          "shapedefaults": {
           "line": {
            "color": "#2a3f5f"
           }
          },
          "ternary": {
           "aaxis": {
            "gridcolor": "white",
            "linecolor": "white",
            "ticks": ""
           },
           "baxis": {
            "gridcolor": "white",
            "linecolor": "white",
            "ticks": ""
           },
           "bgcolor": "#E5ECF6",
           "caxis": {
            "gridcolor": "white",
            "linecolor": "white",
            "ticks": ""
           }
          },
          "title": {
           "x": 0.05
          },
          "xaxis": {
           "automargin": true,
           "gridcolor": "white",
           "linecolor": "white",
           "ticks": "",
           "title": {
            "standoff": 15
           },
           "zerolinecolor": "white",
           "zerolinewidth": 2
          },
          "yaxis": {
           "automargin": true,
           "gridcolor": "white",
           "linecolor": "white",
           "ticks": "",
           "title": {
            "standoff": 15
           },
           "zerolinecolor": "white",
           "zerolinewidth": 2
          }
         }
        },
        "xaxis": {
         "anchor": "y",
         "domain": [
          0,
          0.45
         ],
         "visible": false
        },
        "xaxis2": {
         "anchor": "y2",
         "domain": [
          0.55,
          1
         ],
         "visible": false
        },
        "yaxis": {
         "anchor": "x",
         "domain": [
          0,
          1
         ],
         "visible": false
        },
        "yaxis2": {
         "anchor": "x2",
         "domain": [
          0,
          1
         ],
         "visible": false
        }
       }
      }
     },
     "metadata": {},
     "output_type": "display_data"
    },
    {
     "data": {
      "application/vnd.plotly.v1+json": {
       "config": {
        "plotlyServerURL": "https://plot.ly"
       },
       "data": [
        {
         "marker": {
          "color": "red"
         },
         "mode": "markers",
         "type": "scatter",
         "x": [
          0.5007487535476685,
          0.503528892993927,
          0.09250251203775406,
          0.3696693778038025,
          0.9755848050117493,
          0.8777209520339966,
          0.48006218671798706,
          0.5291867852210999,
          1,
          0.7139260172843933,
          0.017420461401343346,
          0.14619378745555878,
          0.9826657772064209,
          0.8001798391342163,
          0.3327414393424988,
          0.3878323435783386,
          0.5073580145835876,
          0.7884365320205688,
          0.5138787031173706,
          0.6743323802947998,
          0.8786999583244324,
          0.08919630944728851,
          0.8495490550994873,
          0.9402613639831543,
          0.34088703989982605,
          0.8191595077514648,
          0.26822900772094727,
          0.7379851341247559,
          0.7739779949188232,
          0.09078627079725266,
          0.6167687773704529,
          0.3884328305721283,
          0.34016188979148865,
          0.4314974546432495,
          0.9145798683166504,
          0.4471418261528015,
          0.34277474880218506,
          0.743238627910614,
          0.33998674154281616,
          0.6301986575126648,
          0.3750516474246979,
          0.07847481220960617,
          0.5534517765045166,
          0.11837485432624817,
          0.9486264586448669,
          0.1853763610124588,
          0.06513816118240356,
          0.43026405572891235,
          0.29966819286346436,
          0.41749051213264465
         ],
         "xaxis": "x",
         "y": [
          0.6141164302825928,
          0.1310814917087555,
          0.1257249414920807,
          0.5743163824081421,
          0.2929089665412903,
          0.5045710802078247,
          0.9390633702278137,
          0.4992749094963074,
          0.01878812350332737,
          0.9069935083389282,
          0.5305832624435425,
          0.1302262544631958,
          0.8912018537521362,
          0.7704141139984131,
          0.9837321639060974,
          0.8468027114868164,
          0.6697458028793335,
          0.14766931533813477,
          0.5407469272613525,
          0.1564529538154602,
          0.7774925231933594,
          0.569389820098877,
          0.640531063079834,
          0.717555820941925,
          0.9049317836761475,
          0.95882648229599,
          0.6271386742591858,
          0.29708340764045715,
          0.13664479553699493,
          0.06809298694133759,
          0.9167311787605286,
          0.5059480667114258,
          0.2591560184955597,
          0.3005064129829407,
          1,
          0.2505643963813782,
          0.12388759106397629,
          0.40911081433296204,
          0.5990487933158875,
          0.21682272851467133,
          0.9413356781005859,
          0.7191577553749084,
          0.790418267250061,
          0.9547811150550842,
          0.5525549650192261,
          0.34252747893333435,
          0.23865340650081635,
          0.3224377930164337,
          0.6752207279205322,
          0.35444375872612
         ],
         "yaxis": "y"
        },
        {
         "marker": {
          "color": "red"
         },
         "mode": "markers",
         "type": "scatter",
         "x": [
          0.5007487535476685,
          0.503528892993927,
          0.09250251203775406,
          0.3696693778038025,
          0.9755848050117493,
          0.8777209520339966,
          0.48006218671798706,
          0.5291867852210999,
          1,
          0.7139260172843933,
          0.017420461401343346,
          0.14619378745555878,
          0.9826657772064209,
          0.8001798391342163,
          0.3327414393424988,
          0.3878323435783386,
          0.5073580145835876,
          0.7884365320205688,
          0.5138787031173706,
          0.6743323802947998,
          0.8786999583244324,
          0.08919630944728851,
          0.8495490550994873,
          0.9402613639831543,
          0.34088703989982605,
          0.8191595077514648,
          0.26822900772094727,
          0.7379851341247559,
          0.7739779949188232,
          0.09078627079725266,
          0.6167687773704529,
          0.3884328305721283,
          0.34016188979148865,
          0.4314974546432495,
          0.9145798683166504,
          0.4471418261528015,
          0.34277474880218506,
          0.743238627910614,
          0.33998674154281616,
          0.6301986575126648,
          0.3750516474246979,
          0.07847481220960617,
          0.5534517765045166,
          0.11837485432624817,
          0.9486264586448669,
          0.1853763610124588,
          0.06513816118240356,
          0.43026405572891235,
          0.29966819286346436,
          0.41749051213264465
         ],
         "xaxis": "x2",
         "y": [
          0.6141164302825928,
          0.1310814917087555,
          0.1257249414920807,
          0.5743163824081421,
          0.2929089665412903,
          0.5045710802078247,
          0.9390633702278137,
          0.4992749094963074,
          0.01878812350332737,
          0.9069935083389282,
          0.5305832624435425,
          0.1302262544631958,
          0.8912018537521362,
          0.7704141139984131,
          0.9837321639060974,
          0.8468027114868164,
          0.6697458028793335,
          0.14766931533813477,
          0.5407469272613525,
          0.1564529538154602,
          0.7774925231933594,
          0.569389820098877,
          0.640531063079834,
          0.717555820941925,
          0.9049317836761475,
          0.95882648229599,
          0.6271386742591858,
          0.29708340764045715,
          0.13664479553699493,
          0.06809298694133759,
          0.9167311787605286,
          0.5059480667114258,
          0.2591560184955597,
          0.3005064129829407,
          1,
          0.2505643963813782,
          0.12388759106397629,
          0.40911081433296204,
          0.5990487933158875,
          0.21682272851467133,
          0.9413356781005859,
          0.7191577553749084,
          0.790418267250061,
          0.9547811150550842,
          0.5525549650192261,
          0.34252747893333435,
          0.23865340650081635,
          0.3224377930164337,
          0.6752207279205322,
          0.35444375872612
         ],
         "yaxis": "y2"
        }
       ],
       "layout": {
        "annotations": [
         {
          "font": {
           "size": 16
          },
          "showarrow": false,
          "text": "Christofides",
          "x": 0.225,
          "xanchor": "center",
          "xref": "paper",
          "y": 1,
          "yanchor": "bottom",
          "yref": "paper"
         },
         {
          "font": {
           "size": 16
          },
          "showarrow": false,
          "text": "Ours",
          "x": 0.775,
          "xanchor": "center",
          "xref": "paper",
          "y": 1,
          "yanchor": "bottom",
          "yref": "paper"
         },
         {
          "arrowcolor": "blue",
          "arrowhead": 3,
          "arrowwidth": 1.5,
          "ax": 0.5007487535476685,
          "axref": "x",
          "ay": 0.6141164302825928,
          "ayref": "y",
          "showarrow": true,
          "text": "",
          "x": 0.5138787031173706,
          "xref": "x",
          "y": 0.5407469272613525,
          "yref": "y"
         },
         {
          "arrowcolor": "blue",
          "arrowhead": 3,
          "arrowwidth": 1.5,
          "ax": 0.5138787031173706,
          "axref": "x",
          "ay": 0.5407469272613525,
          "ayref": "y",
          "showarrow": true,
          "text": "",
          "x": 0.5291867852210999,
          "xref": "x",
          "y": 0.4992749094963074,
          "yref": "y"
         },
         {
          "arrowcolor": "blue",
          "arrowhead": 3,
          "arrowwidth": 1.5,
          "ax": 0.5291867852210999,
          "axref": "x",
          "ay": 0.4992749094963074,
          "ayref": "y",
          "showarrow": true,
          "text": "",
          "x": 0.3884328305721283,
          "xref": "x",
          "y": 0.5059480667114258,
          "yref": "y"
         },
         {
          "arrowcolor": "blue",
          "arrowhead": 3,
          "arrowwidth": 1.5,
          "ax": 0.3884328305721283,
          "axref": "x",
          "ay": 0.5059480667114258,
          "ayref": "y",
          "showarrow": true,
          "text": "",
          "x": 0.26822900772094727,
          "xref": "x",
          "y": 0.6271386742591858,
          "yref": "y"
         },
         {
          "arrowcolor": "blue",
          "arrowhead": 3,
          "arrowwidth": 1.5,
          "ax": 0.26822900772094727,
          "axref": "x",
          "ay": 0.6271386742591858,
          "ayref": "y",
          "showarrow": true,
          "text": "",
          "x": 0.29966819286346436,
          "xref": "x",
          "y": 0.6752207279205322,
          "yref": "y"
         },
         {
          "arrowcolor": "blue",
          "arrowhead": 3,
          "arrowwidth": 1.5,
          "ax": 0.29966819286346436,
          "axref": "x",
          "ay": 0.6752207279205322,
          "ayref": "y",
          "showarrow": true,
          "text": "",
          "x": 0.3878323435783386,
          "xref": "x",
          "y": 0.8468027114868164,
          "yref": "y"
         },
         {
          "arrowcolor": "blue",
          "arrowhead": 3,
          "arrowwidth": 1.5,
          "ax": 0.3878323435783386,
          "axref": "x",
          "ay": 0.8468027114868164,
          "ayref": "y",
          "showarrow": true,
          "text": "",
          "x": 0.34088703989982605,
          "xref": "x",
          "y": 0.9049317836761475,
          "yref": "y"
         },
         {
          "arrowcolor": "blue",
          "arrowhead": 3,
          "arrowwidth": 1.5,
          "ax": 0.34088703989982605,
          "axref": "x",
          "ay": 0.9049317836761475,
          "ayref": "y",
          "showarrow": true,
          "text": "",
          "x": 0.3750516474246979,
          "xref": "x",
          "y": 0.9413356781005859,
          "yref": "y"
         },
         {
          "arrowcolor": "blue",
          "arrowhead": 3,
          "arrowwidth": 1.5,
          "ax": 0.3750516474246979,
          "axref": "x",
          "ay": 0.9413356781005859,
          "ayref": "y",
          "showarrow": true,
          "text": "",
          "x": 0.6167687773704529,
          "xref": "x",
          "y": 0.9167311787605286,
          "yref": "y"
         },
         {
          "arrowcolor": "blue",
          "arrowhead": 3,
          "arrowwidth": 1.5,
          "ax": 0.6167687773704529,
          "axref": "x",
          "ay": 0.9167311787605286,
          "ayref": "y",
          "showarrow": true,
          "text": "",
          "x": 0.7139260172843933,
          "xref": "x",
          "y": 0.9069935083389282,
          "yref": "y"
         },
         {
          "arrowcolor": "blue",
          "arrowhead": 3,
          "arrowwidth": 1.5,
          "ax": 0.7139260172843933,
          "axref": "x",
          "ay": 0.9069935083389282,
          "ayref": "y",
          "showarrow": true,
          "text": "",
          "x": 0.8191595077514648,
          "xref": "x",
          "y": 0.95882648229599,
          "yref": "y"
         },
         {
          "arrowcolor": "blue",
          "arrowhead": 3,
          "arrowwidth": 1.5,
          "ax": 0.8191595077514648,
          "axref": "x",
          "ay": 0.95882648229599,
          "ayref": "y",
          "showarrow": true,
          "text": "",
          "x": 0.9145798683166504,
          "xref": "x",
          "y": 1,
          "yref": "y"
         },
         {
          "arrowcolor": "blue",
          "arrowhead": 3,
          "arrowwidth": 1.5,
          "ax": 0.9145798683166504,
          "axref": "x",
          "ay": 1,
          "ayref": "y",
          "showarrow": true,
          "text": "",
          "x": 0.9826657772064209,
          "xref": "x",
          "y": 0.8912018537521362,
          "yref": "y"
         },
         {
          "arrowcolor": "blue",
          "arrowhead": 3,
          "arrowwidth": 1.5,
          "ax": 0.9826657772064209,
          "axref": "x",
          "ay": 0.8912018537521362,
          "ayref": "y",
          "showarrow": true,
          "text": "",
          "x": 0.8786999583244324,
          "xref": "x",
          "y": 0.7774925231933594,
          "yref": "y"
         },
         {
          "arrowcolor": "blue",
          "arrowhead": 3,
          "arrowwidth": 1.5,
          "ax": 0.8786999583244324,
          "axref": "x",
          "ay": 0.7774925231933594,
          "ayref": "y",
          "showarrow": true,
          "text": "",
          "x": 0.8001798391342163,
          "xref": "x",
          "y": 0.7704141139984131,
          "yref": "y"
         },
         {
          "arrowcolor": "blue",
          "arrowhead": 3,
          "arrowwidth": 1.5,
          "ax": 0.8001798391342163,
          "axref": "x",
          "ay": 0.7704141139984131,
          "ayref": "y",
          "showarrow": true,
          "text": "",
          "x": 0.9402613639831543,
          "xref": "x",
          "y": 0.717555820941925,
          "yref": "y"
         },
         {
          "arrowcolor": "blue",
          "arrowhead": 3,
          "arrowwidth": 1.5,
          "ax": 0.9402613639831543,
          "axref": "x",
          "ay": 0.717555820941925,
          "ayref": "y",
          "showarrow": true,
          "text": "",
          "x": 0.8495490550994873,
          "xref": "x",
          "y": 0.640531063079834,
          "yref": "y"
         },
         {
          "arrowcolor": "blue",
          "arrowhead": 3,
          "arrowwidth": 1.5,
          "ax": 0.8495490550994873,
          "axref": "x",
          "ay": 0.640531063079834,
          "ayref": "y",
          "showarrow": true,
          "text": "",
          "x": 0.9486264586448669,
          "xref": "x",
          "y": 0.5525549650192261,
          "yref": "y"
         },
         {
          "arrowcolor": "blue",
          "arrowhead": 3,
          "arrowwidth": 1.5,
          "ax": 0.9486264586448669,
          "axref": "x",
          "ay": 0.5525549650192261,
          "ayref": "y",
          "showarrow": true,
          "text": "",
          "x": 0.8777209520339966,
          "xref": "x",
          "y": 0.5045710802078247,
          "yref": "y"
         },
         {
          "arrowcolor": "blue",
          "arrowhead": 3,
          "arrowwidth": 1.5,
          "ax": 0.8777209520339966,
          "axref": "x",
          "ay": 0.5045710802078247,
          "ayref": "y",
          "showarrow": true,
          "text": "",
          "x": 0.9755848050117493,
          "xref": "x",
          "y": 0.2929089665412903,
          "yref": "y"
         },
         {
          "arrowcolor": "blue",
          "arrowhead": 3,
          "arrowwidth": 1.5,
          "ax": 0.9755848050117493,
          "axref": "x",
          "ay": 0.2929089665412903,
          "ayref": "y",
          "showarrow": true,
          "text": "",
          "x": 1,
          "xref": "x",
          "y": 0.01878812350332737,
          "yref": "y"
         },
         {
          "arrowcolor": "blue",
          "arrowhead": 3,
          "arrowwidth": 1.5,
          "ax": 1,
          "axref": "x",
          "ay": 0.01878812350332737,
          "ayref": "y",
          "showarrow": true,
          "text": "",
          "x": 0.7884365320205688,
          "xref": "x",
          "y": 0.14766931533813477,
          "yref": "y"
         },
         {
          "arrowcolor": "blue",
          "arrowhead": 3,
          "arrowwidth": 1.5,
          "ax": 0.7884365320205688,
          "axref": "x",
          "ay": 0.14766931533813477,
          "ayref": "y",
          "showarrow": true,
          "text": "",
          "x": 0.7739779949188232,
          "xref": "x",
          "y": 0.13664479553699493,
          "yref": "y"
         },
         {
          "arrowcolor": "blue",
          "arrowhead": 3,
          "arrowwidth": 1.5,
          "ax": 0.7739779949188232,
          "axref": "x",
          "ay": 0.13664479553699493,
          "ayref": "y",
          "showarrow": true,
          "text": "",
          "x": 0.6743323802947998,
          "xref": "x",
          "y": 0.1564529538154602,
          "yref": "y"
         },
         {
          "arrowcolor": "blue",
          "arrowhead": 3,
          "arrowwidth": 1.5,
          "ax": 0.6743323802947998,
          "axref": "x",
          "ay": 0.1564529538154602,
          "ayref": "y",
          "showarrow": true,
          "text": "",
          "x": 0.6301986575126648,
          "xref": "x",
          "y": 0.21682272851467133,
          "yref": "y"
         },
         {
          "arrowcolor": "blue",
          "arrowhead": 3,
          "arrowwidth": 1.5,
          "ax": 0.6301986575126648,
          "axref": "x",
          "ay": 0.21682272851467133,
          "ayref": "y",
          "showarrow": true,
          "text": "",
          "x": 0.743238627910614,
          "xref": "x",
          "y": 0.40911081433296204,
          "yref": "y"
         },
         {
          "arrowcolor": "blue",
          "arrowhead": 3,
          "arrowwidth": 1.5,
          "ax": 0.743238627910614,
          "axref": "x",
          "ay": 0.40911081433296204,
          "ayref": "y",
          "showarrow": true,
          "text": "",
          "x": 0.7379851341247559,
          "xref": "x",
          "y": 0.29708340764045715,
          "yref": "y"
         },
         {
          "arrowcolor": "blue",
          "arrowhead": 3,
          "arrowwidth": 1.5,
          "ax": 0.7379851341247559,
          "axref": "x",
          "ay": 0.29708340764045715,
          "ayref": "y",
          "showarrow": true,
          "text": "",
          "x": 0.503528892993927,
          "xref": "x",
          "y": 0.1310814917087555,
          "yref": "y"
         },
         {
          "arrowcolor": "blue",
          "arrowhead": 3,
          "arrowwidth": 1.5,
          "ax": 0.503528892993927,
          "axref": "x",
          "ay": 0.1310814917087555,
          "ayref": "y",
          "showarrow": true,
          "text": "",
          "x": 0.4471418261528015,
          "xref": "x",
          "y": 0.2505643963813782,
          "yref": "y"
         },
         {
          "arrowcolor": "blue",
          "arrowhead": 3,
          "arrowwidth": 1.5,
          "ax": 0.4471418261528015,
          "axref": "x",
          "ay": 0.2505643963813782,
          "ayref": "y",
          "showarrow": true,
          "text": "",
          "x": 0.4314974546432495,
          "xref": "x",
          "y": 0.3005064129829407,
          "yref": "y"
         },
         {
          "arrowcolor": "blue",
          "arrowhead": 3,
          "arrowwidth": 1.5,
          "ax": 0.4314974546432495,
          "axref": "x",
          "ay": 0.3005064129829407,
          "ayref": "y",
          "showarrow": true,
          "text": "",
          "x": 0.34016188979148865,
          "xref": "x",
          "y": 0.2591560184955597,
          "yref": "y"
         },
         {
          "arrowcolor": "blue",
          "arrowhead": 3,
          "arrowwidth": 1.5,
          "ax": 0.34016188979148865,
          "axref": "x",
          "ay": 0.2591560184955597,
          "ayref": "y",
          "showarrow": true,
          "text": "",
          "x": 0.1853763610124588,
          "xref": "x",
          "y": 0.34252747893333435,
          "yref": "y"
         },
         {
          "arrowcolor": "blue",
          "arrowhead": 3,
          "arrowwidth": 1.5,
          "ax": 0.1853763610124588,
          "axref": "x",
          "ay": 0.34252747893333435,
          "ayref": "y",
          "showarrow": true,
          "text": "",
          "x": 0.06513816118240356,
          "xref": "x",
          "y": 0.23865340650081635,
          "yref": "y"
         },
         {
          "arrowcolor": "blue",
          "arrowhead": 3,
          "arrowwidth": 1.5,
          "ax": 0.06513816118240356,
          "axref": "x",
          "ay": 0.23865340650081635,
          "ayref": "y",
          "showarrow": true,
          "text": "",
          "x": 0.09250251203775406,
          "xref": "x",
          "y": 0.1257249414920807,
          "yref": "y"
         },
         {
          "arrowcolor": "blue",
          "arrowhead": 3,
          "arrowwidth": 1.5,
          "ax": 0.09250251203775406,
          "axref": "x",
          "ay": 0.1257249414920807,
          "ayref": "y",
          "showarrow": true,
          "text": "",
          "x": 0.09078627079725266,
          "xref": "x",
          "y": 0.06809298694133759,
          "yref": "y"
         },
         {
          "arrowcolor": "blue",
          "arrowhead": 3,
          "arrowwidth": 1.5,
          "ax": 0.09078627079725266,
          "axref": "x",
          "ay": 0.06809298694133759,
          "ayref": "y",
          "showarrow": true,
          "text": "",
          "x": 0.14619378745555878,
          "xref": "x",
          "y": 0.1302262544631958,
          "yref": "y"
         },
         {
          "arrowcolor": "blue",
          "arrowhead": 3,
          "arrowwidth": 1.5,
          "ax": 0.14619378745555878,
          "axref": "x",
          "ay": 0.1302262544631958,
          "ayref": "y",
          "showarrow": true,
          "text": "",
          "x": 0.34277474880218506,
          "xref": "x",
          "y": 0.12388759106397629,
          "yref": "y"
         },
         {
          "arrowcolor": "blue",
          "arrowhead": 3,
          "arrowwidth": 1.5,
          "ax": 0.34277474880218506,
          "axref": "x",
          "ay": 0.12388759106397629,
          "ayref": "y",
          "showarrow": true,
          "text": "",
          "x": 0.43026405572891235,
          "xref": "x",
          "y": 0.3224377930164337,
          "yref": "y"
         },
         {
          "arrowcolor": "blue",
          "arrowhead": 3,
          "arrowwidth": 1.5,
          "ax": 0.43026405572891235,
          "axref": "x",
          "ay": 0.3224377930164337,
          "ayref": "y",
          "showarrow": true,
          "text": "",
          "x": 0.41749051213264465,
          "xref": "x",
          "y": 0.35444375872612,
          "yref": "y"
         },
         {
          "arrowcolor": "blue",
          "arrowhead": 3,
          "arrowwidth": 1.5,
          "ax": 0.41749051213264465,
          "axref": "x",
          "ay": 0.35444375872612,
          "ayref": "y",
          "showarrow": true,
          "text": "",
          "x": 0.3696693778038025,
          "xref": "x",
          "y": 0.5743163824081421,
          "yref": "y"
         },
         {
          "arrowcolor": "blue",
          "arrowhead": 3,
          "arrowwidth": 1.5,
          "ax": 0.3696693778038025,
          "axref": "x",
          "ay": 0.5743163824081421,
          "ayref": "y",
          "showarrow": true,
          "text": "",
          "x": 0.33998674154281616,
          "xref": "x",
          "y": 0.5990487933158875,
          "yref": "y"
         },
         {
          "arrowcolor": "blue",
          "arrowhead": 3,
          "arrowwidth": 1.5,
          "ax": 0.33998674154281616,
          "axref": "x",
          "ay": 0.5990487933158875,
          "ayref": "y",
          "showarrow": true,
          "text": "",
          "x": 0.08919630944728851,
          "xref": "x",
          "y": 0.569389820098877,
          "yref": "y"
         },
         {
          "arrowcolor": "blue",
          "arrowhead": 3,
          "arrowwidth": 1.5,
          "ax": 0.08919630944728851,
          "axref": "x",
          "ay": 0.569389820098877,
          "ayref": "y",
          "showarrow": true,
          "text": "",
          "x": 0.017420461401343346,
          "xref": "x",
          "y": 0.5305832624435425,
          "yref": "y"
         },
         {
          "arrowcolor": "blue",
          "arrowhead": 3,
          "arrowwidth": 1.5,
          "ax": 0.017420461401343346,
          "axref": "x",
          "ay": 0.5305832624435425,
          "ayref": "y",
          "showarrow": true,
          "text": "",
          "x": 0.07847481220960617,
          "xref": "x",
          "y": 0.7191577553749084,
          "yref": "y"
         },
         {
          "arrowcolor": "blue",
          "arrowhead": 3,
          "arrowwidth": 1.5,
          "ax": 0.07847481220960617,
          "axref": "x",
          "ay": 0.7191577553749084,
          "ayref": "y",
          "showarrow": true,
          "text": "",
          "x": 0.11837485432624817,
          "xref": "x",
          "y": 0.9547811150550842,
          "yref": "y"
         },
         {
          "arrowcolor": "blue",
          "arrowhead": 3,
          "arrowwidth": 1.5,
          "ax": 0.11837485432624817,
          "axref": "x",
          "ay": 0.9547811150550842,
          "ayref": "y",
          "showarrow": true,
          "text": "",
          "x": 0.3327414393424988,
          "xref": "x",
          "y": 0.9837321639060974,
          "yref": "y"
         },
         {
          "arrowcolor": "blue",
          "arrowhead": 3,
          "arrowwidth": 1.5,
          "ax": 0.3327414393424988,
          "axref": "x",
          "ay": 0.9837321639060974,
          "ayref": "y",
          "showarrow": true,
          "text": "",
          "x": 0.48006218671798706,
          "xref": "x",
          "y": 0.9390633702278137,
          "yref": "y"
         },
         {
          "arrowcolor": "blue",
          "arrowhead": 3,
          "arrowwidth": 1.5,
          "ax": 0.48006218671798706,
          "axref": "x",
          "ay": 0.9390633702278137,
          "ayref": "y",
          "showarrow": true,
          "text": "",
          "x": 0.5534517765045166,
          "xref": "x",
          "y": 0.790418267250061,
          "yref": "y"
         },
         {
          "arrowcolor": "blue",
          "arrowhead": 3,
          "arrowwidth": 1.5,
          "ax": 0.5534517765045166,
          "axref": "x",
          "ay": 0.790418267250061,
          "ayref": "y",
          "showarrow": true,
          "text": "",
          "x": 0.5073580145835876,
          "xref": "x",
          "y": 0.6697458028793335,
          "yref": "y"
         },
         {
          "arrowcolor": "blue",
          "arrowhead": 3,
          "arrowwidth": 1.5,
          "ax": 0.5073580145835876,
          "axref": "x",
          "ay": 0.6697458028793335,
          "ayref": "y",
          "showarrow": true,
          "text": "",
          "x": 0.5007487535476685,
          "xref": "x",
          "y": 0.6141164302825928,
          "yref": "y"
         },
         {
          "arrowcolor": "green",
          "arrowhead": 3,
          "arrowwidth": 1.5,
          "ax": 0.6301986575126648,
          "axref": "x2",
          "ay": 0.21682272851467133,
          "ayref": "y2",
          "showarrow": true,
          "text": "",
          "x": 0.743238627910614,
          "xref": "x2",
          "y": 0.40911081433296204,
          "yref": "y2"
         },
         {
          "arrowcolor": "green",
          "arrowhead": 3,
          "arrowwidth": 1.5,
          "ax": 0.743238627910614,
          "axref": "x2",
          "ay": 0.40911081433296204,
          "ayref": "y2",
          "showarrow": true,
          "text": "",
          "x": 0.7379851341247559,
          "xref": "x2",
          "y": 0.29708340764045715,
          "yref": "y2"
         },
         {
          "arrowcolor": "green",
          "arrowhead": 3,
          "arrowwidth": 1.5,
          "ax": 0.7379851341247559,
          "axref": "x2",
          "ay": 0.29708340764045715,
          "ayref": "y2",
          "showarrow": true,
          "text": "",
          "x": 0.6743323802947998,
          "xref": "x2",
          "y": 0.1564529538154602,
          "yref": "y2"
         },
         {
          "arrowcolor": "green",
          "arrowhead": 3,
          "arrowwidth": 1.5,
          "ax": 0.6743323802947998,
          "axref": "x2",
          "ay": 0.1564529538154602,
          "ayref": "y2",
          "showarrow": true,
          "text": "",
          "x": 0.7739779949188232,
          "xref": "x2",
          "y": 0.13664479553699493,
          "yref": "y2"
         },
         {
          "arrowcolor": "green",
          "arrowhead": 3,
          "arrowwidth": 1.5,
          "ax": 0.7739779949188232,
          "axref": "x2",
          "ay": 0.13664479553699493,
          "ayref": "y2",
          "showarrow": true,
          "text": "",
          "x": 0.7884365320205688,
          "xref": "x2",
          "y": 0.14766931533813477,
          "yref": "y2"
         },
         {
          "arrowcolor": "green",
          "arrowhead": 3,
          "arrowwidth": 1.5,
          "ax": 0.7884365320205688,
          "axref": "x2",
          "ay": 0.14766931533813477,
          "ayref": "y2",
          "showarrow": true,
          "text": "",
          "x": 1,
          "xref": "x2",
          "y": 0.01878812350332737,
          "yref": "y2"
         },
         {
          "arrowcolor": "green",
          "arrowhead": 3,
          "arrowwidth": 1.5,
          "ax": 1,
          "axref": "x2",
          "ay": 0.01878812350332737,
          "ayref": "y2",
          "showarrow": true,
          "text": "",
          "x": 0.9755848050117493,
          "xref": "x2",
          "y": 0.2929089665412903,
          "yref": "y2"
         },
         {
          "arrowcolor": "green",
          "arrowhead": 3,
          "arrowwidth": 1.5,
          "ax": 0.9755848050117493,
          "axref": "x2",
          "ay": 0.2929089665412903,
          "ayref": "y2",
          "showarrow": true,
          "text": "",
          "x": 0.8777209520339966,
          "xref": "x2",
          "y": 0.5045710802078247,
          "yref": "y2"
         },
         {
          "arrowcolor": "green",
          "arrowhead": 3,
          "arrowwidth": 1.5,
          "ax": 0.8777209520339966,
          "axref": "x2",
          "ay": 0.5045710802078247,
          "ayref": "y2",
          "showarrow": true,
          "text": "",
          "x": 0.9486264586448669,
          "xref": "x2",
          "y": 0.5525549650192261,
          "yref": "y2"
         },
         {
          "arrowcolor": "green",
          "arrowhead": 3,
          "arrowwidth": 1.5,
          "ax": 0.9486264586448669,
          "axref": "x2",
          "ay": 0.5525549650192261,
          "ayref": "y2",
          "showarrow": true,
          "text": "",
          "x": 0.8495490550994873,
          "xref": "x2",
          "y": 0.640531063079834,
          "yref": "y2"
         },
         {
          "arrowcolor": "green",
          "arrowhead": 3,
          "arrowwidth": 1.5,
          "ax": 0.8495490550994873,
          "axref": "x2",
          "ay": 0.640531063079834,
          "ayref": "y2",
          "showarrow": true,
          "text": "",
          "x": 0.9402613639831543,
          "xref": "x2",
          "y": 0.717555820941925,
          "yref": "y2"
         },
         {
          "arrowcolor": "green",
          "arrowhead": 3,
          "arrowwidth": 1.5,
          "ax": 0.9402613639831543,
          "axref": "x2",
          "ay": 0.717555820941925,
          "ayref": "y2",
          "showarrow": true,
          "text": "",
          "x": 0.8786999583244324,
          "xref": "x2",
          "y": 0.7774925231933594,
          "yref": "y2"
         },
         {
          "arrowcolor": "green",
          "arrowhead": 3,
          "arrowwidth": 1.5,
          "ax": 0.8786999583244324,
          "axref": "x2",
          "ay": 0.7774925231933594,
          "ayref": "y2",
          "showarrow": true,
          "text": "",
          "x": 0.8001798391342163,
          "xref": "x2",
          "y": 0.7704141139984131,
          "yref": "y2"
         },
         {
          "arrowcolor": "green",
          "arrowhead": 3,
          "arrowwidth": 1.5,
          "ax": 0.8001798391342163,
          "axref": "x2",
          "ay": 0.7704141139984131,
          "ayref": "y2",
          "showarrow": true,
          "text": "",
          "x": 0.9826657772064209,
          "xref": "x2",
          "y": 0.8912018537521362,
          "yref": "y2"
         },
         {
          "arrowcolor": "green",
          "arrowhead": 3,
          "arrowwidth": 1.5,
          "ax": 0.9826657772064209,
          "axref": "x2",
          "ay": 0.8912018537521362,
          "ayref": "y2",
          "showarrow": true,
          "text": "",
          "x": 0.9145798683166504,
          "xref": "x2",
          "y": 1,
          "yref": "y2"
         },
         {
          "arrowcolor": "green",
          "arrowhead": 3,
          "arrowwidth": 1.5,
          "ax": 0.9145798683166504,
          "axref": "x2",
          "ay": 1,
          "ayref": "y2",
          "showarrow": true,
          "text": "",
          "x": 0.8191595077514648,
          "xref": "x2",
          "y": 0.95882648229599,
          "yref": "y2"
         },
         {
          "arrowcolor": "green",
          "arrowhead": 3,
          "arrowwidth": 1.5,
          "ax": 0.8191595077514648,
          "axref": "x2",
          "ay": 0.95882648229599,
          "ayref": "y2",
          "showarrow": true,
          "text": "",
          "x": 0.7139260172843933,
          "xref": "x2",
          "y": 0.9069935083389282,
          "yref": "y2"
         },
         {
          "arrowcolor": "green",
          "arrowhead": 3,
          "arrowwidth": 1.5,
          "ax": 0.7139260172843933,
          "axref": "x2",
          "ay": 0.9069935083389282,
          "ayref": "y2",
          "showarrow": true,
          "text": "",
          "x": 0.6167687773704529,
          "xref": "x2",
          "y": 0.9167311787605286,
          "yref": "y2"
         },
         {
          "arrowcolor": "green",
          "arrowhead": 3,
          "arrowwidth": 1.5,
          "ax": 0.6167687773704529,
          "axref": "x2",
          "ay": 0.9167311787605286,
          "ayref": "y2",
          "showarrow": true,
          "text": "",
          "x": 0.48006218671798706,
          "xref": "x2",
          "y": 0.9390633702278137,
          "yref": "y2"
         },
         {
          "arrowcolor": "green",
          "arrowhead": 3,
          "arrowwidth": 1.5,
          "ax": 0.48006218671798706,
          "axref": "x2",
          "ay": 0.9390633702278137,
          "ayref": "y2",
          "showarrow": true,
          "text": "",
          "x": 0.3750516474246979,
          "xref": "x2",
          "y": 0.9413356781005859,
          "yref": "y2"
         },
         {
          "arrowcolor": "green",
          "arrowhead": 3,
          "arrowwidth": 1.5,
          "ax": 0.3750516474246979,
          "axref": "x2",
          "ay": 0.9413356781005859,
          "ayref": "y2",
          "showarrow": true,
          "text": "",
          "x": 0.3327414393424988,
          "xref": "x2",
          "y": 0.9837321639060974,
          "yref": "y2"
         },
         {
          "arrowcolor": "green",
          "arrowhead": 3,
          "arrowwidth": 1.5,
          "ax": 0.3327414393424988,
          "axref": "x2",
          "ay": 0.9837321639060974,
          "ayref": "y2",
          "showarrow": true,
          "text": "",
          "x": 0.34088703989982605,
          "xref": "x2",
          "y": 0.9049317836761475,
          "yref": "y2"
         },
         {
          "arrowcolor": "green",
          "arrowhead": 3,
          "arrowwidth": 1.5,
          "ax": 0.34088703989982605,
          "axref": "x2",
          "ay": 0.9049317836761475,
          "ayref": "y2",
          "showarrow": true,
          "text": "",
          "x": 0.11837485432624817,
          "xref": "x2",
          "y": 0.9547811150550842,
          "yref": "y2"
         },
         {
          "arrowcolor": "green",
          "arrowhead": 3,
          "arrowwidth": 1.5,
          "ax": 0.11837485432624817,
          "axref": "x2",
          "ay": 0.9547811150550842,
          "ayref": "y2",
          "showarrow": true,
          "text": "",
          "x": 0.07847481220960617,
          "xref": "x2",
          "y": 0.7191577553749084,
          "yref": "y2"
         },
         {
          "arrowcolor": "green",
          "arrowhead": 3,
          "arrowwidth": 1.5,
          "ax": 0.07847481220960617,
          "axref": "x2",
          "ay": 0.7191577553749084,
          "ayref": "y2",
          "showarrow": true,
          "text": "",
          "x": 0.08919630944728851,
          "xref": "x2",
          "y": 0.569389820098877,
          "yref": "y2"
         },
         {
          "arrowcolor": "green",
          "arrowhead": 3,
          "arrowwidth": 1.5,
          "ax": 0.08919630944728851,
          "axref": "x2",
          "ay": 0.569389820098877,
          "ayref": "y2",
          "showarrow": true,
          "text": "",
          "x": 0.017420461401343346,
          "xref": "x2",
          "y": 0.5305832624435425,
          "yref": "y2"
         },
         {
          "arrowcolor": "green",
          "arrowhead": 3,
          "arrowwidth": 1.5,
          "ax": 0.017420461401343346,
          "axref": "x2",
          "ay": 0.5305832624435425,
          "ayref": "y2",
          "showarrow": true,
          "text": "",
          "x": 0.1853763610124588,
          "xref": "x2",
          "y": 0.34252747893333435,
          "yref": "y2"
         },
         {
          "arrowcolor": "green",
          "arrowhead": 3,
          "arrowwidth": 1.5,
          "ax": 0.1853763610124588,
          "axref": "x2",
          "ay": 0.34252747893333435,
          "ayref": "y2",
          "showarrow": true,
          "text": "",
          "x": 0.06513816118240356,
          "xref": "x2",
          "y": 0.23865340650081635,
          "yref": "y2"
         },
         {
          "arrowcolor": "green",
          "arrowhead": 3,
          "arrowwidth": 1.5,
          "ax": 0.06513816118240356,
          "axref": "x2",
          "ay": 0.23865340650081635,
          "ayref": "y2",
          "showarrow": true,
          "text": "",
          "x": 0.09250251203775406,
          "xref": "x2",
          "y": 0.1257249414920807,
          "yref": "y2"
         },
         {
          "arrowcolor": "green",
          "arrowhead": 3,
          "arrowwidth": 1.5,
          "ax": 0.09250251203775406,
          "axref": "x2",
          "ay": 0.1257249414920807,
          "ayref": "y2",
          "showarrow": true,
          "text": "",
          "x": 0.09078627079725266,
          "xref": "x2",
          "y": 0.06809298694133759,
          "yref": "y2"
         },
         {
          "arrowcolor": "green",
          "arrowhead": 3,
          "arrowwidth": 1.5,
          "ax": 0.09078627079725266,
          "axref": "x2",
          "ay": 0.06809298694133759,
          "ayref": "y2",
          "showarrow": true,
          "text": "",
          "x": 0.14619378745555878,
          "xref": "x2",
          "y": 0.1302262544631958,
          "yref": "y2"
         },
         {
          "arrowcolor": "green",
          "arrowhead": 3,
          "arrowwidth": 1.5,
          "ax": 0.14619378745555878,
          "axref": "x2",
          "ay": 0.1302262544631958,
          "ayref": "y2",
          "showarrow": true,
          "text": "",
          "x": 0.34277474880218506,
          "xref": "x2",
          "y": 0.12388759106397629,
          "yref": "y2"
         },
         {
          "arrowcolor": "green",
          "arrowhead": 3,
          "arrowwidth": 1.5,
          "ax": 0.34277474880218506,
          "axref": "x2",
          "ay": 0.12388759106397629,
          "ayref": "y2",
          "showarrow": true,
          "text": "",
          "x": 0.34016188979148865,
          "xref": "x2",
          "y": 0.2591560184955597,
          "yref": "y2"
         },
         {
          "arrowcolor": "green",
          "arrowhead": 3,
          "arrowwidth": 1.5,
          "ax": 0.34016188979148865,
          "axref": "x2",
          "ay": 0.2591560184955597,
          "ayref": "y2",
          "showarrow": true,
          "text": "",
          "x": 0.3884328305721283,
          "xref": "x2",
          "y": 0.5059480667114258,
          "yref": "y2"
         },
         {
          "arrowcolor": "green",
          "arrowhead": 3,
          "arrowwidth": 1.5,
          "ax": 0.3884328305721283,
          "axref": "x2",
          "ay": 0.5059480667114258,
          "ayref": "y2",
          "showarrow": true,
          "text": "",
          "x": 0.3696693778038025,
          "xref": "x2",
          "y": 0.5743163824081421,
          "yref": "y2"
         },
         {
          "arrowcolor": "green",
          "arrowhead": 3,
          "arrowwidth": 1.5,
          "ax": 0.3696693778038025,
          "axref": "x2",
          "ay": 0.5743163824081421,
          "ayref": "y2",
          "showarrow": true,
          "text": "",
          "x": 0.33998674154281616,
          "xref": "x2",
          "y": 0.5990487933158875,
          "yref": "y2"
         },
         {
          "arrowcolor": "green",
          "arrowhead": 3,
          "arrowwidth": 1.5,
          "ax": 0.33998674154281616,
          "axref": "x2",
          "ay": 0.5990487933158875,
          "ayref": "y2",
          "showarrow": true,
          "text": "",
          "x": 0.29966819286346436,
          "xref": "x2",
          "y": 0.6752207279205322,
          "yref": "y2"
         },
         {
          "arrowcolor": "green",
          "arrowhead": 3,
          "arrowwidth": 1.5,
          "ax": 0.29966819286346436,
          "axref": "x2",
          "ay": 0.6752207279205322,
          "ayref": "y2",
          "showarrow": true,
          "text": "",
          "x": 0.26822900772094727,
          "xref": "x2",
          "y": 0.6271386742591858,
          "yref": "y2"
         },
         {
          "arrowcolor": "green",
          "arrowhead": 3,
          "arrowwidth": 1.5,
          "ax": 0.26822900772094727,
          "axref": "x2",
          "ay": 0.6271386742591858,
          "ayref": "y2",
          "showarrow": true,
          "text": "",
          "x": 0.3878323435783386,
          "xref": "x2",
          "y": 0.8468027114868164,
          "yref": "y2"
         },
         {
          "arrowcolor": "green",
          "arrowhead": 3,
          "arrowwidth": 1.5,
          "ax": 0.3878323435783386,
          "axref": "x2",
          "ay": 0.8468027114868164,
          "ayref": "y2",
          "showarrow": true,
          "text": "",
          "x": 0.5534517765045166,
          "xref": "x2",
          "y": 0.790418267250061,
          "yref": "y2"
         },
         {
          "arrowcolor": "green",
          "arrowhead": 3,
          "arrowwidth": 1.5,
          "ax": 0.5534517765045166,
          "axref": "x2",
          "ay": 0.790418267250061,
          "ayref": "y2",
          "showarrow": true,
          "text": "",
          "x": 0.5073580145835876,
          "xref": "x2",
          "y": 0.6697458028793335,
          "yref": "y2"
         },
         {
          "arrowcolor": "green",
          "arrowhead": 3,
          "arrowwidth": 1.5,
          "ax": 0.5073580145835876,
          "axref": "x2",
          "ay": 0.6697458028793335,
          "ayref": "y2",
          "showarrow": true,
          "text": "",
          "x": 0.5007487535476685,
          "xref": "x2",
          "y": 0.6141164302825928,
          "yref": "y2"
         },
         {
          "arrowcolor": "green",
          "arrowhead": 3,
          "arrowwidth": 1.5,
          "ax": 0.5007487535476685,
          "axref": "x2",
          "ay": 0.6141164302825928,
          "ayref": "y2",
          "showarrow": true,
          "text": "",
          "x": 0.5138787031173706,
          "xref": "x2",
          "y": 0.5407469272613525,
          "yref": "y2"
         },
         {
          "arrowcolor": "green",
          "arrowhead": 3,
          "arrowwidth": 1.5,
          "ax": 0.5138787031173706,
          "axref": "x2",
          "ay": 0.5407469272613525,
          "ayref": "y2",
          "showarrow": true,
          "text": "",
          "x": 0.5291867852210999,
          "xref": "x2",
          "y": 0.4992749094963074,
          "yref": "y2"
         },
         {
          "arrowcolor": "green",
          "arrowhead": 3,
          "arrowwidth": 1.5,
          "ax": 0.5291867852210999,
          "axref": "x2",
          "ay": 0.4992749094963074,
          "ayref": "y2",
          "showarrow": true,
          "text": "",
          "x": 0.41749051213264465,
          "xref": "x2",
          "y": 0.35444375872612,
          "yref": "y2"
         },
         {
          "arrowcolor": "green",
          "arrowhead": 3,
          "arrowwidth": 1.5,
          "ax": 0.41749051213264465,
          "axref": "x2",
          "ay": 0.35444375872612,
          "ayref": "y2",
          "showarrow": true,
          "text": "",
          "x": 0.43026405572891235,
          "xref": "x2",
          "y": 0.3224377930164337,
          "yref": "y2"
         },
         {
          "arrowcolor": "green",
          "arrowhead": 3,
          "arrowwidth": 1.5,
          "ax": 0.43026405572891235,
          "axref": "x2",
          "ay": 0.3224377930164337,
          "ayref": "y2",
          "showarrow": true,
          "text": "",
          "x": 0.4314974546432495,
          "xref": "x2",
          "y": 0.3005064129829407,
          "yref": "y2"
         },
         {
          "arrowcolor": "green",
          "arrowhead": 3,
          "arrowwidth": 1.5,
          "ax": 0.4314974546432495,
          "axref": "x2",
          "ay": 0.3005064129829407,
          "ayref": "y2",
          "showarrow": true,
          "text": "",
          "x": 0.4471418261528015,
          "xref": "x2",
          "y": 0.2505643963813782,
          "yref": "y2"
         },
         {
          "arrowcolor": "green",
          "arrowhead": 3,
          "arrowwidth": 1.5,
          "ax": 0.4471418261528015,
          "axref": "x2",
          "ay": 0.2505643963813782,
          "ayref": "y2",
          "showarrow": true,
          "text": "",
          "x": 0.503528892993927,
          "xref": "x2",
          "y": 0.1310814917087555,
          "yref": "y2"
         },
         {
          "arrowcolor": "green",
          "arrowhead": 3,
          "arrowwidth": 1.5,
          "ax": 0.503528892993927,
          "axref": "x2",
          "ay": 0.1310814917087555,
          "ayref": "y2",
          "showarrow": true,
          "text": "",
          "x": 0.6301986575126648,
          "xref": "x2",
          "y": 0.21682272851467133,
          "yref": "y2"
         }
        ],
        "showlegend": false,
        "template": {
         "data": {
          "bar": [
           {
            "error_x": {
             "color": "#2a3f5f"
            },
            "error_y": {
             "color": "#2a3f5f"
            },
            "marker": {
             "line": {
              "color": "#E5ECF6",
              "width": 0.5
             },
             "pattern": {
              "fillmode": "overlay",
              "size": 10,
              "solidity": 0.2
             }
            },
            "type": "bar"
           }
          ],
          "barpolar": [
           {
            "marker": {
             "line": {
              "color": "#E5ECF6",
              "width": 0.5
             },
             "pattern": {
              "fillmode": "overlay",
              "size": 10,
              "solidity": 0.2
             }
            },
            "type": "barpolar"
           }
          ],
          "carpet": [
           {
            "aaxis": {
             "endlinecolor": "#2a3f5f",
             "gridcolor": "white",
             "linecolor": "white",
             "minorgridcolor": "white",
             "startlinecolor": "#2a3f5f"
            },
            "baxis": {
             "endlinecolor": "#2a3f5f",
             "gridcolor": "white",
             "linecolor": "white",
             "minorgridcolor": "white",
             "startlinecolor": "#2a3f5f"
            },
            "type": "carpet"
           }
          ],
          "choropleth": [
           {
            "colorbar": {
             "outlinewidth": 0,
             "ticks": ""
            },
            "type": "choropleth"
           }
          ],
          "contour": [
           {
            "colorbar": {
             "outlinewidth": 0,
             "ticks": ""
            },
            "colorscale": [
             [
              0,
              "#0d0887"
             ],
             [
              0.1111111111111111,
              "#46039f"
             ],
             [
              0.2222222222222222,
              "#7201a8"
             ],
             [
              0.3333333333333333,
              "#9c179e"
             ],
             [
              0.4444444444444444,
              "#bd3786"
             ],
             [
              0.5555555555555556,
              "#d8576b"
             ],
             [
              0.6666666666666666,
              "#ed7953"
             ],
             [
              0.7777777777777778,
              "#fb9f3a"
             ],
             [
              0.8888888888888888,
              "#fdca26"
             ],
             [
              1,
              "#f0f921"
             ]
            ],
            "type": "contour"
           }
          ],
          "contourcarpet": [
           {
            "colorbar": {
             "outlinewidth": 0,
             "ticks": ""
            },
            "type": "contourcarpet"
           }
          ],
          "heatmap": [
           {
            "colorbar": {
             "outlinewidth": 0,
             "ticks": ""
            },
            "colorscale": [
             [
              0,
              "#0d0887"
             ],
             [
              0.1111111111111111,
              "#46039f"
             ],
             [
              0.2222222222222222,
              "#7201a8"
             ],
             [
              0.3333333333333333,
              "#9c179e"
             ],
             [
              0.4444444444444444,
              "#bd3786"
             ],
             [
              0.5555555555555556,
              "#d8576b"
             ],
             [
              0.6666666666666666,
              "#ed7953"
             ],
             [
              0.7777777777777778,
              "#fb9f3a"
             ],
             [
              0.8888888888888888,
              "#fdca26"
             ],
             [
              1,
              "#f0f921"
             ]
            ],
            "type": "heatmap"
           }
          ],
          "heatmapgl": [
           {
            "colorbar": {
             "outlinewidth": 0,
             "ticks": ""
            },
            "colorscale": [
             [
              0,
              "#0d0887"
             ],
             [
              0.1111111111111111,
              "#46039f"
             ],
             [
              0.2222222222222222,
              "#7201a8"
             ],
             [
              0.3333333333333333,
              "#9c179e"
             ],
             [
              0.4444444444444444,
              "#bd3786"
             ],
             [
              0.5555555555555556,
              "#d8576b"
             ],
             [
              0.6666666666666666,
              "#ed7953"
             ],
             [
              0.7777777777777778,
              "#fb9f3a"
             ],
             [
              0.8888888888888888,
              "#fdca26"
             ],
             [
              1,
              "#f0f921"
             ]
            ],
            "type": "heatmapgl"
           }
          ],
          "histogram": [
           {
            "marker": {
             "pattern": {
              "fillmode": "overlay",
              "size": 10,
              "solidity": 0.2
             }
            },
            "type": "histogram"
           }
          ],
          "histogram2d": [
           {
            "colorbar": {
             "outlinewidth": 0,
             "ticks": ""
            },
            "colorscale": [
             [
              0,
              "#0d0887"
             ],
             [
              0.1111111111111111,
              "#46039f"
             ],
             [
              0.2222222222222222,
              "#7201a8"
             ],
             [
              0.3333333333333333,
              "#9c179e"
             ],
             [
              0.4444444444444444,
              "#bd3786"
             ],
             [
              0.5555555555555556,
              "#d8576b"
             ],
             [
              0.6666666666666666,
              "#ed7953"
             ],
             [
              0.7777777777777778,
              "#fb9f3a"
             ],
             [
              0.8888888888888888,
              "#fdca26"
             ],
             [
              1,
              "#f0f921"
             ]
            ],
            "type": "histogram2d"
           }
          ],
          "histogram2dcontour": [
           {
            "colorbar": {
             "outlinewidth": 0,
             "ticks": ""
            },
            "colorscale": [
             [
              0,
              "#0d0887"
             ],
             [
              0.1111111111111111,
              "#46039f"
             ],
             [
              0.2222222222222222,
              "#7201a8"
             ],
             [
              0.3333333333333333,
              "#9c179e"
             ],
             [
              0.4444444444444444,
              "#bd3786"
             ],
             [
              0.5555555555555556,
              "#d8576b"
             ],
             [
              0.6666666666666666,
              "#ed7953"
             ],
             [
              0.7777777777777778,
              "#fb9f3a"
             ],
             [
              0.8888888888888888,
              "#fdca26"
             ],
             [
              1,
              "#f0f921"
             ]
            ],
            "type": "histogram2dcontour"
           }
          ],
          "mesh3d": [
           {
            "colorbar": {
             "outlinewidth": 0,
             "ticks": ""
            },
            "type": "mesh3d"
           }
          ],
          "parcoords": [
           {
            "line": {
             "colorbar": {
              "outlinewidth": 0,
              "ticks": ""
             }
            },
            "type": "parcoords"
           }
          ],
          "pie": [
           {
            "automargin": true,
            "type": "pie"
           }
          ],
          "scatter": [
           {
            "fillpattern": {
             "fillmode": "overlay",
             "size": 10,
             "solidity": 0.2
            },
            "type": "scatter"
           }
          ],
          "scatter3d": [
           {
            "line": {
             "colorbar": {
              "outlinewidth": 0,
              "ticks": ""
             }
            },
            "marker": {
             "colorbar": {
              "outlinewidth": 0,
              "ticks": ""
             }
            },
            "type": "scatter3d"
           }
          ],
          "scattercarpet": [
           {
            "marker": {
             "colorbar": {
              "outlinewidth": 0,
              "ticks": ""
             }
            },
            "type": "scattercarpet"
           }
          ],
          "scattergeo": [
           {
            "marker": {
             "colorbar": {
              "outlinewidth": 0,
              "ticks": ""
             }
            },
            "type": "scattergeo"
           }
          ],
          "scattergl": [
           {
            "marker": {
             "colorbar": {
              "outlinewidth": 0,
              "ticks": ""
             }
            },
            "type": "scattergl"
           }
          ],
          "scattermapbox": [
           {
            "marker": {
             "colorbar": {
              "outlinewidth": 0,
              "ticks": ""
             }
            },
            "type": "scattermapbox"
           }
          ],
          "scatterpolar": [
           {
            "marker": {
             "colorbar": {
              "outlinewidth": 0,
              "ticks": ""
             }
            },
            "type": "scatterpolar"
           }
          ],
          "scatterpolargl": [
           {
            "marker": {
             "colorbar": {
              "outlinewidth": 0,
              "ticks": ""
             }
            },
            "type": "scatterpolargl"
           }
          ],
          "scatterternary": [
           {
            "marker": {
             "colorbar": {
              "outlinewidth": 0,
              "ticks": ""
             }
            },
            "type": "scatterternary"
           }
          ],
          "surface": [
           {
            "colorbar": {
             "outlinewidth": 0,
             "ticks": ""
            },
            "colorscale": [
             [
              0,
              "#0d0887"
             ],
             [
              0.1111111111111111,
              "#46039f"
             ],
             [
              0.2222222222222222,
              "#7201a8"
             ],
             [
              0.3333333333333333,
              "#9c179e"
             ],
             [
              0.4444444444444444,
              "#bd3786"
             ],
             [
              0.5555555555555556,
              "#d8576b"
             ],
             [
              0.6666666666666666,
              "#ed7953"
             ],
             [
              0.7777777777777778,
              "#fb9f3a"
             ],
             [
              0.8888888888888888,
              "#fdca26"
             ],
             [
              1,
              "#f0f921"
             ]
            ],
            "type": "surface"
           }
          ],
          "table": [
           {
            "cells": {
             "fill": {
              "color": "#EBF0F8"
             },
             "line": {
              "color": "white"
             }
            },
            "header": {
             "fill": {
              "color": "#C8D4E3"
             },
             "line": {
              "color": "white"
             }
            },
            "type": "table"
           }
          ]
         },
         "layout": {
          "annotationdefaults": {
           "arrowcolor": "#2a3f5f",
           "arrowhead": 0,
           "arrowwidth": 1
          },
          "autotypenumbers": "strict",
          "coloraxis": {
           "colorbar": {
            "outlinewidth": 0,
            "ticks": ""
           }
          },
          "colorscale": {
           "diverging": [
            [
             0,
             "#8e0152"
            ],
            [
             0.1,
             "#c51b7d"
            ],
            [
             0.2,
             "#de77ae"
            ],
            [
             0.3,
             "#f1b6da"
            ],
            [
             0.4,
             "#fde0ef"
            ],
            [
             0.5,
             "#f7f7f7"
            ],
            [
             0.6,
             "#e6f5d0"
            ],
            [
             0.7,
             "#b8e186"
            ],
            [
             0.8,
             "#7fbc41"
            ],
            [
             0.9,
             "#4d9221"
            ],
            [
             1,
             "#276419"
            ]
           ],
           "sequential": [
            [
             0,
             "#0d0887"
            ],
            [
             0.1111111111111111,
             "#46039f"
            ],
            [
             0.2222222222222222,
             "#7201a8"
            ],
            [
             0.3333333333333333,
             "#9c179e"
            ],
            [
             0.4444444444444444,
             "#bd3786"
            ],
            [
             0.5555555555555556,
             "#d8576b"
            ],
            [
             0.6666666666666666,
             "#ed7953"
            ],
            [
             0.7777777777777778,
             "#fb9f3a"
            ],
            [
             0.8888888888888888,
             "#fdca26"
            ],
            [
             1,
             "#f0f921"
            ]
           ],
           "sequentialminus": [
            [
             0,
             "#0d0887"
            ],
            [
             0.1111111111111111,
             "#46039f"
            ],
            [
             0.2222222222222222,
             "#7201a8"
            ],
            [
             0.3333333333333333,
             "#9c179e"
            ],
            [
             0.4444444444444444,
             "#bd3786"
            ],
            [
             0.5555555555555556,
             "#d8576b"
            ],
            [
             0.6666666666666666,
             "#ed7953"
            ],
            [
             0.7777777777777778,
             "#fb9f3a"
            ],
            [
             0.8888888888888888,
             "#fdca26"
            ],
            [
             1,
             "#f0f921"
            ]
           ]
          },
          "colorway": [
           "#636efa",
           "#EF553B",
           "#00cc96",
           "#ab63fa",
           "#FFA15A",
           "#19d3f3",
           "#FF6692",
           "#B6E880",
           "#FF97FF",
           "#FECB52"
          ],
          "font": {
           "color": "#2a3f5f"
          },
          "geo": {
           "bgcolor": "white",
           "lakecolor": "white",
           "landcolor": "#E5ECF6",
           "showlakes": true,
           "showland": true,
           "subunitcolor": "white"
          },
          "hoverlabel": {
           "align": "left"
          },
          "hovermode": "closest",
          "mapbox": {
           "style": "light"
          },
          "paper_bgcolor": "white",
          "plot_bgcolor": "#E5ECF6",
          "polar": {
           "angularaxis": {
            "gridcolor": "white",
            "linecolor": "white",
            "ticks": ""
           },
           "bgcolor": "#E5ECF6",
           "radialaxis": {
            "gridcolor": "white",
            "linecolor": "white",
            "ticks": ""
           }
          },
          "scene": {
           "xaxis": {
            "backgroundcolor": "#E5ECF6",
            "gridcolor": "white",
            "gridwidth": 2,
            "linecolor": "white",
            "showbackground": true,
            "ticks": "",
            "zerolinecolor": "white"
           },
           "yaxis": {
            "backgroundcolor": "#E5ECF6",
            "gridcolor": "white",
            "gridwidth": 2,
            "linecolor": "white",
            "showbackground": true,
            "ticks": "",
            "zerolinecolor": "white"
           },
           "zaxis": {
            "backgroundcolor": "#E5ECF6",
            "gridcolor": "white",
            "gridwidth": 2,
            "linecolor": "white",
            "showbackground": true,
            "ticks": "",
            "zerolinecolor": "white"
           }
          },
          "shapedefaults": {
           "line": {
            "color": "#2a3f5f"
           }
          },
          "ternary": {
           "aaxis": {
            "gridcolor": "white",
            "linecolor": "white",
            "ticks": ""
           },
           "baxis": {
            "gridcolor": "white",
            "linecolor": "white",
            "ticks": ""
           },
           "bgcolor": "#E5ECF6",
           "caxis": {
            "gridcolor": "white",
            "linecolor": "white",
            "ticks": ""
           }
          },
          "title": {
           "x": 0.05
          },
          "xaxis": {
           "automargin": true,
           "gridcolor": "white",
           "linecolor": "white",
           "ticks": "",
           "title": {
            "standoff": 15
           },
           "zerolinecolor": "white",
           "zerolinewidth": 2
          },
          "yaxis": {
           "automargin": true,
           "gridcolor": "white",
           "linecolor": "white",
           "ticks": "",
           "title": {
            "standoff": 15
           },
           "zerolinecolor": "white",
           "zerolinewidth": 2
          }
         }
        },
        "xaxis": {
         "anchor": "y",
         "domain": [
          0,
          0.45
         ],
         "visible": false
        },
        "xaxis2": {
         "anchor": "y2",
         "domain": [
          0.55,
          1
         ],
         "visible": false
        },
        "yaxis": {
         "anchor": "x",
         "domain": [
          0,
          1
         ],
         "visible": false
        },
        "yaxis2": {
         "anchor": "x2",
         "domain": [
          0,
          1
         ],
         "visible": false
        }
       }
      }
     },
     "metadata": {},
     "output_type": "display_data"
    },
    {
     "data": {
      "application/vnd.plotly.v1+json": {
       "config": {
        "plotlyServerURL": "https://plot.ly"
       },
       "data": [
        {
         "marker": {
          "color": "red"
         },
         "mode": "markers",
         "type": "scatter",
         "x": [
          0.8609182834625244,
          0.023013576865196228,
          0.7143405675888062,
          0.014478346332907677,
          0.10644035041332245,
          0.8002579808235168,
          0.01940850540995598,
          0.9420930743217468,
          0.9709248542785645,
          0.025697197765111923,
          0.4651798903942108,
          0.01744929328560829,
          0.751804530620575,
          0.5129300951957703,
          0.4893570840358734,
          0.3406350910663605,
          0.43108925223350525,
          0.34312719106674194,
          0.5864400863647461,
          0.6898897290229797,
          0.6589024066925049,
          0.18220268189907074,
          0.5139025449752808,
          0.748106062412262,
          0.5281128287315369,
          0.36482393741607666,
          0.40125182271003723,
          0.2726181149482727,
          0.5206822156906128,
          0.5385115742683411,
          0.212018221616745,
          0.5297076106071472,
          0.048366792500019073,
          0.8667330741882324,
          0.5002331137657166,
          0.4993232488632202,
          0.9758052229881287,
          0.029048385098576546,
          0.24223722517490387,
          0.5649651885032654,
          0.9484350681304932,
          0.4492354393005371,
          0.9325206279754639,
          0.15454933047294617,
          0.67634117603302,
          0.777503490447998,
          1,
          0.9150733351707458,
          0.24650496244430542,
          0.33938345313072205
         ],
         "xaxis": "x",
         "y": [
          0.23718896508216858,
          0.3053416609764099,
          0.19899609684944153,
          1,
          0.7949218153953552,
          0.6294941306114197,
          0.20212046802043915,
          0.17170169949531555,
          0.4817754328250885,
          0.6829347014427185,
          0.9974774718284607,
          0.82563316822052,
          0.04719345271587372,
          0.32413285970687866,
          0.39343827962875366,
          0.7399464249610901,
          0.41483286023139954,
          0.11888329684734344,
          0.7134222984313965,
          0.20264582335948944,
          0.38134071230888367,
          0.0792955681681633,
          0.49862849712371826,
          0.32558688521385193,
          0.8505147695541382,
          0.5724409818649292,
          0.16494297981262207,
          0.3346167802810669,
          0.4125780463218689,
          0.43877819180488586,
          0.13888013362884521,
          0.23002000153064728,
          0.45256510376930237,
          0.39918017387390137,
          0.7211798429489136,
          0.17467184364795685,
          0.3770853877067566,
          0.38362565636634827,
          0.22576627135276794,
          0.4088157117366791,
          0.3623597323894501,
          0.7543172240257263,
          0.6409279704093933,
          0.8690916895866394,
          0.9005098938941956,
          0.8796617984771729,
          0.14888566732406616,
          0.6345000863075256,
          0.6740326285362244,
          0.9899287223815918
         ],
         "yaxis": "y"
        },
        {
         "marker": {
          "color": "red"
         },
         "mode": "markers",
         "type": "scatter",
         "x": [
          0.8609182834625244,
          0.023013576865196228,
          0.7143405675888062,
          0.014478346332907677,
          0.10644035041332245,
          0.8002579808235168,
          0.01940850540995598,
          0.9420930743217468,
          0.9709248542785645,
          0.025697197765111923,
          0.4651798903942108,
          0.01744929328560829,
          0.751804530620575,
          0.5129300951957703,
          0.4893570840358734,
          0.3406350910663605,
          0.43108925223350525,
          0.34312719106674194,
          0.5864400863647461,
          0.6898897290229797,
          0.6589024066925049,
          0.18220268189907074,
          0.5139025449752808,
          0.748106062412262,
          0.5281128287315369,
          0.36482393741607666,
          0.40125182271003723,
          0.2726181149482727,
          0.5206822156906128,
          0.5385115742683411,
          0.212018221616745,
          0.5297076106071472,
          0.048366792500019073,
          0.8667330741882324,
          0.5002331137657166,
          0.4993232488632202,
          0.9758052229881287,
          0.029048385098576546,
          0.24223722517490387,
          0.5649651885032654,
          0.9484350681304932,
          0.4492354393005371,
          0.9325206279754639,
          0.15454933047294617,
          0.67634117603302,
          0.777503490447998,
          1,
          0.9150733351707458,
          0.24650496244430542,
          0.33938345313072205
         ],
         "xaxis": "x2",
         "y": [
          0.23718896508216858,
          0.3053416609764099,
          0.19899609684944153,
          1,
          0.7949218153953552,
          0.6294941306114197,
          0.20212046802043915,
          0.17170169949531555,
          0.4817754328250885,
          0.6829347014427185,
          0.9974774718284607,
          0.82563316822052,
          0.04719345271587372,
          0.32413285970687866,
          0.39343827962875366,
          0.7399464249610901,
          0.41483286023139954,
          0.11888329684734344,
          0.7134222984313965,
          0.20264582335948944,
          0.38134071230888367,
          0.0792955681681633,
          0.49862849712371826,
          0.32558688521385193,
          0.8505147695541382,
          0.5724409818649292,
          0.16494297981262207,
          0.3346167802810669,
          0.4125780463218689,
          0.43877819180488586,
          0.13888013362884521,
          0.23002000153064728,
          0.45256510376930237,
          0.39918017387390137,
          0.7211798429489136,
          0.17467184364795685,
          0.3770853877067566,
          0.38362565636634827,
          0.22576627135276794,
          0.4088157117366791,
          0.3623597323894501,
          0.7543172240257263,
          0.6409279704093933,
          0.8690916895866394,
          0.9005098938941956,
          0.8796617984771729,
          0.14888566732406616,
          0.6345000863075256,
          0.6740326285362244,
          0.9899287223815918
         ],
         "yaxis": "y2"
        }
       ],
       "layout": {
        "annotations": [
         {
          "font": {
           "size": 16
          },
          "showarrow": false,
          "text": "Christofides",
          "x": 0.225,
          "xanchor": "center",
          "xref": "paper",
          "y": 1,
          "yanchor": "bottom",
          "yref": "paper"
         },
         {
          "font": {
           "size": 16
          },
          "showarrow": false,
          "text": "Ours",
          "x": 0.775,
          "xanchor": "center",
          "xref": "paper",
          "y": 1,
          "yanchor": "bottom",
          "yref": "paper"
         },
         {
          "arrowcolor": "blue",
          "arrowhead": 3,
          "arrowwidth": 1.5,
          "ax": 0.8609182834625244,
          "axref": "x",
          "ay": 0.23718896508216858,
          "ayref": "y",
          "showarrow": true,
          "text": "",
          "x": 0.748106062412262,
          "xref": "x",
          "y": 0.32558688521385193,
          "yref": "y"
         },
         {
          "arrowcolor": "blue",
          "arrowhead": 3,
          "arrowwidth": 1.5,
          "ax": 0.748106062412262,
          "axref": "x",
          "ay": 0.32558688521385193,
          "ayref": "y",
          "showarrow": true,
          "text": "",
          "x": 0.8667330741882324,
          "xref": "x",
          "y": 0.39918017387390137,
          "yref": "y"
         },
         {
          "arrowcolor": "blue",
          "arrowhead": 3,
          "arrowwidth": 1.5,
          "ax": 0.8667330741882324,
          "axref": "x",
          "ay": 0.39918017387390137,
          "ayref": "y",
          "showarrow": true,
          "text": "",
          "x": 0.9484350681304932,
          "xref": "x",
          "y": 0.3623597323894501,
          "yref": "y"
         },
         {
          "arrowcolor": "blue",
          "arrowhead": 3,
          "arrowwidth": 1.5,
          "ax": 0.9484350681304932,
          "axref": "x",
          "ay": 0.3623597323894501,
          "ayref": "y",
          "showarrow": true,
          "text": "",
          "x": 0.9758052229881287,
          "xref": "x",
          "y": 0.3770853877067566,
          "yref": "y"
         },
         {
          "arrowcolor": "blue",
          "arrowhead": 3,
          "arrowwidth": 1.5,
          "ax": 0.9758052229881287,
          "axref": "x",
          "ay": 0.3770853877067566,
          "ayref": "y",
          "showarrow": true,
          "text": "",
          "x": 0.9709248542785645,
          "xref": "x",
          "y": 0.4817754328250885,
          "yref": "y"
         },
         {
          "arrowcolor": "blue",
          "arrowhead": 3,
          "arrowwidth": 1.5,
          "ax": 0.9709248542785645,
          "axref": "x",
          "ay": 0.4817754328250885,
          "ayref": "y",
          "showarrow": true,
          "text": "",
          "x": 0.9150733351707458,
          "xref": "x",
          "y": 0.6345000863075256,
          "yref": "y"
         },
         {
          "arrowcolor": "blue",
          "arrowhead": 3,
          "arrowwidth": 1.5,
          "ax": 0.9150733351707458,
          "axref": "x",
          "ay": 0.6345000863075256,
          "ayref": "y",
          "showarrow": true,
          "text": "",
          "x": 0.9325206279754639,
          "xref": "x",
          "y": 0.6409279704093933,
          "yref": "y"
         },
         {
          "arrowcolor": "blue",
          "arrowhead": 3,
          "arrowwidth": 1.5,
          "ax": 0.9325206279754639,
          "axref": "x",
          "ay": 0.6409279704093933,
          "ayref": "y",
          "showarrow": true,
          "text": "",
          "x": 0.8002579808235168,
          "xref": "x",
          "y": 0.6294941306114197,
          "yref": "y"
         },
         {
          "arrowcolor": "blue",
          "arrowhead": 3,
          "arrowwidth": 1.5,
          "ax": 0.8002579808235168,
          "axref": "x",
          "ay": 0.6294941306114197,
          "ayref": "y",
          "showarrow": true,
          "text": "",
          "x": 0.777503490447998,
          "xref": "x",
          "y": 0.8796617984771729,
          "yref": "y"
         },
         {
          "arrowcolor": "blue",
          "arrowhead": 3,
          "arrowwidth": 1.5,
          "ax": 0.777503490447998,
          "axref": "x",
          "ay": 0.8796617984771729,
          "ayref": "y",
          "showarrow": true,
          "text": "",
          "x": 0.67634117603302,
          "xref": "x",
          "y": 0.9005098938941956,
          "yref": "y"
         },
         {
          "arrowcolor": "blue",
          "arrowhead": 3,
          "arrowwidth": 1.5,
          "ax": 0.67634117603302,
          "axref": "x",
          "ay": 0.9005098938941956,
          "ayref": "y",
          "showarrow": true,
          "text": "",
          "x": 0.5281128287315369,
          "xref": "x",
          "y": 0.8505147695541382,
          "yref": "y"
         },
         {
          "arrowcolor": "blue",
          "arrowhead": 3,
          "arrowwidth": 1.5,
          "ax": 0.5281128287315369,
          "axref": "x",
          "ay": 0.8505147695541382,
          "ayref": "y",
          "showarrow": true,
          "text": "",
          "x": 0.33938345313072205,
          "xref": "x",
          "y": 0.9899287223815918,
          "yref": "y"
         },
         {
          "arrowcolor": "blue",
          "arrowhead": 3,
          "arrowwidth": 1.5,
          "ax": 0.33938345313072205,
          "axref": "x",
          "ay": 0.9899287223815918,
          "ayref": "y",
          "showarrow": true,
          "text": "",
          "x": 0.4651798903942108,
          "xref": "x",
          "y": 0.9974774718284607,
          "yref": "y"
         },
         {
          "arrowcolor": "blue",
          "arrowhead": 3,
          "arrowwidth": 1.5,
          "ax": 0.4651798903942108,
          "axref": "x",
          "ay": 0.9974774718284607,
          "ayref": "y",
          "showarrow": true,
          "text": "",
          "x": 0.4492354393005371,
          "xref": "x",
          "y": 0.7543172240257263,
          "yref": "y"
         },
         {
          "arrowcolor": "blue",
          "arrowhead": 3,
          "arrowwidth": 1.5,
          "ax": 0.4492354393005371,
          "axref": "x",
          "ay": 0.7543172240257263,
          "ayref": "y",
          "showarrow": true,
          "text": "",
          "x": 0.5864400863647461,
          "xref": "x",
          "y": 0.7134222984313965,
          "yref": "y"
         },
         {
          "arrowcolor": "blue",
          "arrowhead": 3,
          "arrowwidth": 1.5,
          "ax": 0.5864400863647461,
          "axref": "x",
          "ay": 0.7134222984313965,
          "ayref": "y",
          "showarrow": true,
          "text": "",
          "x": 0.5002331137657166,
          "xref": "x",
          "y": 0.7211798429489136,
          "yref": "y"
         },
         {
          "arrowcolor": "blue",
          "arrowhead": 3,
          "arrowwidth": 1.5,
          "ax": 0.5002331137657166,
          "axref": "x",
          "ay": 0.7211798429489136,
          "ayref": "y",
          "showarrow": true,
          "text": "",
          "x": 0.3406350910663605,
          "xref": "x",
          "y": 0.7399464249610901,
          "yref": "y"
         },
         {
          "arrowcolor": "blue",
          "arrowhead": 3,
          "arrowwidth": 1.5,
          "ax": 0.3406350910663605,
          "axref": "x",
          "ay": 0.7399464249610901,
          "ayref": "y",
          "showarrow": true,
          "text": "",
          "x": 0.24650496244430542,
          "xref": "x",
          "y": 0.6740326285362244,
          "yref": "y"
         },
         {
          "arrowcolor": "blue",
          "arrowhead": 3,
          "arrowwidth": 1.5,
          "ax": 0.24650496244430542,
          "axref": "x",
          "ay": 0.6740326285362244,
          "ayref": "y",
          "showarrow": true,
          "text": "",
          "x": 0.025697197765111923,
          "xref": "x",
          "y": 0.6829347014427185,
          "yref": "y"
         },
         {
          "arrowcolor": "blue",
          "arrowhead": 3,
          "arrowwidth": 1.5,
          "ax": 0.025697197765111923,
          "axref": "x",
          "ay": 0.6829347014427185,
          "ayref": "y",
          "showarrow": true,
          "text": "",
          "x": 0.10644035041332245,
          "xref": "x",
          "y": 0.7949218153953552,
          "yref": "y"
         },
         {
          "arrowcolor": "blue",
          "arrowhead": 3,
          "arrowwidth": 1.5,
          "ax": 0.10644035041332245,
          "axref": "x",
          "ay": 0.7949218153953552,
          "ayref": "y",
          "showarrow": true,
          "text": "",
          "x": 0.15454933047294617,
          "xref": "x",
          "y": 0.8690916895866394,
          "yref": "y"
         },
         {
          "arrowcolor": "blue",
          "arrowhead": 3,
          "arrowwidth": 1.5,
          "ax": 0.15454933047294617,
          "axref": "x",
          "ay": 0.8690916895866394,
          "ayref": "y",
          "showarrow": true,
          "text": "",
          "x": 0.014478346332907677,
          "xref": "x",
          "y": 1,
          "yref": "y"
         },
         {
          "arrowcolor": "blue",
          "arrowhead": 3,
          "arrowwidth": 1.5,
          "ax": 0.014478346332907677,
          "axref": "x",
          "ay": 1,
          "ayref": "y",
          "showarrow": true,
          "text": "",
          "x": 0.01744929328560829,
          "xref": "x",
          "y": 0.82563316822052,
          "yref": "y"
         },
         {
          "arrowcolor": "blue",
          "arrowhead": 3,
          "arrowwidth": 1.5,
          "ax": 0.01744929328560829,
          "axref": "x",
          "ay": 0.82563316822052,
          "ayref": "y",
          "showarrow": true,
          "text": "",
          "x": 0.36482393741607666,
          "xref": "x",
          "y": 0.5724409818649292,
          "yref": "y"
         },
         {
          "arrowcolor": "blue",
          "arrowhead": 3,
          "arrowwidth": 1.5,
          "ax": 0.36482393741607666,
          "axref": "x",
          "ay": 0.5724409818649292,
          "ayref": "y",
          "showarrow": true,
          "text": "",
          "x": 0.5139025449752808,
          "xref": "x",
          "y": 0.49862849712371826,
          "yref": "y"
         },
         {
          "arrowcolor": "blue",
          "arrowhead": 3,
          "arrowwidth": 1.5,
          "ax": 0.5139025449752808,
          "axref": "x",
          "ay": 0.49862849712371826,
          "ayref": "y",
          "showarrow": true,
          "text": "",
          "x": 0.5385115742683411,
          "xref": "x",
          "y": 0.43877819180488586,
          "yref": "y"
         },
         {
          "arrowcolor": "blue",
          "arrowhead": 3,
          "arrowwidth": 1.5,
          "ax": 0.5385115742683411,
          "axref": "x",
          "ay": 0.43877819180488586,
          "ayref": "y",
          "showarrow": true,
          "text": "",
          "x": 0.5206822156906128,
          "xref": "x",
          "y": 0.4125780463218689,
          "yref": "y"
         },
         {
          "arrowcolor": "blue",
          "arrowhead": 3,
          "arrowwidth": 1.5,
          "ax": 0.5206822156906128,
          "axref": "x",
          "ay": 0.4125780463218689,
          "ayref": "y",
          "showarrow": true,
          "text": "",
          "x": 0.4893570840358734,
          "xref": "x",
          "y": 0.39343827962875366,
          "yref": "y"
         },
         {
          "arrowcolor": "blue",
          "arrowhead": 3,
          "arrowwidth": 1.5,
          "ax": 0.4893570840358734,
          "axref": "x",
          "ay": 0.39343827962875366,
          "ayref": "y",
          "showarrow": true,
          "text": "",
          "x": 0.43108925223350525,
          "xref": "x",
          "y": 0.41483286023139954,
          "yref": "y"
         },
         {
          "arrowcolor": "blue",
          "arrowhead": 3,
          "arrowwidth": 1.5,
          "ax": 0.43108925223350525,
          "axref": "x",
          "ay": 0.41483286023139954,
          "ayref": "y",
          "showarrow": true,
          "text": "",
          "x": 0.2726181149482727,
          "xref": "x",
          "y": 0.3346167802810669,
          "yref": "y"
         },
         {
          "arrowcolor": "blue",
          "arrowhead": 3,
          "arrowwidth": 1.5,
          "ax": 0.2726181149482727,
          "axref": "x",
          "ay": 0.3346167802810669,
          "ayref": "y",
          "showarrow": true,
          "text": "",
          "x": 0.24223722517490387,
          "xref": "x",
          "y": 0.22576627135276794,
          "yref": "y"
         },
         {
          "arrowcolor": "blue",
          "arrowhead": 3,
          "arrowwidth": 1.5,
          "ax": 0.24223722517490387,
          "axref": "x",
          "ay": 0.22576627135276794,
          "ayref": "y",
          "showarrow": true,
          "text": "",
          "x": 0.212018221616745,
          "xref": "x",
          "y": 0.13888013362884521,
          "yref": "y"
         },
         {
          "arrowcolor": "blue",
          "arrowhead": 3,
          "arrowwidth": 1.5,
          "ax": 0.212018221616745,
          "axref": "x",
          "ay": 0.13888013362884521,
          "ayref": "y",
          "showarrow": true,
          "text": "",
          "x": 0.18220268189907074,
          "xref": "x",
          "y": 0.0792955681681633,
          "yref": "y"
         },
         {
          "arrowcolor": "blue",
          "arrowhead": 3,
          "arrowwidth": 1.5,
          "ax": 0.18220268189907074,
          "axref": "x",
          "ay": 0.0792955681681633,
          "ayref": "y",
          "showarrow": true,
          "text": "",
          "x": 0.048366792500019073,
          "xref": "x",
          "y": 0.45256510376930237,
          "yref": "y"
         },
         {
          "arrowcolor": "blue",
          "arrowhead": 3,
          "arrowwidth": 1.5,
          "ax": 0.048366792500019073,
          "axref": "x",
          "ay": 0.45256510376930237,
          "ayref": "y",
          "showarrow": true,
          "text": "",
          "x": 0.029048385098576546,
          "xref": "x",
          "y": 0.38362565636634827,
          "yref": "y"
         },
         {
          "arrowcolor": "blue",
          "arrowhead": 3,
          "arrowwidth": 1.5,
          "ax": 0.029048385098576546,
          "axref": "x",
          "ay": 0.38362565636634827,
          "ayref": "y",
          "showarrow": true,
          "text": "",
          "x": 0.023013576865196228,
          "xref": "x",
          "y": 0.3053416609764099,
          "yref": "y"
         },
         {
          "arrowcolor": "blue",
          "arrowhead": 3,
          "arrowwidth": 1.5,
          "ax": 0.023013576865196228,
          "axref": "x",
          "ay": 0.3053416609764099,
          "ayref": "y",
          "showarrow": true,
          "text": "",
          "x": 0.01940850540995598,
          "xref": "x",
          "y": 0.20212046802043915,
          "yref": "y"
         },
         {
          "arrowcolor": "blue",
          "arrowhead": 3,
          "arrowwidth": 1.5,
          "ax": 0.01940850540995598,
          "axref": "x",
          "ay": 0.20212046802043915,
          "ayref": "y",
          "showarrow": true,
          "text": "",
          "x": 0.34312719106674194,
          "xref": "x",
          "y": 0.11888329684734344,
          "yref": "y"
         },
         {
          "arrowcolor": "blue",
          "arrowhead": 3,
          "arrowwidth": 1.5,
          "ax": 0.34312719106674194,
          "axref": "x",
          "ay": 0.11888329684734344,
          "ayref": "y",
          "showarrow": true,
          "text": "",
          "x": 0.40125182271003723,
          "xref": "x",
          "y": 0.16494297981262207,
          "yref": "y"
         },
         {
          "arrowcolor": "blue",
          "arrowhead": 3,
          "arrowwidth": 1.5,
          "ax": 0.40125182271003723,
          "axref": "x",
          "ay": 0.16494297981262207,
          "ayref": "y",
          "showarrow": true,
          "text": "",
          "x": 0.4993232488632202,
          "xref": "x",
          "y": 0.17467184364795685,
          "yref": "y"
         },
         {
          "arrowcolor": "blue",
          "arrowhead": 3,
          "arrowwidth": 1.5,
          "ax": 0.4993232488632202,
          "axref": "x",
          "ay": 0.17467184364795685,
          "ayref": "y",
          "showarrow": true,
          "text": "",
          "x": 0.5297076106071472,
          "xref": "x",
          "y": 0.23002000153064728,
          "yref": "y"
         },
         {
          "arrowcolor": "blue",
          "arrowhead": 3,
          "arrowwidth": 1.5,
          "ax": 0.5297076106071472,
          "axref": "x",
          "ay": 0.23002000153064728,
          "ayref": "y",
          "showarrow": true,
          "text": "",
          "x": 0.5129300951957703,
          "xref": "x",
          "y": 0.32413285970687866,
          "yref": "y"
         },
         {
          "arrowcolor": "blue",
          "arrowhead": 3,
          "arrowwidth": 1.5,
          "ax": 0.5129300951957703,
          "axref": "x",
          "ay": 0.32413285970687866,
          "ayref": "y",
          "showarrow": true,
          "text": "",
          "x": 0.5649651885032654,
          "xref": "x",
          "y": 0.4088157117366791,
          "yref": "y"
         },
         {
          "arrowcolor": "blue",
          "arrowhead": 3,
          "arrowwidth": 1.5,
          "ax": 0.5649651885032654,
          "axref": "x",
          "ay": 0.4088157117366791,
          "ayref": "y",
          "showarrow": true,
          "text": "",
          "x": 0.6589024066925049,
          "xref": "x",
          "y": 0.38134071230888367,
          "yref": "y"
         },
         {
          "arrowcolor": "blue",
          "arrowhead": 3,
          "arrowwidth": 1.5,
          "ax": 0.6589024066925049,
          "axref": "x",
          "ay": 0.38134071230888367,
          "ayref": "y",
          "showarrow": true,
          "text": "",
          "x": 0.7143405675888062,
          "xref": "x",
          "y": 0.19899609684944153,
          "yref": "y"
         },
         {
          "arrowcolor": "blue",
          "arrowhead": 3,
          "arrowwidth": 1.5,
          "ax": 0.7143405675888062,
          "axref": "x",
          "ay": 0.19899609684944153,
          "ayref": "y",
          "showarrow": true,
          "text": "",
          "x": 0.6898897290229797,
          "xref": "x",
          "y": 0.20264582335948944,
          "yref": "y"
         },
         {
          "arrowcolor": "blue",
          "arrowhead": 3,
          "arrowwidth": 1.5,
          "ax": 0.6898897290229797,
          "axref": "x",
          "ay": 0.20264582335948944,
          "ayref": "y",
          "showarrow": true,
          "text": "",
          "x": 0.751804530620575,
          "xref": "x",
          "y": 0.04719345271587372,
          "yref": "y"
         },
         {
          "arrowcolor": "blue",
          "arrowhead": 3,
          "arrowwidth": 1.5,
          "ax": 0.751804530620575,
          "axref": "x",
          "ay": 0.04719345271587372,
          "ayref": "y",
          "showarrow": true,
          "text": "",
          "x": 1,
          "xref": "x",
          "y": 0.14888566732406616,
          "yref": "y"
         },
         {
          "arrowcolor": "blue",
          "arrowhead": 3,
          "arrowwidth": 1.5,
          "ax": 1,
          "axref": "x",
          "ay": 0.14888566732406616,
          "ayref": "y",
          "showarrow": true,
          "text": "",
          "x": 0.9420930743217468,
          "xref": "x",
          "y": 0.17170169949531555,
          "yref": "y"
         },
         {
          "arrowcolor": "blue",
          "arrowhead": 3,
          "arrowwidth": 1.5,
          "ax": 0.9420930743217468,
          "axref": "x",
          "ay": 0.17170169949531555,
          "ayref": "y",
          "showarrow": true,
          "text": "",
          "x": 0.8609182834625244,
          "xref": "x",
          "y": 0.23718896508216858,
          "yref": "y"
         },
         {
          "arrowcolor": "green",
          "arrowhead": 3,
          "arrowwidth": 1.5,
          "ax": 0.5649651885032654,
          "axref": "x2",
          "ay": 0.4088157117366791,
          "ayref": "y2",
          "showarrow": true,
          "text": "",
          "x": 0.6589024066925049,
          "xref": "x2",
          "y": 0.38134071230888367,
          "yref": "y2"
         },
         {
          "arrowcolor": "green",
          "arrowhead": 3,
          "arrowwidth": 1.5,
          "ax": 0.6589024066925049,
          "axref": "x2",
          "ay": 0.38134071230888367,
          "ayref": "y2",
          "showarrow": true,
          "text": "",
          "x": 0.748106062412262,
          "xref": "x2",
          "y": 0.32558688521385193,
          "yref": "y2"
         },
         {
          "arrowcolor": "green",
          "arrowhead": 3,
          "arrowwidth": 1.5,
          "ax": 0.748106062412262,
          "axref": "x2",
          "ay": 0.32558688521385193,
          "ayref": "y2",
          "showarrow": true,
          "text": "",
          "x": 0.6898897290229797,
          "xref": "x2",
          "y": 0.20264582335948944,
          "yref": "y2"
         },
         {
          "arrowcolor": "green",
          "arrowhead": 3,
          "arrowwidth": 1.5,
          "ax": 0.6898897290229797,
          "axref": "x2",
          "ay": 0.20264582335948944,
          "ayref": "y2",
          "showarrow": true,
          "text": "",
          "x": 0.7143405675888062,
          "xref": "x2",
          "y": 0.19899609684944153,
          "yref": "y2"
         },
         {
          "arrowcolor": "green",
          "arrowhead": 3,
          "arrowwidth": 1.5,
          "ax": 0.7143405675888062,
          "axref": "x2",
          "ay": 0.19899609684944153,
          "ayref": "y2",
          "showarrow": true,
          "text": "",
          "x": 0.751804530620575,
          "xref": "x2",
          "y": 0.04719345271587372,
          "yref": "y2"
         },
         {
          "arrowcolor": "green",
          "arrowhead": 3,
          "arrowwidth": 1.5,
          "ax": 0.751804530620575,
          "axref": "x2",
          "ay": 0.04719345271587372,
          "ayref": "y2",
          "showarrow": true,
          "text": "",
          "x": 1,
          "xref": "x2",
          "y": 0.14888566732406616,
          "yref": "y2"
         },
         {
          "arrowcolor": "green",
          "arrowhead": 3,
          "arrowwidth": 1.5,
          "ax": 1,
          "axref": "x2",
          "ay": 0.14888566732406616,
          "ayref": "y2",
          "showarrow": true,
          "text": "",
          "x": 0.9420930743217468,
          "xref": "x2",
          "y": 0.17170169949531555,
          "yref": "y2"
         },
         {
          "arrowcolor": "green",
          "arrowhead": 3,
          "arrowwidth": 1.5,
          "ax": 0.9420930743217468,
          "axref": "x2",
          "ay": 0.17170169949531555,
          "ayref": "y2",
          "showarrow": true,
          "text": "",
          "x": 0.8609182834625244,
          "xref": "x2",
          "y": 0.23718896508216858,
          "yref": "y2"
         },
         {
          "arrowcolor": "green",
          "arrowhead": 3,
          "arrowwidth": 1.5,
          "ax": 0.8609182834625244,
          "axref": "x2",
          "ay": 0.23718896508216858,
          "ayref": "y2",
          "showarrow": true,
          "text": "",
          "x": 0.9484350681304932,
          "xref": "x2",
          "y": 0.3623597323894501,
          "yref": "y2"
         },
         {
          "arrowcolor": "green",
          "arrowhead": 3,
          "arrowwidth": 1.5,
          "ax": 0.9484350681304932,
          "axref": "x2",
          "ay": 0.3623597323894501,
          "ayref": "y2",
          "showarrow": true,
          "text": "",
          "x": 0.9758052229881287,
          "xref": "x2",
          "y": 0.3770853877067566,
          "yref": "y2"
         },
         {
          "arrowcolor": "green",
          "arrowhead": 3,
          "arrowwidth": 1.5,
          "ax": 0.9758052229881287,
          "axref": "x2",
          "ay": 0.3770853877067566,
          "ayref": "y2",
          "showarrow": true,
          "text": "",
          "x": 0.8667330741882324,
          "xref": "x2",
          "y": 0.39918017387390137,
          "yref": "y2"
         },
         {
          "arrowcolor": "green",
          "arrowhead": 3,
          "arrowwidth": 1.5,
          "ax": 0.8667330741882324,
          "axref": "x2",
          "ay": 0.39918017387390137,
          "ayref": "y2",
          "showarrow": true,
          "text": "",
          "x": 0.9709248542785645,
          "xref": "x2",
          "y": 0.4817754328250885,
          "yref": "y2"
         },
         {
          "arrowcolor": "green",
          "arrowhead": 3,
          "arrowwidth": 1.5,
          "ax": 0.9709248542785645,
          "axref": "x2",
          "ay": 0.4817754328250885,
          "ayref": "y2",
          "showarrow": true,
          "text": "",
          "x": 0.9150733351707458,
          "xref": "x2",
          "y": 0.6345000863075256,
          "yref": "y2"
         },
         {
          "arrowcolor": "green",
          "arrowhead": 3,
          "arrowwidth": 1.5,
          "ax": 0.9150733351707458,
          "axref": "x2",
          "ay": 0.6345000863075256,
          "ayref": "y2",
          "showarrow": true,
          "text": "",
          "x": 0.9325206279754639,
          "xref": "x2",
          "y": 0.6409279704093933,
          "yref": "y2"
         },
         {
          "arrowcolor": "green",
          "arrowhead": 3,
          "arrowwidth": 1.5,
          "ax": 0.9325206279754639,
          "axref": "x2",
          "ay": 0.6409279704093933,
          "ayref": "y2",
          "showarrow": true,
          "text": "",
          "x": 0.8002579808235168,
          "xref": "x2",
          "y": 0.6294941306114197,
          "yref": "y2"
         },
         {
          "arrowcolor": "green",
          "arrowhead": 3,
          "arrowwidth": 1.5,
          "ax": 0.8002579808235168,
          "axref": "x2",
          "ay": 0.6294941306114197,
          "ayref": "y2",
          "showarrow": true,
          "text": "",
          "x": 0.777503490447998,
          "xref": "x2",
          "y": 0.8796617984771729,
          "yref": "y2"
         },
         {
          "arrowcolor": "green",
          "arrowhead": 3,
          "arrowwidth": 1.5,
          "ax": 0.777503490447998,
          "axref": "x2",
          "ay": 0.8796617984771729,
          "ayref": "y2",
          "showarrow": true,
          "text": "",
          "x": 0.67634117603302,
          "xref": "x2",
          "y": 0.9005098938941956,
          "yref": "y2"
         },
         {
          "arrowcolor": "green",
          "arrowhead": 3,
          "arrowwidth": 1.5,
          "ax": 0.67634117603302,
          "axref": "x2",
          "ay": 0.9005098938941956,
          "ayref": "y2",
          "showarrow": true,
          "text": "",
          "x": 0.5281128287315369,
          "xref": "x2",
          "y": 0.8505147695541382,
          "yref": "y2"
         },
         {
          "arrowcolor": "green",
          "arrowhead": 3,
          "arrowwidth": 1.5,
          "ax": 0.5281128287315369,
          "axref": "x2",
          "ay": 0.8505147695541382,
          "ayref": "y2",
          "showarrow": true,
          "text": "",
          "x": 0.4651798903942108,
          "xref": "x2",
          "y": 0.9974774718284607,
          "yref": "y2"
         },
         {
          "arrowcolor": "green",
          "arrowhead": 3,
          "arrowwidth": 1.5,
          "ax": 0.4651798903942108,
          "axref": "x2",
          "ay": 0.9974774718284607,
          "ayref": "y2",
          "showarrow": true,
          "text": "",
          "x": 0.33938345313072205,
          "xref": "x2",
          "y": 0.9899287223815918,
          "yref": "y2"
         },
         {
          "arrowcolor": "green",
          "arrowhead": 3,
          "arrowwidth": 1.5,
          "ax": 0.33938345313072205,
          "axref": "x2",
          "ay": 0.9899287223815918,
          "ayref": "y2",
          "showarrow": true,
          "text": "",
          "x": 0.15454933047294617,
          "xref": "x2",
          "y": 0.8690916895866394,
          "yref": "y2"
         },
         {
          "arrowcolor": "green",
          "arrowhead": 3,
          "arrowwidth": 1.5,
          "ax": 0.15454933047294617,
          "axref": "x2",
          "ay": 0.8690916895866394,
          "ayref": "y2",
          "showarrow": true,
          "text": "",
          "x": 0.014478346332907677,
          "xref": "x2",
          "y": 1,
          "yref": "y2"
         },
         {
          "arrowcolor": "green",
          "arrowhead": 3,
          "arrowwidth": 1.5,
          "ax": 0.014478346332907677,
          "axref": "x2",
          "ay": 1,
          "ayref": "y2",
          "showarrow": true,
          "text": "",
          "x": 0.10644035041332245,
          "xref": "x2",
          "y": 0.7949218153953552,
          "yref": "y2"
         },
         {
          "arrowcolor": "green",
          "arrowhead": 3,
          "arrowwidth": 1.5,
          "ax": 0.10644035041332245,
          "axref": "x2",
          "ay": 0.7949218153953552,
          "ayref": "y2",
          "showarrow": true,
          "text": "",
          "x": 0.01744929328560829,
          "xref": "x2",
          "y": 0.82563316822052,
          "yref": "y2"
         },
         {
          "arrowcolor": "green",
          "arrowhead": 3,
          "arrowwidth": 1.5,
          "ax": 0.01744929328560829,
          "axref": "x2",
          "ay": 0.82563316822052,
          "ayref": "y2",
          "showarrow": true,
          "text": "",
          "x": 0.025697197765111923,
          "xref": "x2",
          "y": 0.6829347014427185,
          "yref": "y2"
         },
         {
          "arrowcolor": "green",
          "arrowhead": 3,
          "arrowwidth": 1.5,
          "ax": 0.025697197765111923,
          "axref": "x2",
          "ay": 0.6829347014427185,
          "ayref": "y2",
          "showarrow": true,
          "text": "",
          "x": 0.048366792500019073,
          "xref": "x2",
          "y": 0.45256510376930237,
          "yref": "y2"
         },
         {
          "arrowcolor": "green",
          "arrowhead": 3,
          "arrowwidth": 1.5,
          "ax": 0.048366792500019073,
          "axref": "x2",
          "ay": 0.45256510376930237,
          "ayref": "y2",
          "showarrow": true,
          "text": "",
          "x": 0.029048385098576546,
          "xref": "x2",
          "y": 0.38362565636634827,
          "yref": "y2"
         },
         {
          "arrowcolor": "green",
          "arrowhead": 3,
          "arrowwidth": 1.5,
          "ax": 0.029048385098576546,
          "axref": "x2",
          "ay": 0.38362565636634827,
          "ayref": "y2",
          "showarrow": true,
          "text": "",
          "x": 0.023013576865196228,
          "xref": "x2",
          "y": 0.3053416609764099,
          "yref": "y2"
         },
         {
          "arrowcolor": "green",
          "arrowhead": 3,
          "arrowwidth": 1.5,
          "ax": 0.023013576865196228,
          "axref": "x2",
          "ay": 0.3053416609764099,
          "ayref": "y2",
          "showarrow": true,
          "text": "",
          "x": 0.01940850540995598,
          "xref": "x2",
          "y": 0.20212046802043915,
          "yref": "y2"
         },
         {
          "arrowcolor": "green",
          "arrowhead": 3,
          "arrowwidth": 1.5,
          "ax": 0.01940850540995598,
          "axref": "x2",
          "ay": 0.20212046802043915,
          "ayref": "y2",
          "showarrow": true,
          "text": "",
          "x": 0.18220268189907074,
          "xref": "x2",
          "y": 0.0792955681681633,
          "yref": "y2"
         },
         {
          "arrowcolor": "green",
          "arrowhead": 3,
          "arrowwidth": 1.5,
          "ax": 0.18220268189907074,
          "axref": "x2",
          "ay": 0.0792955681681633,
          "ayref": "y2",
          "showarrow": true,
          "text": "",
          "x": 0.212018221616745,
          "xref": "x2",
          "y": 0.13888013362884521,
          "yref": "y2"
         },
         {
          "arrowcolor": "green",
          "arrowhead": 3,
          "arrowwidth": 1.5,
          "ax": 0.212018221616745,
          "axref": "x2",
          "ay": 0.13888013362884521,
          "ayref": "y2",
          "showarrow": true,
          "text": "",
          "x": 0.24223722517490387,
          "xref": "x2",
          "y": 0.22576627135276794,
          "yref": "y2"
         },
         {
          "arrowcolor": "green",
          "arrowhead": 3,
          "arrowwidth": 1.5,
          "ax": 0.24223722517490387,
          "axref": "x2",
          "ay": 0.22576627135276794,
          "ayref": "y2",
          "showarrow": true,
          "text": "",
          "x": 0.34312719106674194,
          "xref": "x2",
          "y": 0.11888329684734344,
          "yref": "y2"
         },
         {
          "arrowcolor": "green",
          "arrowhead": 3,
          "arrowwidth": 1.5,
          "ax": 0.34312719106674194,
          "axref": "x2",
          "ay": 0.11888329684734344,
          "ayref": "y2",
          "showarrow": true,
          "text": "",
          "x": 0.2726181149482727,
          "xref": "x2",
          "y": 0.3346167802810669,
          "yref": "y2"
         },
         {
          "arrowcolor": "green",
          "arrowhead": 3,
          "arrowwidth": 1.5,
          "ax": 0.2726181149482727,
          "axref": "x2",
          "ay": 0.3346167802810669,
          "ayref": "y2",
          "showarrow": true,
          "text": "",
          "x": 0.43108925223350525,
          "xref": "x2",
          "y": 0.41483286023139954,
          "yref": "y2"
         },
         {
          "arrowcolor": "green",
          "arrowhead": 3,
          "arrowwidth": 1.5,
          "ax": 0.43108925223350525,
          "axref": "x2",
          "ay": 0.41483286023139954,
          "ayref": "y2",
          "showarrow": true,
          "text": "",
          "x": 0.36482393741607666,
          "xref": "x2",
          "y": 0.5724409818649292,
          "yref": "y2"
         },
         {
          "arrowcolor": "green",
          "arrowhead": 3,
          "arrowwidth": 1.5,
          "ax": 0.36482393741607666,
          "axref": "x2",
          "ay": 0.5724409818649292,
          "ayref": "y2",
          "showarrow": true,
          "text": "",
          "x": 0.24650496244430542,
          "xref": "x2",
          "y": 0.6740326285362244,
          "yref": "y2"
         },
         {
          "arrowcolor": "green",
          "arrowhead": 3,
          "arrowwidth": 1.5,
          "ax": 0.24650496244430542,
          "axref": "x2",
          "ay": 0.6740326285362244,
          "ayref": "y2",
          "showarrow": true,
          "text": "",
          "x": 0.3406350910663605,
          "xref": "x2",
          "y": 0.7399464249610901,
          "yref": "y2"
         },
         {
          "arrowcolor": "green",
          "arrowhead": 3,
          "arrowwidth": 1.5,
          "ax": 0.3406350910663605,
          "axref": "x2",
          "ay": 0.7399464249610901,
          "ayref": "y2",
          "showarrow": true,
          "text": "",
          "x": 0.4492354393005371,
          "xref": "x2",
          "y": 0.7543172240257263,
          "yref": "y2"
         },
         {
          "arrowcolor": "green",
          "arrowhead": 3,
          "arrowwidth": 1.5,
          "ax": 0.4492354393005371,
          "axref": "x2",
          "ay": 0.7543172240257263,
          "ayref": "y2",
          "showarrow": true,
          "text": "",
          "x": 0.5002331137657166,
          "xref": "x2",
          "y": 0.7211798429489136,
          "yref": "y2"
         },
         {
          "arrowcolor": "green",
          "arrowhead": 3,
          "arrowwidth": 1.5,
          "ax": 0.5002331137657166,
          "axref": "x2",
          "ay": 0.7211798429489136,
          "ayref": "y2",
          "showarrow": true,
          "text": "",
          "x": 0.5864400863647461,
          "xref": "x2",
          "y": 0.7134222984313965,
          "yref": "y2"
         },
         {
          "arrowcolor": "green",
          "arrowhead": 3,
          "arrowwidth": 1.5,
          "ax": 0.5864400863647461,
          "axref": "x2",
          "ay": 0.7134222984313965,
          "ayref": "y2",
          "showarrow": true,
          "text": "",
          "x": 0.5139025449752808,
          "xref": "x2",
          "y": 0.49862849712371826,
          "yref": "y2"
         },
         {
          "arrowcolor": "green",
          "arrowhead": 3,
          "arrowwidth": 1.5,
          "ax": 0.5139025449752808,
          "axref": "x2",
          "ay": 0.49862849712371826,
          "ayref": "y2",
          "showarrow": true,
          "text": "",
          "x": 0.5385115742683411,
          "xref": "x2",
          "y": 0.43877819180488586,
          "yref": "y2"
         },
         {
          "arrowcolor": "green",
          "arrowhead": 3,
          "arrowwidth": 1.5,
          "ax": 0.5385115742683411,
          "axref": "x2",
          "ay": 0.43877819180488586,
          "ayref": "y2",
          "showarrow": true,
          "text": "",
          "x": 0.5206822156906128,
          "xref": "x2",
          "y": 0.4125780463218689,
          "yref": "y2"
         },
         {
          "arrowcolor": "green",
          "arrowhead": 3,
          "arrowwidth": 1.5,
          "ax": 0.5206822156906128,
          "axref": "x2",
          "ay": 0.4125780463218689,
          "ayref": "y2",
          "showarrow": true,
          "text": "",
          "x": 0.4893570840358734,
          "xref": "x2",
          "y": 0.39343827962875366,
          "yref": "y2"
         },
         {
          "arrowcolor": "green",
          "arrowhead": 3,
          "arrowwidth": 1.5,
          "ax": 0.4893570840358734,
          "axref": "x2",
          "ay": 0.39343827962875366,
          "ayref": "y2",
          "showarrow": true,
          "text": "",
          "x": 0.5129300951957703,
          "xref": "x2",
          "y": 0.32413285970687866,
          "yref": "y2"
         },
         {
          "arrowcolor": "green",
          "arrowhead": 3,
          "arrowwidth": 1.5,
          "ax": 0.5129300951957703,
          "axref": "x2",
          "ay": 0.32413285970687866,
          "ayref": "y2",
          "showarrow": true,
          "text": "",
          "x": 0.40125182271003723,
          "xref": "x2",
          "y": 0.16494297981262207,
          "yref": "y2"
         },
         {
          "arrowcolor": "green",
          "arrowhead": 3,
          "arrowwidth": 1.5,
          "ax": 0.40125182271003723,
          "axref": "x2",
          "ay": 0.16494297981262207,
          "ayref": "y2",
          "showarrow": true,
          "text": "",
          "x": 0.4993232488632202,
          "xref": "x2",
          "y": 0.17467184364795685,
          "yref": "y2"
         },
         {
          "arrowcolor": "green",
          "arrowhead": 3,
          "arrowwidth": 1.5,
          "ax": 0.4993232488632202,
          "axref": "x2",
          "ay": 0.17467184364795685,
          "ayref": "y2",
          "showarrow": true,
          "text": "",
          "x": 0.5297076106071472,
          "xref": "x2",
          "y": 0.23002000153064728,
          "yref": "y2"
         },
         {
          "arrowcolor": "green",
          "arrowhead": 3,
          "arrowwidth": 1.5,
          "ax": 0.5297076106071472,
          "axref": "x2",
          "ay": 0.23002000153064728,
          "ayref": "y2",
          "showarrow": true,
          "text": "",
          "x": 0.5649651885032654,
          "xref": "x2",
          "y": 0.4088157117366791,
          "yref": "y2"
         }
        ],
        "showlegend": false,
        "template": {
         "data": {
          "bar": [
           {
            "error_x": {
             "color": "#2a3f5f"
            },
            "error_y": {
             "color": "#2a3f5f"
            },
            "marker": {
             "line": {
              "color": "#E5ECF6",
              "width": 0.5
             },
             "pattern": {
              "fillmode": "overlay",
              "size": 10,
              "solidity": 0.2
             }
            },
            "type": "bar"
           }
          ],
          "barpolar": [
           {
            "marker": {
             "line": {
              "color": "#E5ECF6",
              "width": 0.5
             },
             "pattern": {
              "fillmode": "overlay",
              "size": 10,
              "solidity": 0.2
             }
            },
            "type": "barpolar"
           }
          ],
          "carpet": [
           {
            "aaxis": {
             "endlinecolor": "#2a3f5f",
             "gridcolor": "white",
             "linecolor": "white",
             "minorgridcolor": "white",
             "startlinecolor": "#2a3f5f"
            },
            "baxis": {
             "endlinecolor": "#2a3f5f",
             "gridcolor": "white",
             "linecolor": "white",
             "minorgridcolor": "white",
             "startlinecolor": "#2a3f5f"
            },
            "type": "carpet"
           }
          ],
          "choropleth": [
           {
            "colorbar": {
             "outlinewidth": 0,
             "ticks": ""
            },
            "type": "choropleth"
           }
          ],
          "contour": [
           {
            "colorbar": {
             "outlinewidth": 0,
             "ticks": ""
            },
            "colorscale": [
             [
              0,
              "#0d0887"
             ],
             [
              0.1111111111111111,
              "#46039f"
             ],
             [
              0.2222222222222222,
              "#7201a8"
             ],
             [
              0.3333333333333333,
              "#9c179e"
             ],
             [
              0.4444444444444444,
              "#bd3786"
             ],
             [
              0.5555555555555556,
              "#d8576b"
             ],
             [
              0.6666666666666666,
              "#ed7953"
             ],
             [
              0.7777777777777778,
              "#fb9f3a"
             ],
             [
              0.8888888888888888,
              "#fdca26"
             ],
             [
              1,
              "#f0f921"
             ]
            ],
            "type": "contour"
           }
          ],
          "contourcarpet": [
           {
            "colorbar": {
             "outlinewidth": 0,
             "ticks": ""
            },
            "type": "contourcarpet"
           }
          ],
          "heatmap": [
           {
            "colorbar": {
             "outlinewidth": 0,
             "ticks": ""
            },
            "colorscale": [
             [
              0,
              "#0d0887"
             ],
             [
              0.1111111111111111,
              "#46039f"
             ],
             [
              0.2222222222222222,
              "#7201a8"
             ],
             [
              0.3333333333333333,
              "#9c179e"
             ],
             [
              0.4444444444444444,
              "#bd3786"
             ],
             [
              0.5555555555555556,
              "#d8576b"
             ],
             [
              0.6666666666666666,
              "#ed7953"
             ],
             [
              0.7777777777777778,
              "#fb9f3a"
             ],
             [
              0.8888888888888888,
              "#fdca26"
             ],
             [
              1,
              "#f0f921"
             ]
            ],
            "type": "heatmap"
           }
          ],
          "heatmapgl": [
           {
            "colorbar": {
             "outlinewidth": 0,
             "ticks": ""
            },
            "colorscale": [
             [
              0,
              "#0d0887"
             ],
             [
              0.1111111111111111,
              "#46039f"
             ],
             [
              0.2222222222222222,
              "#7201a8"
             ],
             [
              0.3333333333333333,
              "#9c179e"
             ],
             [
              0.4444444444444444,
              "#bd3786"
             ],
             [
              0.5555555555555556,
              "#d8576b"
             ],
             [
              0.6666666666666666,
              "#ed7953"
             ],
             [
              0.7777777777777778,
              "#fb9f3a"
             ],
             [
              0.8888888888888888,
              "#fdca26"
             ],
             [
              1,
              "#f0f921"
             ]
            ],
            "type": "heatmapgl"
           }
          ],
          "histogram": [
           {
            "marker": {
             "pattern": {
              "fillmode": "overlay",
              "size": 10,
              "solidity": 0.2
             }
            },
            "type": "histogram"
           }
          ],
          "histogram2d": [
           {
            "colorbar": {
             "outlinewidth": 0,
             "ticks": ""
            },
            "colorscale": [
             [
              0,
              "#0d0887"
             ],
             [
              0.1111111111111111,
              "#46039f"
             ],
             [
              0.2222222222222222,
              "#7201a8"
             ],
             [
              0.3333333333333333,
              "#9c179e"
             ],
             [
              0.4444444444444444,
              "#bd3786"
             ],
             [
              0.5555555555555556,
              "#d8576b"
             ],
             [
              0.6666666666666666,
              "#ed7953"
             ],
             [
              0.7777777777777778,
              "#fb9f3a"
             ],
             [
              0.8888888888888888,
              "#fdca26"
             ],
             [
              1,
              "#f0f921"
             ]
            ],
            "type": "histogram2d"
           }
          ],
          "histogram2dcontour": [
           {
            "colorbar": {
             "outlinewidth": 0,
             "ticks": ""
            },
            "colorscale": [
             [
              0,
              "#0d0887"
             ],
             [
              0.1111111111111111,
              "#46039f"
             ],
             [
              0.2222222222222222,
              "#7201a8"
             ],
             [
              0.3333333333333333,
              "#9c179e"
             ],
             [
              0.4444444444444444,
              "#bd3786"
             ],
             [
              0.5555555555555556,
              "#d8576b"
             ],
             [
              0.6666666666666666,
              "#ed7953"
             ],
             [
              0.7777777777777778,
              "#fb9f3a"
             ],
             [
              0.8888888888888888,
              "#fdca26"
             ],
             [
              1,
              "#f0f921"
             ]
            ],
            "type": "histogram2dcontour"
           }
          ],
          "mesh3d": [
           {
            "colorbar": {
             "outlinewidth": 0,
             "ticks": ""
            },
            "type": "mesh3d"
           }
          ],
          "parcoords": [
           {
            "line": {
             "colorbar": {
              "outlinewidth": 0,
              "ticks": ""
             }
            },
            "type": "parcoords"
           }
          ],
          "pie": [
           {
            "automargin": true,
            "type": "pie"
           }
          ],
          "scatter": [
           {
            "fillpattern": {
             "fillmode": "overlay",
             "size": 10,
             "solidity": 0.2
            },
            "type": "scatter"
           }
          ],
          "scatter3d": [
           {
            "line": {
             "colorbar": {
              "outlinewidth": 0,
              "ticks": ""
             }
            },
            "marker": {
             "colorbar": {
              "outlinewidth": 0,
              "ticks": ""
             }
            },
            "type": "scatter3d"
           }
          ],
          "scattercarpet": [
           {
            "marker": {
             "colorbar": {
              "outlinewidth": 0,
              "ticks": ""
             }
            },
            "type": "scattercarpet"
           }
          ],
          "scattergeo": [
           {
            "marker": {
             "colorbar": {
              "outlinewidth": 0,
              "ticks": ""
             }
            },
            "type": "scattergeo"
           }
          ],
          "scattergl": [
           {
            "marker": {
             "colorbar": {
              "outlinewidth": 0,
              "ticks": ""
             }
            },
            "type": "scattergl"
           }
          ],
          "scattermapbox": [
           {
            "marker": {
             "colorbar": {
              "outlinewidth": 0,
              "ticks": ""
             }
            },
            "type": "scattermapbox"
           }
          ],
          "scatterpolar": [
           {
            "marker": {
             "colorbar": {
              "outlinewidth": 0,
              "ticks": ""
             }
            },
            "type": "scatterpolar"
           }
          ],
          "scatterpolargl": [
           {
            "marker": {
             "colorbar": {
              "outlinewidth": 0,
              "ticks": ""
             }
            },
            "type": "scatterpolargl"
           }
          ],
          "scatterternary": [
           {
            "marker": {
             "colorbar": {
              "outlinewidth": 0,
              "ticks": ""
             }
            },
            "type": "scatterternary"
           }
          ],
          "surface": [
           {
            "colorbar": {
             "outlinewidth": 0,
             "ticks": ""
            },
            "colorscale": [
             [
              0,
              "#0d0887"
             ],
             [
              0.1111111111111111,
              "#46039f"
             ],
             [
              0.2222222222222222,
              "#7201a8"
             ],
             [
              0.3333333333333333,
              "#9c179e"
             ],
             [
              0.4444444444444444,
              "#bd3786"
             ],
             [
              0.5555555555555556,
              "#d8576b"
             ],
             [
              0.6666666666666666,
              "#ed7953"
             ],
             [
              0.7777777777777778,
              "#fb9f3a"
             ],
             [
              0.8888888888888888,
              "#fdca26"
             ],
             [
              1,
              "#f0f921"
             ]
            ],
            "type": "surface"
           }
          ],
          "table": [
           {
            "cells": {
             "fill": {
              "color": "#EBF0F8"
             },
             "line": {
              "color": "white"
             }
            },
            "header": {
             "fill": {
              "color": "#C8D4E3"
             },
             "line": {
              "color": "white"
             }
            },
            "type": "table"
           }
          ]
         },
         "layout": {
          "annotationdefaults": {
           "arrowcolor": "#2a3f5f",
           "arrowhead": 0,
           "arrowwidth": 1
          },
          "autotypenumbers": "strict",
          "coloraxis": {
           "colorbar": {
            "outlinewidth": 0,
            "ticks": ""
           }
          },
          "colorscale": {
           "diverging": [
            [
             0,
             "#8e0152"
            ],
            [
             0.1,
             "#c51b7d"
            ],
            [
             0.2,
             "#de77ae"
            ],
            [
             0.3,
             "#f1b6da"
            ],
            [
             0.4,
             "#fde0ef"
            ],
            [
             0.5,
             "#f7f7f7"
            ],
            [
             0.6,
             "#e6f5d0"
            ],
            [
             0.7,
             "#b8e186"
            ],
            [
             0.8,
             "#7fbc41"
            ],
            [
             0.9,
             "#4d9221"
            ],
            [
             1,
             "#276419"
            ]
           ],
           "sequential": [
            [
             0,
             "#0d0887"
            ],
            [
             0.1111111111111111,
             "#46039f"
            ],
            [
             0.2222222222222222,
             "#7201a8"
            ],
            [
             0.3333333333333333,
             "#9c179e"
            ],
            [
             0.4444444444444444,
             "#bd3786"
            ],
            [
             0.5555555555555556,
             "#d8576b"
            ],
            [
             0.6666666666666666,
             "#ed7953"
            ],
            [
             0.7777777777777778,
             "#fb9f3a"
            ],
            [
             0.8888888888888888,
             "#fdca26"
            ],
            [
             1,
             "#f0f921"
            ]
           ],
           "sequentialminus": [
            [
             0,
             "#0d0887"
            ],
            [
             0.1111111111111111,
             "#46039f"
            ],
            [
             0.2222222222222222,
             "#7201a8"
            ],
            [
             0.3333333333333333,
             "#9c179e"
            ],
            [
             0.4444444444444444,
             "#bd3786"
            ],
            [
             0.5555555555555556,
             "#d8576b"
            ],
            [
             0.6666666666666666,
             "#ed7953"
            ],
            [
             0.7777777777777778,
             "#fb9f3a"
            ],
            [
             0.8888888888888888,
             "#fdca26"
            ],
            [
             1,
             "#f0f921"
            ]
           ]
          },
          "colorway": [
           "#636efa",
           "#EF553B",
           "#00cc96",
           "#ab63fa",
           "#FFA15A",
           "#19d3f3",
           "#FF6692",
           "#B6E880",
           "#FF97FF",
           "#FECB52"
          ],
          "font": {
           "color": "#2a3f5f"
          },
          "geo": {
           "bgcolor": "white",
           "lakecolor": "white",
           "landcolor": "#E5ECF6",
           "showlakes": true,
           "showland": true,
           "subunitcolor": "white"
          },
          "hoverlabel": {
           "align": "left"
          },
          "hovermode": "closest",
          "mapbox": {
           "style": "light"
          },
          "paper_bgcolor": "white",
          "plot_bgcolor": "#E5ECF6",
          "polar": {
           "angularaxis": {
            "gridcolor": "white",
            "linecolor": "white",
            "ticks": ""
           },
           "bgcolor": "#E5ECF6",
           "radialaxis": {
            "gridcolor": "white",
            "linecolor": "white",
            "ticks": ""
           }
          },
          "scene": {
           "xaxis": {
            "backgroundcolor": "#E5ECF6",
            "gridcolor": "white",
            "gridwidth": 2,
            "linecolor": "white",
            "showbackground": true,
            "ticks": "",
            "zerolinecolor": "white"
           },
           "yaxis": {
            "backgroundcolor": "#E5ECF6",
            "gridcolor": "white",
            "gridwidth": 2,
            "linecolor": "white",
            "showbackground": true,
            "ticks": "",
            "zerolinecolor": "white"
           },
           "zaxis": {
            "backgroundcolor": "#E5ECF6",
            "gridcolor": "white",
            "gridwidth": 2,
            "linecolor": "white",
            "showbackground": true,
            "ticks": "",
            "zerolinecolor": "white"
           }
          },
          "shapedefaults": {
           "line": {
            "color": "#2a3f5f"
           }
          },
          "ternary": {
           "aaxis": {
            "gridcolor": "white",
            "linecolor": "white",
            "ticks": ""
           },
           "baxis": {
            "gridcolor": "white",
            "linecolor": "white",
            "ticks": ""
           },
           "bgcolor": "#E5ECF6",
           "caxis": {
            "gridcolor": "white",
            "linecolor": "white",
            "ticks": ""
           }
          },
          "title": {
           "x": 0.05
          },
          "xaxis": {
           "automargin": true,
           "gridcolor": "white",
           "linecolor": "white",
           "ticks": "",
           "title": {
            "standoff": 15
           },
           "zerolinecolor": "white",
           "zerolinewidth": 2
          },
          "yaxis": {
           "automargin": true,
           "gridcolor": "white",
           "linecolor": "white",
           "ticks": "",
           "title": {
            "standoff": 15
           },
           "zerolinecolor": "white",
           "zerolinewidth": 2
          }
         }
        },
        "xaxis": {
         "anchor": "y",
         "domain": [
          0,
          0.45
         ],
         "visible": false
        },
        "xaxis2": {
         "anchor": "y2",
         "domain": [
          0.55,
          1
         ],
         "visible": false
        },
        "yaxis": {
         "anchor": "x",
         "domain": [
          0,
          1
         ],
         "visible": false
        },
        "yaxis2": {
         "anchor": "x2",
         "domain": [
          0,
          1
         ],
         "visible": false
        }
       }
      }
     },
     "metadata": {},
     "output_type": "display_data"
    },
    {
     "data": {
      "application/vnd.plotly.v1+json": {
       "config": {
        "plotlyServerURL": "https://plot.ly"
       },
       "data": [
        {
         "marker": {
          "color": "red"
         },
         "mode": "markers",
         "type": "scatter",
         "x": [
          0.8541986346244812,
          0.9808188080787659,
          0.38412025570869446,
          0.058966293931007385,
          0.30774518847465515,
          0.9153881669044495,
          0.2634299397468567,
          0.8836977481842041,
          0.1956539750099182,
          0.6985272765159607,
          0.4446100890636444,
          0.6965578198432922,
          0.4966064691543579,
          0.5065692663192749,
          0.832300066947937,
          0.37675940990448,
          0.8137133717536926,
          0.17758454382419586,
          0.6536422371864319,
          0.3106038570404053,
          0.5133659839630127,
          0.714294970035553,
          0.6805488467216492,
          0.42202308773994446,
          0.09191572666168213,
          0.5743054747581482,
          0.4239926040172577,
          0.09046474099159241,
          0.6005517244338989,
          0.16554732620716095,
          1,
          0.6534955501556396,
          0.8055094480514526,
          0.7307459712028503,
          0.2994250953197479,
          0.04447317123413086,
          0.4932320713996887,
          0.14878225326538086,
          0.2705322206020355,
          0.16882100701332092,
          0.5272631645202637,
          0.5294384360313416,
          0.791542112827301,
          0.2569912374019623,
          0.28057822585105896,
          0.5225070118904114,
          0.4811067581176758,
          0.46548405289649963,
          0.7664167881011963,
          0.776280403137207
         ],
         "xaxis": "x",
         "y": [
          0.2593247592449188,
          0.42820319533348083,
          0.4574708044528961,
          0.6217010617256165,
          0.10843300819396973,
          0.059225283563137054,
          0.629380464553833,
          0.6869215965270996,
          0.4786999225616455,
          0.19905702769756317,
          0.3712085485458374,
          0.6726646423339844,
          0.22272172570228577,
          0.585808277130127,
          0.6744073629379272,
          0.4766000807285309,
          0.015547722578048706,
          0.1646822690963745,
          0.3028305768966675,
          0.35951319336891174,
          1,
          0.12541534006595612,
          0.2822575271129608,
          0.7418503165245056,
          0.10706289112567902,
          0.6411989331245422,
          0.9349502921104431,
          0.8261929154396057,
          0.4834688901901245,
          0.09216157346963882,
          0.333897203207016,
          0.6993754506111145,
          0.2941854000091553,
          0.8210539817810059,
          0.29995033144950867,
          0.46515530347824097,
          0.10806690901517868,
          0.5008072257041931,
          0.7814406156539917,
          0.8225460648536682,
          0.1477632373571396,
          0.6332748532295227,
          0.2613368332386017,
          0.2833784818649292,
          0.8955955505371094,
          0.20686915516853333,
          0.6714747548103333,
          0.24341268837451935,
          0.050650037825107574,
          0.09188415110111237
         ],
         "yaxis": "y"
        },
        {
         "marker": {
          "color": "red"
         },
         "mode": "markers",
         "type": "scatter",
         "x": [
          0.8541986346244812,
          0.9808188080787659,
          0.38412025570869446,
          0.058966293931007385,
          0.30774518847465515,
          0.9153881669044495,
          0.2634299397468567,
          0.8836977481842041,
          0.1956539750099182,
          0.6985272765159607,
          0.4446100890636444,
          0.6965578198432922,
          0.4966064691543579,
          0.5065692663192749,
          0.832300066947937,
          0.37675940990448,
          0.8137133717536926,
          0.17758454382419586,
          0.6536422371864319,
          0.3106038570404053,
          0.5133659839630127,
          0.714294970035553,
          0.6805488467216492,
          0.42202308773994446,
          0.09191572666168213,
          0.5743054747581482,
          0.4239926040172577,
          0.09046474099159241,
          0.6005517244338989,
          0.16554732620716095,
          1,
          0.6534955501556396,
          0.8055094480514526,
          0.7307459712028503,
          0.2994250953197479,
          0.04447317123413086,
          0.4932320713996887,
          0.14878225326538086,
          0.2705322206020355,
          0.16882100701332092,
          0.5272631645202637,
          0.5294384360313416,
          0.791542112827301,
          0.2569912374019623,
          0.28057822585105896,
          0.5225070118904114,
          0.4811067581176758,
          0.46548405289649963,
          0.7664167881011963,
          0.776280403137207
         ],
         "xaxis": "x2",
         "y": [
          0.2593247592449188,
          0.42820319533348083,
          0.4574708044528961,
          0.6217010617256165,
          0.10843300819396973,
          0.059225283563137054,
          0.629380464553833,
          0.6869215965270996,
          0.4786999225616455,
          0.19905702769756317,
          0.3712085485458374,
          0.6726646423339844,
          0.22272172570228577,
          0.585808277130127,
          0.6744073629379272,
          0.4766000807285309,
          0.015547722578048706,
          0.1646822690963745,
          0.3028305768966675,
          0.35951319336891174,
          1,
          0.12541534006595612,
          0.2822575271129608,
          0.7418503165245056,
          0.10706289112567902,
          0.6411989331245422,
          0.9349502921104431,
          0.8261929154396057,
          0.4834688901901245,
          0.09216157346963882,
          0.333897203207016,
          0.6993754506111145,
          0.2941854000091553,
          0.8210539817810059,
          0.29995033144950867,
          0.46515530347824097,
          0.10806690901517868,
          0.5008072257041931,
          0.7814406156539917,
          0.8225460648536682,
          0.1477632373571396,
          0.6332748532295227,
          0.2613368332386017,
          0.2833784818649292,
          0.8955955505371094,
          0.20686915516853333,
          0.6714747548103333,
          0.24341268837451935,
          0.050650037825107574,
          0.09188415110111237
         ],
         "yaxis": "y2"
        }
       ],
       "layout": {
        "annotations": [
         {
          "font": {
           "size": 16
          },
          "showarrow": false,
          "text": "Christofides",
          "x": 0.225,
          "xanchor": "center",
          "xref": "paper",
          "y": 1,
          "yanchor": "bottom",
          "yref": "paper"
         },
         {
          "font": {
           "size": 16
          },
          "showarrow": false,
          "text": "Ours",
          "x": 0.775,
          "xanchor": "center",
          "xref": "paper",
          "y": 1,
          "yanchor": "bottom",
          "yref": "paper"
         },
         {
          "arrowcolor": "blue",
          "arrowhead": 3,
          "arrowwidth": 1.5,
          "ax": 0.8541986346244812,
          "axref": "x",
          "ay": 0.2593247592449188,
          "ayref": "y",
          "showarrow": true,
          "text": "",
          "x": 1,
          "xref": "x",
          "y": 0.333897203207016,
          "yref": "y"
         },
         {
          "arrowcolor": "blue",
          "arrowhead": 3,
          "arrowwidth": 1.5,
          "ax": 1,
          "axref": "x",
          "ay": 0.333897203207016,
          "ayref": "y",
          "showarrow": true,
          "text": "",
          "x": 0.9808188080787659,
          "xref": "x",
          "y": 0.42820319533348083,
          "yref": "y"
         },
         {
          "arrowcolor": "blue",
          "arrowhead": 3,
          "arrowwidth": 1.5,
          "ax": 0.9808188080787659,
          "axref": "x",
          "ay": 0.42820319533348083,
          "ayref": "y",
          "showarrow": true,
          "text": "",
          "x": 0.8836977481842041,
          "xref": "x",
          "y": 0.6869215965270996,
          "yref": "y"
         },
         {
          "arrowcolor": "blue",
          "arrowhead": 3,
          "arrowwidth": 1.5,
          "ax": 0.8836977481842041,
          "axref": "x",
          "ay": 0.6869215965270996,
          "ayref": "y",
          "showarrow": true,
          "text": "",
          "x": 0.832300066947937,
          "xref": "x",
          "y": 0.6744073629379272,
          "yref": "y"
         },
         {
          "arrowcolor": "blue",
          "arrowhead": 3,
          "arrowwidth": 1.5,
          "ax": 0.832300066947937,
          "axref": "x",
          "ay": 0.6744073629379272,
          "ayref": "y",
          "showarrow": true,
          "text": "",
          "x": 0.6965578198432922,
          "xref": "x",
          "y": 0.6726646423339844,
          "yref": "y"
         },
         {
          "arrowcolor": "blue",
          "arrowhead": 3,
          "arrowwidth": 1.5,
          "ax": 0.6965578198432922,
          "axref": "x",
          "ay": 0.6726646423339844,
          "ayref": "y",
          "showarrow": true,
          "text": "",
          "x": 0.6534955501556396,
          "xref": "x",
          "y": 0.6993754506111145,
          "yref": "y"
         },
         {
          "arrowcolor": "blue",
          "arrowhead": 3,
          "arrowwidth": 1.5,
          "ax": 0.6534955501556396,
          "axref": "x",
          "ay": 0.6993754506111145,
          "ayref": "y",
          "showarrow": true,
          "text": "",
          "x": 0.7307459712028503,
          "xref": "x",
          "y": 0.8210539817810059,
          "yref": "y"
         },
         {
          "arrowcolor": "blue",
          "arrowhead": 3,
          "arrowwidth": 1.5,
          "ax": 0.7307459712028503,
          "axref": "x",
          "ay": 0.8210539817810059,
          "ayref": "y",
          "showarrow": true,
          "text": "",
          "x": 0.5743054747581482,
          "xref": "x",
          "y": 0.6411989331245422,
          "yref": "y"
         },
         {
          "arrowcolor": "blue",
          "arrowhead": 3,
          "arrowwidth": 1.5,
          "ax": 0.5743054747581482,
          "axref": "x",
          "ay": 0.6411989331245422,
          "ayref": "y",
          "showarrow": true,
          "text": "",
          "x": 0.5294384360313416,
          "xref": "x",
          "y": 0.6332748532295227,
          "yref": "y"
         },
         {
          "arrowcolor": "blue",
          "arrowhead": 3,
          "arrowwidth": 1.5,
          "ax": 0.5294384360313416,
          "axref": "x",
          "ay": 0.6332748532295227,
          "ayref": "y",
          "showarrow": true,
          "text": "",
          "x": 0.6005517244338989,
          "xref": "x",
          "y": 0.4834688901901245,
          "yref": "y"
         },
         {
          "arrowcolor": "blue",
          "arrowhead": 3,
          "arrowwidth": 1.5,
          "ax": 0.6005517244338989,
          "axref": "x",
          "ay": 0.4834688901901245,
          "ayref": "y",
          "showarrow": true,
          "text": "",
          "x": 0.5065692663192749,
          "xref": "x",
          "y": 0.585808277130127,
          "yref": "y"
         },
         {
          "arrowcolor": "blue",
          "arrowhead": 3,
          "arrowwidth": 1.5,
          "ax": 0.5065692663192749,
          "axref": "x",
          "ay": 0.585808277130127,
          "ayref": "y",
          "showarrow": true,
          "text": "",
          "x": 0.4811067581176758,
          "xref": "x",
          "y": 0.6714747548103333,
          "yref": "y"
         },
         {
          "arrowcolor": "blue",
          "arrowhead": 3,
          "arrowwidth": 1.5,
          "ax": 0.4811067581176758,
          "axref": "x",
          "ay": 0.6714747548103333,
          "ayref": "y",
          "showarrow": true,
          "text": "",
          "x": 0.42202308773994446,
          "xref": "x",
          "y": 0.7418503165245056,
          "yref": "y"
         },
         {
          "arrowcolor": "blue",
          "arrowhead": 3,
          "arrowwidth": 1.5,
          "ax": 0.42202308773994446,
          "axref": "x",
          "ay": 0.7418503165245056,
          "ayref": "y",
          "showarrow": true,
          "text": "",
          "x": 0.2705322206020355,
          "xref": "x",
          "y": 0.7814406156539917,
          "yref": "y"
         },
         {
          "arrowcolor": "blue",
          "arrowhead": 3,
          "arrowwidth": 1.5,
          "ax": 0.2705322206020355,
          "axref": "x",
          "ay": 0.7814406156539917,
          "ayref": "y",
          "showarrow": true,
          "text": "",
          "x": 0.28057822585105896,
          "xref": "x",
          "y": 0.8955955505371094,
          "yref": "y"
         },
         {
          "arrowcolor": "blue",
          "arrowhead": 3,
          "arrowwidth": 1.5,
          "ax": 0.28057822585105896,
          "axref": "x",
          "ay": 0.8955955505371094,
          "ayref": "y",
          "showarrow": true,
          "text": "",
          "x": 0.4239926040172577,
          "xref": "x",
          "y": 0.9349502921104431,
          "yref": "y"
         },
         {
          "arrowcolor": "blue",
          "arrowhead": 3,
          "arrowwidth": 1.5,
          "ax": 0.4239926040172577,
          "axref": "x",
          "ay": 0.9349502921104431,
          "ayref": "y",
          "showarrow": true,
          "text": "",
          "x": 0.5133659839630127,
          "xref": "x",
          "y": 1,
          "yref": "y"
         },
         {
          "arrowcolor": "blue",
          "arrowhead": 3,
          "arrowwidth": 1.5,
          "ax": 0.5133659839630127,
          "axref": "x",
          "ay": 1,
          "ayref": "y",
          "showarrow": true,
          "text": "",
          "x": 0.09046474099159241,
          "xref": "x",
          "y": 0.8261929154396057,
          "yref": "y"
         },
         {
          "arrowcolor": "blue",
          "arrowhead": 3,
          "arrowwidth": 1.5,
          "ax": 0.09046474099159241,
          "axref": "x",
          "ay": 0.8261929154396057,
          "ayref": "y",
          "showarrow": true,
          "text": "",
          "x": 0.16882100701332092,
          "xref": "x",
          "y": 0.8225460648536682,
          "yref": "y"
         },
         {
          "arrowcolor": "blue",
          "arrowhead": 3,
          "arrowwidth": 1.5,
          "ax": 0.16882100701332092,
          "axref": "x",
          "ay": 0.8225460648536682,
          "ayref": "y",
          "showarrow": true,
          "text": "",
          "x": 0.2634299397468567,
          "xref": "x",
          "y": 0.629380464553833,
          "yref": "y"
         },
         {
          "arrowcolor": "blue",
          "arrowhead": 3,
          "arrowwidth": 1.5,
          "ax": 0.2634299397468567,
          "axref": "x",
          "ay": 0.629380464553833,
          "ayref": "y",
          "showarrow": true,
          "text": "",
          "x": 0.1956539750099182,
          "xref": "x",
          "y": 0.4786999225616455,
          "yref": "y"
         },
         {
          "arrowcolor": "blue",
          "arrowhead": 3,
          "arrowwidth": 1.5,
          "ax": 0.1956539750099182,
          "axref": "x",
          "ay": 0.4786999225616455,
          "ayref": "y",
          "showarrow": true,
          "text": "",
          "x": 0.14878225326538086,
          "xref": "x",
          "y": 0.5008072257041931,
          "yref": "y"
         },
         {
          "arrowcolor": "blue",
          "arrowhead": 3,
          "arrowwidth": 1.5,
          "ax": 0.14878225326538086,
          "axref": "x",
          "ay": 0.5008072257041931,
          "ayref": "y",
          "showarrow": true,
          "text": "",
          "x": 0.04447317123413086,
          "xref": "x",
          "y": 0.46515530347824097,
          "yref": "y"
         },
         {
          "arrowcolor": "blue",
          "arrowhead": 3,
          "arrowwidth": 1.5,
          "ax": 0.04447317123413086,
          "axref": "x",
          "ay": 0.46515530347824097,
          "ayref": "y",
          "showarrow": true,
          "text": "",
          "x": 0.058966293931007385,
          "xref": "x",
          "y": 0.6217010617256165,
          "yref": "y"
         },
         {
          "arrowcolor": "blue",
          "arrowhead": 3,
          "arrowwidth": 1.5,
          "ax": 0.058966293931007385,
          "axref": "x",
          "ay": 0.6217010617256165,
          "ayref": "y",
          "showarrow": true,
          "text": "",
          "x": 0.3106038570404053,
          "xref": "x",
          "y": 0.35951319336891174,
          "yref": "y"
         },
         {
          "arrowcolor": "blue",
          "arrowhead": 3,
          "arrowwidth": 1.5,
          "ax": 0.3106038570404053,
          "axref": "x",
          "ay": 0.35951319336891174,
          "ayref": "y",
          "showarrow": true,
          "text": "",
          "x": 0.30774518847465515,
          "xref": "x",
          "y": 0.10843300819396973,
          "yref": "y"
         },
         {
          "arrowcolor": "blue",
          "arrowhead": 3,
          "arrowwidth": 1.5,
          "ax": 0.30774518847465515,
          "axref": "x",
          "ay": 0.10843300819396973,
          "ayref": "y",
          "showarrow": true,
          "text": "",
          "x": 0.17758454382419586,
          "xref": "x",
          "y": 0.1646822690963745,
          "yref": "y"
         },
         {
          "arrowcolor": "blue",
          "arrowhead": 3,
          "arrowwidth": 1.5,
          "ax": 0.17758454382419586,
          "axref": "x",
          "ay": 0.1646822690963745,
          "ayref": "y",
          "showarrow": true,
          "text": "",
          "x": 0.09191572666168213,
          "xref": "x",
          "y": 0.10706289112567902,
          "yref": "y"
         },
         {
          "arrowcolor": "blue",
          "arrowhead": 3,
          "arrowwidth": 1.5,
          "ax": 0.09191572666168213,
          "axref": "x",
          "ay": 0.10706289112567902,
          "ayref": "y",
          "showarrow": true,
          "text": "",
          "x": 0.16554732620716095,
          "xref": "x",
          "y": 0.09216157346963882,
          "yref": "y"
         },
         {
          "arrowcolor": "blue",
          "arrowhead": 3,
          "arrowwidth": 1.5,
          "ax": 0.16554732620716095,
          "axref": "x",
          "ay": 0.09216157346963882,
          "ayref": "y",
          "showarrow": true,
          "text": "",
          "x": 0.2569912374019623,
          "xref": "x",
          "y": 0.2833784818649292,
          "yref": "y"
         },
         {
          "arrowcolor": "blue",
          "arrowhead": 3,
          "arrowwidth": 1.5,
          "ax": 0.2569912374019623,
          "axref": "x",
          "ay": 0.2833784818649292,
          "ayref": "y",
          "showarrow": true,
          "text": "",
          "x": 0.2994250953197479,
          "xref": "x",
          "y": 0.29995033144950867,
          "yref": "y"
         },
         {
          "arrowcolor": "blue",
          "arrowhead": 3,
          "arrowwidth": 1.5,
          "ax": 0.2994250953197479,
          "axref": "x",
          "ay": 0.29995033144950867,
          "ayref": "y",
          "showarrow": true,
          "text": "",
          "x": 0.38412025570869446,
          "xref": "x",
          "y": 0.4574708044528961,
          "yref": "y"
         },
         {
          "arrowcolor": "blue",
          "arrowhead": 3,
          "arrowwidth": 1.5,
          "ax": 0.38412025570869446,
          "axref": "x",
          "ay": 0.4574708044528961,
          "ayref": "y",
          "showarrow": true,
          "text": "",
          "x": 0.37675940990448,
          "xref": "x",
          "y": 0.4766000807285309,
          "yref": "y"
         },
         {
          "arrowcolor": "blue",
          "arrowhead": 3,
          "arrowwidth": 1.5,
          "ax": 0.37675940990448,
          "axref": "x",
          "ay": 0.4766000807285309,
          "ayref": "y",
          "showarrow": true,
          "text": "",
          "x": 0.4446100890636444,
          "xref": "x",
          "y": 0.3712085485458374,
          "yref": "y"
         },
         {
          "arrowcolor": "blue",
          "arrowhead": 3,
          "arrowwidth": 1.5,
          "ax": 0.4446100890636444,
          "axref": "x",
          "ay": 0.3712085485458374,
          "ayref": "y",
          "showarrow": true,
          "text": "",
          "x": 0.46548405289649963,
          "xref": "x",
          "y": 0.24341268837451935,
          "yref": "y"
         },
         {
          "arrowcolor": "blue",
          "arrowhead": 3,
          "arrowwidth": 1.5,
          "ax": 0.46548405289649963,
          "axref": "x",
          "ay": 0.24341268837451935,
          "ayref": "y",
          "showarrow": true,
          "text": "",
          "x": 0.4966064691543579,
          "xref": "x",
          "y": 0.22272172570228577,
          "yref": "y"
         },
         {
          "arrowcolor": "blue",
          "arrowhead": 3,
          "arrowwidth": 1.5,
          "ax": 0.4966064691543579,
          "axref": "x",
          "ay": 0.22272172570228577,
          "ayref": "y",
          "showarrow": true,
          "text": "",
          "x": 0.5225070118904114,
          "xref": "x",
          "y": 0.20686915516853333,
          "yref": "y"
         },
         {
          "arrowcolor": "blue",
          "arrowhead": 3,
          "arrowwidth": 1.5,
          "ax": 0.5225070118904114,
          "axref": "x",
          "ay": 0.20686915516853333,
          "ayref": "y",
          "showarrow": true,
          "text": "",
          "x": 0.4932320713996887,
          "xref": "x",
          "y": 0.10806690901517868,
          "yref": "y"
         },
         {
          "arrowcolor": "blue",
          "arrowhead": 3,
          "arrowwidth": 1.5,
          "ax": 0.4932320713996887,
          "axref": "x",
          "ay": 0.10806690901517868,
          "ayref": "y",
          "showarrow": true,
          "text": "",
          "x": 0.5272631645202637,
          "xref": "x",
          "y": 0.1477632373571396,
          "yref": "y"
         },
         {
          "arrowcolor": "blue",
          "arrowhead": 3,
          "arrowwidth": 1.5,
          "ax": 0.5272631645202637,
          "axref": "x",
          "ay": 0.1477632373571396,
          "ayref": "y",
          "showarrow": true,
          "text": "",
          "x": 0.6536422371864319,
          "xref": "x",
          "y": 0.3028305768966675,
          "yref": "y"
         },
         {
          "arrowcolor": "blue",
          "arrowhead": 3,
          "arrowwidth": 1.5,
          "ax": 0.6536422371864319,
          "axref": "x",
          "ay": 0.3028305768966675,
          "ayref": "y",
          "showarrow": true,
          "text": "",
          "x": 0.6805488467216492,
          "xref": "x",
          "y": 0.2822575271129608,
          "yref": "y"
         },
         {
          "arrowcolor": "blue",
          "arrowhead": 3,
          "arrowwidth": 1.5,
          "ax": 0.6805488467216492,
          "axref": "x",
          "ay": 0.2822575271129608,
          "ayref": "y",
          "showarrow": true,
          "text": "",
          "x": 0.6985272765159607,
          "xref": "x",
          "y": 0.19905702769756317,
          "yref": "y"
         },
         {
          "arrowcolor": "blue",
          "arrowhead": 3,
          "arrowwidth": 1.5,
          "ax": 0.6985272765159607,
          "axref": "x",
          "ay": 0.19905702769756317,
          "ayref": "y",
          "showarrow": true,
          "text": "",
          "x": 0.714294970035553,
          "xref": "x",
          "y": 0.12541534006595612,
          "yref": "y"
         },
         {
          "arrowcolor": "blue",
          "arrowhead": 3,
          "arrowwidth": 1.5,
          "ax": 0.714294970035553,
          "axref": "x",
          "ay": 0.12541534006595612,
          "ayref": "y",
          "showarrow": true,
          "text": "",
          "x": 0.776280403137207,
          "xref": "x",
          "y": 0.09188415110111237,
          "yref": "y"
         },
         {
          "arrowcolor": "blue",
          "arrowhead": 3,
          "arrowwidth": 1.5,
          "ax": 0.776280403137207,
          "axref": "x",
          "ay": 0.09188415110111237,
          "ayref": "y",
          "showarrow": true,
          "text": "",
          "x": 0.7664167881011963,
          "xref": "x",
          "y": 0.050650037825107574,
          "yref": "y"
         },
         {
          "arrowcolor": "blue",
          "arrowhead": 3,
          "arrowwidth": 1.5,
          "ax": 0.7664167881011963,
          "axref": "x",
          "ay": 0.050650037825107574,
          "ayref": "y",
          "showarrow": true,
          "text": "",
          "x": 0.8137133717536926,
          "xref": "x",
          "y": 0.015547722578048706,
          "yref": "y"
         },
         {
          "arrowcolor": "blue",
          "arrowhead": 3,
          "arrowwidth": 1.5,
          "ax": 0.8137133717536926,
          "axref": "x",
          "ay": 0.015547722578048706,
          "ayref": "y",
          "showarrow": true,
          "text": "",
          "x": 0.9153881669044495,
          "xref": "x",
          "y": 0.059225283563137054,
          "yref": "y"
         },
         {
          "arrowcolor": "blue",
          "arrowhead": 3,
          "arrowwidth": 1.5,
          "ax": 0.9153881669044495,
          "axref": "x",
          "ay": 0.059225283563137054,
          "ayref": "y",
          "showarrow": true,
          "text": "",
          "x": 0.791542112827301,
          "xref": "x",
          "y": 0.2613368332386017,
          "yref": "y"
         },
         {
          "arrowcolor": "blue",
          "arrowhead": 3,
          "arrowwidth": 1.5,
          "ax": 0.791542112827301,
          "axref": "x",
          "ay": 0.2613368332386017,
          "ayref": "y",
          "showarrow": true,
          "text": "",
          "x": 0.8055094480514526,
          "xref": "x",
          "y": 0.2941854000091553,
          "yref": "y"
         },
         {
          "arrowcolor": "blue",
          "arrowhead": 3,
          "arrowwidth": 1.5,
          "ax": 0.8055094480514526,
          "axref": "x",
          "ay": 0.2941854000091553,
          "ayref": "y",
          "showarrow": true,
          "text": "",
          "x": 0.8541986346244812,
          "xref": "x",
          "y": 0.2593247592449188,
          "yref": "y"
         },
         {
          "arrowcolor": "green",
          "arrowhead": 3,
          "arrowwidth": 1.5,
          "ax": 0.6536422371864319,
          "axref": "x2",
          "ay": 0.3028305768966675,
          "ayref": "y2",
          "showarrow": true,
          "text": "",
          "x": 0.6805488467216492,
          "xref": "x2",
          "y": 0.2822575271129608,
          "yref": "y2"
         },
         {
          "arrowcolor": "green",
          "arrowhead": 3,
          "arrowwidth": 1.5,
          "ax": 0.6805488467216492,
          "axref": "x2",
          "ay": 0.2822575271129608,
          "ayref": "y2",
          "showarrow": true,
          "text": "",
          "x": 0.6985272765159607,
          "xref": "x2",
          "y": 0.19905702769756317,
          "yref": "y2"
         },
         {
          "arrowcolor": "green",
          "arrowhead": 3,
          "arrowwidth": 1.5,
          "ax": 0.6985272765159607,
          "axref": "x2",
          "ay": 0.19905702769756317,
          "ayref": "y2",
          "showarrow": true,
          "text": "",
          "x": 0.714294970035553,
          "xref": "x2",
          "y": 0.12541534006595612,
          "yref": "y2"
         },
         {
          "arrowcolor": "green",
          "arrowhead": 3,
          "arrowwidth": 1.5,
          "ax": 0.714294970035553,
          "axref": "x2",
          "ay": 0.12541534006595612,
          "ayref": "y2",
          "showarrow": true,
          "text": "",
          "x": 0.776280403137207,
          "xref": "x2",
          "y": 0.09188415110111237,
          "yref": "y2"
         },
         {
          "arrowcolor": "green",
          "arrowhead": 3,
          "arrowwidth": 1.5,
          "ax": 0.776280403137207,
          "axref": "x2",
          "ay": 0.09188415110111237,
          "ayref": "y2",
          "showarrow": true,
          "text": "",
          "x": 0.7664167881011963,
          "xref": "x2",
          "y": 0.050650037825107574,
          "yref": "y2"
         },
         {
          "arrowcolor": "green",
          "arrowhead": 3,
          "arrowwidth": 1.5,
          "ax": 0.7664167881011963,
          "axref": "x2",
          "ay": 0.050650037825107574,
          "ayref": "y2",
          "showarrow": true,
          "text": "",
          "x": 0.8137133717536926,
          "xref": "x2",
          "y": 0.015547722578048706,
          "yref": "y2"
         },
         {
          "arrowcolor": "green",
          "arrowhead": 3,
          "arrowwidth": 1.5,
          "ax": 0.8137133717536926,
          "axref": "x2",
          "ay": 0.015547722578048706,
          "ayref": "y2",
          "showarrow": true,
          "text": "",
          "x": 0.9153881669044495,
          "xref": "x2",
          "y": 0.059225283563137054,
          "yref": "y2"
         },
         {
          "arrowcolor": "green",
          "arrowhead": 3,
          "arrowwidth": 1.5,
          "ax": 0.9153881669044495,
          "axref": "x2",
          "ay": 0.059225283563137054,
          "ayref": "y2",
          "showarrow": true,
          "text": "",
          "x": 0.791542112827301,
          "xref": "x2",
          "y": 0.2613368332386017,
          "yref": "y2"
         },
         {
          "arrowcolor": "green",
          "arrowhead": 3,
          "arrowwidth": 1.5,
          "ax": 0.791542112827301,
          "axref": "x2",
          "ay": 0.2613368332386017,
          "ayref": "y2",
          "showarrow": true,
          "text": "",
          "x": 0.8541986346244812,
          "xref": "x2",
          "y": 0.2593247592449188,
          "yref": "y2"
         },
         {
          "arrowcolor": "green",
          "arrowhead": 3,
          "arrowwidth": 1.5,
          "ax": 0.8541986346244812,
          "axref": "x2",
          "ay": 0.2593247592449188,
          "ayref": "y2",
          "showarrow": true,
          "text": "",
          "x": 0.8055094480514526,
          "xref": "x2",
          "y": 0.2941854000091553,
          "yref": "y2"
         },
         {
          "arrowcolor": "green",
          "arrowhead": 3,
          "arrowwidth": 1.5,
          "ax": 0.8055094480514526,
          "axref": "x2",
          "ay": 0.2941854000091553,
          "ayref": "y2",
          "showarrow": true,
          "text": "",
          "x": 1,
          "xref": "x2",
          "y": 0.333897203207016,
          "yref": "y2"
         },
         {
          "arrowcolor": "green",
          "arrowhead": 3,
          "arrowwidth": 1.5,
          "ax": 1,
          "axref": "x2",
          "ay": 0.333897203207016,
          "ayref": "y2",
          "showarrow": true,
          "text": "",
          "x": 0.9808188080787659,
          "xref": "x2",
          "y": 0.42820319533348083,
          "yref": "y2"
         },
         {
          "arrowcolor": "green",
          "arrowhead": 3,
          "arrowwidth": 1.5,
          "ax": 0.9808188080787659,
          "axref": "x2",
          "ay": 0.42820319533348083,
          "ayref": "y2",
          "showarrow": true,
          "text": "",
          "x": 0.8836977481842041,
          "xref": "x2",
          "y": 0.6869215965270996,
          "yref": "y2"
         },
         {
          "arrowcolor": "green",
          "arrowhead": 3,
          "arrowwidth": 1.5,
          "ax": 0.8836977481842041,
          "axref": "x2",
          "ay": 0.6869215965270996,
          "ayref": "y2",
          "showarrow": true,
          "text": "",
          "x": 0.832300066947937,
          "xref": "x2",
          "y": 0.6744073629379272,
          "yref": "y2"
         },
         {
          "arrowcolor": "green",
          "arrowhead": 3,
          "arrowwidth": 1.5,
          "ax": 0.832300066947937,
          "axref": "x2",
          "ay": 0.6744073629379272,
          "ayref": "y2",
          "showarrow": true,
          "text": "",
          "x": 0.6965578198432922,
          "xref": "x2",
          "y": 0.6726646423339844,
          "yref": "y2"
         },
         {
          "arrowcolor": "green",
          "arrowhead": 3,
          "arrowwidth": 1.5,
          "ax": 0.6965578198432922,
          "axref": "x2",
          "ay": 0.6726646423339844,
          "ayref": "y2",
          "showarrow": true,
          "text": "",
          "x": 0.7307459712028503,
          "xref": "x2",
          "y": 0.8210539817810059,
          "yref": "y2"
         },
         {
          "arrowcolor": "green",
          "arrowhead": 3,
          "arrowwidth": 1.5,
          "ax": 0.7307459712028503,
          "axref": "x2",
          "ay": 0.8210539817810059,
          "ayref": "y2",
          "showarrow": true,
          "text": "",
          "x": 0.6534955501556396,
          "xref": "x2",
          "y": 0.6993754506111145,
          "yref": "y2"
         },
         {
          "arrowcolor": "green",
          "arrowhead": 3,
          "arrowwidth": 1.5,
          "ax": 0.6534955501556396,
          "axref": "x2",
          "ay": 0.6993754506111145,
          "ayref": "y2",
          "showarrow": true,
          "text": "",
          "x": 0.5133659839630127,
          "xref": "x2",
          "y": 1,
          "yref": "y2"
         },
         {
          "arrowcolor": "green",
          "arrowhead": 3,
          "arrowwidth": 1.5,
          "ax": 0.5133659839630127,
          "axref": "x2",
          "ay": 1,
          "ayref": "y2",
          "showarrow": true,
          "text": "",
          "x": 0.4239926040172577,
          "xref": "x2",
          "y": 0.9349502921104431,
          "yref": "y2"
         },
         {
          "arrowcolor": "green",
          "arrowhead": 3,
          "arrowwidth": 1.5,
          "ax": 0.4239926040172577,
          "axref": "x2",
          "ay": 0.9349502921104431,
          "ayref": "y2",
          "showarrow": true,
          "text": "",
          "x": 0.28057822585105896,
          "xref": "x2",
          "y": 0.8955955505371094,
          "yref": "y2"
         },
         {
          "arrowcolor": "green",
          "arrowhead": 3,
          "arrowwidth": 1.5,
          "ax": 0.28057822585105896,
          "axref": "x2",
          "ay": 0.8955955505371094,
          "ayref": "y2",
          "showarrow": true,
          "text": "",
          "x": 0.2705322206020355,
          "xref": "x2",
          "y": 0.7814406156539917,
          "yref": "y2"
         },
         {
          "arrowcolor": "green",
          "arrowhead": 3,
          "arrowwidth": 1.5,
          "ax": 0.2705322206020355,
          "axref": "x2",
          "ay": 0.7814406156539917,
          "ayref": "y2",
          "showarrow": true,
          "text": "",
          "x": 0.16882100701332092,
          "xref": "x2",
          "y": 0.8225460648536682,
          "yref": "y2"
         },
         {
          "arrowcolor": "green",
          "arrowhead": 3,
          "arrowwidth": 1.5,
          "ax": 0.16882100701332092,
          "axref": "x2",
          "ay": 0.8225460648536682,
          "ayref": "y2",
          "showarrow": true,
          "text": "",
          "x": 0.09046474099159241,
          "xref": "x2",
          "y": 0.8261929154396057,
          "yref": "y2"
         },
         {
          "arrowcolor": "green",
          "arrowhead": 3,
          "arrowwidth": 1.5,
          "ax": 0.09046474099159241,
          "axref": "x2",
          "ay": 0.8261929154396057,
          "ayref": "y2",
          "showarrow": true,
          "text": "",
          "x": 0.058966293931007385,
          "xref": "x2",
          "y": 0.6217010617256165,
          "yref": "y2"
         },
         {
          "arrowcolor": "green",
          "arrowhead": 3,
          "arrowwidth": 1.5,
          "ax": 0.058966293931007385,
          "axref": "x2",
          "ay": 0.6217010617256165,
          "ayref": "y2",
          "showarrow": true,
          "text": "",
          "x": 0.14878225326538086,
          "xref": "x2",
          "y": 0.5008072257041931,
          "yref": "y2"
         },
         {
          "arrowcolor": "green",
          "arrowhead": 3,
          "arrowwidth": 1.5,
          "ax": 0.14878225326538086,
          "axref": "x2",
          "ay": 0.5008072257041931,
          "ayref": "y2",
          "showarrow": true,
          "text": "",
          "x": 0.1956539750099182,
          "xref": "x2",
          "y": 0.4786999225616455,
          "yref": "y2"
         },
         {
          "arrowcolor": "green",
          "arrowhead": 3,
          "arrowwidth": 1.5,
          "ax": 0.1956539750099182,
          "axref": "x2",
          "ay": 0.4786999225616455,
          "ayref": "y2",
          "showarrow": true,
          "text": "",
          "x": 0.04447317123413086,
          "xref": "x2",
          "y": 0.46515530347824097,
          "yref": "y2"
         },
         {
          "arrowcolor": "green",
          "arrowhead": 3,
          "arrowwidth": 1.5,
          "ax": 0.04447317123413086,
          "axref": "x2",
          "ay": 0.46515530347824097,
          "ayref": "y2",
          "showarrow": true,
          "text": "",
          "x": 0.09191572666168213,
          "xref": "x2",
          "y": 0.10706289112567902,
          "yref": "y2"
         },
         {
          "arrowcolor": "green",
          "arrowhead": 3,
          "arrowwidth": 1.5,
          "ax": 0.09191572666168213,
          "axref": "x2",
          "ay": 0.10706289112567902,
          "ayref": "y2",
          "showarrow": true,
          "text": "",
          "x": 0.17758454382419586,
          "xref": "x2",
          "y": 0.1646822690963745,
          "yref": "y2"
         },
         {
          "arrowcolor": "green",
          "arrowhead": 3,
          "arrowwidth": 1.5,
          "ax": 0.17758454382419586,
          "axref": "x2",
          "ay": 0.1646822690963745,
          "ayref": "y2",
          "showarrow": true,
          "text": "",
          "x": 0.16554732620716095,
          "xref": "x2",
          "y": 0.09216157346963882,
          "yref": "y2"
         },
         {
          "arrowcolor": "green",
          "arrowhead": 3,
          "arrowwidth": 1.5,
          "ax": 0.16554732620716095,
          "axref": "x2",
          "ay": 0.09216157346963882,
          "ayref": "y2",
          "showarrow": true,
          "text": "",
          "x": 0.30774518847465515,
          "xref": "x2",
          "y": 0.10843300819396973,
          "yref": "y2"
         },
         {
          "arrowcolor": "green",
          "arrowhead": 3,
          "arrowwidth": 1.5,
          "ax": 0.30774518847465515,
          "axref": "x2",
          "ay": 0.10843300819396973,
          "ayref": "y2",
          "showarrow": true,
          "text": "",
          "x": 0.2569912374019623,
          "xref": "x2",
          "y": 0.2833784818649292,
          "yref": "y2"
         },
         {
          "arrowcolor": "green",
          "arrowhead": 3,
          "arrowwidth": 1.5,
          "ax": 0.2569912374019623,
          "axref": "x2",
          "ay": 0.2833784818649292,
          "ayref": "y2",
          "showarrow": true,
          "text": "",
          "x": 0.2994250953197479,
          "xref": "x2",
          "y": 0.29995033144950867,
          "yref": "y2"
         },
         {
          "arrowcolor": "green",
          "arrowhead": 3,
          "arrowwidth": 1.5,
          "ax": 0.2994250953197479,
          "axref": "x2",
          "ay": 0.29995033144950867,
          "ayref": "y2",
          "showarrow": true,
          "text": "",
          "x": 0.3106038570404053,
          "xref": "x2",
          "y": 0.35951319336891174,
          "yref": "y2"
         },
         {
          "arrowcolor": "green",
          "arrowhead": 3,
          "arrowwidth": 1.5,
          "ax": 0.3106038570404053,
          "axref": "x2",
          "ay": 0.35951319336891174,
          "ayref": "y2",
          "showarrow": true,
          "text": "",
          "x": 0.38412025570869446,
          "xref": "x2",
          "y": 0.4574708044528961,
          "yref": "y2"
         },
         {
          "arrowcolor": "green",
          "arrowhead": 3,
          "arrowwidth": 1.5,
          "ax": 0.38412025570869446,
          "axref": "x2",
          "ay": 0.4574708044528961,
          "ayref": "y2",
          "showarrow": true,
          "text": "",
          "x": 0.37675940990448,
          "xref": "x2",
          "y": 0.4766000807285309,
          "yref": "y2"
         },
         {
          "arrowcolor": "green",
          "arrowhead": 3,
          "arrowwidth": 1.5,
          "ax": 0.37675940990448,
          "axref": "x2",
          "ay": 0.4766000807285309,
          "ayref": "y2",
          "showarrow": true,
          "text": "",
          "x": 0.2634299397468567,
          "xref": "x2",
          "y": 0.629380464553833,
          "yref": "y2"
         },
         {
          "arrowcolor": "green",
          "arrowhead": 3,
          "arrowwidth": 1.5,
          "ax": 0.2634299397468567,
          "axref": "x2",
          "ay": 0.629380464553833,
          "ayref": "y2",
          "showarrow": true,
          "text": "",
          "x": 0.42202308773994446,
          "xref": "x2",
          "y": 0.7418503165245056,
          "yref": "y2"
         },
         {
          "arrowcolor": "green",
          "arrowhead": 3,
          "arrowwidth": 1.5,
          "ax": 0.42202308773994446,
          "axref": "x2",
          "ay": 0.7418503165245056,
          "ayref": "y2",
          "showarrow": true,
          "text": "",
          "x": 0.4811067581176758,
          "xref": "x2",
          "y": 0.6714747548103333,
          "yref": "y2"
         },
         {
          "arrowcolor": "green",
          "arrowhead": 3,
          "arrowwidth": 1.5,
          "ax": 0.4811067581176758,
          "axref": "x2",
          "ay": 0.6714747548103333,
          "ayref": "y2",
          "showarrow": true,
          "text": "",
          "x": 0.5294384360313416,
          "xref": "x2",
          "y": 0.6332748532295227,
          "yref": "y2"
         },
         {
          "arrowcolor": "green",
          "arrowhead": 3,
          "arrowwidth": 1.5,
          "ax": 0.5294384360313416,
          "axref": "x2",
          "ay": 0.6332748532295227,
          "ayref": "y2",
          "showarrow": true,
          "text": "",
          "x": 0.5743054747581482,
          "xref": "x2",
          "y": 0.6411989331245422,
          "yref": "y2"
         },
         {
          "arrowcolor": "green",
          "arrowhead": 3,
          "arrowwidth": 1.5,
          "ax": 0.5743054747581482,
          "axref": "x2",
          "ay": 0.6411989331245422,
          "ayref": "y2",
          "showarrow": true,
          "text": "",
          "x": 0.5065692663192749,
          "xref": "x2",
          "y": 0.585808277130127,
          "yref": "y2"
         },
         {
          "arrowcolor": "green",
          "arrowhead": 3,
          "arrowwidth": 1.5,
          "ax": 0.5065692663192749,
          "axref": "x2",
          "ay": 0.585808277130127,
          "ayref": "y2",
          "showarrow": true,
          "text": "",
          "x": 0.6005517244338989,
          "xref": "x2",
          "y": 0.4834688901901245,
          "yref": "y2"
         },
         {
          "arrowcolor": "green",
          "arrowhead": 3,
          "arrowwidth": 1.5,
          "ax": 0.6005517244338989,
          "axref": "x2",
          "ay": 0.4834688901901245,
          "ayref": "y2",
          "showarrow": true,
          "text": "",
          "x": 0.4446100890636444,
          "xref": "x2",
          "y": 0.3712085485458374,
          "yref": "y2"
         },
         {
          "arrowcolor": "green",
          "arrowhead": 3,
          "arrowwidth": 1.5,
          "ax": 0.4446100890636444,
          "axref": "x2",
          "ay": 0.3712085485458374,
          "ayref": "y2",
          "showarrow": true,
          "text": "",
          "x": 0.46548405289649963,
          "xref": "x2",
          "y": 0.24341268837451935,
          "yref": "y2"
         },
         {
          "arrowcolor": "green",
          "arrowhead": 3,
          "arrowwidth": 1.5,
          "ax": 0.46548405289649963,
          "axref": "x2",
          "ay": 0.24341268837451935,
          "ayref": "y2",
          "showarrow": true,
          "text": "",
          "x": 0.4966064691543579,
          "xref": "x2",
          "y": 0.22272172570228577,
          "yref": "y2"
         },
         {
          "arrowcolor": "green",
          "arrowhead": 3,
          "arrowwidth": 1.5,
          "ax": 0.4966064691543579,
          "axref": "x2",
          "ay": 0.22272172570228577,
          "ayref": "y2",
          "showarrow": true,
          "text": "",
          "x": 0.4932320713996887,
          "xref": "x2",
          "y": 0.10806690901517868,
          "yref": "y2"
         },
         {
          "arrowcolor": "green",
          "arrowhead": 3,
          "arrowwidth": 1.5,
          "ax": 0.4932320713996887,
          "axref": "x2",
          "ay": 0.10806690901517868,
          "ayref": "y2",
          "showarrow": true,
          "text": "",
          "x": 0.5272631645202637,
          "xref": "x2",
          "y": 0.1477632373571396,
          "yref": "y2"
         },
         {
          "arrowcolor": "green",
          "arrowhead": 3,
          "arrowwidth": 1.5,
          "ax": 0.5272631645202637,
          "axref": "x2",
          "ay": 0.1477632373571396,
          "ayref": "y2",
          "showarrow": true,
          "text": "",
          "x": 0.5225070118904114,
          "xref": "x2",
          "y": 0.20686915516853333,
          "yref": "y2"
         },
         {
          "arrowcolor": "green",
          "arrowhead": 3,
          "arrowwidth": 1.5,
          "ax": 0.5225070118904114,
          "axref": "x2",
          "ay": 0.20686915516853333,
          "ayref": "y2",
          "showarrow": true,
          "text": "",
          "x": 0.6536422371864319,
          "xref": "x2",
          "y": 0.3028305768966675,
          "yref": "y2"
         }
        ],
        "showlegend": false,
        "template": {
         "data": {
          "bar": [
           {
            "error_x": {
             "color": "#2a3f5f"
            },
            "error_y": {
             "color": "#2a3f5f"
            },
            "marker": {
             "line": {
              "color": "#E5ECF6",
              "width": 0.5
             },
             "pattern": {
              "fillmode": "overlay",
              "size": 10,
              "solidity": 0.2
             }
            },
            "type": "bar"
           }
          ],
          "barpolar": [
           {
            "marker": {
             "line": {
              "color": "#E5ECF6",
              "width": 0.5
             },
             "pattern": {
              "fillmode": "overlay",
              "size": 10,
              "solidity": 0.2
             }
            },
            "type": "barpolar"
           }
          ],
          "carpet": [
           {
            "aaxis": {
             "endlinecolor": "#2a3f5f",
             "gridcolor": "white",
             "linecolor": "white",
             "minorgridcolor": "white",
             "startlinecolor": "#2a3f5f"
            },
            "baxis": {
             "endlinecolor": "#2a3f5f",
             "gridcolor": "white",
             "linecolor": "white",
             "minorgridcolor": "white",
             "startlinecolor": "#2a3f5f"
            },
            "type": "carpet"
           }
          ],
          "choropleth": [
           {
            "colorbar": {
             "outlinewidth": 0,
             "ticks": ""
            },
            "type": "choropleth"
           }
          ],
          "contour": [
           {
            "colorbar": {
             "outlinewidth": 0,
             "ticks": ""
            },
            "colorscale": [
             [
              0,
              "#0d0887"
             ],
             [
              0.1111111111111111,
              "#46039f"
             ],
             [
              0.2222222222222222,
              "#7201a8"
             ],
             [
              0.3333333333333333,
              "#9c179e"
             ],
             [
              0.4444444444444444,
              "#bd3786"
             ],
             [
              0.5555555555555556,
              "#d8576b"
             ],
             [
              0.6666666666666666,
              "#ed7953"
             ],
             [
              0.7777777777777778,
              "#fb9f3a"
             ],
             [
              0.8888888888888888,
              "#fdca26"
             ],
             [
              1,
              "#f0f921"
             ]
            ],
            "type": "contour"
           }
          ],
          "contourcarpet": [
           {
            "colorbar": {
             "outlinewidth": 0,
             "ticks": ""
            },
            "type": "contourcarpet"
           }
          ],
          "heatmap": [
           {
            "colorbar": {
             "outlinewidth": 0,
             "ticks": ""
            },
            "colorscale": [
             [
              0,
              "#0d0887"
             ],
             [
              0.1111111111111111,
              "#46039f"
             ],
             [
              0.2222222222222222,
              "#7201a8"
             ],
             [
              0.3333333333333333,
              "#9c179e"
             ],
             [
              0.4444444444444444,
              "#bd3786"
             ],
             [
              0.5555555555555556,
              "#d8576b"
             ],
             [
              0.6666666666666666,
              "#ed7953"
             ],
             [
              0.7777777777777778,
              "#fb9f3a"
             ],
             [
              0.8888888888888888,
              "#fdca26"
             ],
             [
              1,
              "#f0f921"
             ]
            ],
            "type": "heatmap"
           }
          ],
          "heatmapgl": [
           {
            "colorbar": {
             "outlinewidth": 0,
             "ticks": ""
            },
            "colorscale": [
             [
              0,
              "#0d0887"
             ],
             [
              0.1111111111111111,
              "#46039f"
             ],
             [
              0.2222222222222222,
              "#7201a8"
             ],
             [
              0.3333333333333333,
              "#9c179e"
             ],
             [
              0.4444444444444444,
              "#bd3786"
             ],
             [
              0.5555555555555556,
              "#d8576b"
             ],
             [
              0.6666666666666666,
              "#ed7953"
             ],
             [
              0.7777777777777778,
              "#fb9f3a"
             ],
             [
              0.8888888888888888,
              "#fdca26"
             ],
             [
              1,
              "#f0f921"
             ]
            ],
            "type": "heatmapgl"
           }
          ],
          "histogram": [
           {
            "marker": {
             "pattern": {
              "fillmode": "overlay",
              "size": 10,
              "solidity": 0.2
             }
            },
            "type": "histogram"
           }
          ],
          "histogram2d": [
           {
            "colorbar": {
             "outlinewidth": 0,
             "ticks": ""
            },
            "colorscale": [
             [
              0,
              "#0d0887"
             ],
             [
              0.1111111111111111,
              "#46039f"
             ],
             [
              0.2222222222222222,
              "#7201a8"
             ],
             [
              0.3333333333333333,
              "#9c179e"
             ],
             [
              0.4444444444444444,
              "#bd3786"
             ],
             [
              0.5555555555555556,
              "#d8576b"
             ],
             [
              0.6666666666666666,
              "#ed7953"
             ],
             [
              0.7777777777777778,
              "#fb9f3a"
             ],
             [
              0.8888888888888888,
              "#fdca26"
             ],
             [
              1,
              "#f0f921"
             ]
            ],
            "type": "histogram2d"
           }
          ],
          "histogram2dcontour": [
           {
            "colorbar": {
             "outlinewidth": 0,
             "ticks": ""
            },
            "colorscale": [
             [
              0,
              "#0d0887"
             ],
             [
              0.1111111111111111,
              "#46039f"
             ],
             [
              0.2222222222222222,
              "#7201a8"
             ],
             [
              0.3333333333333333,
              "#9c179e"
             ],
             [
              0.4444444444444444,
              "#bd3786"
             ],
             [
              0.5555555555555556,
              "#d8576b"
             ],
             [
              0.6666666666666666,
              "#ed7953"
             ],
             [
              0.7777777777777778,
              "#fb9f3a"
             ],
             [
              0.8888888888888888,
              "#fdca26"
             ],
             [
              1,
              "#f0f921"
             ]
            ],
            "type": "histogram2dcontour"
           }
          ],
          "mesh3d": [
           {
            "colorbar": {
             "outlinewidth": 0,
             "ticks": ""
            },
            "type": "mesh3d"
           }
          ],
          "parcoords": [
           {
            "line": {
             "colorbar": {
              "outlinewidth": 0,
              "ticks": ""
             }
            },
            "type": "parcoords"
           }
          ],
          "pie": [
           {
            "automargin": true,
            "type": "pie"
           }
          ],
          "scatter": [
           {
            "fillpattern": {
             "fillmode": "overlay",
             "size": 10,
             "solidity": 0.2
            },
            "type": "scatter"
           }
          ],
          "scatter3d": [
           {
            "line": {
             "colorbar": {
              "outlinewidth": 0,
              "ticks": ""
             }
            },
            "marker": {
             "colorbar": {
              "outlinewidth": 0,
              "ticks": ""
             }
            },
            "type": "scatter3d"
           }
          ],
          "scattercarpet": [
           {
            "marker": {
             "colorbar": {
              "outlinewidth": 0,
              "ticks": ""
             }
            },
            "type": "scattercarpet"
           }
          ],
          "scattergeo": [
           {
            "marker": {
             "colorbar": {
              "outlinewidth": 0,
              "ticks": ""
             }
            },
            "type": "scattergeo"
           }
          ],
          "scattergl": [
           {
            "marker": {
             "colorbar": {
              "outlinewidth": 0,
              "ticks": ""
             }
            },
            "type": "scattergl"
           }
          ],
          "scattermapbox": [
           {
            "marker": {
             "colorbar": {
              "outlinewidth": 0,
              "ticks": ""
             }
            },
            "type": "scattermapbox"
           }
          ],
          "scatterpolar": [
           {
            "marker": {
             "colorbar": {
              "outlinewidth": 0,
              "ticks": ""
             }
            },
            "type": "scatterpolar"
           }
          ],
          "scatterpolargl": [
           {
            "marker": {
             "colorbar": {
              "outlinewidth": 0,
              "ticks": ""
             }
            },
            "type": "scatterpolargl"
           }
          ],
          "scatterternary": [
           {
            "marker": {
             "colorbar": {
              "outlinewidth": 0,
              "ticks": ""
             }
            },
            "type": "scatterternary"
           }
          ],
          "surface": [
           {
            "colorbar": {
             "outlinewidth": 0,
             "ticks": ""
            },
            "colorscale": [
             [
              0,
              "#0d0887"
             ],
             [
              0.1111111111111111,
              "#46039f"
             ],
             [
              0.2222222222222222,
              "#7201a8"
             ],
             [
              0.3333333333333333,
              "#9c179e"
             ],
             [
              0.4444444444444444,
              "#bd3786"
             ],
             [
              0.5555555555555556,
              "#d8576b"
             ],
             [
              0.6666666666666666,
              "#ed7953"
             ],
             [
              0.7777777777777778,
              "#fb9f3a"
             ],
             [
              0.8888888888888888,
              "#fdca26"
             ],
             [
              1,
              "#f0f921"
             ]
            ],
            "type": "surface"
           }
          ],
          "table": [
           {
            "cells": {
             "fill": {
              "color": "#EBF0F8"
             },
             "line": {
              "color": "white"
             }
            },
            "header": {
             "fill": {
              "color": "#C8D4E3"
             },
             "line": {
              "color": "white"
             }
            },
            "type": "table"
           }
          ]
         },
         "layout": {
          "annotationdefaults": {
           "arrowcolor": "#2a3f5f",
           "arrowhead": 0,
           "arrowwidth": 1
          },
          "autotypenumbers": "strict",
          "coloraxis": {
           "colorbar": {
            "outlinewidth": 0,
            "ticks": ""
           }
          },
          "colorscale": {
           "diverging": [
            [
             0,
             "#8e0152"
            ],
            [
             0.1,
             "#c51b7d"
            ],
            [
             0.2,
             "#de77ae"
            ],
            [
             0.3,
             "#f1b6da"
            ],
            [
             0.4,
             "#fde0ef"
            ],
            [
             0.5,
             "#f7f7f7"
            ],
            [
             0.6,
             "#e6f5d0"
            ],
            [
             0.7,
             "#b8e186"
            ],
            [
             0.8,
             "#7fbc41"
            ],
            [
             0.9,
             "#4d9221"
            ],
            [
             1,
             "#276419"
            ]
           ],
           "sequential": [
            [
             0,
             "#0d0887"
            ],
            [
             0.1111111111111111,
             "#46039f"
            ],
            [
             0.2222222222222222,
             "#7201a8"
            ],
            [
             0.3333333333333333,
             "#9c179e"
            ],
            [
             0.4444444444444444,
             "#bd3786"
            ],
            [
             0.5555555555555556,
             "#d8576b"
            ],
            [
             0.6666666666666666,
             "#ed7953"
            ],
            [
             0.7777777777777778,
             "#fb9f3a"
            ],
            [
             0.8888888888888888,
             "#fdca26"
            ],
            [
             1,
             "#f0f921"
            ]
           ],
           "sequentialminus": [
            [
             0,
             "#0d0887"
            ],
            [
             0.1111111111111111,
             "#46039f"
            ],
            [
             0.2222222222222222,
             "#7201a8"
            ],
            [
             0.3333333333333333,
             "#9c179e"
            ],
            [
             0.4444444444444444,
             "#bd3786"
            ],
            [
             0.5555555555555556,
             "#d8576b"
            ],
            [
             0.6666666666666666,
             "#ed7953"
            ],
            [
             0.7777777777777778,
             "#fb9f3a"
            ],
            [
             0.8888888888888888,
             "#fdca26"
            ],
            [
             1,
             "#f0f921"
            ]
           ]
          },
          "colorway": [
           "#636efa",
           "#EF553B",
           "#00cc96",
           "#ab63fa",
           "#FFA15A",
           "#19d3f3",
           "#FF6692",
           "#B6E880",
           "#FF97FF",
           "#FECB52"
          ],
          "font": {
           "color": "#2a3f5f"
          },
          "geo": {
           "bgcolor": "white",
           "lakecolor": "white",
           "landcolor": "#E5ECF6",
           "showlakes": true,
           "showland": true,
           "subunitcolor": "white"
          },
          "hoverlabel": {
           "align": "left"
          },
          "hovermode": "closest",
          "mapbox": {
           "style": "light"
          },
          "paper_bgcolor": "white",
          "plot_bgcolor": "#E5ECF6",
          "polar": {
           "angularaxis": {
            "gridcolor": "white",
            "linecolor": "white",
            "ticks": ""
           },
           "bgcolor": "#E5ECF6",
           "radialaxis": {
            "gridcolor": "white",
            "linecolor": "white",
            "ticks": ""
           }
          },
          "scene": {
           "xaxis": {
            "backgroundcolor": "#E5ECF6",
            "gridcolor": "white",
            "gridwidth": 2,
            "linecolor": "white",
            "showbackground": true,
            "ticks": "",
            "zerolinecolor": "white"
           },
           "yaxis": {
            "backgroundcolor": "#E5ECF6",
            "gridcolor": "white",
            "gridwidth": 2,
            "linecolor": "white",
            "showbackground": true,
            "ticks": "",
            "zerolinecolor": "white"
           },
           "zaxis": {
            "backgroundcolor": "#E5ECF6",
            "gridcolor": "white",
            "gridwidth": 2,
            "linecolor": "white",
            "showbackground": true,
            "ticks": "",
            "zerolinecolor": "white"
           }
          },
          "shapedefaults": {
           "line": {
            "color": "#2a3f5f"
           }
          },
          "ternary": {
           "aaxis": {
            "gridcolor": "white",
            "linecolor": "white",
            "ticks": ""
           },
           "baxis": {
            "gridcolor": "white",
            "linecolor": "white",
            "ticks": ""
           },
           "bgcolor": "#E5ECF6",
           "caxis": {
            "gridcolor": "white",
            "linecolor": "white",
            "ticks": ""
           }
          },
          "title": {
           "x": 0.05
          },
          "xaxis": {
           "automargin": true,
           "gridcolor": "white",
           "linecolor": "white",
           "ticks": "",
           "title": {
            "standoff": 15
           },
           "zerolinecolor": "white",
           "zerolinewidth": 2
          },
          "yaxis": {
           "automargin": true,
           "gridcolor": "white",
           "linecolor": "white",
           "ticks": "",
           "title": {
            "standoff": 15
           },
           "zerolinecolor": "white",
           "zerolinewidth": 2
          }
         }
        },
        "xaxis": {
         "anchor": "y",
         "domain": [
          0,
          0.45
         ],
         "visible": false
        },
        "xaxis2": {
         "anchor": "y2",
         "domain": [
          0.55,
          1
         ],
         "visible": false
        },
        "yaxis": {
         "anchor": "x",
         "domain": [
          0,
          1
         ],
         "visible": false
        },
        "yaxis2": {
         "anchor": "x2",
         "domain": [
          0,
          1
         ],
         "visible": false
        }
       }
      }
     },
     "metadata": {},
     "output_type": "display_data"
    },
    {
     "data": {
      "application/vnd.plotly.v1+json": {
       "config": {
        "plotlyServerURL": "https://plot.ly"
       },
       "data": [
        {
         "marker": {
          "color": "red"
         },
         "mode": "markers",
         "type": "scatter",
         "x": [
          0.9104768633842468,
          0.3922189176082611,
          0.6985886693000793,
          0.011307291686534882,
          0.45946457982063293,
          0.8386895060539246,
          0.9097601771354675,
          0.09042958170175552,
          0.40661802887916565,
          0.21183845400810242,
          0.29310575127601624,
          0.3836301267147064,
          0.017827706411480904,
          0.8139223456382751,
          0.8874780535697937,
          0.3038562536239624,
          0.3961009085178375,
          0.8045719861984253,
          0.13687723875045776,
          0.5649325847625732,
          0.9638745188713074,
          0.12053471803665161,
          0.7254660725593567,
          0.6834599375724792,
          0.4685875475406647,
          0.5327650904655457,
          0.951848030090332,
          0.7050841450691223,
          0.23017552495002747,
          0.45159071683883667,
          0.8104597926139832,
          0.38395610451698303,
          0.016620272770524025,
          0.5636837482452393,
          0.013942891731858253,
          0.8907676935195923,
          0.25526899099349976,
          0.3919551372528076,
          0.32419446110725403,
          0.13466624915599823,
          1,
          0.9094019532203674,
          0.2720685601234436,
          0.0013209382304921746,
          0.3895701467990875,
          0.42051059007644653,
          0.6486016511917114,
          0.9887231588363647,
          0.008940779604017735,
          0.7150238752365112
         ],
         "xaxis": "x",
         "y": [
          0.10805065929889679,
          0.35396498441696167,
          0.3160388767719269,
          0.09478440880775452,
          0.5781378746032715,
          0.7884431481361389,
          0.34085869789123535,
          0.3165089786052704,
          0.12193044275045395,
          0.07750719040632248,
          0.011202757246792316,
          0.71601402759552,
          0.4765975773334503,
          0.8230368494987488,
          0.2975979149341583,
          0.2682429552078247,
          0.6506945490837097,
          0.10763954371213913,
          0.47072210907936096,
          1,
          0.34208178520202637,
          0.23952874541282654,
          0.29865357279777527,
          0.345065176486969,
          0.7834636569023132,
          0.683894157409668,
          0.6556880474090576,
          0.6463795900344849,
          0.6248067617416382,
          0.5166592597961426,
          0.8706130385398865,
          0.16425243020057678,
          0.45699942111968994,
          0.9749515652656555,
          0.7551217079162598,
          0.35828927159309387,
          0.5154541730880737,
          0.48837003111839294,
          0.8383198380470276,
          0.9280350804328918,
          0.1316414475440979,
          0.2240029126405716,
          0.7343091368675232,
          0.3110807240009308,
          0.8487629890441895,
          0.2760048806667328,
          0.1963220238685608,
          0.035527899861335754,
          0.08831315487623215,
          0.8100787997245789
         ],
         "yaxis": "y"
        },
        {
         "marker": {
          "color": "red"
         },
         "mode": "markers",
         "type": "scatter",
         "x": [
          0.9104768633842468,
          0.3922189176082611,
          0.6985886693000793,
          0.011307291686534882,
          0.45946457982063293,
          0.8386895060539246,
          0.9097601771354675,
          0.09042958170175552,
          0.40661802887916565,
          0.21183845400810242,
          0.29310575127601624,
          0.3836301267147064,
          0.017827706411480904,
          0.8139223456382751,
          0.8874780535697937,
          0.3038562536239624,
          0.3961009085178375,
          0.8045719861984253,
          0.13687723875045776,
          0.5649325847625732,
          0.9638745188713074,
          0.12053471803665161,
          0.7254660725593567,
          0.6834599375724792,
          0.4685875475406647,
          0.5327650904655457,
          0.951848030090332,
          0.7050841450691223,
          0.23017552495002747,
          0.45159071683883667,
          0.8104597926139832,
          0.38395610451698303,
          0.016620272770524025,
          0.5636837482452393,
          0.013942891731858253,
          0.8907676935195923,
          0.25526899099349976,
          0.3919551372528076,
          0.32419446110725403,
          0.13466624915599823,
          1,
          0.9094019532203674,
          0.2720685601234436,
          0.0013209382304921746,
          0.3895701467990875,
          0.42051059007644653,
          0.6486016511917114,
          0.9887231588363647,
          0.008940779604017735,
          0.7150238752365112
         ],
         "xaxis": "x2",
         "y": [
          0.10805065929889679,
          0.35396498441696167,
          0.3160388767719269,
          0.09478440880775452,
          0.5781378746032715,
          0.7884431481361389,
          0.34085869789123535,
          0.3165089786052704,
          0.12193044275045395,
          0.07750719040632248,
          0.011202757246792316,
          0.71601402759552,
          0.4765975773334503,
          0.8230368494987488,
          0.2975979149341583,
          0.2682429552078247,
          0.6506945490837097,
          0.10763954371213913,
          0.47072210907936096,
          1,
          0.34208178520202637,
          0.23952874541282654,
          0.29865357279777527,
          0.345065176486969,
          0.7834636569023132,
          0.683894157409668,
          0.6556880474090576,
          0.6463795900344849,
          0.6248067617416382,
          0.5166592597961426,
          0.8706130385398865,
          0.16425243020057678,
          0.45699942111968994,
          0.9749515652656555,
          0.7551217079162598,
          0.35828927159309387,
          0.5154541730880737,
          0.48837003111839294,
          0.8383198380470276,
          0.9280350804328918,
          0.1316414475440979,
          0.2240029126405716,
          0.7343091368675232,
          0.3110807240009308,
          0.8487629890441895,
          0.2760048806667328,
          0.1963220238685608,
          0.035527899861335754,
          0.08831315487623215,
          0.8100787997245789
         ],
         "yaxis": "y2"
        }
       ],
       "layout": {
        "annotations": [
         {
          "font": {
           "size": 16
          },
          "showarrow": false,
          "text": "Christofides",
          "x": 0.225,
          "xanchor": "center",
          "xref": "paper",
          "y": 1,
          "yanchor": "bottom",
          "yref": "paper"
         },
         {
          "font": {
           "size": 16
          },
          "showarrow": false,
          "text": "Ours",
          "x": 0.775,
          "xanchor": "center",
          "xref": "paper",
          "y": 1,
          "yanchor": "bottom",
          "yref": "paper"
         },
         {
          "arrowcolor": "blue",
          "arrowhead": 3,
          "arrowwidth": 1.5,
          "ax": 0.9104768633842468,
          "axref": "x",
          "ay": 0.10805065929889679,
          "ayref": "y",
          "showarrow": true,
          "text": "",
          "x": 0.9094019532203674,
          "xref": "x",
          "y": 0.2240029126405716,
          "yref": "y"
         },
         {
          "arrowcolor": "blue",
          "arrowhead": 3,
          "arrowwidth": 1.5,
          "ax": 0.9094019532203674,
          "axref": "x",
          "ay": 0.2240029126405716,
          "ayref": "y",
          "showarrow": true,
          "text": "",
          "x": 0.8874780535697937,
          "xref": "x",
          "y": 0.2975979149341583,
          "yref": "y"
         },
         {
          "arrowcolor": "blue",
          "arrowhead": 3,
          "arrowwidth": 1.5,
          "ax": 0.8874780535697937,
          "axref": "x",
          "ay": 0.2975979149341583,
          "ayref": "y",
          "showarrow": true,
          "text": "",
          "x": 0.9097601771354675,
          "xref": "x",
          "y": 0.34085869789123535,
          "yref": "y"
         },
         {
          "arrowcolor": "blue",
          "arrowhead": 3,
          "arrowwidth": 1.5,
          "ax": 0.9097601771354675,
          "axref": "x",
          "ay": 0.34085869789123535,
          "ayref": "y",
          "showarrow": true,
          "text": "",
          "x": 0.8907676935195923,
          "xref": "x",
          "y": 0.35828927159309387,
          "yref": "y"
         },
         {
          "arrowcolor": "blue",
          "arrowhead": 3,
          "arrowwidth": 1.5,
          "ax": 0.8907676935195923,
          "axref": "x",
          "ay": 0.35828927159309387,
          "ayref": "y",
          "showarrow": true,
          "text": "",
          "x": 0.9638745188713074,
          "xref": "x",
          "y": 0.34208178520202637,
          "yref": "y"
         },
         {
          "arrowcolor": "blue",
          "arrowhead": 3,
          "arrowwidth": 1.5,
          "ax": 0.9638745188713074,
          "axref": "x",
          "ay": 0.34208178520202637,
          "ayref": "y",
          "showarrow": true,
          "text": "",
          "x": 0.951848030090332,
          "xref": "x",
          "y": 0.6556880474090576,
          "yref": "y"
         },
         {
          "arrowcolor": "blue",
          "arrowhead": 3,
          "arrowwidth": 1.5,
          "ax": 0.951848030090332,
          "axref": "x",
          "ay": 0.6556880474090576,
          "ayref": "y",
          "showarrow": true,
          "text": "",
          "x": 0.8386895060539246,
          "xref": "x",
          "y": 0.7884431481361389,
          "yref": "y"
         },
         {
          "arrowcolor": "blue",
          "arrowhead": 3,
          "arrowwidth": 1.5,
          "ax": 0.8386895060539246,
          "axref": "x",
          "ay": 0.7884431481361389,
          "ayref": "y",
          "showarrow": true,
          "text": "",
          "x": 0.8139223456382751,
          "xref": "x",
          "y": 0.8230368494987488,
          "yref": "y"
         },
         {
          "arrowcolor": "blue",
          "arrowhead": 3,
          "arrowwidth": 1.5,
          "ax": 0.8139223456382751,
          "axref": "x",
          "ay": 0.8230368494987488,
          "ayref": "y",
          "showarrow": true,
          "text": "",
          "x": 0.8104597926139832,
          "xref": "x",
          "y": 0.8706130385398865,
          "yref": "y"
         },
         {
          "arrowcolor": "blue",
          "arrowhead": 3,
          "arrowwidth": 1.5,
          "ax": 0.8104597926139832,
          "axref": "x",
          "ay": 0.8706130385398865,
          "ayref": "y",
          "showarrow": true,
          "text": "",
          "x": 0.7150238752365112,
          "xref": "x",
          "y": 0.8100787997245789,
          "yref": "y"
         },
         {
          "arrowcolor": "blue",
          "arrowhead": 3,
          "arrowwidth": 1.5,
          "ax": 0.7150238752365112,
          "axref": "x",
          "ay": 0.8100787997245789,
          "ayref": "y",
          "showarrow": true,
          "text": "",
          "x": 0.7050841450691223,
          "xref": "x",
          "y": 0.6463795900344849,
          "yref": "y"
         },
         {
          "arrowcolor": "blue",
          "arrowhead": 3,
          "arrowwidth": 1.5,
          "ax": 0.7050841450691223,
          "axref": "x",
          "ay": 0.6463795900344849,
          "ayref": "y",
          "showarrow": true,
          "text": "",
          "x": 0.5327650904655457,
          "xref": "x",
          "y": 0.683894157409668,
          "yref": "y"
         },
         {
          "arrowcolor": "blue",
          "arrowhead": 3,
          "arrowwidth": 1.5,
          "ax": 0.5327650904655457,
          "axref": "x",
          "ay": 0.683894157409668,
          "ayref": "y",
          "showarrow": true,
          "text": "",
          "x": 0.4685875475406647,
          "xref": "x",
          "y": 0.7834636569023132,
          "yref": "y"
         },
         {
          "arrowcolor": "blue",
          "arrowhead": 3,
          "arrowwidth": 1.5,
          "ax": 0.4685875475406647,
          "axref": "x",
          "ay": 0.7834636569023132,
          "ayref": "y",
          "showarrow": true,
          "text": "",
          "x": 0.5636837482452393,
          "xref": "x",
          "y": 0.9749515652656555,
          "yref": "y"
         },
         {
          "arrowcolor": "blue",
          "arrowhead": 3,
          "arrowwidth": 1.5,
          "ax": 0.5636837482452393,
          "axref": "x",
          "ay": 0.9749515652656555,
          "ayref": "y",
          "showarrow": true,
          "text": "",
          "x": 0.5649325847625732,
          "xref": "x",
          "y": 1,
          "yref": "y"
         },
         {
          "arrowcolor": "blue",
          "arrowhead": 3,
          "arrowwidth": 1.5,
          "ax": 0.5649325847625732,
          "axref": "x",
          "ay": 1,
          "ayref": "y",
          "showarrow": true,
          "text": "",
          "x": 0.3836301267147064,
          "xref": "x",
          "y": 0.71601402759552,
          "yref": "y"
         },
         {
          "arrowcolor": "blue",
          "arrowhead": 3,
          "arrowwidth": 1.5,
          "ax": 0.3836301267147064,
          "axref": "x",
          "ay": 0.71601402759552,
          "ayref": "y",
          "showarrow": true,
          "text": "",
          "x": 0.2720685601234436,
          "xref": "x",
          "y": 0.7343091368675232,
          "yref": "y"
         },
         {
          "arrowcolor": "blue",
          "arrowhead": 3,
          "arrowwidth": 1.5,
          "ax": 0.2720685601234436,
          "axref": "x",
          "ay": 0.7343091368675232,
          "ayref": "y",
          "showarrow": true,
          "text": "",
          "x": 0.23017552495002747,
          "xref": "x",
          "y": 0.6248067617416382,
          "yref": "y"
         },
         {
          "arrowcolor": "blue",
          "arrowhead": 3,
          "arrowwidth": 1.5,
          "ax": 0.23017552495002747,
          "axref": "x",
          "ay": 0.6248067617416382,
          "ayref": "y",
          "showarrow": true,
          "text": "",
          "x": 0.25526899099349976,
          "xref": "x",
          "y": 0.5154541730880737,
          "yref": "y"
         },
         {
          "arrowcolor": "blue",
          "arrowhead": 3,
          "arrowwidth": 1.5,
          "ax": 0.25526899099349976,
          "axref": "x",
          "ay": 0.5154541730880737,
          "ayref": "y",
          "showarrow": true,
          "text": "",
          "x": 0.13687723875045776,
          "xref": "x",
          "y": 0.47072210907936096,
          "yref": "y"
         },
         {
          "arrowcolor": "blue",
          "arrowhead": 3,
          "arrowwidth": 1.5,
          "ax": 0.13687723875045776,
          "axref": "x",
          "ay": 0.47072210907936096,
          "ayref": "y",
          "showarrow": true,
          "text": "",
          "x": 0.017827706411480904,
          "xref": "x",
          "y": 0.4765975773334503,
          "yref": "y"
         },
         {
          "arrowcolor": "blue",
          "arrowhead": 3,
          "arrowwidth": 1.5,
          "ax": 0.017827706411480904,
          "axref": "x",
          "ay": 0.4765975773334503,
          "ayref": "y",
          "showarrow": true,
          "text": "",
          "x": 0.016620272770524025,
          "xref": "x",
          "y": 0.45699942111968994,
          "yref": "y"
         },
         {
          "arrowcolor": "blue",
          "arrowhead": 3,
          "arrowwidth": 1.5,
          "ax": 0.016620272770524025,
          "axref": "x",
          "ay": 0.45699942111968994,
          "ayref": "y",
          "showarrow": true,
          "text": "",
          "x": 0.0013209382304921746,
          "xref": "x",
          "y": 0.3110807240009308,
          "yref": "y"
         },
         {
          "arrowcolor": "blue",
          "arrowhead": 3,
          "arrowwidth": 1.5,
          "ax": 0.0013209382304921746,
          "axref": "x",
          "ay": 0.3110807240009308,
          "ayref": "y",
          "showarrow": true,
          "text": "",
          "x": 0.09042958170175552,
          "xref": "x",
          "y": 0.3165089786052704,
          "yref": "y"
         },
         {
          "arrowcolor": "blue",
          "arrowhead": 3,
          "arrowwidth": 1.5,
          "ax": 0.09042958170175552,
          "axref": "x",
          "ay": 0.3165089786052704,
          "ayref": "y",
          "showarrow": true,
          "text": "",
          "x": 0.12053471803665161,
          "xref": "x",
          "y": 0.23952874541282654,
          "yref": "y"
         },
         {
          "arrowcolor": "blue",
          "arrowhead": 3,
          "arrowwidth": 1.5,
          "ax": 0.12053471803665161,
          "axref": "x",
          "ay": 0.23952874541282654,
          "ayref": "y",
          "showarrow": true,
          "text": "",
          "x": 0.011307291686534882,
          "xref": "x",
          "y": 0.09478440880775452,
          "yref": "y"
         },
         {
          "arrowcolor": "blue",
          "arrowhead": 3,
          "arrowwidth": 1.5,
          "ax": 0.011307291686534882,
          "axref": "x",
          "ay": 0.09478440880775452,
          "ayref": "y",
          "showarrow": true,
          "text": "",
          "x": 0.008940779604017735,
          "xref": "x",
          "y": 0.08831315487623215,
          "yref": "y"
         },
         {
          "arrowcolor": "blue",
          "arrowhead": 3,
          "arrowwidth": 1.5,
          "ax": 0.008940779604017735,
          "axref": "x",
          "ay": 0.08831315487623215,
          "ayref": "y",
          "showarrow": true,
          "text": "",
          "x": 0.21183845400810242,
          "xref": "x",
          "y": 0.07750719040632248,
          "yref": "y"
         },
         {
          "arrowcolor": "blue",
          "arrowhead": 3,
          "arrowwidth": 1.5,
          "ax": 0.21183845400810242,
          "axref": "x",
          "ay": 0.07750719040632248,
          "ayref": "y",
          "showarrow": true,
          "text": "",
          "x": 0.29310575127601624,
          "xref": "x",
          "y": 0.011202757246792316,
          "yref": "y"
         },
         {
          "arrowcolor": "blue",
          "arrowhead": 3,
          "arrowwidth": 1.5,
          "ax": 0.29310575127601624,
          "axref": "x",
          "ay": 0.011202757246792316,
          "ayref": "y",
          "showarrow": true,
          "text": "",
          "x": 0.40661802887916565,
          "xref": "x",
          "y": 0.12193044275045395,
          "yref": "y"
         },
         {
          "arrowcolor": "blue",
          "arrowhead": 3,
          "arrowwidth": 1.5,
          "ax": 0.40661802887916565,
          "axref": "x",
          "ay": 0.12193044275045395,
          "ayref": "y",
          "showarrow": true,
          "text": "",
          "x": 0.38395610451698303,
          "xref": "x",
          "y": 0.16425243020057678,
          "yref": "y"
         },
         {
          "arrowcolor": "blue",
          "arrowhead": 3,
          "arrowwidth": 1.5,
          "ax": 0.38395610451698303,
          "axref": "x",
          "ay": 0.16425243020057678,
          "ayref": "y",
          "showarrow": true,
          "text": "",
          "x": 0.42051059007644653,
          "xref": "x",
          "y": 0.2760048806667328,
          "yref": "y"
         },
         {
          "arrowcolor": "blue",
          "arrowhead": 3,
          "arrowwidth": 1.5,
          "ax": 0.42051059007644653,
          "axref": "x",
          "ay": 0.2760048806667328,
          "ayref": "y",
          "showarrow": true,
          "text": "",
          "x": 0.3038562536239624,
          "xref": "x",
          "y": 0.2682429552078247,
          "yref": "y"
         },
         {
          "arrowcolor": "blue",
          "arrowhead": 3,
          "arrowwidth": 1.5,
          "ax": 0.3038562536239624,
          "axref": "x",
          "ay": 0.2682429552078247,
          "ayref": "y",
          "showarrow": true,
          "text": "",
          "x": 0.013942891731858253,
          "xref": "x",
          "y": 0.7551217079162598,
          "yref": "y"
         },
         {
          "arrowcolor": "blue",
          "arrowhead": 3,
          "arrowwidth": 1.5,
          "ax": 0.013942891731858253,
          "axref": "x",
          "ay": 0.7551217079162598,
          "ayref": "y",
          "showarrow": true,
          "text": "",
          "x": 0.13466624915599823,
          "xref": "x",
          "y": 0.9280350804328918,
          "yref": "y"
         },
         {
          "arrowcolor": "blue",
          "arrowhead": 3,
          "arrowwidth": 1.5,
          "ax": 0.13466624915599823,
          "axref": "x",
          "ay": 0.9280350804328918,
          "ayref": "y",
          "showarrow": true,
          "text": "",
          "x": 0.32419446110725403,
          "xref": "x",
          "y": 0.8383198380470276,
          "yref": "y"
         },
         {
          "arrowcolor": "blue",
          "arrowhead": 3,
          "arrowwidth": 1.5,
          "ax": 0.32419446110725403,
          "axref": "x",
          "ay": 0.8383198380470276,
          "ayref": "y",
          "showarrow": true,
          "text": "",
          "x": 0.3895701467990875,
          "xref": "x",
          "y": 0.8487629890441895,
          "yref": "y"
         },
         {
          "arrowcolor": "blue",
          "arrowhead": 3,
          "arrowwidth": 1.5,
          "ax": 0.3895701467990875,
          "axref": "x",
          "ay": 0.8487629890441895,
          "ayref": "y",
          "showarrow": true,
          "text": "",
          "x": 0.3961009085178375,
          "xref": "x",
          "y": 0.6506945490837097,
          "yref": "y"
         },
         {
          "arrowcolor": "blue",
          "arrowhead": 3,
          "arrowwidth": 1.5,
          "ax": 0.3961009085178375,
          "axref": "x",
          "ay": 0.6506945490837097,
          "ayref": "y",
          "showarrow": true,
          "text": "",
          "x": 0.45946457982063293,
          "xref": "x",
          "y": 0.5781378746032715,
          "yref": "y"
         },
         {
          "arrowcolor": "blue",
          "arrowhead": 3,
          "arrowwidth": 1.5,
          "ax": 0.45946457982063293,
          "axref": "x",
          "ay": 0.5781378746032715,
          "ayref": "y",
          "showarrow": true,
          "text": "",
          "x": 0.45159071683883667,
          "xref": "x",
          "y": 0.5166592597961426,
          "yref": "y"
         },
         {
          "arrowcolor": "blue",
          "arrowhead": 3,
          "arrowwidth": 1.5,
          "ax": 0.45159071683883667,
          "axref": "x",
          "ay": 0.5166592597961426,
          "ayref": "y",
          "showarrow": true,
          "text": "",
          "x": 0.3919551372528076,
          "xref": "x",
          "y": 0.48837003111839294,
          "yref": "y"
         },
         {
          "arrowcolor": "blue",
          "arrowhead": 3,
          "arrowwidth": 1.5,
          "ax": 0.3919551372528076,
          "axref": "x",
          "ay": 0.48837003111839294,
          "ayref": "y",
          "showarrow": true,
          "text": "",
          "x": 0.3922189176082611,
          "xref": "x",
          "y": 0.35396498441696167,
          "yref": "y"
         },
         {
          "arrowcolor": "blue",
          "arrowhead": 3,
          "arrowwidth": 1.5,
          "ax": 0.3922189176082611,
          "axref": "x",
          "ay": 0.35396498441696167,
          "ayref": "y",
          "showarrow": true,
          "text": "",
          "x": 0.6486016511917114,
          "xref": "x",
          "y": 0.1963220238685608,
          "yref": "y"
         },
         {
          "arrowcolor": "blue",
          "arrowhead": 3,
          "arrowwidth": 1.5,
          "ax": 0.6486016511917114,
          "axref": "x",
          "ay": 0.1963220238685608,
          "ayref": "y",
          "showarrow": true,
          "text": "",
          "x": 0.7254660725593567,
          "xref": "x",
          "y": 0.29865357279777527,
          "yref": "y"
         },
         {
          "arrowcolor": "blue",
          "arrowhead": 3,
          "arrowwidth": 1.5,
          "ax": 0.7254660725593567,
          "axref": "x",
          "ay": 0.29865357279777527,
          "ayref": "y",
          "showarrow": true,
          "text": "",
          "x": 0.6834599375724792,
          "xref": "x",
          "y": 0.345065176486969,
          "yref": "y"
         },
         {
          "arrowcolor": "blue",
          "arrowhead": 3,
          "arrowwidth": 1.5,
          "ax": 0.6834599375724792,
          "axref": "x",
          "ay": 0.345065176486969,
          "ayref": "y",
          "showarrow": true,
          "text": "",
          "x": 0.6985886693000793,
          "xref": "x",
          "y": 0.3160388767719269,
          "yref": "y"
         },
         {
          "arrowcolor": "blue",
          "arrowhead": 3,
          "arrowwidth": 1.5,
          "ax": 0.6985886693000793,
          "axref": "x",
          "ay": 0.3160388767719269,
          "ayref": "y",
          "showarrow": true,
          "text": "",
          "x": 0.8045719861984253,
          "xref": "x",
          "y": 0.10763954371213913,
          "yref": "y"
         },
         {
          "arrowcolor": "blue",
          "arrowhead": 3,
          "arrowwidth": 1.5,
          "ax": 0.8045719861984253,
          "axref": "x",
          "ay": 0.10763954371213913,
          "ayref": "y",
          "showarrow": true,
          "text": "",
          "x": 0.9887231588363647,
          "xref": "x",
          "y": 0.035527899861335754,
          "yref": "y"
         },
         {
          "arrowcolor": "blue",
          "arrowhead": 3,
          "arrowwidth": 1.5,
          "ax": 0.9887231588363647,
          "axref": "x",
          "ay": 0.035527899861335754,
          "ayref": "y",
          "showarrow": true,
          "text": "",
          "x": 1,
          "xref": "x",
          "y": 0.1316414475440979,
          "yref": "y"
         },
         {
          "arrowcolor": "blue",
          "arrowhead": 3,
          "arrowwidth": 1.5,
          "ax": 1,
          "axref": "x",
          "ay": 0.1316414475440979,
          "ayref": "y",
          "showarrow": true,
          "text": "",
          "x": 0.9104768633842468,
          "xref": "x",
          "y": 0.10805065929889679,
          "yref": "y"
         },
         {
          "arrowcolor": "green",
          "arrowhead": 3,
          "arrowwidth": 1.5,
          "ax": 0.6834599375724792,
          "axref": "x2",
          "ay": 0.345065176486969,
          "ayref": "y2",
          "showarrow": true,
          "text": "",
          "x": 0.6985886693000793,
          "xref": "x2",
          "y": 0.3160388767719269,
          "yref": "y2"
         },
         {
          "arrowcolor": "green",
          "arrowhead": 3,
          "arrowwidth": 1.5,
          "ax": 0.6985886693000793,
          "axref": "x2",
          "ay": 0.3160388767719269,
          "ayref": "y2",
          "showarrow": true,
          "text": "",
          "x": 0.7254660725593567,
          "xref": "x2",
          "y": 0.29865357279777527,
          "yref": "y2"
         },
         {
          "arrowcolor": "green",
          "arrowhead": 3,
          "arrowwidth": 1.5,
          "ax": 0.7254660725593567,
          "axref": "x2",
          "ay": 0.29865357279777527,
          "ayref": "y2",
          "showarrow": true,
          "text": "",
          "x": 0.8045719861984253,
          "xref": "x2",
          "y": 0.10763954371213913,
          "yref": "y2"
         },
         {
          "arrowcolor": "green",
          "arrowhead": 3,
          "arrowwidth": 1.5,
          "ax": 0.8045719861984253,
          "axref": "x2",
          "ay": 0.10763954371213913,
          "ayref": "y2",
          "showarrow": true,
          "text": "",
          "x": 0.9104768633842468,
          "xref": "x2",
          "y": 0.10805065929889679,
          "yref": "y2"
         },
         {
          "arrowcolor": "green",
          "arrowhead": 3,
          "arrowwidth": 1.5,
          "ax": 0.9104768633842468,
          "axref": "x2",
          "ay": 0.10805065929889679,
          "ayref": "y2",
          "showarrow": true,
          "text": "",
          "x": 0.9887231588363647,
          "xref": "x2",
          "y": 0.035527899861335754,
          "yref": "y2"
         },
         {
          "arrowcolor": "green",
          "arrowhead": 3,
          "arrowwidth": 1.5,
          "ax": 0.9887231588363647,
          "axref": "x2",
          "ay": 0.035527899861335754,
          "ayref": "y2",
          "showarrow": true,
          "text": "",
          "x": 1,
          "xref": "x2",
          "y": 0.1316414475440979,
          "yref": "y2"
         },
         {
          "arrowcolor": "green",
          "arrowhead": 3,
          "arrowwidth": 1.5,
          "ax": 1,
          "axref": "x2",
          "ay": 0.1316414475440979,
          "ayref": "y2",
          "showarrow": true,
          "text": "",
          "x": 0.9094019532203674,
          "xref": "x2",
          "y": 0.2240029126405716,
          "yref": "y2"
         },
         {
          "arrowcolor": "green",
          "arrowhead": 3,
          "arrowwidth": 1.5,
          "ax": 0.9094019532203674,
          "axref": "x2",
          "ay": 0.2240029126405716,
          "ayref": "y2",
          "showarrow": true,
          "text": "",
          "x": 0.8874780535697937,
          "xref": "x2",
          "y": 0.2975979149341583,
          "yref": "y2"
         },
         {
          "arrowcolor": "green",
          "arrowhead": 3,
          "arrowwidth": 1.5,
          "ax": 0.8874780535697937,
          "axref": "x2",
          "ay": 0.2975979149341583,
          "ayref": "y2",
          "showarrow": true,
          "text": "",
          "x": 0.9097601771354675,
          "xref": "x2",
          "y": 0.34085869789123535,
          "yref": "y2"
         },
         {
          "arrowcolor": "green",
          "arrowhead": 3,
          "arrowwidth": 1.5,
          "ax": 0.9097601771354675,
          "axref": "x2",
          "ay": 0.34085869789123535,
          "ayref": "y2",
          "showarrow": true,
          "text": "",
          "x": 0.8907676935195923,
          "xref": "x2",
          "y": 0.35828927159309387,
          "yref": "y2"
         },
         {
          "arrowcolor": "green",
          "arrowhead": 3,
          "arrowwidth": 1.5,
          "ax": 0.8907676935195923,
          "axref": "x2",
          "ay": 0.35828927159309387,
          "ayref": "y2",
          "showarrow": true,
          "text": "",
          "x": 0.9638745188713074,
          "xref": "x2",
          "y": 0.34208178520202637,
          "yref": "y2"
         },
         {
          "arrowcolor": "green",
          "arrowhead": 3,
          "arrowwidth": 1.5,
          "ax": 0.9638745188713074,
          "axref": "x2",
          "ay": 0.34208178520202637,
          "ayref": "y2",
          "showarrow": true,
          "text": "",
          "x": 0.951848030090332,
          "xref": "x2",
          "y": 0.6556880474090576,
          "yref": "y2"
         },
         {
          "arrowcolor": "green",
          "arrowhead": 3,
          "arrowwidth": 1.5,
          "ax": 0.951848030090332,
          "axref": "x2",
          "ay": 0.6556880474090576,
          "ayref": "y2",
          "showarrow": true,
          "text": "",
          "x": 0.7050841450691223,
          "xref": "x2",
          "y": 0.6463795900344849,
          "yref": "y2"
         },
         {
          "arrowcolor": "green",
          "arrowhead": 3,
          "arrowwidth": 1.5,
          "ax": 0.7050841450691223,
          "axref": "x2",
          "ay": 0.6463795900344849,
          "ayref": "y2",
          "showarrow": true,
          "text": "",
          "x": 0.8386895060539246,
          "xref": "x2",
          "y": 0.7884431481361389,
          "yref": "y2"
         },
         {
          "arrowcolor": "green",
          "arrowhead": 3,
          "arrowwidth": 1.5,
          "ax": 0.8386895060539246,
          "axref": "x2",
          "ay": 0.7884431481361389,
          "ayref": "y2",
          "showarrow": true,
          "text": "",
          "x": 0.8139223456382751,
          "xref": "x2",
          "y": 0.8230368494987488,
          "yref": "y2"
         },
         {
          "arrowcolor": "green",
          "arrowhead": 3,
          "arrowwidth": 1.5,
          "ax": 0.8139223456382751,
          "axref": "x2",
          "ay": 0.8230368494987488,
          "ayref": "y2",
          "showarrow": true,
          "text": "",
          "x": 0.8104597926139832,
          "xref": "x2",
          "y": 0.8706130385398865,
          "yref": "y2"
         },
         {
          "arrowcolor": "green",
          "arrowhead": 3,
          "arrowwidth": 1.5,
          "ax": 0.8104597926139832,
          "axref": "x2",
          "ay": 0.8706130385398865,
          "ayref": "y2",
          "showarrow": true,
          "text": "",
          "x": 0.7150238752365112,
          "xref": "x2",
          "y": 0.8100787997245789,
          "yref": "y2"
         },
         {
          "arrowcolor": "green",
          "arrowhead": 3,
          "arrowwidth": 1.5,
          "ax": 0.7150238752365112,
          "axref": "x2",
          "ay": 0.8100787997245789,
          "ayref": "y2",
          "showarrow": true,
          "text": "",
          "x": 0.5649325847625732,
          "xref": "x2",
          "y": 1,
          "yref": "y2"
         },
         {
          "arrowcolor": "green",
          "arrowhead": 3,
          "arrowwidth": 1.5,
          "ax": 0.5649325847625732,
          "axref": "x2",
          "ay": 1,
          "ayref": "y2",
          "showarrow": true,
          "text": "",
          "x": 0.5636837482452393,
          "xref": "x2",
          "y": 0.9749515652656555,
          "yref": "y2"
         },
         {
          "arrowcolor": "green",
          "arrowhead": 3,
          "arrowwidth": 1.5,
          "ax": 0.5636837482452393,
          "axref": "x2",
          "ay": 0.9749515652656555,
          "ayref": "y2",
          "showarrow": true,
          "text": "",
          "x": 0.3895701467990875,
          "xref": "x2",
          "y": 0.8487629890441895,
          "yref": "y2"
         },
         {
          "arrowcolor": "green",
          "arrowhead": 3,
          "arrowwidth": 1.5,
          "ax": 0.3895701467990875,
          "axref": "x2",
          "ay": 0.8487629890441895,
          "ayref": "y2",
          "showarrow": true,
          "text": "",
          "x": 0.32419446110725403,
          "xref": "x2",
          "y": 0.8383198380470276,
          "yref": "y2"
         },
         {
          "arrowcolor": "green",
          "arrowhead": 3,
          "arrowwidth": 1.5,
          "ax": 0.32419446110725403,
          "axref": "x2",
          "ay": 0.8383198380470276,
          "ayref": "y2",
          "showarrow": true,
          "text": "",
          "x": 0.13466624915599823,
          "xref": "x2",
          "y": 0.9280350804328918,
          "yref": "y2"
         },
         {
          "arrowcolor": "green",
          "arrowhead": 3,
          "arrowwidth": 1.5,
          "ax": 0.13466624915599823,
          "axref": "x2",
          "ay": 0.9280350804328918,
          "ayref": "y2",
          "showarrow": true,
          "text": "",
          "x": 0.013942891731858253,
          "xref": "x2",
          "y": 0.7551217079162598,
          "yref": "y2"
         },
         {
          "arrowcolor": "green",
          "arrowhead": 3,
          "arrowwidth": 1.5,
          "ax": 0.013942891731858253,
          "axref": "x2",
          "ay": 0.7551217079162598,
          "ayref": "y2",
          "showarrow": true,
          "text": "",
          "x": 0.13687723875045776,
          "xref": "x2",
          "y": 0.47072210907936096,
          "yref": "y2"
         },
         {
          "arrowcolor": "green",
          "arrowhead": 3,
          "arrowwidth": 1.5,
          "ax": 0.13687723875045776,
          "axref": "x2",
          "ay": 0.47072210907936096,
          "ayref": "y2",
          "showarrow": true,
          "text": "",
          "x": 0.017827706411480904,
          "xref": "x2",
          "y": 0.4765975773334503,
          "yref": "y2"
         },
         {
          "arrowcolor": "green",
          "arrowhead": 3,
          "arrowwidth": 1.5,
          "ax": 0.017827706411480904,
          "axref": "x2",
          "ay": 0.4765975773334503,
          "ayref": "y2",
          "showarrow": true,
          "text": "",
          "x": 0.016620272770524025,
          "xref": "x2",
          "y": 0.45699942111968994,
          "yref": "y2"
         },
         {
          "arrowcolor": "green",
          "arrowhead": 3,
          "arrowwidth": 1.5,
          "ax": 0.016620272770524025,
          "axref": "x2",
          "ay": 0.45699942111968994,
          "ayref": "y2",
          "showarrow": true,
          "text": "",
          "x": 0.0013209382304921746,
          "xref": "x2",
          "y": 0.3110807240009308,
          "yref": "y2"
         },
         {
          "arrowcolor": "green",
          "arrowhead": 3,
          "arrowwidth": 1.5,
          "ax": 0.0013209382304921746,
          "axref": "x2",
          "ay": 0.3110807240009308,
          "ayref": "y2",
          "showarrow": true,
          "text": "",
          "x": 0.09042958170175552,
          "xref": "x2",
          "y": 0.3165089786052704,
          "yref": "y2"
         },
         {
          "arrowcolor": "green",
          "arrowhead": 3,
          "arrowwidth": 1.5,
          "ax": 0.09042958170175552,
          "axref": "x2",
          "ay": 0.3165089786052704,
          "ayref": "y2",
          "showarrow": true,
          "text": "",
          "x": 0.12053471803665161,
          "xref": "x2",
          "y": 0.23952874541282654,
          "yref": "y2"
         },
         {
          "arrowcolor": "green",
          "arrowhead": 3,
          "arrowwidth": 1.5,
          "ax": 0.12053471803665161,
          "axref": "x2",
          "ay": 0.23952874541282654,
          "ayref": "y2",
          "showarrow": true,
          "text": "",
          "x": 0.008940779604017735,
          "xref": "x2",
          "y": 0.08831315487623215,
          "yref": "y2"
         },
         {
          "arrowcolor": "green",
          "arrowhead": 3,
          "arrowwidth": 1.5,
          "ax": 0.008940779604017735,
          "axref": "x2",
          "ay": 0.08831315487623215,
          "ayref": "y2",
          "showarrow": true,
          "text": "",
          "x": 0.011307291686534882,
          "xref": "x2",
          "y": 0.09478440880775452,
          "yref": "y2"
         },
         {
          "arrowcolor": "green",
          "arrowhead": 3,
          "arrowwidth": 1.5,
          "ax": 0.011307291686534882,
          "axref": "x2",
          "ay": 0.09478440880775452,
          "ayref": "y2",
          "showarrow": true,
          "text": "",
          "x": 0.21183845400810242,
          "xref": "x2",
          "y": 0.07750719040632248,
          "yref": "y2"
         },
         {
          "arrowcolor": "green",
          "arrowhead": 3,
          "arrowwidth": 1.5,
          "ax": 0.21183845400810242,
          "axref": "x2",
          "ay": 0.07750719040632248,
          "ayref": "y2",
          "showarrow": true,
          "text": "",
          "x": 0.29310575127601624,
          "xref": "x2",
          "y": 0.011202757246792316,
          "yref": "y2"
         },
         {
          "arrowcolor": "green",
          "arrowhead": 3,
          "arrowwidth": 1.5,
          "ax": 0.29310575127601624,
          "axref": "x2",
          "ay": 0.011202757246792316,
          "ayref": "y2",
          "showarrow": true,
          "text": "",
          "x": 0.3038562536239624,
          "xref": "x2",
          "y": 0.2682429552078247,
          "yref": "y2"
         },
         {
          "arrowcolor": "green",
          "arrowhead": 3,
          "arrowwidth": 1.5,
          "ax": 0.3038562536239624,
          "axref": "x2",
          "ay": 0.2682429552078247,
          "ayref": "y2",
          "showarrow": true,
          "text": "",
          "x": 0.25526899099349976,
          "xref": "x2",
          "y": 0.5154541730880737,
          "yref": "y2"
         },
         {
          "arrowcolor": "green",
          "arrowhead": 3,
          "arrowwidth": 1.5,
          "ax": 0.25526899099349976,
          "axref": "x2",
          "ay": 0.5154541730880737,
          "ayref": "y2",
          "showarrow": true,
          "text": "",
          "x": 0.23017552495002747,
          "xref": "x2",
          "y": 0.6248067617416382,
          "yref": "y2"
         },
         {
          "arrowcolor": "green",
          "arrowhead": 3,
          "arrowwidth": 1.5,
          "ax": 0.23017552495002747,
          "axref": "x2",
          "ay": 0.6248067617416382,
          "ayref": "y2",
          "showarrow": true,
          "text": "",
          "x": 0.2720685601234436,
          "xref": "x2",
          "y": 0.7343091368675232,
          "yref": "y2"
         },
         {
          "arrowcolor": "green",
          "arrowhead": 3,
          "arrowwidth": 1.5,
          "ax": 0.2720685601234436,
          "axref": "x2",
          "ay": 0.7343091368675232,
          "ayref": "y2",
          "showarrow": true,
          "text": "",
          "x": 0.3961009085178375,
          "xref": "x2",
          "y": 0.6506945490837097,
          "yref": "y2"
         },
         {
          "arrowcolor": "green",
          "arrowhead": 3,
          "arrowwidth": 1.5,
          "ax": 0.3961009085178375,
          "axref": "x2",
          "ay": 0.6506945490837097,
          "ayref": "y2",
          "showarrow": true,
          "text": "",
          "x": 0.3836301267147064,
          "xref": "x2",
          "y": 0.71601402759552,
          "yref": "y2"
         },
         {
          "arrowcolor": "green",
          "arrowhead": 3,
          "arrowwidth": 1.5,
          "ax": 0.3836301267147064,
          "axref": "x2",
          "ay": 0.71601402759552,
          "ayref": "y2",
          "showarrow": true,
          "text": "",
          "x": 0.4685875475406647,
          "xref": "x2",
          "y": 0.7834636569023132,
          "yref": "y2"
         },
         {
          "arrowcolor": "green",
          "arrowhead": 3,
          "arrowwidth": 1.5,
          "ax": 0.4685875475406647,
          "axref": "x2",
          "ay": 0.7834636569023132,
          "ayref": "y2",
          "showarrow": true,
          "text": "",
          "x": 0.5327650904655457,
          "xref": "x2",
          "y": 0.683894157409668,
          "yref": "y2"
         },
         {
          "arrowcolor": "green",
          "arrowhead": 3,
          "arrowwidth": 1.5,
          "ax": 0.5327650904655457,
          "axref": "x2",
          "ay": 0.683894157409668,
          "ayref": "y2",
          "showarrow": true,
          "text": "",
          "x": 0.45946457982063293,
          "xref": "x2",
          "y": 0.5781378746032715,
          "yref": "y2"
         },
         {
          "arrowcolor": "green",
          "arrowhead": 3,
          "arrowwidth": 1.5,
          "ax": 0.45946457982063293,
          "axref": "x2",
          "ay": 0.5781378746032715,
          "ayref": "y2",
          "showarrow": true,
          "text": "",
          "x": 0.45159071683883667,
          "xref": "x2",
          "y": 0.5166592597961426,
          "yref": "y2"
         },
         {
          "arrowcolor": "green",
          "arrowhead": 3,
          "arrowwidth": 1.5,
          "ax": 0.45159071683883667,
          "axref": "x2",
          "ay": 0.5166592597961426,
          "ayref": "y2",
          "showarrow": true,
          "text": "",
          "x": 0.3919551372528076,
          "xref": "x2",
          "y": 0.48837003111839294,
          "yref": "y2"
         },
         {
          "arrowcolor": "green",
          "arrowhead": 3,
          "arrowwidth": 1.5,
          "ax": 0.3919551372528076,
          "axref": "x2",
          "ay": 0.48837003111839294,
          "ayref": "y2",
          "showarrow": true,
          "text": "",
          "x": 0.3922189176082611,
          "xref": "x2",
          "y": 0.35396498441696167,
          "yref": "y2"
         },
         {
          "arrowcolor": "green",
          "arrowhead": 3,
          "arrowwidth": 1.5,
          "ax": 0.3922189176082611,
          "axref": "x2",
          "ay": 0.35396498441696167,
          "ayref": "y2",
          "showarrow": true,
          "text": "",
          "x": 0.42051059007644653,
          "xref": "x2",
          "y": 0.2760048806667328,
          "yref": "y2"
         },
         {
          "arrowcolor": "green",
          "arrowhead": 3,
          "arrowwidth": 1.5,
          "ax": 0.42051059007644653,
          "axref": "x2",
          "ay": 0.2760048806667328,
          "ayref": "y2",
          "showarrow": true,
          "text": "",
          "x": 0.38395610451698303,
          "xref": "x2",
          "y": 0.16425243020057678,
          "yref": "y2"
         },
         {
          "arrowcolor": "green",
          "arrowhead": 3,
          "arrowwidth": 1.5,
          "ax": 0.38395610451698303,
          "axref": "x2",
          "ay": 0.16425243020057678,
          "ayref": "y2",
          "showarrow": true,
          "text": "",
          "x": 0.40661802887916565,
          "xref": "x2",
          "y": 0.12193044275045395,
          "yref": "y2"
         },
         {
          "arrowcolor": "green",
          "arrowhead": 3,
          "arrowwidth": 1.5,
          "ax": 0.40661802887916565,
          "axref": "x2",
          "ay": 0.12193044275045395,
          "ayref": "y2",
          "showarrow": true,
          "text": "",
          "x": 0.6486016511917114,
          "xref": "x2",
          "y": 0.1963220238685608,
          "yref": "y2"
         },
         {
          "arrowcolor": "green",
          "arrowhead": 3,
          "arrowwidth": 1.5,
          "ax": 0.6486016511917114,
          "axref": "x2",
          "ay": 0.1963220238685608,
          "ayref": "y2",
          "showarrow": true,
          "text": "",
          "x": 0.6834599375724792,
          "xref": "x2",
          "y": 0.345065176486969,
          "yref": "y2"
         }
        ],
        "showlegend": false,
        "template": {
         "data": {
          "bar": [
           {
            "error_x": {
             "color": "#2a3f5f"
            },
            "error_y": {
             "color": "#2a3f5f"
            },
            "marker": {
             "line": {
              "color": "#E5ECF6",
              "width": 0.5
             },
             "pattern": {
              "fillmode": "overlay",
              "size": 10,
              "solidity": 0.2
             }
            },
            "type": "bar"
           }
          ],
          "barpolar": [
           {
            "marker": {
             "line": {
              "color": "#E5ECF6",
              "width": 0.5
             },
             "pattern": {
              "fillmode": "overlay",
              "size": 10,
              "solidity": 0.2
             }
            },
            "type": "barpolar"
           }
          ],
          "carpet": [
           {
            "aaxis": {
             "endlinecolor": "#2a3f5f",
             "gridcolor": "white",
             "linecolor": "white",
             "minorgridcolor": "white",
             "startlinecolor": "#2a3f5f"
            },
            "baxis": {
             "endlinecolor": "#2a3f5f",
             "gridcolor": "white",
             "linecolor": "white",
             "minorgridcolor": "white",
             "startlinecolor": "#2a3f5f"
            },
            "type": "carpet"
           }
          ],
          "choropleth": [
           {
            "colorbar": {
             "outlinewidth": 0,
             "ticks": ""
            },
            "type": "choropleth"
           }
          ],
          "contour": [
           {
            "colorbar": {
             "outlinewidth": 0,
             "ticks": ""
            },
            "colorscale": [
             [
              0,
              "#0d0887"
             ],
             [
              0.1111111111111111,
              "#46039f"
             ],
             [
              0.2222222222222222,
              "#7201a8"
             ],
             [
              0.3333333333333333,
              "#9c179e"
             ],
             [
              0.4444444444444444,
              "#bd3786"
             ],
             [
              0.5555555555555556,
              "#d8576b"
             ],
             [
              0.6666666666666666,
              "#ed7953"
             ],
             [
              0.7777777777777778,
              "#fb9f3a"
             ],
             [
              0.8888888888888888,
              "#fdca26"
             ],
             [
              1,
              "#f0f921"
             ]
            ],
            "type": "contour"
           }
          ],
          "contourcarpet": [
           {
            "colorbar": {
             "outlinewidth": 0,
             "ticks": ""
            },
            "type": "contourcarpet"
           }
          ],
          "heatmap": [
           {
            "colorbar": {
             "outlinewidth": 0,
             "ticks": ""
            },
            "colorscale": [
             [
              0,
              "#0d0887"
             ],
             [
              0.1111111111111111,
              "#46039f"
             ],
             [
              0.2222222222222222,
              "#7201a8"
             ],
             [
              0.3333333333333333,
              "#9c179e"
             ],
             [
              0.4444444444444444,
              "#bd3786"
             ],
             [
              0.5555555555555556,
              "#d8576b"
             ],
             [
              0.6666666666666666,
              "#ed7953"
             ],
             [
              0.7777777777777778,
              "#fb9f3a"
             ],
             [
              0.8888888888888888,
              "#fdca26"
             ],
             [
              1,
              "#f0f921"
             ]
            ],
            "type": "heatmap"
           }
          ],
          "heatmapgl": [
           {
            "colorbar": {
             "outlinewidth": 0,
             "ticks": ""
            },
            "colorscale": [
             [
              0,
              "#0d0887"
             ],
             [
              0.1111111111111111,
              "#46039f"
             ],
             [
              0.2222222222222222,
              "#7201a8"
             ],
             [
              0.3333333333333333,
              "#9c179e"
             ],
             [
              0.4444444444444444,
              "#bd3786"
             ],
             [
              0.5555555555555556,
              "#d8576b"
             ],
             [
              0.6666666666666666,
              "#ed7953"
             ],
             [
              0.7777777777777778,
              "#fb9f3a"
             ],
             [
              0.8888888888888888,
              "#fdca26"
             ],
             [
              1,
              "#f0f921"
             ]
            ],
            "type": "heatmapgl"
           }
          ],
          "histogram": [
           {
            "marker": {
             "pattern": {
              "fillmode": "overlay",
              "size": 10,
              "solidity": 0.2
             }
            },
            "type": "histogram"
           }
          ],
          "histogram2d": [
           {
            "colorbar": {
             "outlinewidth": 0,
             "ticks": ""
            },
            "colorscale": [
             [
              0,
              "#0d0887"
             ],
             [
              0.1111111111111111,
              "#46039f"
             ],
             [
              0.2222222222222222,
              "#7201a8"
             ],
             [
              0.3333333333333333,
              "#9c179e"
             ],
             [
              0.4444444444444444,
              "#bd3786"
             ],
             [
              0.5555555555555556,
              "#d8576b"
             ],
             [
              0.6666666666666666,
              "#ed7953"
             ],
             [
              0.7777777777777778,
              "#fb9f3a"
             ],
             [
              0.8888888888888888,
              "#fdca26"
             ],
             [
              1,
              "#f0f921"
             ]
            ],
            "type": "histogram2d"
           }
          ],
          "histogram2dcontour": [
           {
            "colorbar": {
             "outlinewidth": 0,
             "ticks": ""
            },
            "colorscale": [
             [
              0,
              "#0d0887"
             ],
             [
              0.1111111111111111,
              "#46039f"
             ],
             [
              0.2222222222222222,
              "#7201a8"
             ],
             [
              0.3333333333333333,
              "#9c179e"
             ],
             [
              0.4444444444444444,
              "#bd3786"
             ],
             [
              0.5555555555555556,
              "#d8576b"
             ],
             [
              0.6666666666666666,
              "#ed7953"
             ],
             [
              0.7777777777777778,
              "#fb9f3a"
             ],
             [
              0.8888888888888888,
              "#fdca26"
             ],
             [
              1,
              "#f0f921"
             ]
            ],
            "type": "histogram2dcontour"
           }
          ],
          "mesh3d": [
           {
            "colorbar": {
             "outlinewidth": 0,
             "ticks": ""
            },
            "type": "mesh3d"
           }
          ],
          "parcoords": [
           {
            "line": {
             "colorbar": {
              "outlinewidth": 0,
              "ticks": ""
             }
            },
            "type": "parcoords"
           }
          ],
          "pie": [
           {
            "automargin": true,
            "type": "pie"
           }
          ],
          "scatter": [
           {
            "fillpattern": {
             "fillmode": "overlay",
             "size": 10,
             "solidity": 0.2
            },
            "type": "scatter"
           }
          ],
          "scatter3d": [
           {
            "line": {
             "colorbar": {
              "outlinewidth": 0,
              "ticks": ""
             }
            },
            "marker": {
             "colorbar": {
              "outlinewidth": 0,
              "ticks": ""
             }
            },
            "type": "scatter3d"
           }
          ],
          "scattercarpet": [
           {
            "marker": {
             "colorbar": {
              "outlinewidth": 0,
              "ticks": ""
             }
            },
            "type": "scattercarpet"
           }
          ],
          "scattergeo": [
           {
            "marker": {
             "colorbar": {
              "outlinewidth": 0,
              "ticks": ""
             }
            },
            "type": "scattergeo"
           }
          ],
          "scattergl": [
           {
            "marker": {
             "colorbar": {
              "outlinewidth": 0,
              "ticks": ""
             }
            },
            "type": "scattergl"
           }
          ],
          "scattermapbox": [
           {
            "marker": {
             "colorbar": {
              "outlinewidth": 0,
              "ticks": ""
             }
            },
            "type": "scattermapbox"
           }
          ],
          "scatterpolar": [
           {
            "marker": {
             "colorbar": {
              "outlinewidth": 0,
              "ticks": ""
             }
            },
            "type": "scatterpolar"
           }
          ],
          "scatterpolargl": [
           {
            "marker": {
             "colorbar": {
              "outlinewidth": 0,
              "ticks": ""
             }
            },
            "type": "scatterpolargl"
           }
          ],
          "scatterternary": [
           {
            "marker": {
             "colorbar": {
              "outlinewidth": 0,
              "ticks": ""
             }
            },
            "type": "scatterternary"
           }
          ],
          "surface": [
           {
            "colorbar": {
             "outlinewidth": 0,
             "ticks": ""
            },
            "colorscale": [
             [
              0,
              "#0d0887"
             ],
             [
              0.1111111111111111,
              "#46039f"
             ],
             [
              0.2222222222222222,
              "#7201a8"
             ],
             [
              0.3333333333333333,
              "#9c179e"
             ],
             [
              0.4444444444444444,
              "#bd3786"
             ],
             [
              0.5555555555555556,
              "#d8576b"
             ],
             [
              0.6666666666666666,
              "#ed7953"
             ],
             [
              0.7777777777777778,
              "#fb9f3a"
             ],
             [
              0.8888888888888888,
              "#fdca26"
             ],
             [
              1,
              "#f0f921"
             ]
            ],
            "type": "surface"
           }
          ],
          "table": [
           {
            "cells": {
             "fill": {
              "color": "#EBF0F8"
             },
             "line": {
              "color": "white"
             }
            },
            "header": {
             "fill": {
              "color": "#C8D4E3"
             },
             "line": {
              "color": "white"
             }
            },
            "type": "table"
           }
          ]
         },
         "layout": {
          "annotationdefaults": {
           "arrowcolor": "#2a3f5f",
           "arrowhead": 0,
           "arrowwidth": 1
          },
          "autotypenumbers": "strict",
          "coloraxis": {
           "colorbar": {
            "outlinewidth": 0,
            "ticks": ""
           }
          },
          "colorscale": {
           "diverging": [
            [
             0,
             "#8e0152"
            ],
            [
             0.1,
             "#c51b7d"
            ],
            [
             0.2,
             "#de77ae"
            ],
            [
             0.3,
             "#f1b6da"
            ],
            [
             0.4,
             "#fde0ef"
            ],
            [
             0.5,
             "#f7f7f7"
            ],
            [
             0.6,
             "#e6f5d0"
            ],
            [
             0.7,
             "#b8e186"
            ],
            [
             0.8,
             "#7fbc41"
            ],
            [
             0.9,
             "#4d9221"
            ],
            [
             1,
             "#276419"
            ]
           ],
           "sequential": [
            [
             0,
             "#0d0887"
            ],
            [
             0.1111111111111111,
             "#46039f"
            ],
            [
             0.2222222222222222,
             "#7201a8"
            ],
            [
             0.3333333333333333,
             "#9c179e"
            ],
            [
             0.4444444444444444,
             "#bd3786"
            ],
            [
             0.5555555555555556,
             "#d8576b"
            ],
            [
             0.6666666666666666,
             "#ed7953"
            ],
            [
             0.7777777777777778,
             "#fb9f3a"
            ],
            [
             0.8888888888888888,
             "#fdca26"
            ],
            [
             1,
             "#f0f921"
            ]
           ],
           "sequentialminus": [
            [
             0,
             "#0d0887"
            ],
            [
             0.1111111111111111,
             "#46039f"
            ],
            [
             0.2222222222222222,
             "#7201a8"
            ],
            [
             0.3333333333333333,
             "#9c179e"
            ],
            [
             0.4444444444444444,
             "#bd3786"
            ],
            [
             0.5555555555555556,
             "#d8576b"
            ],
            [
             0.6666666666666666,
             "#ed7953"
            ],
            [
             0.7777777777777778,
             "#fb9f3a"
            ],
            [
             0.8888888888888888,
             "#fdca26"
            ],
            [
             1,
             "#f0f921"
            ]
           ]
          },
          "colorway": [
           "#636efa",
           "#EF553B",
           "#00cc96",
           "#ab63fa",
           "#FFA15A",
           "#19d3f3",
           "#FF6692",
           "#B6E880",
           "#FF97FF",
           "#FECB52"
          ],
          "font": {
           "color": "#2a3f5f"
          },
          "geo": {
           "bgcolor": "white",
           "lakecolor": "white",
           "landcolor": "#E5ECF6",
           "showlakes": true,
           "showland": true,
           "subunitcolor": "white"
          },
          "hoverlabel": {
           "align": "left"
          },
          "hovermode": "closest",
          "mapbox": {
           "style": "light"
          },
          "paper_bgcolor": "white",
          "plot_bgcolor": "#E5ECF6",
          "polar": {
           "angularaxis": {
            "gridcolor": "white",
            "linecolor": "white",
            "ticks": ""
           },
           "bgcolor": "#E5ECF6",
           "radialaxis": {
            "gridcolor": "white",
            "linecolor": "white",
            "ticks": ""
           }
          },
          "scene": {
           "xaxis": {
            "backgroundcolor": "#E5ECF6",
            "gridcolor": "white",
            "gridwidth": 2,
            "linecolor": "white",
            "showbackground": true,
            "ticks": "",
            "zerolinecolor": "white"
           },
           "yaxis": {
            "backgroundcolor": "#E5ECF6",
            "gridcolor": "white",
            "gridwidth": 2,
            "linecolor": "white",
            "showbackground": true,
            "ticks": "",
            "zerolinecolor": "white"
           },
           "zaxis": {
            "backgroundcolor": "#E5ECF6",
            "gridcolor": "white",
            "gridwidth": 2,
            "linecolor": "white",
            "showbackground": true,
            "ticks": "",
            "zerolinecolor": "white"
           }
          },
          "shapedefaults": {
           "line": {
            "color": "#2a3f5f"
           }
          },
          "ternary": {
           "aaxis": {
            "gridcolor": "white",
            "linecolor": "white",
            "ticks": ""
           },
           "baxis": {
            "gridcolor": "white",
            "linecolor": "white",
            "ticks": ""
           },
           "bgcolor": "#E5ECF6",
           "caxis": {
            "gridcolor": "white",
            "linecolor": "white",
            "ticks": ""
           }
          },
          "title": {
           "x": 0.05
          },
          "xaxis": {
           "automargin": true,
           "gridcolor": "white",
           "linecolor": "white",
           "ticks": "",
           "title": {
            "standoff": 15
           },
           "zerolinecolor": "white",
           "zerolinewidth": 2
          },
          "yaxis": {
           "automargin": true,
           "gridcolor": "white",
           "linecolor": "white",
           "ticks": "",
           "title": {
            "standoff": 15
           },
           "zerolinecolor": "white",
           "zerolinewidth": 2
          }
         }
        },
        "xaxis": {
         "anchor": "y",
         "domain": [
          0,
          0.45
         ],
         "visible": false
        },
        "xaxis2": {
         "anchor": "y2",
         "domain": [
          0.55,
          1
         ],
         "visible": false
        },
        "yaxis": {
         "anchor": "x",
         "domain": [
          0,
          1
         ],
         "visible": false
        },
        "yaxis2": {
         "anchor": "x2",
         "domain": [
          0,
          1
         ],
         "visible": false
        }
       }
      }
     },
     "metadata": {},
     "output_type": "display_data"
    },
    {
     "data": {
      "application/vnd.plotly.v1+json": {
       "config": {
        "plotlyServerURL": "https://plot.ly"
       },
       "data": [
        {
         "marker": {
          "color": "red"
         },
         "mode": "markers",
         "type": "scatter",
         "x": [
          0.05277976393699646,
          0.32484304904937744,
          0.9872387647628784,
          0.01894266903400421,
          0.0002857126237358898,
          0.9352923631668091,
          0.978553295135498,
          0.10330256819725037,
          0.24111229181289673,
          0.865112841129303,
          0.7572671175003052,
          0.09492204338312149,
          0.7172499895095825,
          0.5442544221878052,
          0.9000294804573059,
          0.03821758180856705,
          0.8540902137756348,
          0.9629473686218262,
          0.08632779121398926,
          0.13453765213489532,
          0.881788969039917,
          0.03799702599644661,
          0.5997981429100037,
          0.7187038064002991,
          0.4102555513381958,
          0.8774026036262512,
          0.433698832988739,
          0.15058337152004242,
          0.40577080845832825,
          0.2107856124639511,
          0.18530724942684174,
          1,
          0.6706523299217224,
          0.791206955909729,
          0.447518914937973,
          0.13118545711040497,
          0.009526968002319336,
          0.19557176530361176,
          0.46582919359207153,
          0.09877165406942368,
          0.004696921445429325,
          0.9335507750511169,
          0.14345091581344604,
          0.7399537563323975,
          0.9563002586364746,
          0.9031527638435364,
          0.32063305377960205,
          0.35349878668785095,
          0.5006998777389526,
          0.6212796568870544
         ],
         "xaxis": "x",
         "y": [
          0.2254626750946045,
          0.26238447427749634,
          0.6833325028419495,
          0.27876028418540955,
          0.8090694546699524,
          0.40265727043151855,
          0.5114445090293884,
          0.3430252969264984,
          0.19105298817157745,
          0.5339893698692322,
          0.2034148871898651,
          0.45841357111930847,
          0.9242377877235413,
          0.3150373101234436,
          0.043749090284109116,
          0.11494052410125732,
          0.6348611116409302,
          0.8861444592475891,
          0.24488544464111328,
          0.6586920619010925,
          0.18683326244354248,
          0.6429955363273621,
          0.10234897583723068,
          0.21251320838928223,
          0.7146589756011963,
          0.6030949950218201,
          0.7113452553749084,
          0.5512406229972839,
          1,
          0.6645422577857971,
          0.8717969059944153,
          0.5264604091644287,
          0.3392481505870819,
          0.7485570311546326,
          0.9252374768257141,
          0.17341981828212738,
          0.11863269656896591,
          0.8746122121810913,
          0.3584369719028473,
          0.3012547791004181,
          0.38130828738212585,
          0.700219988822937,
          0.12355110794305801,
          0.19938437640666962,
          0.3472433388233185,
          0.29763397574424744,
          0.8225392699241638,
          0.09700127691030502,
          0.6100059151649475,
          0.417582631111145
         ],
         "yaxis": "y"
        },
        {
         "marker": {
          "color": "red"
         },
         "mode": "markers",
         "type": "scatter",
         "x": [
          0.05277976393699646,
          0.32484304904937744,
          0.9872387647628784,
          0.01894266903400421,
          0.0002857126237358898,
          0.9352923631668091,
          0.978553295135498,
          0.10330256819725037,
          0.24111229181289673,
          0.865112841129303,
          0.7572671175003052,
          0.09492204338312149,
          0.7172499895095825,
          0.5442544221878052,
          0.9000294804573059,
          0.03821758180856705,
          0.8540902137756348,
          0.9629473686218262,
          0.08632779121398926,
          0.13453765213489532,
          0.881788969039917,
          0.03799702599644661,
          0.5997981429100037,
          0.7187038064002991,
          0.4102555513381958,
          0.8774026036262512,
          0.433698832988739,
          0.15058337152004242,
          0.40577080845832825,
          0.2107856124639511,
          0.18530724942684174,
          1,
          0.6706523299217224,
          0.791206955909729,
          0.447518914937973,
          0.13118545711040497,
          0.009526968002319336,
          0.19557176530361176,
          0.46582919359207153,
          0.09877165406942368,
          0.004696921445429325,
          0.9335507750511169,
          0.14345091581344604,
          0.7399537563323975,
          0.9563002586364746,
          0.9031527638435364,
          0.32063305377960205,
          0.35349878668785095,
          0.5006998777389526,
          0.6212796568870544
         ],
         "xaxis": "x2",
         "y": [
          0.2254626750946045,
          0.26238447427749634,
          0.6833325028419495,
          0.27876028418540955,
          0.8090694546699524,
          0.40265727043151855,
          0.5114445090293884,
          0.3430252969264984,
          0.19105298817157745,
          0.5339893698692322,
          0.2034148871898651,
          0.45841357111930847,
          0.9242377877235413,
          0.3150373101234436,
          0.043749090284109116,
          0.11494052410125732,
          0.6348611116409302,
          0.8861444592475891,
          0.24488544464111328,
          0.6586920619010925,
          0.18683326244354248,
          0.6429955363273621,
          0.10234897583723068,
          0.21251320838928223,
          0.7146589756011963,
          0.6030949950218201,
          0.7113452553749084,
          0.5512406229972839,
          1,
          0.6645422577857971,
          0.8717969059944153,
          0.5264604091644287,
          0.3392481505870819,
          0.7485570311546326,
          0.9252374768257141,
          0.17341981828212738,
          0.11863269656896591,
          0.8746122121810913,
          0.3584369719028473,
          0.3012547791004181,
          0.38130828738212585,
          0.700219988822937,
          0.12355110794305801,
          0.19938437640666962,
          0.3472433388233185,
          0.29763397574424744,
          0.8225392699241638,
          0.09700127691030502,
          0.6100059151649475,
          0.417582631111145
         ],
         "yaxis": "y2"
        }
       ],
       "layout": {
        "annotations": [
         {
          "font": {
           "size": 16
          },
          "showarrow": false,
          "text": "Christofides",
          "x": 0.225,
          "xanchor": "center",
          "xref": "paper",
          "y": 1,
          "yanchor": "bottom",
          "yref": "paper"
         },
         {
          "font": {
           "size": 16
          },
          "showarrow": false,
          "text": "Ours",
          "x": 0.775,
          "xanchor": "center",
          "xref": "paper",
          "y": 1,
          "yanchor": "bottom",
          "yref": "paper"
         },
         {
          "arrowcolor": "blue",
          "arrowhead": 3,
          "arrowwidth": 1.5,
          "ax": 0.05277976393699646,
          "axref": "x",
          "ay": 0.2254626750946045,
          "ayref": "y",
          "showarrow": true,
          "text": "",
          "x": 0.01894266903400421,
          "xref": "x",
          "y": 0.27876028418540955,
          "yref": "y"
         },
         {
          "arrowcolor": "blue",
          "arrowhead": 3,
          "arrowwidth": 1.5,
          "ax": 0.01894266903400421,
          "axref": "x",
          "ay": 0.27876028418540955,
          "ayref": "y",
          "showarrow": true,
          "text": "",
          "x": 0.004696921445429325,
          "xref": "x",
          "y": 0.38130828738212585,
          "yref": "y"
         },
         {
          "arrowcolor": "blue",
          "arrowhead": 3,
          "arrowwidth": 1.5,
          "ax": 0.004696921445429325,
          "axref": "x",
          "ay": 0.38130828738212585,
          "ayref": "y",
          "showarrow": true,
          "text": "",
          "x": 0.08632779121398926,
          "xref": "x",
          "y": 0.24488544464111328,
          "yref": "y"
         },
         {
          "arrowcolor": "blue",
          "arrowhead": 3,
          "arrowwidth": 1.5,
          "ax": 0.08632779121398926,
          "axref": "x",
          "ay": 0.24488544464111328,
          "ayref": "y",
          "showarrow": true,
          "text": "",
          "x": 0.13118545711040497,
          "xref": "x",
          "y": 0.17341981828212738,
          "yref": "y"
         },
         {
          "arrowcolor": "blue",
          "arrowhead": 3,
          "arrowwidth": 1.5,
          "ax": 0.13118545711040497,
          "axref": "x",
          "ay": 0.17341981828212738,
          "ayref": "y",
          "showarrow": true,
          "text": "",
          "x": 0.009526968002319336,
          "xref": "x",
          "y": 0.11863269656896591,
          "yref": "y"
         },
         {
          "arrowcolor": "blue",
          "arrowhead": 3,
          "arrowwidth": 1.5,
          "ax": 0.009526968002319336,
          "axref": "x",
          "ay": 0.11863269656896591,
          "ayref": "y",
          "showarrow": true,
          "text": "",
          "x": 0.03821758180856705,
          "xref": "x",
          "y": 0.11494052410125732,
          "yref": "y"
         },
         {
          "arrowcolor": "blue",
          "arrowhead": 3,
          "arrowwidth": 1.5,
          "ax": 0.03821758180856705,
          "axref": "x",
          "ay": 0.11494052410125732,
          "ayref": "y",
          "showarrow": true,
          "text": "",
          "x": 0.14345091581344604,
          "xref": "x",
          "y": 0.12355110794305801,
          "yref": "y"
         },
         {
          "arrowcolor": "blue",
          "arrowhead": 3,
          "arrowwidth": 1.5,
          "ax": 0.14345091581344604,
          "axref": "x",
          "ay": 0.12355110794305801,
          "ayref": "y",
          "showarrow": true,
          "text": "",
          "x": 0.24111229181289673,
          "xref": "x",
          "y": 0.19105298817157745,
          "yref": "y"
         },
         {
          "arrowcolor": "blue",
          "arrowhead": 3,
          "arrowwidth": 1.5,
          "ax": 0.24111229181289673,
          "axref": "x",
          "ay": 0.19105298817157745,
          "ayref": "y",
          "showarrow": true,
          "text": "",
          "x": 0.35349878668785095,
          "xref": "x",
          "y": 0.09700127691030502,
          "yref": "y"
         },
         {
          "arrowcolor": "blue",
          "arrowhead": 3,
          "arrowwidth": 1.5,
          "ax": 0.35349878668785095,
          "axref": "x",
          "ay": 0.09700127691030502,
          "ayref": "y",
          "showarrow": true,
          "text": "",
          "x": 0.32484304904937744,
          "xref": "x",
          "y": 0.26238447427749634,
          "yref": "y"
         },
         {
          "arrowcolor": "blue",
          "arrowhead": 3,
          "arrowwidth": 1.5,
          "ax": 0.32484304904937744,
          "axref": "x",
          "ay": 0.26238447427749634,
          "ayref": "y",
          "showarrow": true,
          "text": "",
          "x": 0.46582919359207153,
          "xref": "x",
          "y": 0.3584369719028473,
          "yref": "y"
         },
         {
          "arrowcolor": "blue",
          "arrowhead": 3,
          "arrowwidth": 1.5,
          "ax": 0.46582919359207153,
          "axref": "x",
          "ay": 0.3584369719028473,
          "ayref": "y",
          "showarrow": true,
          "text": "",
          "x": 0.5442544221878052,
          "xref": "x",
          "y": 0.3150373101234436,
          "yref": "y"
         },
         {
          "arrowcolor": "blue",
          "arrowhead": 3,
          "arrowwidth": 1.5,
          "ax": 0.5442544221878052,
          "axref": "x",
          "ay": 0.3150373101234436,
          "ayref": "y",
          "showarrow": true,
          "text": "",
          "x": 0.6212796568870544,
          "xref": "x",
          "y": 0.417582631111145,
          "yref": "y"
         },
         {
          "arrowcolor": "blue",
          "arrowhead": 3,
          "arrowwidth": 1.5,
          "ax": 0.6212796568870544,
          "axref": "x",
          "ay": 0.417582631111145,
          "ayref": "y",
          "showarrow": true,
          "text": "",
          "x": 0.6706523299217224,
          "xref": "x",
          "y": 0.3392481505870819,
          "yref": "y"
         },
         {
          "arrowcolor": "blue",
          "arrowhead": 3,
          "arrowwidth": 1.5,
          "ax": 0.6706523299217224,
          "axref": "x",
          "ay": 0.3392481505870819,
          "ayref": "y",
          "showarrow": true,
          "text": "",
          "x": 0.7187038064002991,
          "xref": "x",
          "y": 0.21251320838928223,
          "yref": "y"
         },
         {
          "arrowcolor": "blue",
          "arrowhead": 3,
          "arrowwidth": 1.5,
          "ax": 0.7187038064002991,
          "axref": "x",
          "ay": 0.21251320838928223,
          "ayref": "y",
          "showarrow": true,
          "text": "",
          "x": 0.5997981429100037,
          "xref": "x",
          "y": 0.10234897583723068,
          "yref": "y"
         },
         {
          "arrowcolor": "blue",
          "arrowhead": 3,
          "arrowwidth": 1.5,
          "ax": 0.5997981429100037,
          "axref": "x",
          "ay": 0.10234897583723068,
          "ayref": "y",
          "showarrow": true,
          "text": "",
          "x": 0.7399537563323975,
          "xref": "x",
          "y": 0.19938437640666962,
          "yref": "y"
         },
         {
          "arrowcolor": "blue",
          "arrowhead": 3,
          "arrowwidth": 1.5,
          "ax": 0.7399537563323975,
          "axref": "x",
          "ay": 0.19938437640666962,
          "ayref": "y",
          "showarrow": true,
          "text": "",
          "x": 0.7572671175003052,
          "xref": "x",
          "y": 0.2034148871898651,
          "yref": "y"
         },
         {
          "arrowcolor": "blue",
          "arrowhead": 3,
          "arrowwidth": 1.5,
          "ax": 0.7572671175003052,
          "axref": "x",
          "ay": 0.2034148871898651,
          "ayref": "y",
          "showarrow": true,
          "text": "",
          "x": 0.881788969039917,
          "xref": "x",
          "y": 0.18683326244354248,
          "yref": "y"
         },
         {
          "arrowcolor": "blue",
          "arrowhead": 3,
          "arrowwidth": 1.5,
          "ax": 0.881788969039917,
          "axref": "x",
          "ay": 0.18683326244354248,
          "ayref": "y",
          "showarrow": true,
          "text": "",
          "x": 0.9000294804573059,
          "xref": "x",
          "y": 0.043749090284109116,
          "yref": "y"
         },
         {
          "arrowcolor": "blue",
          "arrowhead": 3,
          "arrowwidth": 1.5,
          "ax": 0.9000294804573059,
          "axref": "x",
          "ay": 0.043749090284109116,
          "ayref": "y",
          "showarrow": true,
          "text": "",
          "x": 0.9031527638435364,
          "xref": "x",
          "y": 0.29763397574424744,
          "yref": "y"
         },
         {
          "arrowcolor": "blue",
          "arrowhead": 3,
          "arrowwidth": 1.5,
          "ax": 0.9031527638435364,
          "axref": "x",
          "ay": 0.29763397574424744,
          "ayref": "y",
          "showarrow": true,
          "text": "",
          "x": 0.9563002586364746,
          "xref": "x",
          "y": 0.3472433388233185,
          "yref": "y"
         },
         {
          "arrowcolor": "blue",
          "arrowhead": 3,
          "arrowwidth": 1.5,
          "ax": 0.9563002586364746,
          "axref": "x",
          "ay": 0.3472433388233185,
          "ayref": "y",
          "showarrow": true,
          "text": "",
          "x": 0.9352923631668091,
          "xref": "x",
          "y": 0.40265727043151855,
          "yref": "y"
         },
         {
          "arrowcolor": "blue",
          "arrowhead": 3,
          "arrowwidth": 1.5,
          "ax": 0.9352923631668091,
          "axref": "x",
          "ay": 0.40265727043151855,
          "ayref": "y",
          "showarrow": true,
          "text": "",
          "x": 0.978553295135498,
          "xref": "x",
          "y": 0.5114445090293884,
          "yref": "y"
         },
         {
          "arrowcolor": "blue",
          "arrowhead": 3,
          "arrowwidth": 1.5,
          "ax": 0.978553295135498,
          "axref": "x",
          "ay": 0.5114445090293884,
          "ayref": "y",
          "showarrow": true,
          "text": "",
          "x": 1,
          "xref": "x",
          "y": 0.5264604091644287,
          "yref": "y"
         },
         {
          "arrowcolor": "blue",
          "arrowhead": 3,
          "arrowwidth": 1.5,
          "ax": 1,
          "axref": "x",
          "ay": 0.5264604091644287,
          "ayref": "y",
          "showarrow": true,
          "text": "",
          "x": 0.865112841129303,
          "xref": "x",
          "y": 0.5339893698692322,
          "yref": "y"
         },
         {
          "arrowcolor": "blue",
          "arrowhead": 3,
          "arrowwidth": 1.5,
          "ax": 0.865112841129303,
          "axref": "x",
          "ay": 0.5339893698692322,
          "ayref": "y",
          "showarrow": true,
          "text": "",
          "x": 0.8774026036262512,
          "xref": "x",
          "y": 0.6030949950218201,
          "yref": "y"
         },
         {
          "arrowcolor": "blue",
          "arrowhead": 3,
          "arrowwidth": 1.5,
          "ax": 0.8774026036262512,
          "axref": "x",
          "ay": 0.6030949950218201,
          "ayref": "y",
          "showarrow": true,
          "text": "",
          "x": 0.8540902137756348,
          "xref": "x",
          "y": 0.6348611116409302,
          "yref": "y"
         },
         {
          "arrowcolor": "blue",
          "arrowhead": 3,
          "arrowwidth": 1.5,
          "ax": 0.8540902137756348,
          "axref": "x",
          "ay": 0.6348611116409302,
          "ayref": "y",
          "showarrow": true,
          "text": "",
          "x": 0.791206955909729,
          "xref": "x",
          "y": 0.7485570311546326,
          "yref": "y"
         },
         {
          "arrowcolor": "blue",
          "arrowhead": 3,
          "arrowwidth": 1.5,
          "ax": 0.791206955909729,
          "axref": "x",
          "ay": 0.7485570311546326,
          "ayref": "y",
          "showarrow": true,
          "text": "",
          "x": 0.7172499895095825,
          "xref": "x",
          "y": 0.9242377877235413,
          "yref": "y"
         },
         {
          "arrowcolor": "blue",
          "arrowhead": 3,
          "arrowwidth": 1.5,
          "ax": 0.7172499895095825,
          "axref": "x",
          "ay": 0.9242377877235413,
          "ayref": "y",
          "showarrow": true,
          "text": "",
          "x": 0.9629473686218262,
          "xref": "x",
          "y": 0.8861444592475891,
          "yref": "y"
         },
         {
          "arrowcolor": "blue",
          "arrowhead": 3,
          "arrowwidth": 1.5,
          "ax": 0.9629473686218262,
          "axref": "x",
          "ay": 0.8861444592475891,
          "ayref": "y",
          "showarrow": true,
          "text": "",
          "x": 0.9335507750511169,
          "xref": "x",
          "y": 0.700219988822937,
          "yref": "y"
         },
         {
          "arrowcolor": "blue",
          "arrowhead": 3,
          "arrowwidth": 1.5,
          "ax": 0.9335507750511169,
          "axref": "x",
          "ay": 0.700219988822937,
          "ayref": "y",
          "showarrow": true,
          "text": "",
          "x": 0.9872387647628784,
          "xref": "x",
          "y": 0.6833325028419495,
          "yref": "y"
         },
         {
          "arrowcolor": "blue",
          "arrowhead": 3,
          "arrowwidth": 1.5,
          "ax": 0.9872387647628784,
          "axref": "x",
          "ay": 0.6833325028419495,
          "ayref": "y",
          "showarrow": true,
          "text": "",
          "x": 0.5006998777389526,
          "xref": "x",
          "y": 0.6100059151649475,
          "yref": "y"
         },
         {
          "arrowcolor": "blue",
          "arrowhead": 3,
          "arrowwidth": 1.5,
          "ax": 0.5006998777389526,
          "axref": "x",
          "ay": 0.6100059151649475,
          "ayref": "y",
          "showarrow": true,
          "text": "",
          "x": 0.433698832988739,
          "xref": "x",
          "y": 0.7113452553749084,
          "yref": "y"
         },
         {
          "arrowcolor": "blue",
          "arrowhead": 3,
          "arrowwidth": 1.5,
          "ax": 0.433698832988739,
          "axref": "x",
          "ay": 0.7113452553749084,
          "ayref": "y",
          "showarrow": true,
          "text": "",
          "x": 0.4102555513381958,
          "xref": "x",
          "y": 0.7146589756011963,
          "yref": "y"
         },
         {
          "arrowcolor": "blue",
          "arrowhead": 3,
          "arrowwidth": 1.5,
          "ax": 0.4102555513381958,
          "axref": "x",
          "ay": 0.7146589756011963,
          "ayref": "y",
          "showarrow": true,
          "text": "",
          "x": 0.32063305377960205,
          "xref": "x",
          "y": 0.8225392699241638,
          "yref": "y"
         },
         {
          "arrowcolor": "blue",
          "arrowhead": 3,
          "arrowwidth": 1.5,
          "ax": 0.32063305377960205,
          "axref": "x",
          "ay": 0.8225392699241638,
          "ayref": "y",
          "showarrow": true,
          "text": "",
          "x": 0.19557176530361176,
          "xref": "x",
          "y": 0.8746122121810913,
          "yref": "y"
         },
         {
          "arrowcolor": "blue",
          "arrowhead": 3,
          "arrowwidth": 1.5,
          "ax": 0.19557176530361176,
          "axref": "x",
          "ay": 0.8746122121810913,
          "ayref": "y",
          "showarrow": true,
          "text": "",
          "x": 0.18530724942684174,
          "xref": "x",
          "y": 0.8717969059944153,
          "yref": "y"
         },
         {
          "arrowcolor": "blue",
          "arrowhead": 3,
          "arrowwidth": 1.5,
          "ax": 0.18530724942684174,
          "axref": "x",
          "ay": 0.8717969059944153,
          "ayref": "y",
          "showarrow": true,
          "text": "",
          "x": 0.40577080845832825,
          "xref": "x",
          "y": 1,
          "yref": "y"
         },
         {
          "arrowcolor": "blue",
          "arrowhead": 3,
          "arrowwidth": 1.5,
          "ax": 0.40577080845832825,
          "axref": "x",
          "ay": 1,
          "ayref": "y",
          "showarrow": true,
          "text": "",
          "x": 0.447518914937973,
          "xref": "x",
          "y": 0.9252374768257141,
          "yref": "y"
         },
         {
          "arrowcolor": "blue",
          "arrowhead": 3,
          "arrowwidth": 1.5,
          "ax": 0.447518914937973,
          "axref": "x",
          "ay": 0.9252374768257141,
          "ayref": "y",
          "showarrow": true,
          "text": "",
          "x": 0.2107856124639511,
          "xref": "x",
          "y": 0.6645422577857971,
          "yref": "y"
         },
         {
          "arrowcolor": "blue",
          "arrowhead": 3,
          "arrowwidth": 1.5,
          "ax": 0.2107856124639511,
          "axref": "x",
          "ay": 0.6645422577857971,
          "ayref": "y",
          "showarrow": true,
          "text": "",
          "x": 0.13453765213489532,
          "xref": "x",
          "y": 0.6586920619010925,
          "yref": "y"
         },
         {
          "arrowcolor": "blue",
          "arrowhead": 3,
          "arrowwidth": 1.5,
          "ax": 0.13453765213489532,
          "axref": "x",
          "ay": 0.6586920619010925,
          "ayref": "y",
          "showarrow": true,
          "text": "",
          "x": 0.03799702599644661,
          "xref": "x",
          "y": 0.6429955363273621,
          "yref": "y"
         },
         {
          "arrowcolor": "blue",
          "arrowhead": 3,
          "arrowwidth": 1.5,
          "ax": 0.03799702599644661,
          "axref": "x",
          "ay": 0.6429955363273621,
          "ayref": "y",
          "showarrow": true,
          "text": "",
          "x": 0.0002857126237358898,
          "xref": "x",
          "y": 0.8090694546699524,
          "yref": "y"
         },
         {
          "arrowcolor": "blue",
          "arrowhead": 3,
          "arrowwidth": 1.5,
          "ax": 0.0002857126237358898,
          "axref": "x",
          "ay": 0.8090694546699524,
          "ayref": "y",
          "showarrow": true,
          "text": "",
          "x": 0.15058337152004242,
          "xref": "x",
          "y": 0.5512406229972839,
          "yref": "y"
         },
         {
          "arrowcolor": "blue",
          "arrowhead": 3,
          "arrowwidth": 1.5,
          "ax": 0.15058337152004242,
          "axref": "x",
          "ay": 0.5512406229972839,
          "ayref": "y",
          "showarrow": true,
          "text": "",
          "x": 0.09492204338312149,
          "xref": "x",
          "y": 0.45841357111930847,
          "yref": "y"
         },
         {
          "arrowcolor": "blue",
          "arrowhead": 3,
          "arrowwidth": 1.5,
          "ax": 0.09492204338312149,
          "axref": "x",
          "ay": 0.45841357111930847,
          "ayref": "y",
          "showarrow": true,
          "text": "",
          "x": 0.10330256819725037,
          "xref": "x",
          "y": 0.3430252969264984,
          "yref": "y"
         },
         {
          "arrowcolor": "blue",
          "arrowhead": 3,
          "arrowwidth": 1.5,
          "ax": 0.10330256819725037,
          "axref": "x",
          "ay": 0.3430252969264984,
          "ayref": "y",
          "showarrow": true,
          "text": "",
          "x": 0.09877165406942368,
          "xref": "x",
          "y": 0.3012547791004181,
          "yref": "y"
         },
         {
          "arrowcolor": "blue",
          "arrowhead": 3,
          "arrowwidth": 1.5,
          "ax": 0.09877165406942368,
          "axref": "x",
          "ay": 0.3012547791004181,
          "ayref": "y",
          "showarrow": true,
          "text": "",
          "x": 0.05277976393699646,
          "xref": "x",
          "y": 0.2254626750946045,
          "yref": "y"
         },
         {
          "arrowcolor": "green",
          "arrowhead": 3,
          "arrowwidth": 1.5,
          "ax": 0.6706523299217224,
          "axref": "x2",
          "ay": 0.3392481505870819,
          "ayref": "y2",
          "showarrow": true,
          "text": "",
          "x": 0.7187038064002991,
          "xref": "x2",
          "y": 0.21251320838928223,
          "yref": "y2"
         },
         {
          "arrowcolor": "green",
          "arrowhead": 3,
          "arrowwidth": 1.5,
          "ax": 0.7187038064002991,
          "axref": "x2",
          "ay": 0.21251320838928223,
          "ayref": "y2",
          "showarrow": true,
          "text": "",
          "x": 0.7399537563323975,
          "xref": "x2",
          "y": 0.19938437640666962,
          "yref": "y2"
         },
         {
          "arrowcolor": "green",
          "arrowhead": 3,
          "arrowwidth": 1.5,
          "ax": 0.7399537563323975,
          "axref": "x2",
          "ay": 0.19938437640666962,
          "ayref": "y2",
          "showarrow": true,
          "text": "",
          "x": 0.7572671175003052,
          "xref": "x2",
          "y": 0.2034148871898651,
          "yref": "y2"
         },
         {
          "arrowcolor": "green",
          "arrowhead": 3,
          "arrowwidth": 1.5,
          "ax": 0.7572671175003052,
          "axref": "x2",
          "ay": 0.2034148871898651,
          "ayref": "y2",
          "showarrow": true,
          "text": "",
          "x": 0.9000294804573059,
          "xref": "x2",
          "y": 0.043749090284109116,
          "yref": "y2"
         },
         {
          "arrowcolor": "green",
          "arrowhead": 3,
          "arrowwidth": 1.5,
          "ax": 0.9000294804573059,
          "axref": "x2",
          "ay": 0.043749090284109116,
          "ayref": "y2",
          "showarrow": true,
          "text": "",
          "x": 0.881788969039917,
          "xref": "x2",
          "y": 0.18683326244354248,
          "yref": "y2"
         },
         {
          "arrowcolor": "green",
          "arrowhead": 3,
          "arrowwidth": 1.5,
          "ax": 0.881788969039917,
          "axref": "x2",
          "ay": 0.18683326244354248,
          "ayref": "y2",
          "showarrow": true,
          "text": "",
          "x": 0.9031527638435364,
          "xref": "x2",
          "y": 0.29763397574424744,
          "yref": "y2"
         },
         {
          "arrowcolor": "green",
          "arrowhead": 3,
          "arrowwidth": 1.5,
          "ax": 0.9031527638435364,
          "axref": "x2",
          "ay": 0.29763397574424744,
          "ayref": "y2",
          "showarrow": true,
          "text": "",
          "x": 0.9563002586364746,
          "xref": "x2",
          "y": 0.3472433388233185,
          "yref": "y2"
         },
         {
          "arrowcolor": "green",
          "arrowhead": 3,
          "arrowwidth": 1.5,
          "ax": 0.9563002586364746,
          "axref": "x2",
          "ay": 0.3472433388233185,
          "ayref": "y2",
          "showarrow": true,
          "text": "",
          "x": 0.9352923631668091,
          "xref": "x2",
          "y": 0.40265727043151855,
          "yref": "y2"
         },
         {
          "arrowcolor": "green",
          "arrowhead": 3,
          "arrowwidth": 1.5,
          "ax": 0.9352923631668091,
          "axref": "x2",
          "ay": 0.40265727043151855,
          "ayref": "y2",
          "showarrow": true,
          "text": "",
          "x": 0.978553295135498,
          "xref": "x2",
          "y": 0.5114445090293884,
          "yref": "y2"
         },
         {
          "arrowcolor": "green",
          "arrowhead": 3,
          "arrowwidth": 1.5,
          "ax": 0.978553295135498,
          "axref": "x2",
          "ay": 0.5114445090293884,
          "ayref": "y2",
          "showarrow": true,
          "text": "",
          "x": 1,
          "xref": "x2",
          "y": 0.5264604091644287,
          "yref": "y2"
         },
         {
          "arrowcolor": "green",
          "arrowhead": 3,
          "arrowwidth": 1.5,
          "ax": 1,
          "axref": "x2",
          "ay": 0.5264604091644287,
          "ayref": "y2",
          "showarrow": true,
          "text": "",
          "x": 0.865112841129303,
          "xref": "x2",
          "y": 0.5339893698692322,
          "yref": "y2"
         },
         {
          "arrowcolor": "green",
          "arrowhead": 3,
          "arrowwidth": 1.5,
          "ax": 0.865112841129303,
          "axref": "x2",
          "ay": 0.5339893698692322,
          "ayref": "y2",
          "showarrow": true,
          "text": "",
          "x": 0.8774026036262512,
          "xref": "x2",
          "y": 0.6030949950218201,
          "yref": "y2"
         },
         {
          "arrowcolor": "green",
          "arrowhead": 3,
          "arrowwidth": 1.5,
          "ax": 0.8774026036262512,
          "axref": "x2",
          "ay": 0.6030949950218201,
          "ayref": "y2",
          "showarrow": true,
          "text": "",
          "x": 0.8540902137756348,
          "xref": "x2",
          "y": 0.6348611116409302,
          "yref": "y2"
         },
         {
          "arrowcolor": "green",
          "arrowhead": 3,
          "arrowwidth": 1.5,
          "ax": 0.8540902137756348,
          "axref": "x2",
          "ay": 0.6348611116409302,
          "ayref": "y2",
          "showarrow": true,
          "text": "",
          "x": 0.9872387647628784,
          "xref": "x2",
          "y": 0.6833325028419495,
          "yref": "y2"
         },
         {
          "arrowcolor": "green",
          "arrowhead": 3,
          "arrowwidth": 1.5,
          "ax": 0.9872387647628784,
          "axref": "x2",
          "ay": 0.6833325028419495,
          "ayref": "y2",
          "showarrow": true,
          "text": "",
          "x": 0.9335507750511169,
          "xref": "x2",
          "y": 0.700219988822937,
          "yref": "y2"
         },
         {
          "arrowcolor": "green",
          "arrowhead": 3,
          "arrowwidth": 1.5,
          "ax": 0.9335507750511169,
          "axref": "x2",
          "ay": 0.700219988822937,
          "ayref": "y2",
          "showarrow": true,
          "text": "",
          "x": 0.9629473686218262,
          "xref": "x2",
          "y": 0.8861444592475891,
          "yref": "y2"
         },
         {
          "arrowcolor": "green",
          "arrowhead": 3,
          "arrowwidth": 1.5,
          "ax": 0.9629473686218262,
          "axref": "x2",
          "ay": 0.8861444592475891,
          "ayref": "y2",
          "showarrow": true,
          "text": "",
          "x": 0.791206955909729,
          "xref": "x2",
          "y": 0.7485570311546326,
          "yref": "y2"
         },
         {
          "arrowcolor": "green",
          "arrowhead": 3,
          "arrowwidth": 1.5,
          "ax": 0.791206955909729,
          "axref": "x2",
          "ay": 0.7485570311546326,
          "ayref": "y2",
          "showarrow": true,
          "text": "",
          "x": 0.7172499895095825,
          "xref": "x2",
          "y": 0.9242377877235413,
          "yref": "y2"
         },
         {
          "arrowcolor": "green",
          "arrowhead": 3,
          "arrowwidth": 1.5,
          "ax": 0.7172499895095825,
          "axref": "x2",
          "ay": 0.9242377877235413,
          "ayref": "y2",
          "showarrow": true,
          "text": "",
          "x": 0.447518914937973,
          "xref": "x2",
          "y": 0.9252374768257141,
          "yref": "y2"
         },
         {
          "arrowcolor": "green",
          "arrowhead": 3,
          "arrowwidth": 1.5,
          "ax": 0.447518914937973,
          "axref": "x2",
          "ay": 0.9252374768257141,
          "ayref": "y2",
          "showarrow": true,
          "text": "",
          "x": 0.40577080845832825,
          "xref": "x2",
          "y": 1,
          "yref": "y2"
         },
         {
          "arrowcolor": "green",
          "arrowhead": 3,
          "arrowwidth": 1.5,
          "ax": 0.40577080845832825,
          "axref": "x2",
          "ay": 1,
          "ayref": "y2",
          "showarrow": true,
          "text": "",
          "x": 0.19557176530361176,
          "xref": "x2",
          "y": 0.8746122121810913,
          "yref": "y2"
         },
         {
          "arrowcolor": "green",
          "arrowhead": 3,
          "arrowwidth": 1.5,
          "ax": 0.19557176530361176,
          "axref": "x2",
          "ay": 0.8746122121810913,
          "ayref": "y2",
          "showarrow": true,
          "text": "",
          "x": 0.18530724942684174,
          "xref": "x2",
          "y": 0.8717969059944153,
          "yref": "y2"
         },
         {
          "arrowcolor": "green",
          "arrowhead": 3,
          "arrowwidth": 1.5,
          "ax": 0.18530724942684174,
          "axref": "x2",
          "ay": 0.8717969059944153,
          "ayref": "y2",
          "showarrow": true,
          "text": "",
          "x": 0.0002857126237358898,
          "xref": "x2",
          "y": 0.8090694546699524,
          "yref": "y2"
         },
         {
          "arrowcolor": "green",
          "arrowhead": 3,
          "arrowwidth": 1.5,
          "ax": 0.0002857126237358898,
          "axref": "x2",
          "ay": 0.8090694546699524,
          "ayref": "y2",
          "showarrow": true,
          "text": "",
          "x": 0.03799702599644661,
          "xref": "x2",
          "y": 0.6429955363273621,
          "yref": "y2"
         },
         {
          "arrowcolor": "green",
          "arrowhead": 3,
          "arrowwidth": 1.5,
          "ax": 0.03799702599644661,
          "axref": "x2",
          "ay": 0.6429955363273621,
          "ayref": "y2",
          "showarrow": true,
          "text": "",
          "x": 0.09492204338312149,
          "xref": "x2",
          "y": 0.45841357111930847,
          "yref": "y2"
         },
         {
          "arrowcolor": "green",
          "arrowhead": 3,
          "arrowwidth": 1.5,
          "ax": 0.09492204338312149,
          "axref": "x2",
          "ay": 0.45841357111930847,
          "ayref": "y2",
          "showarrow": true,
          "text": "",
          "x": 0.004696921445429325,
          "xref": "x2",
          "y": 0.38130828738212585,
          "yref": "y2"
         },
         {
          "arrowcolor": "green",
          "arrowhead": 3,
          "arrowwidth": 1.5,
          "ax": 0.004696921445429325,
          "axref": "x2",
          "ay": 0.38130828738212585,
          "ayref": "y2",
          "showarrow": true,
          "text": "",
          "x": 0.01894266903400421,
          "xref": "x2",
          "y": 0.27876028418540955,
          "yref": "y2"
         },
         {
          "arrowcolor": "green",
          "arrowhead": 3,
          "arrowwidth": 1.5,
          "ax": 0.01894266903400421,
          "axref": "x2",
          "ay": 0.27876028418540955,
          "ayref": "y2",
          "showarrow": true,
          "text": "",
          "x": 0.08632779121398926,
          "xref": "x2",
          "y": 0.24488544464111328,
          "yref": "y2"
         },
         {
          "arrowcolor": "green",
          "arrowhead": 3,
          "arrowwidth": 1.5,
          "ax": 0.08632779121398926,
          "axref": "x2",
          "ay": 0.24488544464111328,
          "ayref": "y2",
          "showarrow": true,
          "text": "",
          "x": 0.05277976393699646,
          "xref": "x2",
          "y": 0.2254626750946045,
          "yref": "y2"
         },
         {
          "arrowcolor": "green",
          "arrowhead": 3,
          "arrowwidth": 1.5,
          "ax": 0.05277976393699646,
          "axref": "x2",
          "ay": 0.2254626750946045,
          "ayref": "y2",
          "showarrow": true,
          "text": "",
          "x": 0.009526968002319336,
          "xref": "x2",
          "y": 0.11863269656896591,
          "yref": "y2"
         },
         {
          "arrowcolor": "green",
          "arrowhead": 3,
          "arrowwidth": 1.5,
          "ax": 0.009526968002319336,
          "axref": "x2",
          "ay": 0.11863269656896591,
          "ayref": "y2",
          "showarrow": true,
          "text": "",
          "x": 0.03821758180856705,
          "xref": "x2",
          "y": 0.11494052410125732,
          "yref": "y2"
         },
         {
          "arrowcolor": "green",
          "arrowhead": 3,
          "arrowwidth": 1.5,
          "ax": 0.03821758180856705,
          "axref": "x2",
          "ay": 0.11494052410125732,
          "ayref": "y2",
          "showarrow": true,
          "text": "",
          "x": 0.14345091581344604,
          "xref": "x2",
          "y": 0.12355110794305801,
          "yref": "y2"
         },
         {
          "arrowcolor": "green",
          "arrowhead": 3,
          "arrowwidth": 1.5,
          "ax": 0.14345091581344604,
          "axref": "x2",
          "ay": 0.12355110794305801,
          "ayref": "y2",
          "showarrow": true,
          "text": "",
          "x": 0.13118545711040497,
          "xref": "x2",
          "y": 0.17341981828212738,
          "yref": "y2"
         },
         {
          "arrowcolor": "green",
          "arrowhead": 3,
          "arrowwidth": 1.5,
          "ax": 0.13118545711040497,
          "axref": "x2",
          "ay": 0.17341981828212738,
          "ayref": "y2",
          "showarrow": true,
          "text": "",
          "x": 0.09877165406942368,
          "xref": "x2",
          "y": 0.3012547791004181,
          "yref": "y2"
         },
         {
          "arrowcolor": "green",
          "arrowhead": 3,
          "arrowwidth": 1.5,
          "ax": 0.09877165406942368,
          "axref": "x2",
          "ay": 0.3012547791004181,
          "ayref": "y2",
          "showarrow": true,
          "text": "",
          "x": 0.10330256819725037,
          "xref": "x2",
          "y": 0.3430252969264984,
          "yref": "y2"
         },
         {
          "arrowcolor": "green",
          "arrowhead": 3,
          "arrowwidth": 1.5,
          "ax": 0.10330256819725037,
          "axref": "x2",
          "ay": 0.3430252969264984,
          "ayref": "y2",
          "showarrow": true,
          "text": "",
          "x": 0.15058337152004242,
          "xref": "x2",
          "y": 0.5512406229972839,
          "yref": "y2"
         },
         {
          "arrowcolor": "green",
          "arrowhead": 3,
          "arrowwidth": 1.5,
          "ax": 0.15058337152004242,
          "axref": "x2",
          "ay": 0.5512406229972839,
          "ayref": "y2",
          "showarrow": true,
          "text": "",
          "x": 0.13453765213489532,
          "xref": "x2",
          "y": 0.6586920619010925,
          "yref": "y2"
         },
         {
          "arrowcolor": "green",
          "arrowhead": 3,
          "arrowwidth": 1.5,
          "ax": 0.13453765213489532,
          "axref": "x2",
          "ay": 0.6586920619010925,
          "ayref": "y2",
          "showarrow": true,
          "text": "",
          "x": 0.2107856124639511,
          "xref": "x2",
          "y": 0.6645422577857971,
          "yref": "y2"
         },
         {
          "arrowcolor": "green",
          "arrowhead": 3,
          "arrowwidth": 1.5,
          "ax": 0.2107856124639511,
          "axref": "x2",
          "ay": 0.6645422577857971,
          "ayref": "y2",
          "showarrow": true,
          "text": "",
          "x": 0.32063305377960205,
          "xref": "x2",
          "y": 0.8225392699241638,
          "yref": "y2"
         },
         {
          "arrowcolor": "green",
          "arrowhead": 3,
          "arrowwidth": 1.5,
          "ax": 0.32063305377960205,
          "axref": "x2",
          "ay": 0.8225392699241638,
          "ayref": "y2",
          "showarrow": true,
          "text": "",
          "x": 0.4102555513381958,
          "xref": "x2",
          "y": 0.7146589756011963,
          "yref": "y2"
         },
         {
          "arrowcolor": "green",
          "arrowhead": 3,
          "arrowwidth": 1.5,
          "ax": 0.4102555513381958,
          "axref": "x2",
          "ay": 0.7146589756011963,
          "ayref": "y2",
          "showarrow": true,
          "text": "",
          "x": 0.433698832988739,
          "xref": "x2",
          "y": 0.7113452553749084,
          "yref": "y2"
         },
         {
          "arrowcolor": "green",
          "arrowhead": 3,
          "arrowwidth": 1.5,
          "ax": 0.433698832988739,
          "axref": "x2",
          "ay": 0.7113452553749084,
          "ayref": "y2",
          "showarrow": true,
          "text": "",
          "x": 0.5006998777389526,
          "xref": "x2",
          "y": 0.6100059151649475,
          "yref": "y2"
         },
         {
          "arrowcolor": "green",
          "arrowhead": 3,
          "arrowwidth": 1.5,
          "ax": 0.5006998777389526,
          "axref": "x2",
          "ay": 0.6100059151649475,
          "ayref": "y2",
          "showarrow": true,
          "text": "",
          "x": 0.6212796568870544,
          "xref": "x2",
          "y": 0.417582631111145,
          "yref": "y2"
         },
         {
          "arrowcolor": "green",
          "arrowhead": 3,
          "arrowwidth": 1.5,
          "ax": 0.6212796568870544,
          "axref": "x2",
          "ay": 0.417582631111145,
          "ayref": "y2",
          "showarrow": true,
          "text": "",
          "x": 0.46582919359207153,
          "xref": "x2",
          "y": 0.3584369719028473,
          "yref": "y2"
         },
         {
          "arrowcolor": "green",
          "arrowhead": 3,
          "arrowwidth": 1.5,
          "ax": 0.46582919359207153,
          "axref": "x2",
          "ay": 0.3584369719028473,
          "ayref": "y2",
          "showarrow": true,
          "text": "",
          "x": 0.32484304904937744,
          "xref": "x2",
          "y": 0.26238447427749634,
          "yref": "y2"
         },
         {
          "arrowcolor": "green",
          "arrowhead": 3,
          "arrowwidth": 1.5,
          "ax": 0.32484304904937744,
          "axref": "x2",
          "ay": 0.26238447427749634,
          "ayref": "y2",
          "showarrow": true,
          "text": "",
          "x": 0.24111229181289673,
          "xref": "x2",
          "y": 0.19105298817157745,
          "yref": "y2"
         },
         {
          "arrowcolor": "green",
          "arrowhead": 3,
          "arrowwidth": 1.5,
          "ax": 0.24111229181289673,
          "axref": "x2",
          "ay": 0.19105298817157745,
          "ayref": "y2",
          "showarrow": true,
          "text": "",
          "x": 0.35349878668785095,
          "xref": "x2",
          "y": 0.09700127691030502,
          "yref": "y2"
         },
         {
          "arrowcolor": "green",
          "arrowhead": 3,
          "arrowwidth": 1.5,
          "ax": 0.35349878668785095,
          "axref": "x2",
          "ay": 0.09700127691030502,
          "ayref": "y2",
          "showarrow": true,
          "text": "",
          "x": 0.5997981429100037,
          "xref": "x2",
          "y": 0.10234897583723068,
          "yref": "y2"
         },
         {
          "arrowcolor": "green",
          "arrowhead": 3,
          "arrowwidth": 1.5,
          "ax": 0.5997981429100037,
          "axref": "x2",
          "ay": 0.10234897583723068,
          "ayref": "y2",
          "showarrow": true,
          "text": "",
          "x": 0.5442544221878052,
          "xref": "x2",
          "y": 0.3150373101234436,
          "yref": "y2"
         },
         {
          "arrowcolor": "green",
          "arrowhead": 3,
          "arrowwidth": 1.5,
          "ax": 0.5442544221878052,
          "axref": "x2",
          "ay": 0.3150373101234436,
          "ayref": "y2",
          "showarrow": true,
          "text": "",
          "x": 0.6706523299217224,
          "xref": "x2",
          "y": 0.3392481505870819,
          "yref": "y2"
         }
        ],
        "showlegend": false,
        "template": {
         "data": {
          "bar": [
           {
            "error_x": {
             "color": "#2a3f5f"
            },
            "error_y": {
             "color": "#2a3f5f"
            },
            "marker": {
             "line": {
              "color": "#E5ECF6",
              "width": 0.5
             },
             "pattern": {
              "fillmode": "overlay",
              "size": 10,
              "solidity": 0.2
             }
            },
            "type": "bar"
           }
          ],
          "barpolar": [
           {
            "marker": {
             "line": {
              "color": "#E5ECF6",
              "width": 0.5
             },
             "pattern": {
              "fillmode": "overlay",
              "size": 10,
              "solidity": 0.2
             }
            },
            "type": "barpolar"
           }
          ],
          "carpet": [
           {
            "aaxis": {
             "endlinecolor": "#2a3f5f",
             "gridcolor": "white",
             "linecolor": "white",
             "minorgridcolor": "white",
             "startlinecolor": "#2a3f5f"
            },
            "baxis": {
             "endlinecolor": "#2a3f5f",
             "gridcolor": "white",
             "linecolor": "white",
             "minorgridcolor": "white",
             "startlinecolor": "#2a3f5f"
            },
            "type": "carpet"
           }
          ],
          "choropleth": [
           {
            "colorbar": {
             "outlinewidth": 0,
             "ticks": ""
            },
            "type": "choropleth"
           }
          ],
          "contour": [
           {
            "colorbar": {
             "outlinewidth": 0,
             "ticks": ""
            },
            "colorscale": [
             [
              0,
              "#0d0887"
             ],
             [
              0.1111111111111111,
              "#46039f"
             ],
             [
              0.2222222222222222,
              "#7201a8"
             ],
             [
              0.3333333333333333,
              "#9c179e"
             ],
             [
              0.4444444444444444,
              "#bd3786"
             ],
             [
              0.5555555555555556,
              "#d8576b"
             ],
             [
              0.6666666666666666,
              "#ed7953"
             ],
             [
              0.7777777777777778,
              "#fb9f3a"
             ],
             [
              0.8888888888888888,
              "#fdca26"
             ],
             [
              1,
              "#f0f921"
             ]
            ],
            "type": "contour"
           }
          ],
          "contourcarpet": [
           {
            "colorbar": {
             "outlinewidth": 0,
             "ticks": ""
            },
            "type": "contourcarpet"
           }
          ],
          "heatmap": [
           {
            "colorbar": {
             "outlinewidth": 0,
             "ticks": ""
            },
            "colorscale": [
             [
              0,
              "#0d0887"
             ],
             [
              0.1111111111111111,
              "#46039f"
             ],
             [
              0.2222222222222222,
              "#7201a8"
             ],
             [
              0.3333333333333333,
              "#9c179e"
             ],
             [
              0.4444444444444444,
              "#bd3786"
             ],
             [
              0.5555555555555556,
              "#d8576b"
             ],
             [
              0.6666666666666666,
              "#ed7953"
             ],
             [
              0.7777777777777778,
              "#fb9f3a"
             ],
             [
              0.8888888888888888,
              "#fdca26"
             ],
             [
              1,
              "#f0f921"
             ]
            ],
            "type": "heatmap"
           }
          ],
          "heatmapgl": [
           {
            "colorbar": {
             "outlinewidth": 0,
             "ticks": ""
            },
            "colorscale": [
             [
              0,
              "#0d0887"
             ],
             [
              0.1111111111111111,
              "#46039f"
             ],
             [
              0.2222222222222222,
              "#7201a8"
             ],
             [
              0.3333333333333333,
              "#9c179e"
             ],
             [
              0.4444444444444444,
              "#bd3786"
             ],
             [
              0.5555555555555556,
              "#d8576b"
             ],
             [
              0.6666666666666666,
              "#ed7953"
             ],
             [
              0.7777777777777778,
              "#fb9f3a"
             ],
             [
              0.8888888888888888,
              "#fdca26"
             ],
             [
              1,
              "#f0f921"
             ]
            ],
            "type": "heatmapgl"
           }
          ],
          "histogram": [
           {
            "marker": {
             "pattern": {
              "fillmode": "overlay",
              "size": 10,
              "solidity": 0.2
             }
            },
            "type": "histogram"
           }
          ],
          "histogram2d": [
           {
            "colorbar": {
             "outlinewidth": 0,
             "ticks": ""
            },
            "colorscale": [
             [
              0,
              "#0d0887"
             ],
             [
              0.1111111111111111,
              "#46039f"
             ],
             [
              0.2222222222222222,
              "#7201a8"
             ],
             [
              0.3333333333333333,
              "#9c179e"
             ],
             [
              0.4444444444444444,
              "#bd3786"
             ],
             [
              0.5555555555555556,
              "#d8576b"
             ],
             [
              0.6666666666666666,
              "#ed7953"
             ],
             [
              0.7777777777777778,
              "#fb9f3a"
             ],
             [
              0.8888888888888888,
              "#fdca26"
             ],
             [
              1,
              "#f0f921"
             ]
            ],
            "type": "histogram2d"
           }
          ],
          "histogram2dcontour": [
           {
            "colorbar": {
             "outlinewidth": 0,
             "ticks": ""
            },
            "colorscale": [
             [
              0,
              "#0d0887"
             ],
             [
              0.1111111111111111,
              "#46039f"
             ],
             [
              0.2222222222222222,
              "#7201a8"
             ],
             [
              0.3333333333333333,
              "#9c179e"
             ],
             [
              0.4444444444444444,
              "#bd3786"
             ],
             [
              0.5555555555555556,
              "#d8576b"
             ],
             [
              0.6666666666666666,
              "#ed7953"
             ],
             [
              0.7777777777777778,
              "#fb9f3a"
             ],
             [
              0.8888888888888888,
              "#fdca26"
             ],
             [
              1,
              "#f0f921"
             ]
            ],
            "type": "histogram2dcontour"
           }
          ],
          "mesh3d": [
           {
            "colorbar": {
             "outlinewidth": 0,
             "ticks": ""
            },
            "type": "mesh3d"
           }
          ],
          "parcoords": [
           {
            "line": {
             "colorbar": {
              "outlinewidth": 0,
              "ticks": ""
             }
            },
            "type": "parcoords"
           }
          ],
          "pie": [
           {
            "automargin": true,
            "type": "pie"
           }
          ],
          "scatter": [
           {
            "fillpattern": {
             "fillmode": "overlay",
             "size": 10,
             "solidity": 0.2
            },
            "type": "scatter"
           }
          ],
          "scatter3d": [
           {
            "line": {
             "colorbar": {
              "outlinewidth": 0,
              "ticks": ""
             }
            },
            "marker": {
             "colorbar": {
              "outlinewidth": 0,
              "ticks": ""
             }
            },
            "type": "scatter3d"
           }
          ],
          "scattercarpet": [
           {
            "marker": {
             "colorbar": {
              "outlinewidth": 0,
              "ticks": ""
             }
            },
            "type": "scattercarpet"
           }
          ],
          "scattergeo": [
           {
            "marker": {
             "colorbar": {
              "outlinewidth": 0,
              "ticks": ""
             }
            },
            "type": "scattergeo"
           }
          ],
          "scattergl": [
           {
            "marker": {
             "colorbar": {
              "outlinewidth": 0,
              "ticks": ""
             }
            },
            "type": "scattergl"
           }
          ],
          "scattermapbox": [
           {
            "marker": {
             "colorbar": {
              "outlinewidth": 0,
              "ticks": ""
             }
            },
            "type": "scattermapbox"
           }
          ],
          "scatterpolar": [
           {
            "marker": {
             "colorbar": {
              "outlinewidth": 0,
              "ticks": ""
             }
            },
            "type": "scatterpolar"
           }
          ],
          "scatterpolargl": [
           {
            "marker": {
             "colorbar": {
              "outlinewidth": 0,
              "ticks": ""
             }
            },
            "type": "scatterpolargl"
           }
          ],
          "scatterternary": [
           {
            "marker": {
             "colorbar": {
              "outlinewidth": 0,
              "ticks": ""
             }
            },
            "type": "scatterternary"
           }
          ],
          "surface": [
           {
            "colorbar": {
             "outlinewidth": 0,
             "ticks": ""
            },
            "colorscale": [
             [
              0,
              "#0d0887"
             ],
             [
              0.1111111111111111,
              "#46039f"
             ],
             [
              0.2222222222222222,
              "#7201a8"
             ],
             [
              0.3333333333333333,
              "#9c179e"
             ],
             [
              0.4444444444444444,
              "#bd3786"
             ],
             [
              0.5555555555555556,
              "#d8576b"
             ],
             [
              0.6666666666666666,
              "#ed7953"
             ],
             [
              0.7777777777777778,
              "#fb9f3a"
             ],
             [
              0.8888888888888888,
              "#fdca26"
             ],
             [
              1,
              "#f0f921"
             ]
            ],
            "type": "surface"
           }
          ],
          "table": [
           {
            "cells": {
             "fill": {
              "color": "#EBF0F8"
             },
             "line": {
              "color": "white"
             }
            },
            "header": {
             "fill": {
              "color": "#C8D4E3"
             },
             "line": {
              "color": "white"
             }
            },
            "type": "table"
           }
          ]
         },
         "layout": {
          "annotationdefaults": {
           "arrowcolor": "#2a3f5f",
           "arrowhead": 0,
           "arrowwidth": 1
          },
          "autotypenumbers": "strict",
          "coloraxis": {
           "colorbar": {
            "outlinewidth": 0,
            "ticks": ""
           }
          },
          "colorscale": {
           "diverging": [
            [
             0,
             "#8e0152"
            ],
            [
             0.1,
             "#c51b7d"
            ],
            [
             0.2,
             "#de77ae"
            ],
            [
             0.3,
             "#f1b6da"
            ],
            [
             0.4,
             "#fde0ef"
            ],
            [
             0.5,
             "#f7f7f7"
            ],
            [
             0.6,
             "#e6f5d0"
            ],
            [
             0.7,
             "#b8e186"
            ],
            [
             0.8,
             "#7fbc41"
            ],
            [
             0.9,
             "#4d9221"
            ],
            [
             1,
             "#276419"
            ]
           ],
           "sequential": [
            [
             0,
             "#0d0887"
            ],
            [
             0.1111111111111111,
             "#46039f"
            ],
            [
             0.2222222222222222,
             "#7201a8"
            ],
            [
             0.3333333333333333,
             "#9c179e"
            ],
            [
             0.4444444444444444,
             "#bd3786"
            ],
            [
             0.5555555555555556,
             "#d8576b"
            ],
            [
             0.6666666666666666,
             "#ed7953"
            ],
            [
             0.7777777777777778,
             "#fb9f3a"
            ],
            [
             0.8888888888888888,
             "#fdca26"
            ],
            [
             1,
             "#f0f921"
            ]
           ],
           "sequentialminus": [
            [
             0,
             "#0d0887"
            ],
            [
             0.1111111111111111,
             "#46039f"
            ],
            [
             0.2222222222222222,
             "#7201a8"
            ],
            [
             0.3333333333333333,
             "#9c179e"
            ],
            [
             0.4444444444444444,
             "#bd3786"
            ],
            [
             0.5555555555555556,
             "#d8576b"
            ],
            [
             0.6666666666666666,
             "#ed7953"
            ],
            [
             0.7777777777777778,
             "#fb9f3a"
            ],
            [
             0.8888888888888888,
             "#fdca26"
            ],
            [
             1,
             "#f0f921"
            ]
           ]
          },
          "colorway": [
           "#636efa",
           "#EF553B",
           "#00cc96",
           "#ab63fa",
           "#FFA15A",
           "#19d3f3",
           "#FF6692",
           "#B6E880",
           "#FF97FF",
           "#FECB52"
          ],
          "font": {
           "color": "#2a3f5f"
          },
          "geo": {
           "bgcolor": "white",
           "lakecolor": "white",
           "landcolor": "#E5ECF6",
           "showlakes": true,
           "showland": true,
           "subunitcolor": "white"
          },
          "hoverlabel": {
           "align": "left"
          },
          "hovermode": "closest",
          "mapbox": {
           "style": "light"
          },
          "paper_bgcolor": "white",
          "plot_bgcolor": "#E5ECF6",
          "polar": {
           "angularaxis": {
            "gridcolor": "white",
            "linecolor": "white",
            "ticks": ""
           },
           "bgcolor": "#E5ECF6",
           "radialaxis": {
            "gridcolor": "white",
            "linecolor": "white",
            "ticks": ""
           }
          },
          "scene": {
           "xaxis": {
            "backgroundcolor": "#E5ECF6",
            "gridcolor": "white",
            "gridwidth": 2,
            "linecolor": "white",
            "showbackground": true,
            "ticks": "",
            "zerolinecolor": "white"
           },
           "yaxis": {
            "backgroundcolor": "#E5ECF6",
            "gridcolor": "white",
            "gridwidth": 2,
            "linecolor": "white",
            "showbackground": true,
            "ticks": "",
            "zerolinecolor": "white"
           },
           "zaxis": {
            "backgroundcolor": "#E5ECF6",
            "gridcolor": "white",
            "gridwidth": 2,
            "linecolor": "white",
            "showbackground": true,
            "ticks": "",
            "zerolinecolor": "white"
           }
          },
          "shapedefaults": {
           "line": {
            "color": "#2a3f5f"
           }
          },
          "ternary": {
           "aaxis": {
            "gridcolor": "white",
            "linecolor": "white",
            "ticks": ""
           },
           "baxis": {
            "gridcolor": "white",
            "linecolor": "white",
            "ticks": ""
           },
           "bgcolor": "#E5ECF6",
           "caxis": {
            "gridcolor": "white",
            "linecolor": "white",
            "ticks": ""
           }
          },
          "title": {
           "x": 0.05
          },
          "xaxis": {
           "automargin": true,
           "gridcolor": "white",
           "linecolor": "white",
           "ticks": "",
           "title": {
            "standoff": 15
           },
           "zerolinecolor": "white",
           "zerolinewidth": 2
          },
          "yaxis": {
           "automargin": true,
           "gridcolor": "white",
           "linecolor": "white",
           "ticks": "",
           "title": {
            "standoff": 15
           },
           "zerolinecolor": "white",
           "zerolinewidth": 2
          }
         }
        },
        "xaxis": {
         "anchor": "y",
         "domain": [
          0,
          0.45
         ],
         "visible": false
        },
        "xaxis2": {
         "anchor": "y2",
         "domain": [
          0.55,
          1
         ],
         "visible": false
        },
        "yaxis": {
         "anchor": "x",
         "domain": [
          0,
          1
         ],
         "visible": false
        },
        "yaxis2": {
         "anchor": "x2",
         "domain": [
          0,
          1
         ],
         "visible": false
        }
       }
      }
     },
     "metadata": {},
     "output_type": "display_data"
    },
    {
     "data": {
      "application/vnd.plotly.v1+json": {
       "config": {
        "plotlyServerURL": "https://plot.ly"
       },
       "data": [
        {
         "marker": {
          "color": "red"
         },
         "mode": "markers",
         "type": "scatter",
         "x": [
          0.34495481848716736,
          0.8860541582107544,
          0.26007550954818726,
          0.126529261469841,
          0.020724311470985413,
          0.06291573494672775,
          0.28764116764068604,
          0.6900006532669067,
          0.538367748260498,
          0.9498080015182495,
          0.8213015198707581,
          0.34474977850914,
          0.8624176979064941,
          0.8647832274436951,
          0.7973645925521851,
          0.5667861104011536,
          0.06985710561275482,
          0.720500648021698,
          0.6244913935661316,
          0.3414967954158783,
          0.6784213781356812,
          0.8376842737197876,
          0.6203604340553284,
          0.0957941934466362,
          0.9412537217140198,
          0.04496413841843605,
          0.07243302464485168,
          0.3562037944793701,
          0.99559485912323,
          0.4481096565723419,
          0.4198540449142456,
          0.11793330311775208,
          0.5532981157302856,
          0.8402106761932373,
          0.6858310699462891,
          0.08752522617578506,
          0.6964336633682251,
          0.03250938653945923,
          0.5745115280151367,
          0.5244339108467102,
          0.4161132574081421,
          0.8298603892326355,
          0.583885133266449,
          1,
          0.15820899605751038,
          0.15785855054855347,
          0.49073317646980286,
          0.37390315532684326,
          0.0027878782711923122,
          0.5299562215805054
         ],
         "xaxis": "x",
         "y": [
          0.9459815621376038,
          0.14696045219898224,
          0.7717143297195435,
          0.2564859092235565,
          0.7665103077888489,
          0.8503236770629883,
          0.33503735065460205,
          0.1557530164718628,
          0.2686118185520172,
          0.0983155369758606,
          0.7858514189720154,
          0.5267144441604614,
          0.15603601932525635,
          0.5018443465232849,
          0.2568604052066803,
          0.6185887455940247,
          0.7252693176269531,
          0.2591305077075958,
          0.0875805988907814,
          0.7340201735496521,
          0.04190496355295181,
          0.9944841265678406,
          0.45744675397872925,
          0.11634545028209686,
          0.32058316469192505,
          0.5539407730102539,
          0.5482271313667297,
          0.7559813261032104,
          0.4363284409046173,
          0.9304656386375427,
          0.4528009295463562,
          0.38859203457832336,
          0.16809891164302826,
          0.881493330001831,
          0.6924183964729309,
          0.3173413872718811,
          0.33431512117385864,
          0.5369348526000977,
          0.2825423777103424,
          0.41303056478500366,
          0.20599031448364258,
          0.6630164980888367,
          0.976053774356842,
          0.9387978911399841,
          0.9530478119850159,
          1,
          0.8804593682289124,
          0.09502775967121124,
          0.44757601618766785,
          0.8094747066497803
         ],
         "yaxis": "y"
        },
        {
         "marker": {
          "color": "red"
         },
         "mode": "markers",
         "type": "scatter",
         "x": [
          0.34495481848716736,
          0.8860541582107544,
          0.26007550954818726,
          0.126529261469841,
          0.020724311470985413,
          0.06291573494672775,
          0.28764116764068604,
          0.6900006532669067,
          0.538367748260498,
          0.9498080015182495,
          0.8213015198707581,
          0.34474977850914,
          0.8624176979064941,
          0.8647832274436951,
          0.7973645925521851,
          0.5667861104011536,
          0.06985710561275482,
          0.720500648021698,
          0.6244913935661316,
          0.3414967954158783,
          0.6784213781356812,
          0.8376842737197876,
          0.6203604340553284,
          0.0957941934466362,
          0.9412537217140198,
          0.04496413841843605,
          0.07243302464485168,
          0.3562037944793701,
          0.99559485912323,
          0.4481096565723419,
          0.4198540449142456,
          0.11793330311775208,
          0.5532981157302856,
          0.8402106761932373,
          0.6858310699462891,
          0.08752522617578506,
          0.6964336633682251,
          0.03250938653945923,
          0.5745115280151367,
          0.5244339108467102,
          0.4161132574081421,
          0.8298603892326355,
          0.583885133266449,
          1,
          0.15820899605751038,
          0.15785855054855347,
          0.49073317646980286,
          0.37390315532684326,
          0.0027878782711923122,
          0.5299562215805054
         ],
         "xaxis": "x2",
         "y": [
          0.9459815621376038,
          0.14696045219898224,
          0.7717143297195435,
          0.2564859092235565,
          0.7665103077888489,
          0.8503236770629883,
          0.33503735065460205,
          0.1557530164718628,
          0.2686118185520172,
          0.0983155369758606,
          0.7858514189720154,
          0.5267144441604614,
          0.15603601932525635,
          0.5018443465232849,
          0.2568604052066803,
          0.6185887455940247,
          0.7252693176269531,
          0.2591305077075958,
          0.0875805988907814,
          0.7340201735496521,
          0.04190496355295181,
          0.9944841265678406,
          0.45744675397872925,
          0.11634545028209686,
          0.32058316469192505,
          0.5539407730102539,
          0.5482271313667297,
          0.7559813261032104,
          0.4363284409046173,
          0.9304656386375427,
          0.4528009295463562,
          0.38859203457832336,
          0.16809891164302826,
          0.881493330001831,
          0.6924183964729309,
          0.3173413872718811,
          0.33431512117385864,
          0.5369348526000977,
          0.2825423777103424,
          0.41303056478500366,
          0.20599031448364258,
          0.6630164980888367,
          0.976053774356842,
          0.9387978911399841,
          0.9530478119850159,
          1,
          0.8804593682289124,
          0.09502775967121124,
          0.44757601618766785,
          0.8094747066497803
         ],
         "yaxis": "y2"
        }
       ],
       "layout": {
        "annotations": [
         {
          "font": {
           "size": 16
          },
          "showarrow": false,
          "text": "Christofides",
          "x": 0.225,
          "xanchor": "center",
          "xref": "paper",
          "y": 1,
          "yanchor": "bottom",
          "yref": "paper"
         },
         {
          "font": {
           "size": 16
          },
          "showarrow": false,
          "text": "Ours",
          "x": 0.775,
          "xanchor": "center",
          "xref": "paper",
          "y": 1,
          "yanchor": "bottom",
          "yref": "paper"
         },
         {
          "arrowcolor": "blue",
          "arrowhead": 3,
          "arrowwidth": 1.5,
          "ax": 0.34495481848716736,
          "axref": "x",
          "ay": 0.9459815621376038,
          "ayref": "y",
          "showarrow": true,
          "text": "",
          "x": 0.15820899605751038,
          "xref": "x",
          "y": 0.9530478119850159,
          "yref": "y"
         },
         {
          "arrowcolor": "blue",
          "arrowhead": 3,
          "arrowwidth": 1.5,
          "ax": 0.15820899605751038,
          "axref": "x",
          "ay": 0.9530478119850159,
          "ayref": "y",
          "showarrow": true,
          "text": "",
          "x": 0.15785855054855347,
          "xref": "x",
          "y": 1,
          "yref": "y"
         },
         {
          "arrowcolor": "blue",
          "arrowhead": 3,
          "arrowwidth": 1.5,
          "ax": 0.15785855054855347,
          "axref": "x",
          "ay": 1,
          "ayref": "y",
          "showarrow": true,
          "text": "",
          "x": 0.06291573494672775,
          "xref": "x",
          "y": 0.8503236770629883,
          "yref": "y"
         },
         {
          "arrowcolor": "blue",
          "arrowhead": 3,
          "arrowwidth": 1.5,
          "ax": 0.06291573494672775,
          "axref": "x",
          "ay": 0.8503236770629883,
          "ayref": "y",
          "showarrow": true,
          "text": "",
          "x": 0.020724311470985413,
          "xref": "x",
          "y": 0.7665103077888489,
          "yref": "y"
         },
         {
          "arrowcolor": "blue",
          "arrowhead": 3,
          "arrowwidth": 1.5,
          "ax": 0.020724311470985413,
          "axref": "x",
          "ay": 0.7665103077888489,
          "ayref": "y",
          "showarrow": true,
          "text": "",
          "x": 0.06985710561275482,
          "xref": "x",
          "y": 0.7252693176269531,
          "yref": "y"
         },
         {
          "arrowcolor": "blue",
          "arrowhead": 3,
          "arrowwidth": 1.5,
          "ax": 0.06985710561275482,
          "axref": "x",
          "ay": 0.7252693176269531,
          "ayref": "y",
          "showarrow": true,
          "text": "",
          "x": 0.04496413841843605,
          "xref": "x",
          "y": 0.5539407730102539,
          "yref": "y"
         },
         {
          "arrowcolor": "blue",
          "arrowhead": 3,
          "arrowwidth": 1.5,
          "ax": 0.04496413841843605,
          "axref": "x",
          "ay": 0.5539407730102539,
          "ayref": "y",
          "showarrow": true,
          "text": "",
          "x": 0.07243302464485168,
          "xref": "x",
          "y": 0.5482271313667297,
          "yref": "y"
         },
         {
          "arrowcolor": "blue",
          "arrowhead": 3,
          "arrowwidth": 1.5,
          "ax": 0.07243302464485168,
          "axref": "x",
          "ay": 0.5482271313667297,
          "ayref": "y",
          "showarrow": true,
          "text": "",
          "x": 0.03250938653945923,
          "xref": "x",
          "y": 0.5369348526000977,
          "yref": "y"
         },
         {
          "arrowcolor": "blue",
          "arrowhead": 3,
          "arrowwidth": 1.5,
          "ax": 0.03250938653945923,
          "axref": "x",
          "ay": 0.5369348526000977,
          "ayref": "y",
          "showarrow": true,
          "text": "",
          "x": 0.0027878782711923122,
          "xref": "x",
          "y": 0.44757601618766785,
          "yref": "y"
         },
         {
          "arrowcolor": "blue",
          "arrowhead": 3,
          "arrowwidth": 1.5,
          "ax": 0.0027878782711923122,
          "axref": "x",
          "ay": 0.44757601618766785,
          "ayref": "y",
          "showarrow": true,
          "text": "",
          "x": 0.11793330311775208,
          "xref": "x",
          "y": 0.38859203457832336,
          "yref": "y"
         },
         {
          "arrowcolor": "blue",
          "arrowhead": 3,
          "arrowwidth": 1.5,
          "ax": 0.11793330311775208,
          "axref": "x",
          "ay": 0.38859203457832336,
          "ayref": "y",
          "showarrow": true,
          "text": "",
          "x": 0.0957941934466362,
          "xref": "x",
          "y": 0.11634545028209686,
          "yref": "y"
         },
         {
          "arrowcolor": "blue",
          "arrowhead": 3,
          "arrowwidth": 1.5,
          "ax": 0.0957941934466362,
          "axref": "x",
          "ay": 0.11634545028209686,
          "ayref": "y",
          "showarrow": true,
          "text": "",
          "x": 0.126529261469841,
          "xref": "x",
          "y": 0.2564859092235565,
          "yref": "y"
         },
         {
          "arrowcolor": "blue",
          "arrowhead": 3,
          "arrowwidth": 1.5,
          "ax": 0.126529261469841,
          "axref": "x",
          "ay": 0.2564859092235565,
          "ayref": "y",
          "showarrow": true,
          "text": "",
          "x": 0.08752522617578506,
          "xref": "x",
          "y": 0.3173413872718811,
          "yref": "y"
         },
         {
          "arrowcolor": "blue",
          "arrowhead": 3,
          "arrowwidth": 1.5,
          "ax": 0.08752522617578506,
          "axref": "x",
          "ay": 0.3173413872718811,
          "ayref": "y",
          "showarrow": true,
          "text": "",
          "x": 0.28764116764068604,
          "xref": "x",
          "y": 0.33503735065460205,
          "yref": "y"
         },
         {
          "arrowcolor": "blue",
          "arrowhead": 3,
          "arrowwidth": 1.5,
          "ax": 0.28764116764068604,
          "axref": "x",
          "ay": 0.33503735065460205,
          "ayref": "y",
          "showarrow": true,
          "text": "",
          "x": 0.4198540449142456,
          "xref": "x",
          "y": 0.4528009295463562,
          "yref": "y"
         },
         {
          "arrowcolor": "blue",
          "arrowhead": 3,
          "arrowwidth": 1.5,
          "ax": 0.4198540449142456,
          "axref": "x",
          "ay": 0.4528009295463562,
          "ayref": "y",
          "showarrow": true,
          "text": "",
          "x": 0.5244339108467102,
          "xref": "x",
          "y": 0.41303056478500366,
          "yref": "y"
         },
         {
          "arrowcolor": "blue",
          "arrowhead": 3,
          "arrowwidth": 1.5,
          "ax": 0.5244339108467102,
          "axref": "x",
          "ay": 0.41303056478500366,
          "ayref": "y",
          "showarrow": true,
          "text": "",
          "x": 0.6203604340553284,
          "xref": "x",
          "y": 0.45744675397872925,
          "yref": "y"
         },
         {
          "arrowcolor": "blue",
          "arrowhead": 3,
          "arrowwidth": 1.5,
          "ax": 0.6203604340553284,
          "axref": "x",
          "ay": 0.45744675397872925,
          "ayref": "y",
          "showarrow": true,
          "text": "",
          "x": 0.5667861104011536,
          "xref": "x",
          "y": 0.6185887455940247,
          "yref": "y"
         },
         {
          "arrowcolor": "blue",
          "arrowhead": 3,
          "arrowwidth": 1.5,
          "ax": 0.5667861104011536,
          "axref": "x",
          "ay": 0.6185887455940247,
          "ayref": "y",
          "showarrow": true,
          "text": "",
          "x": 0.6858310699462891,
          "xref": "x",
          "y": 0.6924183964729309,
          "yref": "y"
         },
         {
          "arrowcolor": "blue",
          "arrowhead": 3,
          "arrowwidth": 1.5,
          "ax": 0.6858310699462891,
          "axref": "x",
          "ay": 0.6924183964729309,
          "ayref": "y",
          "showarrow": true,
          "text": "",
          "x": 0.8298603892326355,
          "xref": "x",
          "y": 0.6630164980888367,
          "yref": "y"
         },
         {
          "arrowcolor": "blue",
          "arrowhead": 3,
          "arrowwidth": 1.5,
          "ax": 0.8298603892326355,
          "axref": "x",
          "ay": 0.6630164980888367,
          "ayref": "y",
          "showarrow": true,
          "text": "",
          "x": 0.8402106761932373,
          "xref": "x",
          "y": 0.881493330001831,
          "yref": "y"
         },
         {
          "arrowcolor": "blue",
          "arrowhead": 3,
          "arrowwidth": 1.5,
          "ax": 0.8402106761932373,
          "axref": "x",
          "ay": 0.881493330001831,
          "ayref": "y",
          "showarrow": true,
          "text": "",
          "x": 1,
          "xref": "x",
          "y": 0.9387978911399841,
          "yref": "y"
         },
         {
          "arrowcolor": "blue",
          "arrowhead": 3,
          "arrowwidth": 1.5,
          "ax": 1,
          "axref": "x",
          "ay": 0.9387978911399841,
          "ayref": "y",
          "showarrow": true,
          "text": "",
          "x": 0.8376842737197876,
          "xref": "x",
          "y": 0.9944841265678406,
          "yref": "y"
         },
         {
          "arrowcolor": "blue",
          "arrowhead": 3,
          "arrowwidth": 1.5,
          "ax": 0.8376842737197876,
          "axref": "x",
          "ay": 0.9944841265678406,
          "ayref": "y",
          "showarrow": true,
          "text": "",
          "x": 0.8213015198707581,
          "xref": "x",
          "y": 0.7858514189720154,
          "yref": "y"
         },
         {
          "arrowcolor": "blue",
          "arrowhead": 3,
          "arrowwidth": 1.5,
          "ax": 0.8213015198707581,
          "axref": "x",
          "ay": 0.7858514189720154,
          "ayref": "y",
          "showarrow": true,
          "text": "",
          "x": 0.8647832274436951,
          "xref": "x",
          "y": 0.5018443465232849,
          "yref": "y"
         },
         {
          "arrowcolor": "blue",
          "arrowhead": 3,
          "arrowwidth": 1.5,
          "ax": 0.8647832274436951,
          "axref": "x",
          "ay": 0.5018443465232849,
          "ayref": "y",
          "showarrow": true,
          "text": "",
          "x": 0.99559485912323,
          "xref": "x",
          "y": 0.4363284409046173,
          "yref": "y"
         },
         {
          "arrowcolor": "blue",
          "arrowhead": 3,
          "arrowwidth": 1.5,
          "ax": 0.99559485912323,
          "axref": "x",
          "ay": 0.4363284409046173,
          "ayref": "y",
          "showarrow": true,
          "text": "",
          "x": 0.9412537217140198,
          "xref": "x",
          "y": 0.32058316469192505,
          "yref": "y"
         },
         {
          "arrowcolor": "blue",
          "arrowhead": 3,
          "arrowwidth": 1.5,
          "ax": 0.9412537217140198,
          "axref": "x",
          "ay": 0.32058316469192505,
          "ayref": "y",
          "showarrow": true,
          "text": "",
          "x": 0.7973645925521851,
          "xref": "x",
          "y": 0.2568604052066803,
          "yref": "y"
         },
         {
          "arrowcolor": "blue",
          "arrowhead": 3,
          "arrowwidth": 1.5,
          "ax": 0.7973645925521851,
          "axref": "x",
          "ay": 0.2568604052066803,
          "ayref": "y",
          "showarrow": true,
          "text": "",
          "x": 0.9498080015182495,
          "xref": "x",
          "y": 0.0983155369758606,
          "yref": "y"
         },
         {
          "arrowcolor": "blue",
          "arrowhead": 3,
          "arrowwidth": 1.5,
          "ax": 0.9498080015182495,
          "axref": "x",
          "ay": 0.0983155369758606,
          "ayref": "y",
          "showarrow": true,
          "text": "",
          "x": 0.8860541582107544,
          "xref": "x",
          "y": 0.14696045219898224,
          "yref": "y"
         },
         {
          "arrowcolor": "blue",
          "arrowhead": 3,
          "arrowwidth": 1.5,
          "ax": 0.8860541582107544,
          "axref": "x",
          "ay": 0.14696045219898224,
          "ayref": "y",
          "showarrow": true,
          "text": "",
          "x": 0.8624176979064941,
          "xref": "x",
          "y": 0.15603601932525635,
          "yref": "y"
         },
         {
          "arrowcolor": "blue",
          "arrowhead": 3,
          "arrowwidth": 1.5,
          "ax": 0.8624176979064941,
          "axref": "x",
          "ay": 0.15603601932525635,
          "ayref": "y",
          "showarrow": true,
          "text": "",
          "x": 0.720500648021698,
          "xref": "x",
          "y": 0.2591305077075958,
          "yref": "y"
         },
         {
          "arrowcolor": "blue",
          "arrowhead": 3,
          "arrowwidth": 1.5,
          "ax": 0.720500648021698,
          "axref": "x",
          "ay": 0.2591305077075958,
          "ayref": "y",
          "showarrow": true,
          "text": "",
          "x": 0.6964336633682251,
          "xref": "x",
          "y": 0.33431512117385864,
          "yref": "y"
         },
         {
          "arrowcolor": "blue",
          "arrowhead": 3,
          "arrowwidth": 1.5,
          "ax": 0.6964336633682251,
          "axref": "x",
          "ay": 0.33431512117385864,
          "ayref": "y",
          "showarrow": true,
          "text": "",
          "x": 0.6900006532669067,
          "xref": "x",
          "y": 0.1557530164718628,
          "yref": "y"
         },
         {
          "arrowcolor": "blue",
          "arrowhead": 3,
          "arrowwidth": 1.5,
          "ax": 0.6900006532669067,
          "axref": "x",
          "ay": 0.1557530164718628,
          "ayref": "y",
          "showarrow": true,
          "text": "",
          "x": 0.6244913935661316,
          "xref": "x",
          "y": 0.0875805988907814,
          "yref": "y"
         },
         {
          "arrowcolor": "blue",
          "arrowhead": 3,
          "arrowwidth": 1.5,
          "ax": 0.6244913935661316,
          "axref": "x",
          "ay": 0.0875805988907814,
          "ayref": "y",
          "showarrow": true,
          "text": "",
          "x": 0.6784213781356812,
          "xref": "x",
          "y": 0.04190496355295181,
          "yref": "y"
         },
         {
          "arrowcolor": "blue",
          "arrowhead": 3,
          "arrowwidth": 1.5,
          "ax": 0.6784213781356812,
          "axref": "x",
          "ay": 0.04190496355295181,
          "ayref": "y",
          "showarrow": true,
          "text": "",
          "x": 0.5532981157302856,
          "xref": "x",
          "y": 0.16809891164302826,
          "yref": "y"
         },
         {
          "arrowcolor": "blue",
          "arrowhead": 3,
          "arrowwidth": 1.5,
          "ax": 0.5532981157302856,
          "axref": "x",
          "ay": 0.16809891164302826,
          "ayref": "y",
          "showarrow": true,
          "text": "",
          "x": 0.538367748260498,
          "xref": "x",
          "y": 0.2686118185520172,
          "yref": "y"
         },
         {
          "arrowcolor": "blue",
          "arrowhead": 3,
          "arrowwidth": 1.5,
          "ax": 0.538367748260498,
          "axref": "x",
          "ay": 0.2686118185520172,
          "ayref": "y",
          "showarrow": true,
          "text": "",
          "x": 0.37390315532684326,
          "xref": "x",
          "y": 0.09502775967121124,
          "yref": "y"
         },
         {
          "arrowcolor": "blue",
          "arrowhead": 3,
          "arrowwidth": 1.5,
          "ax": 0.37390315532684326,
          "axref": "x",
          "ay": 0.09502775967121124,
          "ayref": "y",
          "showarrow": true,
          "text": "",
          "x": 0.4161132574081421,
          "xref": "x",
          "y": 0.20599031448364258,
          "yref": "y"
         },
         {
          "arrowcolor": "blue",
          "arrowhead": 3,
          "arrowwidth": 1.5,
          "ax": 0.4161132574081421,
          "axref": "x",
          "ay": 0.20599031448364258,
          "ayref": "y",
          "showarrow": true,
          "text": "",
          "x": 0.5745115280151367,
          "xref": "x",
          "y": 0.2825423777103424,
          "yref": "y"
         },
         {
          "arrowcolor": "blue",
          "arrowhead": 3,
          "arrowwidth": 1.5,
          "ax": 0.5745115280151367,
          "axref": "x",
          "ay": 0.2825423777103424,
          "ayref": "y",
          "showarrow": true,
          "text": "",
          "x": 0.34474977850914,
          "xref": "x",
          "y": 0.5267144441604614,
          "yref": "y"
         },
         {
          "arrowcolor": "blue",
          "arrowhead": 3,
          "arrowwidth": 1.5,
          "ax": 0.34474977850914,
          "axref": "x",
          "ay": 0.5267144441604614,
          "ayref": "y",
          "showarrow": true,
          "text": "",
          "x": 0.26007550954818726,
          "xref": "x",
          "y": 0.7717143297195435,
          "yref": "y"
         },
         {
          "arrowcolor": "blue",
          "arrowhead": 3,
          "arrowwidth": 1.5,
          "ax": 0.26007550954818726,
          "axref": "x",
          "ay": 0.7717143297195435,
          "ayref": "y",
          "showarrow": true,
          "text": "",
          "x": 0.3414967954158783,
          "xref": "x",
          "y": 0.7340201735496521,
          "yref": "y"
         },
         {
          "arrowcolor": "blue",
          "arrowhead": 3,
          "arrowwidth": 1.5,
          "ax": 0.3414967954158783,
          "axref": "x",
          "ay": 0.7340201735496521,
          "ayref": "y",
          "showarrow": true,
          "text": "",
          "x": 0.3562037944793701,
          "xref": "x",
          "y": 0.7559813261032104,
          "yref": "y"
         },
         {
          "arrowcolor": "blue",
          "arrowhead": 3,
          "arrowwidth": 1.5,
          "ax": 0.3562037944793701,
          "axref": "x",
          "ay": 0.7559813261032104,
          "ayref": "y",
          "showarrow": true,
          "text": "",
          "x": 0.5299562215805054,
          "xref": "x",
          "y": 0.8094747066497803,
          "yref": "y"
         },
         {
          "arrowcolor": "blue",
          "arrowhead": 3,
          "arrowwidth": 1.5,
          "ax": 0.5299562215805054,
          "axref": "x",
          "ay": 0.8094747066497803,
          "ayref": "y",
          "showarrow": true,
          "text": "",
          "x": 0.49073317646980286,
          "xref": "x",
          "y": 0.8804593682289124,
          "yref": "y"
         },
         {
          "arrowcolor": "blue",
          "arrowhead": 3,
          "arrowwidth": 1.5,
          "ax": 0.49073317646980286,
          "axref": "x",
          "ay": 0.8804593682289124,
          "ayref": "y",
          "showarrow": true,
          "text": "",
          "x": 0.583885133266449,
          "xref": "x",
          "y": 0.976053774356842,
          "yref": "y"
         },
         {
          "arrowcolor": "blue",
          "arrowhead": 3,
          "arrowwidth": 1.5,
          "ax": 0.583885133266449,
          "axref": "x",
          "ay": 0.976053774356842,
          "ayref": "y",
          "showarrow": true,
          "text": "",
          "x": 0.4481096565723419,
          "xref": "x",
          "y": 0.9304656386375427,
          "yref": "y"
         },
         {
          "arrowcolor": "blue",
          "arrowhead": 3,
          "arrowwidth": 1.5,
          "ax": 0.4481096565723419,
          "axref": "x",
          "ay": 0.9304656386375427,
          "ayref": "y",
          "showarrow": true,
          "text": "",
          "x": 0.34495481848716736,
          "xref": "x",
          "y": 0.9459815621376038,
          "yref": "y"
         },
         {
          "arrowcolor": "green",
          "arrowhead": 3,
          "arrowwidth": 1.5,
          "ax": 0.5745115280151367,
          "axref": "x2",
          "ay": 0.2825423777103424,
          "ayref": "y2",
          "showarrow": true,
          "text": "",
          "x": 0.6964336633682251,
          "xref": "x2",
          "y": 0.33431512117385864,
          "yref": "y2"
         },
         {
          "arrowcolor": "green",
          "arrowhead": 3,
          "arrowwidth": 1.5,
          "ax": 0.6964336633682251,
          "axref": "x2",
          "ay": 0.33431512117385864,
          "ayref": "y2",
          "showarrow": true,
          "text": "",
          "x": 0.720500648021698,
          "xref": "x2",
          "y": 0.2591305077075958,
          "yref": "y2"
         },
         {
          "arrowcolor": "green",
          "arrowhead": 3,
          "arrowwidth": 1.5,
          "ax": 0.720500648021698,
          "axref": "x2",
          "ay": 0.2591305077075958,
          "ayref": "y2",
          "showarrow": true,
          "text": "",
          "x": 0.6900006532669067,
          "xref": "x2",
          "y": 0.1557530164718628,
          "yref": "y2"
         },
         {
          "arrowcolor": "green",
          "arrowhead": 3,
          "arrowwidth": 1.5,
          "ax": 0.6900006532669067,
          "axref": "x2",
          "ay": 0.1557530164718628,
          "ayref": "y2",
          "showarrow": true,
          "text": "",
          "x": 0.6784213781356812,
          "xref": "x2",
          "y": 0.04190496355295181,
          "yref": "y2"
         },
         {
          "arrowcolor": "green",
          "arrowhead": 3,
          "arrowwidth": 1.5,
          "ax": 0.6784213781356812,
          "axref": "x2",
          "ay": 0.04190496355295181,
          "ayref": "y2",
          "showarrow": true,
          "text": "",
          "x": 0.7973645925521851,
          "xref": "x2",
          "y": 0.2568604052066803,
          "yref": "y2"
         },
         {
          "arrowcolor": "green",
          "arrowhead": 3,
          "arrowwidth": 1.5,
          "ax": 0.7973645925521851,
          "axref": "x2",
          "ay": 0.2568604052066803,
          "ayref": "y2",
          "showarrow": true,
          "text": "",
          "x": 0.9498080015182495,
          "xref": "x2",
          "y": 0.0983155369758606,
          "yref": "y2"
         },
         {
          "arrowcolor": "green",
          "arrowhead": 3,
          "arrowwidth": 1.5,
          "ax": 0.9498080015182495,
          "axref": "x2",
          "ay": 0.0983155369758606,
          "ayref": "y2",
          "showarrow": true,
          "text": "",
          "x": 0.8624176979064941,
          "xref": "x2",
          "y": 0.15603601932525635,
          "yref": "y2"
         },
         {
          "arrowcolor": "green",
          "arrowhead": 3,
          "arrowwidth": 1.5,
          "ax": 0.8624176979064941,
          "axref": "x2",
          "ay": 0.15603601932525635,
          "ayref": "y2",
          "showarrow": true,
          "text": "",
          "x": 0.8860541582107544,
          "xref": "x2",
          "y": 0.14696045219898224,
          "yref": "y2"
         },
         {
          "arrowcolor": "green",
          "arrowhead": 3,
          "arrowwidth": 1.5,
          "ax": 0.8860541582107544,
          "axref": "x2",
          "ay": 0.14696045219898224,
          "ayref": "y2",
          "showarrow": true,
          "text": "",
          "x": 0.9412537217140198,
          "xref": "x2",
          "y": 0.32058316469192505,
          "yref": "y2"
         },
         {
          "arrowcolor": "green",
          "arrowhead": 3,
          "arrowwidth": 1.5,
          "ax": 0.9412537217140198,
          "axref": "x2",
          "ay": 0.32058316469192505,
          "ayref": "y2",
          "showarrow": true,
          "text": "",
          "x": 0.99559485912323,
          "xref": "x2",
          "y": 0.4363284409046173,
          "yref": "y2"
         },
         {
          "arrowcolor": "green",
          "arrowhead": 3,
          "arrowwidth": 1.5,
          "ax": 0.99559485912323,
          "axref": "x2",
          "ay": 0.4363284409046173,
          "ayref": "y2",
          "showarrow": true,
          "text": "",
          "x": 0.8647832274436951,
          "xref": "x2",
          "y": 0.5018443465232849,
          "yref": "y2"
         },
         {
          "arrowcolor": "green",
          "arrowhead": 3,
          "arrowwidth": 1.5,
          "ax": 0.8647832274436951,
          "axref": "x2",
          "ay": 0.5018443465232849,
          "ayref": "y2",
          "showarrow": true,
          "text": "",
          "x": 0.8298603892326355,
          "xref": "x2",
          "y": 0.6630164980888367,
          "yref": "y2"
         },
         {
          "arrowcolor": "green",
          "arrowhead": 3,
          "arrowwidth": 1.5,
          "ax": 0.8298603892326355,
          "axref": "x2",
          "ay": 0.6630164980888367,
          "ayref": "y2",
          "showarrow": true,
          "text": "",
          "x": 0.8213015198707581,
          "xref": "x2",
          "y": 0.7858514189720154,
          "yref": "y2"
         },
         {
          "arrowcolor": "green",
          "arrowhead": 3,
          "arrowwidth": 1.5,
          "ax": 0.8213015198707581,
          "axref": "x2",
          "ay": 0.7858514189720154,
          "ayref": "y2",
          "showarrow": true,
          "text": "",
          "x": 1,
          "xref": "x2",
          "y": 0.9387978911399841,
          "yref": "y2"
         },
         {
          "arrowcolor": "green",
          "arrowhead": 3,
          "arrowwidth": 1.5,
          "ax": 1,
          "axref": "x2",
          "ay": 0.9387978911399841,
          "ayref": "y2",
          "showarrow": true,
          "text": "",
          "x": 0.8402106761932373,
          "xref": "x2",
          "y": 0.881493330001831,
          "yref": "y2"
         },
         {
          "arrowcolor": "green",
          "arrowhead": 3,
          "arrowwidth": 1.5,
          "ax": 0.8402106761932373,
          "axref": "x2",
          "ay": 0.881493330001831,
          "ayref": "y2",
          "showarrow": true,
          "text": "",
          "x": 0.8376842737197876,
          "xref": "x2",
          "y": 0.9944841265678406,
          "yref": "y2"
         },
         {
          "arrowcolor": "green",
          "arrowhead": 3,
          "arrowwidth": 1.5,
          "ax": 0.8376842737197876,
          "axref": "x2",
          "ay": 0.9944841265678406,
          "ayref": "y2",
          "showarrow": true,
          "text": "",
          "x": 0.583885133266449,
          "xref": "x2",
          "y": 0.976053774356842,
          "yref": "y2"
         },
         {
          "arrowcolor": "green",
          "arrowhead": 3,
          "arrowwidth": 1.5,
          "ax": 0.583885133266449,
          "axref": "x2",
          "ay": 0.976053774356842,
          "ayref": "y2",
          "showarrow": true,
          "text": "",
          "x": 0.4481096565723419,
          "xref": "x2",
          "y": 0.9304656386375427,
          "yref": "y2"
         },
         {
          "arrowcolor": "green",
          "arrowhead": 3,
          "arrowwidth": 1.5,
          "ax": 0.4481096565723419,
          "axref": "x2",
          "ay": 0.9304656386375427,
          "ayref": "y2",
          "showarrow": true,
          "text": "",
          "x": 0.34495481848716736,
          "xref": "x2",
          "y": 0.9459815621376038,
          "yref": "y2"
         },
         {
          "arrowcolor": "green",
          "arrowhead": 3,
          "arrowwidth": 1.5,
          "ax": 0.34495481848716736,
          "axref": "x2",
          "ay": 0.9459815621376038,
          "ayref": "y2",
          "showarrow": true,
          "text": "",
          "x": 0.15785855054855347,
          "xref": "x2",
          "y": 1,
          "yref": "y2"
         },
         {
          "arrowcolor": "green",
          "arrowhead": 3,
          "arrowwidth": 1.5,
          "ax": 0.15785855054855347,
          "axref": "x2",
          "ay": 1,
          "ayref": "y2",
          "showarrow": true,
          "text": "",
          "x": 0.15820899605751038,
          "xref": "x2",
          "y": 0.9530478119850159,
          "yref": "y2"
         },
         {
          "arrowcolor": "green",
          "arrowhead": 3,
          "arrowwidth": 1.5,
          "ax": 0.15820899605751038,
          "axref": "x2",
          "ay": 0.9530478119850159,
          "ayref": "y2",
          "showarrow": true,
          "text": "",
          "x": 0.06291573494672775,
          "xref": "x2",
          "y": 0.8503236770629883,
          "yref": "y2"
         },
         {
          "arrowcolor": "green",
          "arrowhead": 3,
          "arrowwidth": 1.5,
          "ax": 0.06291573494672775,
          "axref": "x2",
          "ay": 0.8503236770629883,
          "ayref": "y2",
          "showarrow": true,
          "text": "",
          "x": 0.020724311470985413,
          "xref": "x2",
          "y": 0.7665103077888489,
          "yref": "y2"
         },
         {
          "arrowcolor": "green",
          "arrowhead": 3,
          "arrowwidth": 1.5,
          "ax": 0.020724311470985413,
          "axref": "x2",
          "ay": 0.7665103077888489,
          "ayref": "y2",
          "showarrow": true,
          "text": "",
          "x": 0.06985710561275482,
          "xref": "x2",
          "y": 0.7252693176269531,
          "yref": "y2"
         },
         {
          "arrowcolor": "green",
          "arrowhead": 3,
          "arrowwidth": 1.5,
          "ax": 0.06985710561275482,
          "axref": "x2",
          "ay": 0.7252693176269531,
          "ayref": "y2",
          "showarrow": true,
          "text": "",
          "x": 0.04496413841843605,
          "xref": "x2",
          "y": 0.5539407730102539,
          "yref": "y2"
         },
         {
          "arrowcolor": "green",
          "arrowhead": 3,
          "arrowwidth": 1.5,
          "ax": 0.04496413841843605,
          "axref": "x2",
          "ay": 0.5539407730102539,
          "ayref": "y2",
          "showarrow": true,
          "text": "",
          "x": 0.07243302464485168,
          "xref": "x2",
          "y": 0.5482271313667297,
          "yref": "y2"
         },
         {
          "arrowcolor": "green",
          "arrowhead": 3,
          "arrowwidth": 1.5,
          "ax": 0.07243302464485168,
          "axref": "x2",
          "ay": 0.5482271313667297,
          "ayref": "y2",
          "showarrow": true,
          "text": "",
          "x": 0.03250938653945923,
          "xref": "x2",
          "y": 0.5369348526000977,
          "yref": "y2"
         },
         {
          "arrowcolor": "green",
          "arrowhead": 3,
          "arrowwidth": 1.5,
          "ax": 0.03250938653945923,
          "axref": "x2",
          "ay": 0.5369348526000977,
          "ayref": "y2",
          "showarrow": true,
          "text": "",
          "x": 0.0027878782711923122,
          "xref": "x2",
          "y": 0.44757601618766785,
          "yref": "y2"
         },
         {
          "arrowcolor": "green",
          "arrowhead": 3,
          "arrowwidth": 1.5,
          "ax": 0.0027878782711923122,
          "axref": "x2",
          "ay": 0.44757601618766785,
          "ayref": "y2",
          "showarrow": true,
          "text": "",
          "x": 0.11793330311775208,
          "xref": "x2",
          "y": 0.38859203457832336,
          "yref": "y2"
         },
         {
          "arrowcolor": "green",
          "arrowhead": 3,
          "arrowwidth": 1.5,
          "ax": 0.11793330311775208,
          "axref": "x2",
          "ay": 0.38859203457832336,
          "ayref": "y2",
          "showarrow": true,
          "text": "",
          "x": 0.08752522617578506,
          "xref": "x2",
          "y": 0.3173413872718811,
          "yref": "y2"
         },
         {
          "arrowcolor": "green",
          "arrowhead": 3,
          "arrowwidth": 1.5,
          "ax": 0.08752522617578506,
          "axref": "x2",
          "ay": 0.3173413872718811,
          "ayref": "y2",
          "showarrow": true,
          "text": "",
          "x": 0.126529261469841,
          "xref": "x2",
          "y": 0.2564859092235565,
          "yref": "y2"
         },
         {
          "arrowcolor": "green",
          "arrowhead": 3,
          "arrowwidth": 1.5,
          "ax": 0.126529261469841,
          "axref": "x2",
          "ay": 0.2564859092235565,
          "ayref": "y2",
          "showarrow": true,
          "text": "",
          "x": 0.0957941934466362,
          "xref": "x2",
          "y": 0.11634545028209686,
          "yref": "y2"
         },
         {
          "arrowcolor": "green",
          "arrowhead": 3,
          "arrowwidth": 1.5,
          "ax": 0.0957941934466362,
          "axref": "x2",
          "ay": 0.11634545028209686,
          "ayref": "y2",
          "showarrow": true,
          "text": "",
          "x": 0.28764116764068604,
          "xref": "x2",
          "y": 0.33503735065460205,
          "yref": "y2"
         },
         {
          "arrowcolor": "green",
          "arrowhead": 3,
          "arrowwidth": 1.5,
          "ax": 0.28764116764068604,
          "axref": "x2",
          "ay": 0.33503735065460205,
          "ayref": "y2",
          "showarrow": true,
          "text": "",
          "x": 0.4198540449142456,
          "xref": "x2",
          "y": 0.4528009295463562,
          "yref": "y2"
         },
         {
          "arrowcolor": "green",
          "arrowhead": 3,
          "arrowwidth": 1.5,
          "ax": 0.4198540449142456,
          "axref": "x2",
          "ay": 0.4528009295463562,
          "ayref": "y2",
          "showarrow": true,
          "text": "",
          "x": 0.34474977850914,
          "xref": "x2",
          "y": 0.5267144441604614,
          "yref": "y2"
         },
         {
          "arrowcolor": "green",
          "arrowhead": 3,
          "arrowwidth": 1.5,
          "ax": 0.34474977850914,
          "axref": "x2",
          "ay": 0.5267144441604614,
          "ayref": "y2",
          "showarrow": true,
          "text": "",
          "x": 0.26007550954818726,
          "xref": "x2",
          "y": 0.7717143297195435,
          "yref": "y2"
         },
         {
          "arrowcolor": "green",
          "arrowhead": 3,
          "arrowwidth": 1.5,
          "ax": 0.26007550954818726,
          "axref": "x2",
          "ay": 0.7717143297195435,
          "ayref": "y2",
          "showarrow": true,
          "text": "",
          "x": 0.3414967954158783,
          "xref": "x2",
          "y": 0.7340201735496521,
          "yref": "y2"
         },
         {
          "arrowcolor": "green",
          "arrowhead": 3,
          "arrowwidth": 1.5,
          "ax": 0.3414967954158783,
          "axref": "x2",
          "ay": 0.7340201735496521,
          "ayref": "y2",
          "showarrow": true,
          "text": "",
          "x": 0.3562037944793701,
          "xref": "x2",
          "y": 0.7559813261032104,
          "yref": "y2"
         },
         {
          "arrowcolor": "green",
          "arrowhead": 3,
          "arrowwidth": 1.5,
          "ax": 0.3562037944793701,
          "axref": "x2",
          "ay": 0.7559813261032104,
          "ayref": "y2",
          "showarrow": true,
          "text": "",
          "x": 0.49073317646980286,
          "xref": "x2",
          "y": 0.8804593682289124,
          "yref": "y2"
         },
         {
          "arrowcolor": "green",
          "arrowhead": 3,
          "arrowwidth": 1.5,
          "ax": 0.49073317646980286,
          "axref": "x2",
          "ay": 0.8804593682289124,
          "ayref": "y2",
          "showarrow": true,
          "text": "",
          "x": 0.5299562215805054,
          "xref": "x2",
          "y": 0.8094747066497803,
          "yref": "y2"
         },
         {
          "arrowcolor": "green",
          "arrowhead": 3,
          "arrowwidth": 1.5,
          "ax": 0.5299562215805054,
          "axref": "x2",
          "ay": 0.8094747066497803,
          "ayref": "y2",
          "showarrow": true,
          "text": "",
          "x": 0.6858310699462891,
          "xref": "x2",
          "y": 0.6924183964729309,
          "yref": "y2"
         },
         {
          "arrowcolor": "green",
          "arrowhead": 3,
          "arrowwidth": 1.5,
          "ax": 0.6858310699462891,
          "axref": "x2",
          "ay": 0.6924183964729309,
          "ayref": "y2",
          "showarrow": true,
          "text": "",
          "x": 0.5667861104011536,
          "xref": "x2",
          "y": 0.6185887455940247,
          "yref": "y2"
         },
         {
          "arrowcolor": "green",
          "arrowhead": 3,
          "arrowwidth": 1.5,
          "ax": 0.5667861104011536,
          "axref": "x2",
          "ay": 0.6185887455940247,
          "ayref": "y2",
          "showarrow": true,
          "text": "",
          "x": 0.6203604340553284,
          "xref": "x2",
          "y": 0.45744675397872925,
          "yref": "y2"
         },
         {
          "arrowcolor": "green",
          "arrowhead": 3,
          "arrowwidth": 1.5,
          "ax": 0.6203604340553284,
          "axref": "x2",
          "ay": 0.45744675397872925,
          "ayref": "y2",
          "showarrow": true,
          "text": "",
          "x": 0.5244339108467102,
          "xref": "x2",
          "y": 0.41303056478500366,
          "yref": "y2"
         },
         {
          "arrowcolor": "green",
          "arrowhead": 3,
          "arrowwidth": 1.5,
          "ax": 0.5244339108467102,
          "axref": "x2",
          "ay": 0.41303056478500366,
          "ayref": "y2",
          "showarrow": true,
          "text": "",
          "x": 0.538367748260498,
          "xref": "x2",
          "y": 0.2686118185520172,
          "yref": "y2"
         },
         {
          "arrowcolor": "green",
          "arrowhead": 3,
          "arrowwidth": 1.5,
          "ax": 0.538367748260498,
          "axref": "x2",
          "ay": 0.2686118185520172,
          "ayref": "y2",
          "showarrow": true,
          "text": "",
          "x": 0.4161132574081421,
          "xref": "x2",
          "y": 0.20599031448364258,
          "yref": "y2"
         },
         {
          "arrowcolor": "green",
          "arrowhead": 3,
          "arrowwidth": 1.5,
          "ax": 0.4161132574081421,
          "axref": "x2",
          "ay": 0.20599031448364258,
          "ayref": "y2",
          "showarrow": true,
          "text": "",
          "x": 0.37390315532684326,
          "xref": "x2",
          "y": 0.09502775967121124,
          "yref": "y2"
         },
         {
          "arrowcolor": "green",
          "arrowhead": 3,
          "arrowwidth": 1.5,
          "ax": 0.37390315532684326,
          "axref": "x2",
          "ay": 0.09502775967121124,
          "ayref": "y2",
          "showarrow": true,
          "text": "",
          "x": 0.5532981157302856,
          "xref": "x2",
          "y": 0.16809891164302826,
          "yref": "y2"
         },
         {
          "arrowcolor": "green",
          "arrowhead": 3,
          "arrowwidth": 1.5,
          "ax": 0.5532981157302856,
          "axref": "x2",
          "ay": 0.16809891164302826,
          "ayref": "y2",
          "showarrow": true,
          "text": "",
          "x": 0.6244913935661316,
          "xref": "x2",
          "y": 0.0875805988907814,
          "yref": "y2"
         },
         {
          "arrowcolor": "green",
          "arrowhead": 3,
          "arrowwidth": 1.5,
          "ax": 0.6244913935661316,
          "axref": "x2",
          "ay": 0.0875805988907814,
          "ayref": "y2",
          "showarrow": true,
          "text": "",
          "x": 0.5745115280151367,
          "xref": "x2",
          "y": 0.2825423777103424,
          "yref": "y2"
         }
        ],
        "showlegend": false,
        "template": {
         "data": {
          "bar": [
           {
            "error_x": {
             "color": "#2a3f5f"
            },
            "error_y": {
             "color": "#2a3f5f"
            },
            "marker": {
             "line": {
              "color": "#E5ECF6",
              "width": 0.5
             },
             "pattern": {
              "fillmode": "overlay",
              "size": 10,
              "solidity": 0.2
             }
            },
            "type": "bar"
           }
          ],
          "barpolar": [
           {
            "marker": {
             "line": {
              "color": "#E5ECF6",
              "width": 0.5
             },
             "pattern": {
              "fillmode": "overlay",
              "size": 10,
              "solidity": 0.2
             }
            },
            "type": "barpolar"
           }
          ],
          "carpet": [
           {
            "aaxis": {
             "endlinecolor": "#2a3f5f",
             "gridcolor": "white",
             "linecolor": "white",
             "minorgridcolor": "white",
             "startlinecolor": "#2a3f5f"
            },
            "baxis": {
             "endlinecolor": "#2a3f5f",
             "gridcolor": "white",
             "linecolor": "white",
             "minorgridcolor": "white",
             "startlinecolor": "#2a3f5f"
            },
            "type": "carpet"
           }
          ],
          "choropleth": [
           {
            "colorbar": {
             "outlinewidth": 0,
             "ticks": ""
            },
            "type": "choropleth"
           }
          ],
          "contour": [
           {
            "colorbar": {
             "outlinewidth": 0,
             "ticks": ""
            },
            "colorscale": [
             [
              0,
              "#0d0887"
             ],
             [
              0.1111111111111111,
              "#46039f"
             ],
             [
              0.2222222222222222,
              "#7201a8"
             ],
             [
              0.3333333333333333,
              "#9c179e"
             ],
             [
              0.4444444444444444,
              "#bd3786"
             ],
             [
              0.5555555555555556,
              "#d8576b"
             ],
             [
              0.6666666666666666,
              "#ed7953"
             ],
             [
              0.7777777777777778,
              "#fb9f3a"
             ],
             [
              0.8888888888888888,
              "#fdca26"
             ],
             [
              1,
              "#f0f921"
             ]
            ],
            "type": "contour"
           }
          ],
          "contourcarpet": [
           {
            "colorbar": {
             "outlinewidth": 0,
             "ticks": ""
            },
            "type": "contourcarpet"
           }
          ],
          "heatmap": [
           {
            "colorbar": {
             "outlinewidth": 0,
             "ticks": ""
            },
            "colorscale": [
             [
              0,
              "#0d0887"
             ],
             [
              0.1111111111111111,
              "#46039f"
             ],
             [
              0.2222222222222222,
              "#7201a8"
             ],
             [
              0.3333333333333333,
              "#9c179e"
             ],
             [
              0.4444444444444444,
              "#bd3786"
             ],
             [
              0.5555555555555556,
              "#d8576b"
             ],
             [
              0.6666666666666666,
              "#ed7953"
             ],
             [
              0.7777777777777778,
              "#fb9f3a"
             ],
             [
              0.8888888888888888,
              "#fdca26"
             ],
             [
              1,
              "#f0f921"
             ]
            ],
            "type": "heatmap"
           }
          ],
          "heatmapgl": [
           {
            "colorbar": {
             "outlinewidth": 0,
             "ticks": ""
            },
            "colorscale": [
             [
              0,
              "#0d0887"
             ],
             [
              0.1111111111111111,
              "#46039f"
             ],
             [
              0.2222222222222222,
              "#7201a8"
             ],
             [
              0.3333333333333333,
              "#9c179e"
             ],
             [
              0.4444444444444444,
              "#bd3786"
             ],
             [
              0.5555555555555556,
              "#d8576b"
             ],
             [
              0.6666666666666666,
              "#ed7953"
             ],
             [
              0.7777777777777778,
              "#fb9f3a"
             ],
             [
              0.8888888888888888,
              "#fdca26"
             ],
             [
              1,
              "#f0f921"
             ]
            ],
            "type": "heatmapgl"
           }
          ],
          "histogram": [
           {
            "marker": {
             "pattern": {
              "fillmode": "overlay",
              "size": 10,
              "solidity": 0.2
             }
            },
            "type": "histogram"
           }
          ],
          "histogram2d": [
           {
            "colorbar": {
             "outlinewidth": 0,
             "ticks": ""
            },
            "colorscale": [
             [
              0,
              "#0d0887"
             ],
             [
              0.1111111111111111,
              "#46039f"
             ],
             [
              0.2222222222222222,
              "#7201a8"
             ],
             [
              0.3333333333333333,
              "#9c179e"
             ],
             [
              0.4444444444444444,
              "#bd3786"
             ],
             [
              0.5555555555555556,
              "#d8576b"
             ],
             [
              0.6666666666666666,
              "#ed7953"
             ],
             [
              0.7777777777777778,
              "#fb9f3a"
             ],
             [
              0.8888888888888888,
              "#fdca26"
             ],
             [
              1,
              "#f0f921"
             ]
            ],
            "type": "histogram2d"
           }
          ],
          "histogram2dcontour": [
           {
            "colorbar": {
             "outlinewidth": 0,
             "ticks": ""
            },
            "colorscale": [
             [
              0,
              "#0d0887"
             ],
             [
              0.1111111111111111,
              "#46039f"
             ],
             [
              0.2222222222222222,
              "#7201a8"
             ],
             [
              0.3333333333333333,
              "#9c179e"
             ],
             [
              0.4444444444444444,
              "#bd3786"
             ],
             [
              0.5555555555555556,
              "#d8576b"
             ],
             [
              0.6666666666666666,
              "#ed7953"
             ],
             [
              0.7777777777777778,
              "#fb9f3a"
             ],
             [
              0.8888888888888888,
              "#fdca26"
             ],
             [
              1,
              "#f0f921"
             ]
            ],
            "type": "histogram2dcontour"
           }
          ],
          "mesh3d": [
           {
            "colorbar": {
             "outlinewidth": 0,
             "ticks": ""
            },
            "type": "mesh3d"
           }
          ],
          "parcoords": [
           {
            "line": {
             "colorbar": {
              "outlinewidth": 0,
              "ticks": ""
             }
            },
            "type": "parcoords"
           }
          ],
          "pie": [
           {
            "automargin": true,
            "type": "pie"
           }
          ],
          "scatter": [
           {
            "fillpattern": {
             "fillmode": "overlay",
             "size": 10,
             "solidity": 0.2
            },
            "type": "scatter"
           }
          ],
          "scatter3d": [
           {
            "line": {
             "colorbar": {
              "outlinewidth": 0,
              "ticks": ""
             }
            },
            "marker": {
             "colorbar": {
              "outlinewidth": 0,
              "ticks": ""
             }
            },
            "type": "scatter3d"
           }
          ],
          "scattercarpet": [
           {
            "marker": {
             "colorbar": {
              "outlinewidth": 0,
              "ticks": ""
             }
            },
            "type": "scattercarpet"
           }
          ],
          "scattergeo": [
           {
            "marker": {
             "colorbar": {
              "outlinewidth": 0,
              "ticks": ""
             }
            },
            "type": "scattergeo"
           }
          ],
          "scattergl": [
           {
            "marker": {
             "colorbar": {
              "outlinewidth": 0,
              "ticks": ""
             }
            },
            "type": "scattergl"
           }
          ],
          "scattermapbox": [
           {
            "marker": {
             "colorbar": {
              "outlinewidth": 0,
              "ticks": ""
             }
            },
            "type": "scattermapbox"
           }
          ],
          "scatterpolar": [
           {
            "marker": {
             "colorbar": {
              "outlinewidth": 0,
              "ticks": ""
             }
            },
            "type": "scatterpolar"
           }
          ],
          "scatterpolargl": [
           {
            "marker": {
             "colorbar": {
              "outlinewidth": 0,
              "ticks": ""
             }
            },
            "type": "scatterpolargl"
           }
          ],
          "scatterternary": [
           {
            "marker": {
             "colorbar": {
              "outlinewidth": 0,
              "ticks": ""
             }
            },
            "type": "scatterternary"
           }
          ],
          "surface": [
           {
            "colorbar": {
             "outlinewidth": 0,
             "ticks": ""
            },
            "colorscale": [
             [
              0,
              "#0d0887"
             ],
             [
              0.1111111111111111,
              "#46039f"
             ],
             [
              0.2222222222222222,
              "#7201a8"
             ],
             [
              0.3333333333333333,
              "#9c179e"
             ],
             [
              0.4444444444444444,
              "#bd3786"
             ],
             [
              0.5555555555555556,
              "#d8576b"
             ],
             [
              0.6666666666666666,
              "#ed7953"
             ],
             [
              0.7777777777777778,
              "#fb9f3a"
             ],
             [
              0.8888888888888888,
              "#fdca26"
             ],
             [
              1,
              "#f0f921"
             ]
            ],
            "type": "surface"
           }
          ],
          "table": [
           {
            "cells": {
             "fill": {
              "color": "#EBF0F8"
             },
             "line": {
              "color": "white"
             }
            },
            "header": {
             "fill": {
              "color": "#C8D4E3"
             },
             "line": {
              "color": "white"
             }
            },
            "type": "table"
           }
          ]
         },
         "layout": {
          "annotationdefaults": {
           "arrowcolor": "#2a3f5f",
           "arrowhead": 0,
           "arrowwidth": 1
          },
          "autotypenumbers": "strict",
          "coloraxis": {
           "colorbar": {
            "outlinewidth": 0,
            "ticks": ""
           }
          },
          "colorscale": {
           "diverging": [
            [
             0,
             "#8e0152"
            ],
            [
             0.1,
             "#c51b7d"
            ],
            [
             0.2,
             "#de77ae"
            ],
            [
             0.3,
             "#f1b6da"
            ],
            [
             0.4,
             "#fde0ef"
            ],
            [
             0.5,
             "#f7f7f7"
            ],
            [
             0.6,
             "#e6f5d0"
            ],
            [
             0.7,
             "#b8e186"
            ],
            [
             0.8,
             "#7fbc41"
            ],
            [
             0.9,
             "#4d9221"
            ],
            [
             1,
             "#276419"
            ]
           ],
           "sequential": [
            [
             0,
             "#0d0887"
            ],
            [
             0.1111111111111111,
             "#46039f"
            ],
            [
             0.2222222222222222,
             "#7201a8"
            ],
            [
             0.3333333333333333,
             "#9c179e"
            ],
            [
             0.4444444444444444,
             "#bd3786"
            ],
            [
             0.5555555555555556,
             "#d8576b"
            ],
            [
             0.6666666666666666,
             "#ed7953"
            ],
            [
             0.7777777777777778,
             "#fb9f3a"
            ],
            [
             0.8888888888888888,
             "#fdca26"
            ],
            [
             1,
             "#f0f921"
            ]
           ],
           "sequentialminus": [
            [
             0,
             "#0d0887"
            ],
            [
             0.1111111111111111,
             "#46039f"
            ],
            [
             0.2222222222222222,
             "#7201a8"
            ],
            [
             0.3333333333333333,
             "#9c179e"
            ],
            [
             0.4444444444444444,
             "#bd3786"
            ],
            [
             0.5555555555555556,
             "#d8576b"
            ],
            [
             0.6666666666666666,
             "#ed7953"
            ],
            [
             0.7777777777777778,
             "#fb9f3a"
            ],
            [
             0.8888888888888888,
             "#fdca26"
            ],
            [
             1,
             "#f0f921"
            ]
           ]
          },
          "colorway": [
           "#636efa",
           "#EF553B",
           "#00cc96",
           "#ab63fa",
           "#FFA15A",
           "#19d3f3",
           "#FF6692",
           "#B6E880",
           "#FF97FF",
           "#FECB52"
          ],
          "font": {
           "color": "#2a3f5f"
          },
          "geo": {
           "bgcolor": "white",
           "lakecolor": "white",
           "landcolor": "#E5ECF6",
           "showlakes": true,
           "showland": true,
           "subunitcolor": "white"
          },
          "hoverlabel": {
           "align": "left"
          },
          "hovermode": "closest",
          "mapbox": {
           "style": "light"
          },
          "paper_bgcolor": "white",
          "plot_bgcolor": "#E5ECF6",
          "polar": {
           "angularaxis": {
            "gridcolor": "white",
            "linecolor": "white",
            "ticks": ""
           },
           "bgcolor": "#E5ECF6",
           "radialaxis": {
            "gridcolor": "white",
            "linecolor": "white",
            "ticks": ""
           }
          },
          "scene": {
           "xaxis": {
            "backgroundcolor": "#E5ECF6",
            "gridcolor": "white",
            "gridwidth": 2,
            "linecolor": "white",
            "showbackground": true,
            "ticks": "",
            "zerolinecolor": "white"
           },
           "yaxis": {
            "backgroundcolor": "#E5ECF6",
            "gridcolor": "white",
            "gridwidth": 2,
            "linecolor": "white",
            "showbackground": true,
            "ticks": "",
            "zerolinecolor": "white"
           },
           "zaxis": {
            "backgroundcolor": "#E5ECF6",
            "gridcolor": "white",
            "gridwidth": 2,
            "linecolor": "white",
            "showbackground": true,
            "ticks": "",
            "zerolinecolor": "white"
           }
          },
          "shapedefaults": {
           "line": {
            "color": "#2a3f5f"
           }
          },
          "ternary": {
           "aaxis": {
            "gridcolor": "white",
            "linecolor": "white",
            "ticks": ""
           },
           "baxis": {
            "gridcolor": "white",
            "linecolor": "white",
            "ticks": ""
           },
           "bgcolor": "#E5ECF6",
           "caxis": {
            "gridcolor": "white",
            "linecolor": "white",
            "ticks": ""
           }
          },
          "title": {
           "x": 0.05
          },
          "xaxis": {
           "automargin": true,
           "gridcolor": "white",
           "linecolor": "white",
           "ticks": "",
           "title": {
            "standoff": 15
           },
           "zerolinecolor": "white",
           "zerolinewidth": 2
          },
          "yaxis": {
           "automargin": true,
           "gridcolor": "white",
           "linecolor": "white",
           "ticks": "",
           "title": {
            "standoff": 15
           },
           "zerolinecolor": "white",
           "zerolinewidth": 2
          }
         }
        },
        "xaxis": {
         "anchor": "y",
         "domain": [
          0,
          0.45
         ],
         "visible": false
        },
        "xaxis2": {
         "anchor": "y2",
         "domain": [
          0.55,
          1
         ],
         "visible": false
        },
        "yaxis": {
         "anchor": "x",
         "domain": [
          0,
          1
         ],
         "visible": false
        },
        "yaxis2": {
         "anchor": "x2",
         "domain": [
          0,
          1
         ],
         "visible": false
        }
       }
      }
     },
     "metadata": {},
     "output_type": "display_data"
    }
   ],
   "source": [
    "import plotly.graph_objects as go\n",
    "from plotly.subplots import make_subplots\n",
    "from utils import get_tour_coords\n",
    "\n",
    "def create_arrows(coords, color='red', xref=\"x\", yref=\"y\"):\n",
    "    arrows = [go.layout.Annotation(dict(\n",
    "                x= coords[i+1,0],\n",
    "                y= coords[i+1,1],\n",
    "                xref=xref, yref=yref,\n",
    "                text=\"\",\n",
    "                showarrow=True,\n",
    "                axref=xref, ayref=yref,\n",
    "                ax= coords[i,0],\n",
    "                ay= coords[i,1],\n",
    "                arrowhead = 3,\n",
    "                arrowwidth=1.5,\n",
    "                arrowcolor=color,)\n",
    "            ) for i in range(50)]\n",
    "    return arrows\n",
    "\n",
    "for i in range(len(graph_coords)): \n",
    "\n",
    "    nx_tour_coords = get_tour_coords(graph_coords[i:i+1], ref_tours[i:i+1])\n",
    "    model_tour_coords = get_tour_coords(graph_coords[i:i+1], tours[i:i+1])\n",
    "\n",
    "    nodes = go.Scatter(\n",
    "        x=graph_coords[i, :, 0],\n",
    "        y=graph_coords[i, :, 1],\n",
    "        mode='markers',\n",
    "        marker=dict(\n",
    "            color='red'\n",
    "        )\n",
    "    )\n",
    "\n",
    "    fig = make_subplots(1, 2, subplot_titles=['Christofides', 'Ours'])\n",
    "    fig.add_trace(nodes, 1, 1)\n",
    "    fig.add_trace(nodes, 1, 2)\n",
    "\n",
    "    for ann in create_arrows(nx_tour_coords[0], color='blue', xref='x', yref='y'):\n",
    "        fig.add_annotation(ann)\n",
    "    for ann in create_arrows(model_tour_coords[0], color='green', xref='x2', yref='y2'):\n",
    "        fig.add_annotation(ann)\n",
    "    \n",
    "    fig.update(layout_showlegend=False)\n",
    "    fig.update_xaxes(visible=False)\n",
    "    fig.update_yaxes(visible=False)\n",
    "\n",
    "    fig.show()"
   ]
  }
 ],
 "metadata": {
  "kernelspec": {
   "display_name": "venv",
   "language": "python",
   "name": "python3"
  },
  "language_info": {
   "codemirror_mode": {
    "name": "ipython",
    "version": 3
   },
   "file_extension": ".py",
   "mimetype": "text/x-python",
   "name": "python",
   "nbconvert_exporter": "python",
   "pygments_lexer": "ipython3",
   "version": "3.9.16"
  },
  "orig_nbformat": 4,
  "vscode": {
   "interpreter": {
    "hash": "a10b60c98979ce9194364c88af729ed50916528fb1996058b321a53a86d4c463"
   }
  }
 },
 "nbformat": 4,
 "nbformat_minor": 2
}
